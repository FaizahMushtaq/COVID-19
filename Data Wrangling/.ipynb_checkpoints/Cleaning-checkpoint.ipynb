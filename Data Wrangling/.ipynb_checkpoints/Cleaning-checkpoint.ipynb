{
 "cells": [
  {
   "cell_type": "code",
   "execution_count": 1,
   "metadata": {},
   "outputs": [
    {
     "data": {
      "text/plain": [
       "['TimeSeries_KeyIndicators',\n",
       " 'TimeSeries_KeyIndicators_Detail',\n",
       " 'TimeSeries_Action_Screen',\n",
       " 'TimeSeries_Action_Call',\n",
       " 'TimeSeries_COVID_News',\n",
       " 'TimeSeries_NIH_Response',\n",
       " 'TimeSeries_NIH_Risk',\n",
       " 'TimeSeries_Province_Response',\n",
       " 'TimeSeries_Helpline_Calls',\n",
       " 'TimeSeries_Quarantine_Details']"
      ]
     },
     "execution_count": 1,
     "metadata": {},
     "output_type": "execute_result"
    }
   ],
   "source": [
    "import pandas as pd\n",
    "import matplotlib.pyplot as p\n",
    "import datetime\n",
    "df=pd.ExcelFile(r'C:\\Users\\faizah\\Documents\\COVID-19\\Dataset\\COVID_FINAL_DATA.xlsx')\n",
    "df.sheet_names\n",
    "\n"
   ]
  },
  {
   "cell_type": "code",
   "execution_count": null,
   "metadata": {},
   "outputs": [],
   "source": []
  }
 ],
 "metadata": {
  "kernelspec": {
   "display_name": "Python 3",
   "language": "python",
   "name": "python3"
  },
  "language_info": {
   "codemirror_mode": {
    "name": "ipython",
    "version": 3
   },
   "file_extension": ".py",
   "mimetype": "text/x-python",
   "name": "python",
   "nbconvert_exporter": "python",
   "pygments_lexer": "ipython3",
   "version": "3.7.4"
  }
 },
 "nbformat": 4,
 "nbformat_minor": 2
}
