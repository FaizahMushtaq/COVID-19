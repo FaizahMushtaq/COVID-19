{
 "cells": [
  {
   "cell_type": "markdown",
   "metadata": {},
   "source": [
    "# Exploring Corona virus Data"
   ]
  },
  {
   "cell_type": "code",
   "execution_count": 1,
   "metadata": {},
   "outputs": [],
   "source": [
    "import numpy as np\n",
    "import pandas as pd\n",
    "import matplotlib.pyplot as plt\n",
    "import seaborn as sns\n",
    "import datetime\n",
    "plt.rcParams['figure.figsize'] = (12.0, 9.0)"
   ]
  },
  {
   "cell_type": "code",
   "execution_count": 2,
   "metadata": {},
   "outputs": [],
   "source": [
    "from kaggle.api.kaggle_api_extended import KaggleApi\n",
    "api = KaggleApi()\n",
    "api.authenticate()\n",
    "api.dataset_download_files('mesumraza/corona-virus-pakistan-dataset-2020')"
   ]
  },
  {
   "cell_type": "code",
   "execution_count": 3,
   "metadata": {},
   "outputs": [],
   "source": [
    "from zipfile import ZipFile \n",
    "zf = ZipFile('corona-virus-pakistan-dataset-2020.zip')\n",
    "#extracted data is saved in the same directory as notebook\n",
    "zf.extractall() \n",
    "zf.close()"
   ]
  },
  {
   "cell_type": "code",
   "execution_count": 4,
   "metadata": {},
   "outputs": [
    {
     "data": {
      "text/plain": [
       "['TimeSeries_KeyIndicators',\n",
       " 'TimeSeries_KeyIndicators_Detail',\n",
       " 'TimeSeries_Action_Screen',\n",
       " 'TimeSeries_Action_Call',\n",
       " 'TimeSeries_COVID_News',\n",
       " 'TimeSeries_NIH_Response',\n",
       " 'TimeSeries_NIH_Risk',\n",
       " 'TimeSeries_Province_Response',\n",
       " 'TimeSeries_Helpline_Calls',\n",
       " 'TimeSeries_Quarantine_Details']"
      ]
     },
     "execution_count": 4,
     "metadata": {},
     "output_type": "execute_result"
    }
   ],
   "source": [
    "covid_data=pd.ExcelFile('COVID_FINAL_DATA.xlsx')\n",
    "covid_data.sheet_names"
   ]
  },
  {
   "cell_type": "markdown",
   "metadata": {},
   "source": [
    "**Cleaning Sheet1**"
   ]
  },
  {
   "cell_type": "code",
   "execution_count": 5,
   "metadata": {},
   "outputs": [
    {
     "data": {
      "text/html": [
       "<div>\n",
       "<style scoped>\n",
       "    .dataframe tbody tr th:only-of-type {\n",
       "        vertical-align: middle;\n",
       "    }\n",
       "\n",
       "    .dataframe tbody tr th {\n",
       "        vertical-align: top;\n",
       "    }\n",
       "\n",
       "    .dataframe thead th {\n",
       "        text-align: right;\n",
       "    }\n",
       "</style>\n",
       "<table border=\"1\" class=\"dataframe\">\n",
       "  <thead>\n",
       "    <tr style=\"text-align: right;\">\n",
       "      <th></th>\n",
       "      <th>Unnamed: 0</th>\n",
       "      <th>Cumulative</th>\n",
       "      <th>Cumulative  Test positive</th>\n",
       "      <th>Cumulative  tests performed</th>\n",
       "      <th>Date</th>\n",
       "      <th>Discharged</th>\n",
       "      <th>Expired</th>\n",
       "      <th>Home Quarantine</th>\n",
       "      <th>New  (last 24 hrs)</th>\n",
       "      <th>Region</th>\n",
       "      <th>Still admitted</th>\n",
       "      <th>Tests  performed in last 24 hours</th>\n",
       "    </tr>\n",
       "  </thead>\n",
       "  <tbody>\n",
       "    <tr>\n",
       "      <td>0</td>\n",
       "      <td>4</td>\n",
       "      <td>48</td>\n",
       "      <td>2</td>\n",
       "      <td>80</td>\n",
       "      <td>2020-03-11 00:00:00</td>\n",
       "      <td>0</td>\n",
       "      <td>0</td>\n",
       "      <td>NaN</td>\n",
       "      <td>3</td>\n",
       "      <td>ICT</td>\n",
       "      <td>2</td>\n",
       "      <td>8</td>\n",
       "    </tr>\n",
       "    <tr>\n",
       "      <td>1</td>\n",
       "      <td>5</td>\n",
       "      <td>61</td>\n",
       "      <td>0</td>\n",
       "      <td>95</td>\n",
       "      <td>2020-03-11 00:00:00</td>\n",
       "      <td>0</td>\n",
       "      <td>0</td>\n",
       "      <td>NaN</td>\n",
       "      <td>6</td>\n",
       "      <td>Punjab</td>\n",
       "      <td>0</td>\n",
       "      <td>7</td>\n",
       "    </tr>\n",
       "    <tr>\n",
       "      <td>2</td>\n",
       "      <td>6</td>\n",
       "      <td>84</td>\n",
       "      <td>14</td>\n",
       "      <td>171</td>\n",
       "      <td>2020-03-11 00:00:00</td>\n",
       "      <td>1</td>\n",
       "      <td>0</td>\n",
       "      <td>NaN</td>\n",
       "      <td>1</td>\n",
       "      <td>Sindh</td>\n",
       "      <td>13</td>\n",
       "      <td>55</td>\n",
       "    </tr>\n",
       "    <tr>\n",
       "      <td>3</td>\n",
       "      <td>7</td>\n",
       "      <td>20</td>\n",
       "      <td>0</td>\n",
       "      <td>28</td>\n",
       "      <td>2020-03-11 00:00:00</td>\n",
       "      <td>0</td>\n",
       "      <td>0</td>\n",
       "      <td>NaN</td>\n",
       "      <td>0</td>\n",
       "      <td>KP</td>\n",
       "      <td>0</td>\n",
       "      <td>2</td>\n",
       "    </tr>\n",
       "    <tr>\n",
       "      <td>4</td>\n",
       "      <td>8</td>\n",
       "      <td>3</td>\n",
       "      <td>0</td>\n",
       "      <td>0</td>\n",
       "      <td>2020-03-11 00:00:00</td>\n",
       "      <td>0</td>\n",
       "      <td>0</td>\n",
       "      <td>NaN</td>\n",
       "      <td>0</td>\n",
       "      <td>KPTD</td>\n",
       "      <td>0</td>\n",
       "      <td>0</td>\n",
       "    </tr>\n",
       "  </tbody>\n",
       "</table>\n",
       "</div>"
      ],
      "text/plain": [
       "   Unnamed: 0  Cumulative  Cumulative  Test positive  \\\n",
       "0           4          48                          2   \n",
       "1           5          61                          0   \n",
       "2           6          84                         14   \n",
       "3           7          20                          0   \n",
       "4           8           3                          0   \n",
       "\n",
       "   Cumulative  tests performed                 Date  Discharged  Expired  \\\n",
       "0                           80  2020-03-11 00:00:00           0        0   \n",
       "1                           95  2020-03-11 00:00:00           0        0   \n",
       "2                          171  2020-03-11 00:00:00           1        0   \n",
       "3                           28  2020-03-11 00:00:00           0        0   \n",
       "4                            0  2020-03-11 00:00:00           0        0   \n",
       "\n",
       "   Home Quarantine  New  (last 24 hrs)  Region  Still admitted  \\\n",
       "0              NaN                   3     ICT               2   \n",
       "1              NaN                   6  Punjab               0   \n",
       "2              NaN                   1   Sindh              13   \n",
       "3              NaN                   0      KP               0   \n",
       "4              NaN                   0    KPTD               0   \n",
       "\n",
       "  Tests  performed in last 24 hours  \n",
       "0                                 8  \n",
       "1                                 7  \n",
       "2                                55  \n",
       "3                                 2  \n",
       "4                                 0  "
      ]
     },
     "execution_count": 5,
     "metadata": {},
     "output_type": "execute_result"
    }
   ],
   "source": [
    "sheet1=covid_data.parse('TimeSeries_KeyIndicators')  #Opening  first sheet\n",
    "#print(df1.columns) \n",
    "sheet1.head()\n"
   ]
  },
  {
   "cell_type": "code",
   "execution_count": 6,
   "metadata": {},
   "outputs": [
    {
     "data": {
      "text/plain": [
       "(454, 12)"
      ]
     },
     "execution_count": 6,
     "metadata": {},
     "output_type": "execute_result"
    }
   ],
   "source": [
    "sheet1.shape"
   ]
  },
  {
   "cell_type": "code",
   "execution_count": 7,
   "metadata": {},
   "outputs": [
    {
     "data": {
      "text/html": [
       "<div>\n",
       "<style scoped>\n",
       "    .dataframe tbody tr th:only-of-type {\n",
       "        vertical-align: middle;\n",
       "    }\n",
       "\n",
       "    .dataframe tbody tr th {\n",
       "        vertical-align: top;\n",
       "    }\n",
       "\n",
       "    .dataframe thead th {\n",
       "        text-align: right;\n",
       "    }\n",
       "</style>\n",
       "<table border=\"1\" class=\"dataframe\">\n",
       "  <thead>\n",
       "    <tr style=\"text-align: right;\">\n",
       "      <th></th>\n",
       "      <th>Unnamed: 0</th>\n",
       "      <th>Cases</th>\n",
       "      <th>Confirmed</th>\n",
       "      <th>Total_tests</th>\n",
       "      <th>Date</th>\n",
       "      <th>Recovered</th>\n",
       "      <th>Dead</th>\n",
       "      <th>Home_quarantine</th>\n",
       "      <th>New_cases</th>\n",
       "      <th>Region</th>\n",
       "      <th>Hospitalized</th>\n",
       "      <th>New_tests</th>\n",
       "    </tr>\n",
       "  </thead>\n",
       "  <tbody>\n",
       "    <tr>\n",
       "      <td>0</td>\n",
       "      <td>4</td>\n",
       "      <td>48</td>\n",
       "      <td>2</td>\n",
       "      <td>80</td>\n",
       "      <td>2020-03-11 00:00:00</td>\n",
       "      <td>0</td>\n",
       "      <td>0</td>\n",
       "      <td>NaN</td>\n",
       "      <td>3</td>\n",
       "      <td>ICT</td>\n",
       "      <td>2</td>\n",
       "      <td>8</td>\n",
       "    </tr>\n",
       "    <tr>\n",
       "      <td>1</td>\n",
       "      <td>5</td>\n",
       "      <td>61</td>\n",
       "      <td>0</td>\n",
       "      <td>95</td>\n",
       "      <td>2020-03-11 00:00:00</td>\n",
       "      <td>0</td>\n",
       "      <td>0</td>\n",
       "      <td>NaN</td>\n",
       "      <td>6</td>\n",
       "      <td>Punjab</td>\n",
       "      <td>0</td>\n",
       "      <td>7</td>\n",
       "    </tr>\n",
       "    <tr>\n",
       "      <td>2</td>\n",
       "      <td>6</td>\n",
       "      <td>84</td>\n",
       "      <td>14</td>\n",
       "      <td>171</td>\n",
       "      <td>2020-03-11 00:00:00</td>\n",
       "      <td>1</td>\n",
       "      <td>0</td>\n",
       "      <td>NaN</td>\n",
       "      <td>1</td>\n",
       "      <td>Sindh</td>\n",
       "      <td>13</td>\n",
       "      <td>55</td>\n",
       "    </tr>\n",
       "    <tr>\n",
       "      <td>3</td>\n",
       "      <td>7</td>\n",
       "      <td>20</td>\n",
       "      <td>0</td>\n",
       "      <td>28</td>\n",
       "      <td>2020-03-11 00:00:00</td>\n",
       "      <td>0</td>\n",
       "      <td>0</td>\n",
       "      <td>NaN</td>\n",
       "      <td>0</td>\n",
       "      <td>KP</td>\n",
       "      <td>0</td>\n",
       "      <td>2</td>\n",
       "    </tr>\n",
       "    <tr>\n",
       "      <td>4</td>\n",
       "      <td>8</td>\n",
       "      <td>3</td>\n",
       "      <td>0</td>\n",
       "      <td>0</td>\n",
       "      <td>2020-03-11 00:00:00</td>\n",
       "      <td>0</td>\n",
       "      <td>0</td>\n",
       "      <td>NaN</td>\n",
       "      <td>0</td>\n",
       "      <td>KPTD</td>\n",
       "      <td>0</td>\n",
       "      <td>0</td>\n",
       "    </tr>\n",
       "  </tbody>\n",
       "</table>\n",
       "</div>"
      ],
      "text/plain": [
       "   Unnamed: 0  Cases  Confirmed  Total_tests                 Date  Recovered  \\\n",
       "0           4     48          2           80  2020-03-11 00:00:00          0   \n",
       "1           5     61          0           95  2020-03-11 00:00:00          0   \n",
       "2           6     84         14          171  2020-03-11 00:00:00          1   \n",
       "3           7     20          0           28  2020-03-11 00:00:00          0   \n",
       "4           8      3          0            0  2020-03-11 00:00:00          0   \n",
       "\n",
       "   Dead  Home_quarantine  New_cases  Region  Hospitalized New_tests  \n",
       "0     0              NaN          3     ICT             2         8  \n",
       "1     0              NaN          6  Punjab             0         7  \n",
       "2     0              NaN          1   Sindh            13        55  \n",
       "3     0              NaN          0      KP             0         2  \n",
       "4     0              NaN          0    KPTD             0         0  "
      ]
     },
     "execution_count": 7,
     "metadata": {},
     "output_type": "execute_result"
    }
   ],
   "source": [
    "sheet1.rename(columns={'Cumulative':'Cases','Discharged':'Recovered','Still admitted':'Hospitalized','Cumulative  Test positive':'Confirmed','New  (last 24 hrs)':'New_cases','Cumulative  tests performed':'Total_tests','Tests  performed in last 24 hours':'New_tests','Expired':'Dead','Home Quarantine':'Home_quarantine'},inplace=True)\n",
    "sheet1.head()"
   ]
  },
  {
   "cell_type": "code",
   "execution_count": 8,
   "metadata": {},
   "outputs": [
    {
     "data": {
      "text/html": [
       "<div>\n",
       "<style scoped>\n",
       "    .dataframe tbody tr th:only-of-type {\n",
       "        vertical-align: middle;\n",
       "    }\n",
       "\n",
       "    .dataframe tbody tr th {\n",
       "        vertical-align: top;\n",
       "    }\n",
       "\n",
       "    .dataframe thead th {\n",
       "        text-align: right;\n",
       "    }\n",
       "</style>\n",
       "<table border=\"1\" class=\"dataframe\">\n",
       "  <thead>\n",
       "    <tr style=\"text-align: right;\">\n",
       "      <th></th>\n",
       "      <th>Unnamed: 0</th>\n",
       "      <th>Cases</th>\n",
       "      <th>Confirmed</th>\n",
       "      <th>Total_tests</th>\n",
       "      <th>Date</th>\n",
       "      <th>Recovered</th>\n",
       "      <th>Dead</th>\n",
       "      <th>Home_quarantine</th>\n",
       "      <th>New_cases</th>\n",
       "      <th>Region</th>\n",
       "      <th>Hospitalized</th>\n",
       "      <th>New_tests</th>\n",
       "    </tr>\n",
       "  </thead>\n",
       "  <tbody>\n",
       "    <tr>\n",
       "      <td>1</td>\n",
       "      <td>5</td>\n",
       "      <td>61</td>\n",
       "      <td>0</td>\n",
       "      <td>95</td>\n",
       "      <td>2020-03-11 00:00:00</td>\n",
       "      <td>0</td>\n",
       "      <td>0</td>\n",
       "      <td>NaN</td>\n",
       "      <td>6</td>\n",
       "      <td>Punjab</td>\n",
       "      <td>0</td>\n",
       "      <td>7</td>\n",
       "    </tr>\n",
       "    <tr>\n",
       "      <td>9</td>\n",
       "      <td>5</td>\n",
       "      <td>67</td>\n",
       "      <td>0</td>\n",
       "      <td>105</td>\n",
       "      <td>2020-03-12 00:00:00</td>\n",
       "      <td>0</td>\n",
       "      <td>0</td>\n",
       "      <td>NaN</td>\n",
       "      <td>6</td>\n",
       "      <td>Punjab</td>\n",
       "      <td>0</td>\n",
       "      <td>10</td>\n",
       "    </tr>\n",
       "    <tr>\n",
       "      <td>17</td>\n",
       "      <td>5</td>\n",
       "      <td>71</td>\n",
       "      <td>0</td>\n",
       "      <td>110</td>\n",
       "      <td>2020-03-13 00:00:00</td>\n",
       "      <td>0</td>\n",
       "      <td>0</td>\n",
       "      <td>NaN</td>\n",
       "      <td>4</td>\n",
       "      <td>Punjab</td>\n",
       "      <td>0</td>\n",
       "      <td>5</td>\n",
       "    </tr>\n",
       "    <tr>\n",
       "      <td>25</td>\n",
       "      <td>5</td>\n",
       "      <td>77</td>\n",
       "      <td>0</td>\n",
       "      <td>116</td>\n",
       "      <td>2020-03-14 00:00:00</td>\n",
       "      <td>0</td>\n",
       "      <td>0</td>\n",
       "      <td>NaN</td>\n",
       "      <td>6</td>\n",
       "      <td>Punjab</td>\n",
       "      <td>0</td>\n",
       "      <td>6</td>\n",
       "    </tr>\n",
       "    <tr>\n",
       "      <td>33</td>\n",
       "      <td>5</td>\n",
       "      <td>83</td>\n",
       "      <td>0</td>\n",
       "      <td>126</td>\n",
       "      <td>2020-03-15 00:00:00</td>\n",
       "      <td>0</td>\n",
       "      <td>0</td>\n",
       "      <td>NaN</td>\n",
       "      <td>6</td>\n",
       "      <td>Punjab</td>\n",
       "      <td>0</td>\n",
       "      <td>10</td>\n",
       "    </tr>\n",
       "    <tr>\n",
       "      <td>41</td>\n",
       "      <td>5</td>\n",
       "      <td>95</td>\n",
       "      <td>1</td>\n",
       "      <td>166</td>\n",
       "      <td>2020-03-16 00:00:00</td>\n",
       "      <td>0</td>\n",
       "      <td>0</td>\n",
       "      <td>NaN</td>\n",
       "      <td>12</td>\n",
       "      <td>Punjab</td>\n",
       "      <td>1</td>\n",
       "      <td>40</td>\n",
       "    </tr>\n",
       "    <tr>\n",
       "      <td>50</td>\n",
       "      <td>5</td>\n",
       "      <td>112</td>\n",
       "      <td>1</td>\n",
       "      <td>166</td>\n",
       "      <td>2020-03-17 00:00:00</td>\n",
       "      <td>0</td>\n",
       "      <td>0</td>\n",
       "      <td>NaN</td>\n",
       "      <td>17</td>\n",
       "      <td>Punjab</td>\n",
       "      <td>1</td>\n",
       "      <td>No 0</td>\n",
       "    </tr>\n",
       "    <tr>\n",
       "      <td>58</td>\n",
       "      <td>5</td>\n",
       "      <td>129</td>\n",
       "      <td>26</td>\n",
       "      <td>133</td>\n",
       "      <td>2020-03-18 00:00:00</td>\n",
       "      <td>0</td>\n",
       "      <td>0</td>\n",
       "      <td>NaN</td>\n",
       "      <td>17</td>\n",
       "      <td>Punjab</td>\n",
       "      <td>26</td>\n",
       "      <td>0</td>\n",
       "    </tr>\n",
       "    <tr>\n",
       "      <td>66</td>\n",
       "      <td>5</td>\n",
       "      <td>158</td>\n",
       "      <td>33</td>\n",
       "      <td>254</td>\n",
       "      <td>2020-03-19 00:00:00</td>\n",
       "      <td>0</td>\n",
       "      <td>0</td>\n",
       "      <td>NaN</td>\n",
       "      <td>29</td>\n",
       "      <td>Punjab</td>\n",
       "      <td>33</td>\n",
       "      <td>0</td>\n",
       "    </tr>\n",
       "    <tr>\n",
       "      <td>74</td>\n",
       "      <td>5</td>\n",
       "      <td>182</td>\n",
       "      <td>80</td>\n",
       "      <td>872</td>\n",
       "      <td>20-Mar-2020</td>\n",
       "      <td>0</td>\n",
       "      <td>0</td>\n",
       "      <td>NaN</td>\n",
       "      <td>24</td>\n",
       "      <td>Punjab</td>\n",
       "      <td>80</td>\n",
       "      <td>0</td>\n",
       "    </tr>\n",
       "    <tr>\n",
       "      <td>82</td>\n",
       "      <td>5</td>\n",
       "      <td>196</td>\n",
       "      <td>96</td>\n",
       "      <td>894</td>\n",
       "      <td>21-Mar-2020</td>\n",
       "      <td>0</td>\n",
       "      <td>0</td>\n",
       "      <td>NaN</td>\n",
       "      <td>14</td>\n",
       "      <td>Punjab</td>\n",
       "      <td>96</td>\n",
       "      <td>0</td>\n",
       "    </tr>\n",
       "    <tr>\n",
       "      <td>90</td>\n",
       "      <td>5</td>\n",
       "      <td>246</td>\n",
       "      <td>152</td>\n",
       "      <td>1361</td>\n",
       "      <td>2020-03-22 00:00:00</td>\n",
       "      <td>0</td>\n",
       "      <td>0</td>\n",
       "      <td>NaN</td>\n",
       "      <td>50</td>\n",
       "      <td>Punjab</td>\n",
       "      <td>152</td>\n",
       "      <td>0</td>\n",
       "    </tr>\n",
       "    <tr>\n",
       "      <td>98</td>\n",
       "      <td>5</td>\n",
       "      <td>257</td>\n",
       "      <td>225</td>\n",
       "      <td>1436</td>\n",
       "      <td>2020-03-23 00:00:00</td>\n",
       "      <td>0</td>\n",
       "      <td>0</td>\n",
       "      <td>NaN</td>\n",
       "      <td>11</td>\n",
       "      <td>Punjab</td>\n",
       "      <td>225</td>\n",
       "      <td>0</td>\n",
       "    </tr>\n",
       "    <tr>\n",
       "      <td>104</td>\n",
       "      <td>5</td>\n",
       "      <td>226</td>\n",
       "      <td>15</td>\n",
       "      <td>427</td>\n",
       "      <td>2020-03-24 00:00:00</td>\n",
       "      <td>2</td>\n",
       "      <td>0</td>\n",
       "      <td>NaN</td>\n",
       "      <td>28</td>\n",
       "      <td>ICT</td>\n",
       "      <td>13</td>\n",
       "      <td>0</td>\n",
       "    </tr>\n",
       "    <tr>\n",
       "      <td>111</td>\n",
       "      <td>5</td>\n",
       "      <td>236</td>\n",
       "      <td>18</td>\n",
       "      <td>459</td>\n",
       "      <td>2020-03-25 00:00:00</td>\n",
       "      <td>2</td>\n",
       "      <td>0</td>\n",
       "      <td>NaN</td>\n",
       "      <td>10</td>\n",
       "      <td>ICT</td>\n",
       "      <td>16</td>\n",
       "      <td>0</td>\n",
       "    </tr>\n",
       "    <tr>\n",
       "      <td>118</td>\n",
       "      <td>5</td>\n",
       "      <td>255</td>\n",
       "      <td>25</td>\n",
       "      <td>561</td>\n",
       "      <td>2020-03-26 00:00:00</td>\n",
       "      <td>2</td>\n",
       "      <td>0</td>\n",
       "      <td>NaN</td>\n",
       "      <td>19</td>\n",
       "      <td>ICT</td>\n",
       "      <td>8</td>\n",
       "      <td>0</td>\n",
       "    </tr>\n",
       "    <tr>\n",
       "      <td>125</td>\n",
       "      <td>5</td>\n",
       "      <td>712</td>\n",
       "      <td>25</td>\n",
       "      <td>712</td>\n",
       "      <td>27-Mar-2020</td>\n",
       "      <td>2</td>\n",
       "      <td>0</td>\n",
       "      <td>NaN</td>\n",
       "      <td>151</td>\n",
       "      <td>ICT</td>\n",
       "      <td>12</td>\n",
       "      <td>0</td>\n",
       "    </tr>\n",
       "    <tr>\n",
       "      <td>132</td>\n",
       "      <td>5</td>\n",
       "      <td>910</td>\n",
       "      <td>39</td>\n",
       "      <td>1056</td>\n",
       "      <td>28-Mar-2020</td>\n",
       "      <td>2</td>\n",
       "      <td>0</td>\n",
       "      <td>NaN</td>\n",
       "      <td>198</td>\n",
       "      <td>ICT</td>\n",
       "      <td>8</td>\n",
       "      <td>0</td>\n",
       "    </tr>\n",
       "    <tr>\n",
       "      <td>139</td>\n",
       "      <td>5</td>\n",
       "      <td>1067</td>\n",
       "      <td>43</td>\n",
       "      <td>1213</td>\n",
       "      <td>29-Mar-2020</td>\n",
       "      <td>2</td>\n",
       "      <td>0</td>\n",
       "      <td>30.0</td>\n",
       "      <td>157</td>\n",
       "      <td>ICT</td>\n",
       "      <td>11</td>\n",
       "      <td>0</td>\n",
       "    </tr>\n",
       "    <tr>\n",
       "      <td>153</td>\n",
       "      <td>5</td>\n",
       "      <td>1395</td>\n",
       "      <td>58</td>\n",
       "      <td>1469</td>\n",
       "      <td>2020-03-31 00:00:00</td>\n",
       "      <td>3</td>\n",
       "      <td>0</td>\n",
       "      <td>39.0</td>\n",
       "      <td>195</td>\n",
       "      <td>ICT</td>\n",
       "      <td>16</td>\n",
       "      <td>0</td>\n",
       "    </tr>\n",
       "  </tbody>\n",
       "</table>\n",
       "</div>"
      ],
      "text/plain": [
       "     Unnamed: 0  Cases  Confirmed  Total_tests                 Date  \\\n",
       "1             5     61          0           95  2020-03-11 00:00:00   \n",
       "9             5     67          0          105  2020-03-12 00:00:00   \n",
       "17            5     71          0          110  2020-03-13 00:00:00   \n",
       "25            5     77          0          116  2020-03-14 00:00:00   \n",
       "33            5     83          0          126  2020-03-15 00:00:00   \n",
       "41            5     95          1          166  2020-03-16 00:00:00   \n",
       "50            5    112          1          166  2020-03-17 00:00:00   \n",
       "58            5    129         26          133  2020-03-18 00:00:00   \n",
       "66            5    158         33          254  2020-03-19 00:00:00   \n",
       "74            5    182         80          872          20-Mar-2020   \n",
       "82            5    196         96          894          21-Mar-2020   \n",
       "90            5    246        152         1361  2020-03-22 00:00:00   \n",
       "98            5    257        225         1436  2020-03-23 00:00:00   \n",
       "104           5    226         15          427  2020-03-24 00:00:00   \n",
       "111           5    236         18          459  2020-03-25 00:00:00   \n",
       "118           5    255         25          561  2020-03-26 00:00:00   \n",
       "125           5    712         25          712          27-Mar-2020   \n",
       "132           5    910         39         1056          28-Mar-2020   \n",
       "139           5   1067         43         1213          29-Mar-2020   \n",
       "153           5   1395         58         1469  2020-03-31 00:00:00   \n",
       "\n",
       "     Recovered  Dead  Home_quarantine  New_cases  Region  Hospitalized  \\\n",
       "1            0     0              NaN          6  Punjab             0   \n",
       "9            0     0              NaN          6  Punjab             0   \n",
       "17           0     0              NaN          4  Punjab             0   \n",
       "25           0     0              NaN          6  Punjab             0   \n",
       "33           0     0              NaN          6  Punjab             0   \n",
       "41           0     0              NaN         12  Punjab             1   \n",
       "50           0     0              NaN         17  Punjab             1   \n",
       "58           0     0              NaN         17  Punjab            26   \n",
       "66           0     0              NaN         29  Punjab            33   \n",
       "74           0     0              NaN         24  Punjab            80   \n",
       "82           0     0              NaN         14  Punjab            96   \n",
       "90           0     0              NaN         50  Punjab           152   \n",
       "98           0     0              NaN         11  Punjab           225   \n",
       "104          2     0              NaN         28     ICT            13   \n",
       "111          2     0              NaN         10     ICT            16   \n",
       "118          2     0              NaN         19     ICT             8   \n",
       "125          2     0              NaN        151     ICT            12   \n",
       "132          2     0              NaN        198     ICT             8   \n",
       "139          2     0             30.0        157     ICT            11   \n",
       "153          3     0             39.0        195     ICT            16   \n",
       "\n",
       "    New_tests  \n",
       "1           7  \n",
       "9          10  \n",
       "17          5  \n",
       "25          6  \n",
       "33         10  \n",
       "41         40  \n",
       "50       No 0  \n",
       "58          0  \n",
       "66          0  \n",
       "74          0  \n",
       "82          0  \n",
       "90          0  \n",
       "98          0  \n",
       "104         0  \n",
       "111         0  \n",
       "118         0  \n",
       "125         0  \n",
       "132         0  \n",
       "139         0  \n",
       "153         0  "
      ]
     },
     "execution_count": 8,
     "metadata": {},
     "output_type": "execute_result"
    }
   ],
   "source": [
    "sheet1.loc[sheet1['Unnamed: 0']==5] #query based on assigned indexes but doesn't define uniquely row"
   ]
  },
  {
   "cell_type": "code",
   "execution_count": 9,
   "metadata": {},
   "outputs": [
    {
     "data": {
      "text/plain": [
       "RangeIndex(start=0, stop=454, step=1)"
      ]
     },
     "execution_count": 9,
     "metadata": {},
     "output_type": "execute_result"
    }
   ],
   "source": [
    "sheet1.index"
   ]
  },
  {
   "cell_type": "code",
   "execution_count": 10,
   "metadata": {},
   "outputs": [
    {
     "data": {
      "text/html": [
       "<div>\n",
       "<style scoped>\n",
       "    .dataframe tbody tr th:only-of-type {\n",
       "        vertical-align: middle;\n",
       "    }\n",
       "\n",
       "    .dataframe tbody tr th {\n",
       "        vertical-align: top;\n",
       "    }\n",
       "\n",
       "    .dataframe thead th {\n",
       "        text-align: right;\n",
       "    }\n",
       "</style>\n",
       "<table border=\"1\" class=\"dataframe\">\n",
       "  <thead>\n",
       "    <tr style=\"text-align: right;\">\n",
       "      <th></th>\n",
       "      <th>Cases</th>\n",
       "      <th>Confirmed</th>\n",
       "      <th>Total_tests</th>\n",
       "      <th>Date</th>\n",
       "      <th>Recovered</th>\n",
       "      <th>Dead</th>\n",
       "      <th>Home_quarantine</th>\n",
       "      <th>New_cases</th>\n",
       "      <th>Region</th>\n",
       "      <th>Hospitalized</th>\n",
       "      <th>New_tests</th>\n",
       "    </tr>\n",
       "  </thead>\n",
       "  <tbody>\n",
       "    <tr>\n",
       "      <td>0</td>\n",
       "      <td>48</td>\n",
       "      <td>2</td>\n",
       "      <td>80</td>\n",
       "      <td>2020-03-11 00:00:00</td>\n",
       "      <td>0</td>\n",
       "      <td>0</td>\n",
       "      <td>NaN</td>\n",
       "      <td>3</td>\n",
       "      <td>ICT</td>\n",
       "      <td>2</td>\n",
       "      <td>8</td>\n",
       "    </tr>\n",
       "    <tr>\n",
       "      <td>1</td>\n",
       "      <td>61</td>\n",
       "      <td>0</td>\n",
       "      <td>95</td>\n",
       "      <td>2020-03-11 00:00:00</td>\n",
       "      <td>0</td>\n",
       "      <td>0</td>\n",
       "      <td>NaN</td>\n",
       "      <td>6</td>\n",
       "      <td>Punjab</td>\n",
       "      <td>0</td>\n",
       "      <td>7</td>\n",
       "    </tr>\n",
       "    <tr>\n",
       "      <td>2</td>\n",
       "      <td>84</td>\n",
       "      <td>14</td>\n",
       "      <td>171</td>\n",
       "      <td>2020-03-11 00:00:00</td>\n",
       "      <td>1</td>\n",
       "      <td>0</td>\n",
       "      <td>NaN</td>\n",
       "      <td>1</td>\n",
       "      <td>Sindh</td>\n",
       "      <td>13</td>\n",
       "      <td>55</td>\n",
       "    </tr>\n",
       "    <tr>\n",
       "      <td>3</td>\n",
       "      <td>20</td>\n",
       "      <td>0</td>\n",
       "      <td>28</td>\n",
       "      <td>2020-03-11 00:00:00</td>\n",
       "      <td>0</td>\n",
       "      <td>0</td>\n",
       "      <td>NaN</td>\n",
       "      <td>0</td>\n",
       "      <td>KP</td>\n",
       "      <td>0</td>\n",
       "      <td>2</td>\n",
       "    </tr>\n",
       "    <tr>\n",
       "      <td>4</td>\n",
       "      <td>3</td>\n",
       "      <td>0</td>\n",
       "      <td>0</td>\n",
       "      <td>2020-03-11 00:00:00</td>\n",
       "      <td>0</td>\n",
       "      <td>0</td>\n",
       "      <td>NaN</td>\n",
       "      <td>0</td>\n",
       "      <td>KPTD</td>\n",
       "      <td>0</td>\n",
       "      <td>0</td>\n",
       "    </tr>\n",
       "  </tbody>\n",
       "</table>\n",
       "</div>"
      ],
      "text/plain": [
       "   Cases  Confirmed  Total_tests                 Date  Recovered  Dead  \\\n",
       "0     48          2           80  2020-03-11 00:00:00          0     0   \n",
       "1     61          0           95  2020-03-11 00:00:00          0     0   \n",
       "2     84         14          171  2020-03-11 00:00:00          1     0   \n",
       "3     20          0           28  2020-03-11 00:00:00          0     0   \n",
       "4      3          0            0  2020-03-11 00:00:00          0     0   \n",
       "\n",
       "   Home_quarantine  New_cases  Region  Hospitalized New_tests  \n",
       "0              NaN          3     ICT             2         8  \n",
       "1              NaN          6  Punjab             0         7  \n",
       "2              NaN          1   Sindh            13        55  \n",
       "3              NaN          0      KP             0         2  \n",
       "4              NaN          0    KPTD             0         0  "
      ]
     },
     "execution_count": 10,
     "metadata": {},
     "output_type": "execute_result"
    }
   ],
   "source": [
    "sheet1.drop('Unnamed: 0',axis=1,inplace=True)               #droping unnamed column keeping default indexing\n",
    "sheet1.head() "
   ]
  },
  {
   "cell_type": "code",
   "execution_count": 11,
   "metadata": {},
   "outputs": [],
   "source": [
    "#sheet1=sheet1[['Date','Region','Cases','Confirmed','Recovered','Dead','Active','Hospitalized','Home_quarantine','New_cases']]"
   ]
  },
  {
   "cell_type": "code",
   "execution_count": 12,
   "metadata": {},
   "outputs": [
    {
     "data": {
      "text/html": [
       "<div>\n",
       "<style scoped>\n",
       "    .dataframe tbody tr th:only-of-type {\n",
       "        vertical-align: middle;\n",
       "    }\n",
       "\n",
       "    .dataframe tbody tr th {\n",
       "        vertical-align: top;\n",
       "    }\n",
       "\n",
       "    .dataframe thead th {\n",
       "        text-align: right;\n",
       "    }\n",
       "</style>\n",
       "<table border=\"1\" class=\"dataframe\">\n",
       "  <thead>\n",
       "    <tr style=\"text-align: right;\">\n",
       "      <th></th>\n",
       "      <th>Cases</th>\n",
       "      <th>Confirmed</th>\n",
       "      <th>Total_tests</th>\n",
       "      <th>Date</th>\n",
       "      <th>Recovered</th>\n",
       "      <th>Dead</th>\n",
       "      <th>Home_quarantine</th>\n",
       "      <th>New_cases</th>\n",
       "      <th>Region</th>\n",
       "      <th>Hospitalized</th>\n",
       "      <th>New_tests</th>\n",
       "    </tr>\n",
       "  </thead>\n",
       "  <tbody>\n",
       "    <tr>\n",
       "      <td>0</td>\n",
       "      <td>48</td>\n",
       "      <td>2</td>\n",
       "      <td>80</td>\n",
       "      <td>2020-03-11</td>\n",
       "      <td>0</td>\n",
       "      <td>0</td>\n",
       "      <td>NaN</td>\n",
       "      <td>3</td>\n",
       "      <td>ICT</td>\n",
       "      <td>2</td>\n",
       "      <td>8</td>\n",
       "    </tr>\n",
       "    <tr>\n",
       "      <td>1</td>\n",
       "      <td>61</td>\n",
       "      <td>0</td>\n",
       "      <td>95</td>\n",
       "      <td>2020-03-11</td>\n",
       "      <td>0</td>\n",
       "      <td>0</td>\n",
       "      <td>NaN</td>\n",
       "      <td>6</td>\n",
       "      <td>Punjab</td>\n",
       "      <td>0</td>\n",
       "      <td>7</td>\n",
       "    </tr>\n",
       "    <tr>\n",
       "      <td>2</td>\n",
       "      <td>84</td>\n",
       "      <td>14</td>\n",
       "      <td>171</td>\n",
       "      <td>2020-03-11</td>\n",
       "      <td>1</td>\n",
       "      <td>0</td>\n",
       "      <td>NaN</td>\n",
       "      <td>1</td>\n",
       "      <td>Sindh</td>\n",
       "      <td>13</td>\n",
       "      <td>55</td>\n",
       "    </tr>\n",
       "    <tr>\n",
       "      <td>3</td>\n",
       "      <td>20</td>\n",
       "      <td>0</td>\n",
       "      <td>28</td>\n",
       "      <td>2020-03-11</td>\n",
       "      <td>0</td>\n",
       "      <td>0</td>\n",
       "      <td>NaN</td>\n",
       "      <td>0</td>\n",
       "      <td>KP</td>\n",
       "      <td>0</td>\n",
       "      <td>2</td>\n",
       "    </tr>\n",
       "    <tr>\n",
       "      <td>4</td>\n",
       "      <td>3</td>\n",
       "      <td>0</td>\n",
       "      <td>0</td>\n",
       "      <td>2020-03-11</td>\n",
       "      <td>0</td>\n",
       "      <td>0</td>\n",
       "      <td>NaN</td>\n",
       "      <td>0</td>\n",
       "      <td>KPTD</td>\n",
       "      <td>0</td>\n",
       "      <td>0</td>\n",
       "    </tr>\n",
       "  </tbody>\n",
       "</table>\n",
       "</div>"
      ],
      "text/plain": [
       "   Cases  Confirmed  Total_tests       Date  Recovered  Dead  Home_quarantine  \\\n",
       "0     48          2           80 2020-03-11          0     0              NaN   \n",
       "1     61          0           95 2020-03-11          0     0              NaN   \n",
       "2     84         14          171 2020-03-11          1     0              NaN   \n",
       "3     20          0           28 2020-03-11          0     0              NaN   \n",
       "4      3          0            0 2020-03-11          0     0              NaN   \n",
       "\n",
       "   New_cases  Region  Hospitalized New_tests  \n",
       "0          3     ICT             2         8  \n",
       "1          6  Punjab             0         7  \n",
       "2          1   Sindh            13        55  \n",
       "3          0      KP             0         2  \n",
       "4          0    KPTD             0         0  "
      ]
     },
     "execution_count": 12,
     "metadata": {},
     "output_type": "execute_result"
    }
   ],
   "source": [
    "#sheet1['Date']=pd.to_datetime(sheet1['Date']).dt.strftime('%d-%m-%Y') #change format acc to Pak date\n",
    "sheet1['Date']=pd.to_datetime(sheet1.Date)                      #to date type\n",
    "sheet1.head()"
   ]
  },
  {
   "cell_type": "code",
   "execution_count": 13,
   "metadata": {},
   "outputs": [
    {
     "name": "stdout",
     "output_type": "stream",
     "text": [
      "<class 'pandas.core.frame.DataFrame'>\n",
      "RangeIndex: 454 entries, 0 to 453\n",
      "Data columns (total 11 columns):\n",
      "Cases              454 non-null int64\n",
      "Confirmed          454 non-null int64\n",
      "Total_tests        454 non-null int64\n",
      "Date               454 non-null datetime64[ns]\n",
      "Recovered          454 non-null int64\n",
      "Dead               454 non-null int64\n",
      "Home_quarantine    315 non-null float64\n",
      "New_cases          454 non-null int64\n",
      "Region             454 non-null object\n",
      "Hospitalized       454 non-null int64\n",
      "New_tests          454 non-null object\n",
      "dtypes: datetime64[ns](1), float64(1), int64(7), object(2)\n",
      "memory usage: 39.1+ KB\n",
      "None\n",
      "Cases                0\n",
      "Confirmed            0\n",
      "Total_tests          0\n",
      "Date                 0\n",
      "Recovered            0\n",
      "Dead                 0\n",
      "Home_quarantine    139\n",
      "New_cases            0\n",
      "Region               0\n",
      "Hospitalized         0\n",
      "New_tests            0\n",
      "dtype: int64\n"
     ]
    }
   ],
   "source": [
    "print(sheet1.info())\n",
    "print(sheet1.isnull().sum())                                     #finding NA"
   ]
  },
  {
   "cell_type": "code",
   "execution_count": 14,
   "metadata": {},
   "outputs": [
    {
     "data": {
      "text/html": [
       "<div>\n",
       "<style scoped>\n",
       "    .dataframe tbody tr th:only-of-type {\n",
       "        vertical-align: middle;\n",
       "    }\n",
       "\n",
       "    .dataframe tbody tr th {\n",
       "        vertical-align: top;\n",
       "    }\n",
       "\n",
       "    .dataframe thead th {\n",
       "        text-align: right;\n",
       "    }\n",
       "</style>\n",
       "<table border=\"1\" class=\"dataframe\">\n",
       "  <thead>\n",
       "    <tr style=\"text-align: right;\">\n",
       "      <th></th>\n",
       "      <th>Cases</th>\n",
       "      <th>Confirmed</th>\n",
       "      <th>Total_tests</th>\n",
       "      <th>Date</th>\n",
       "      <th>Recovered</th>\n",
       "      <th>Dead</th>\n",
       "      <th>Home_quarantine</th>\n",
       "      <th>New_cases</th>\n",
       "      <th>Region</th>\n",
       "      <th>Hospitalized</th>\n",
       "      <th>New_tests</th>\n",
       "    </tr>\n",
       "  </thead>\n",
       "  <tbody>\n",
       "    <tr>\n",
       "      <td>50</td>\n",
       "      <td>112</td>\n",
       "      <td>1</td>\n",
       "      <td>166</td>\n",
       "      <td>2020-03-17</td>\n",
       "      <td>0</td>\n",
       "      <td>0</td>\n",
       "      <td>NaN</td>\n",
       "      <td>17</td>\n",
       "      <td>Punjab</td>\n",
       "      <td>1</td>\n",
       "      <td>No 0</td>\n",
       "    </tr>\n",
       "  </tbody>\n",
       "</table>\n",
       "</div>"
      ],
      "text/plain": [
       "    Cases  Confirmed  Total_tests       Date  Recovered  Dead  \\\n",
       "50    112          1          166 2020-03-17          0     0   \n",
       "\n",
       "    Home_quarantine  New_cases  Region  Hospitalized New_tests  \n",
       "50              NaN         17  Punjab             1      No 0  "
      ]
     },
     "execution_count": 14,
     "metadata": {},
     "output_type": "execute_result"
    }
   ],
   "source": [
    "sheet1[sheet1['New_tests'].isin(['.','?','na','NA','N/A',np.nan,'No 0'])]"
   ]
  },
  {
   "cell_type": "code",
   "execution_count": 15,
   "metadata": {},
   "outputs": [
    {
     "data": {
      "text/html": [
       "<div>\n",
       "<style scoped>\n",
       "    .dataframe tbody tr th:only-of-type {\n",
       "        vertical-align: middle;\n",
       "    }\n",
       "\n",
       "    .dataframe tbody tr th {\n",
       "        vertical-align: top;\n",
       "    }\n",
       "\n",
       "    .dataframe thead th {\n",
       "        text-align: right;\n",
       "    }\n",
       "</style>\n",
       "<table border=\"1\" class=\"dataframe\">\n",
       "  <thead>\n",
       "    <tr style=\"text-align: right;\">\n",
       "      <th></th>\n",
       "      <th>Cases</th>\n",
       "      <th>Confirmed</th>\n",
       "      <th>Total_tests</th>\n",
       "      <th>Date</th>\n",
       "      <th>Recovered</th>\n",
       "      <th>Dead</th>\n",
       "      <th>Home_quarantine</th>\n",
       "      <th>New_cases</th>\n",
       "      <th>Region</th>\n",
       "      <th>Hospitalized</th>\n",
       "      <th>New_tests</th>\n",
       "    </tr>\n",
       "  </thead>\n",
       "  <tbody>\n",
       "    <tr>\n",
       "      <td>0</td>\n",
       "      <td>False</td>\n",
       "      <td>False</td>\n",
       "      <td>False</td>\n",
       "      <td>False</td>\n",
       "      <td>False</td>\n",
       "      <td>False</td>\n",
       "      <td>True</td>\n",
       "      <td>False</td>\n",
       "      <td>False</td>\n",
       "      <td>False</td>\n",
       "      <td>False</td>\n",
       "    </tr>\n",
       "    <tr>\n",
       "      <td>1</td>\n",
       "      <td>False</td>\n",
       "      <td>False</td>\n",
       "      <td>False</td>\n",
       "      <td>False</td>\n",
       "      <td>False</td>\n",
       "      <td>False</td>\n",
       "      <td>True</td>\n",
       "      <td>False</td>\n",
       "      <td>False</td>\n",
       "      <td>False</td>\n",
       "      <td>False</td>\n",
       "    </tr>\n",
       "    <tr>\n",
       "      <td>2</td>\n",
       "      <td>False</td>\n",
       "      <td>False</td>\n",
       "      <td>False</td>\n",
       "      <td>False</td>\n",
       "      <td>False</td>\n",
       "      <td>False</td>\n",
       "      <td>True</td>\n",
       "      <td>False</td>\n",
       "      <td>False</td>\n",
       "      <td>False</td>\n",
       "      <td>False</td>\n",
       "    </tr>\n",
       "    <tr>\n",
       "      <td>3</td>\n",
       "      <td>False</td>\n",
       "      <td>False</td>\n",
       "      <td>False</td>\n",
       "      <td>False</td>\n",
       "      <td>False</td>\n",
       "      <td>False</td>\n",
       "      <td>True</td>\n",
       "      <td>False</td>\n",
       "      <td>False</td>\n",
       "      <td>False</td>\n",
       "      <td>False</td>\n",
       "    </tr>\n",
       "    <tr>\n",
       "      <td>4</td>\n",
       "      <td>False</td>\n",
       "      <td>False</td>\n",
       "      <td>False</td>\n",
       "      <td>False</td>\n",
       "      <td>False</td>\n",
       "      <td>False</td>\n",
       "      <td>True</td>\n",
       "      <td>False</td>\n",
       "      <td>False</td>\n",
       "      <td>False</td>\n",
       "      <td>False</td>\n",
       "    </tr>\n",
       "    <tr>\n",
       "      <td>...</td>\n",
       "      <td>...</td>\n",
       "      <td>...</td>\n",
       "      <td>...</td>\n",
       "      <td>...</td>\n",
       "      <td>...</td>\n",
       "      <td>...</td>\n",
       "      <td>...</td>\n",
       "      <td>...</td>\n",
       "      <td>...</td>\n",
       "      <td>...</td>\n",
       "      <td>...</td>\n",
       "    </tr>\n",
       "    <tr>\n",
       "      <td>449</td>\n",
       "      <td>False</td>\n",
       "      <td>False</td>\n",
       "      <td>False</td>\n",
       "      <td>False</td>\n",
       "      <td>False</td>\n",
       "      <td>False</td>\n",
       "      <td>False</td>\n",
       "      <td>False</td>\n",
       "      <td>False</td>\n",
       "      <td>False</td>\n",
       "      <td>False</td>\n",
       "    </tr>\n",
       "    <tr>\n",
       "      <td>450</td>\n",
       "      <td>False</td>\n",
       "      <td>False</td>\n",
       "      <td>False</td>\n",
       "      <td>False</td>\n",
       "      <td>False</td>\n",
       "      <td>False</td>\n",
       "      <td>False</td>\n",
       "      <td>False</td>\n",
       "      <td>False</td>\n",
       "      <td>False</td>\n",
       "      <td>False</td>\n",
       "    </tr>\n",
       "    <tr>\n",
       "      <td>451</td>\n",
       "      <td>False</td>\n",
       "      <td>False</td>\n",
       "      <td>False</td>\n",
       "      <td>False</td>\n",
       "      <td>False</td>\n",
       "      <td>False</td>\n",
       "      <td>False</td>\n",
       "      <td>False</td>\n",
       "      <td>False</td>\n",
       "      <td>False</td>\n",
       "      <td>False</td>\n",
       "    </tr>\n",
       "    <tr>\n",
       "      <td>452</td>\n",
       "      <td>False</td>\n",
       "      <td>False</td>\n",
       "      <td>False</td>\n",
       "      <td>False</td>\n",
       "      <td>False</td>\n",
       "      <td>False</td>\n",
       "      <td>False</td>\n",
       "      <td>False</td>\n",
       "      <td>False</td>\n",
       "      <td>False</td>\n",
       "      <td>False</td>\n",
       "    </tr>\n",
       "    <tr>\n",
       "      <td>453</td>\n",
       "      <td>False</td>\n",
       "      <td>False</td>\n",
       "      <td>False</td>\n",
       "      <td>False</td>\n",
       "      <td>False</td>\n",
       "      <td>False</td>\n",
       "      <td>False</td>\n",
       "      <td>False</td>\n",
       "      <td>False</td>\n",
       "      <td>False</td>\n",
       "      <td>False</td>\n",
       "    </tr>\n",
       "  </tbody>\n",
       "</table>\n",
       "<p>454 rows × 11 columns</p>\n",
       "</div>"
      ],
      "text/plain": [
       "     Cases  Confirmed  Total_tests   Date  Recovered   Dead  Home_quarantine  \\\n",
       "0    False      False        False  False      False  False             True   \n",
       "1    False      False        False  False      False  False             True   \n",
       "2    False      False        False  False      False  False             True   \n",
       "3    False      False        False  False      False  False             True   \n",
       "4    False      False        False  False      False  False             True   \n",
       "..     ...        ...          ...    ...        ...    ...              ...   \n",
       "449  False      False        False  False      False  False            False   \n",
       "450  False      False        False  False      False  False            False   \n",
       "451  False      False        False  False      False  False            False   \n",
       "452  False      False        False  False      False  False            False   \n",
       "453  False      False        False  False      False  False            False   \n",
       "\n",
       "     New_cases  Region  Hospitalized  New_tests  \n",
       "0        False   False         False      False  \n",
       "1        False   False         False      False  \n",
       "2        False   False         False      False  \n",
       "3        False   False         False      False  \n",
       "4        False   False         False      False  \n",
       "..         ...     ...           ...        ...  \n",
       "449      False   False         False      False  \n",
       "450      False   False         False      False  \n",
       "451      False   False         False      False  \n",
       "452      False   False         False      False  \n",
       "453      False   False         False      False  \n",
       "\n",
       "[454 rows x 11 columns]"
      ]
     },
     "execution_count": 15,
     "metadata": {},
     "output_type": "execute_result"
    }
   ],
   "source": [
    "sheet1.isin(['.','?','na','NA','N/A',np.nan,'No 0'])"
   ]
  },
  {
   "cell_type": "code",
   "execution_count": 16,
   "metadata": {},
   "outputs": [
    {
     "data": {
      "text/html": [
       "<div>\n",
       "<style scoped>\n",
       "    .dataframe tbody tr th:only-of-type {\n",
       "        vertical-align: middle;\n",
       "    }\n",
       "\n",
       "    .dataframe tbody tr th {\n",
       "        vertical-align: top;\n",
       "    }\n",
       "\n",
       "    .dataframe thead th {\n",
       "        text-align: right;\n",
       "    }\n",
       "</style>\n",
       "<table border=\"1\" class=\"dataframe\">\n",
       "  <thead>\n",
       "    <tr style=\"text-align: right;\">\n",
       "      <th></th>\n",
       "      <th>Cases</th>\n",
       "      <th>Confirmed</th>\n",
       "      <th>Total_tests</th>\n",
       "      <th>Date</th>\n",
       "      <th>Recovered</th>\n",
       "      <th>Dead</th>\n",
       "      <th>Home_quarantine</th>\n",
       "      <th>New_cases</th>\n",
       "      <th>Region</th>\n",
       "      <th>Hospitalized</th>\n",
       "      <th>New_tests</th>\n",
       "    </tr>\n",
       "  </thead>\n",
       "  <tbody>\n",
       "  </tbody>\n",
       "</table>\n",
       "</div>"
      ],
      "text/plain": [
       "Empty DataFrame\n",
       "Columns: [Cases, Confirmed, Total_tests, Date, Recovered, Dead, Home_quarantine, New_cases, Region, Hospitalized, New_tests]\n",
       "Index: []"
      ]
     },
     "execution_count": 16,
     "metadata": {},
     "output_type": "execute_result"
    }
   ],
   "source": [
    "sheet1['New_tests'].replace({'No 0':'0'},inplace=True)  #replacing No 0 value in New_tests with 0 as its like null but 0 for this column either count of test performed or not\n",
    "sheet1[sheet1['New_tests'].isin(['.','?','na','NA','N/A',np.nan,'No 0'])]"
   ]
  },
  {
   "cell_type": "code",
   "execution_count": 17,
   "metadata": {},
   "outputs": [
    {
     "name": "stdout",
     "output_type": "stream",
     "text": [
      "Cases              0\n",
      "Confirmed          0\n",
      "Total_tests        0\n",
      "Date               0\n",
      "Recovered          0\n",
      "Dead               0\n",
      "Home_quarantine    0\n",
      "New_cases          0\n",
      "Region             0\n",
      "Hospitalized       0\n",
      "New_tests          0\n",
      "dtype: int64\n",
      "<class 'pandas.core.frame.DataFrame'>\n",
      "RangeIndex: 454 entries, 0 to 453\n",
      "Data columns (total 11 columns):\n",
      "Cases              454 non-null int64\n",
      "Confirmed          454 non-null int64\n",
      "Total_tests        454 non-null int64\n",
      "Date               454 non-null datetime64[ns]\n",
      "Recovered          454 non-null int64\n",
      "Dead               454 non-null int64\n",
      "Home_quarantine    454 non-null int64\n",
      "New_cases          454 non-null int64\n",
      "Region             454 non-null object\n",
      "Hospitalized       454 non-null int64\n",
      "New_tests          454 non-null int64\n",
      "dtypes: datetime64[ns](1), int64(9), object(1)\n",
      "memory usage: 39.1+ KB\n",
      "None\n"
     ]
    }
   ],
   "source": [
    "sheet1['New_tests']=sheet1['New_tests'].apply(np.int64)       #change type of New_testsas its ineteger\n",
    "sheet1['Home_quarantine'].fillna(0,inplace=True)                #filling with 0 becuase at that time no homequarantine    \n",
    "sheet1['Home_quarantine']=sheet1['Home_quarantine'].apply(np.int64)          #it can't be float\n",
    "print(sheet1.isnull().sum())\n",
    "print(sheet1.info())"
   ]
  },
  {
   "cell_type": "code",
   "execution_count": 18,
   "metadata": {},
   "outputs": [
    {
     "data": {
      "text/plain": [
       "0"
      ]
     },
     "execution_count": 18,
     "metadata": {},
     "output_type": "execute_result"
    }
   ],
   "source": [
    "sheet1.duplicated().sum()"
   ]
  },
  {
   "cell_type": "code",
   "execution_count": 19,
   "metadata": {},
   "outputs": [
    {
     "data": {
      "text/plain": [
       "array(['ICT', 'Punjab', 'Sindh', 'KP', 'KPTD', 'Balochistan', 'AJK', 'GB',\n",
       "       'Mobile Lab'], dtype=object)"
      ]
     },
     "execution_count": 19,
     "metadata": {},
     "output_type": "execute_result"
    }
   ],
   "source": [
    "sheet1.Region.unique()"
   ]
  },
  {
   "cell_type": "code",
   "execution_count": 20,
   "metadata": {},
   "outputs": [
    {
     "data": {
      "text/html": [
       "<div>\n",
       "<style scoped>\n",
       "    .dataframe tbody tr th:only-of-type {\n",
       "        vertical-align: middle;\n",
       "    }\n",
       "\n",
       "    .dataframe tbody tr th {\n",
       "        vertical-align: top;\n",
       "    }\n",
       "\n",
       "    .dataframe thead th {\n",
       "        text-align: right;\n",
       "    }\n",
       "</style>\n",
       "<table border=\"1\" class=\"dataframe\">\n",
       "  <thead>\n",
       "    <tr style=\"text-align: right;\">\n",
       "      <th></th>\n",
       "      <th>Cases</th>\n",
       "      <th>Confirmed</th>\n",
       "      <th>Total_tests</th>\n",
       "      <th>Date</th>\n",
       "      <th>Recovered</th>\n",
       "      <th>Dead</th>\n",
       "      <th>Home_quarantine</th>\n",
       "      <th>New_cases</th>\n",
       "      <th>Region</th>\n",
       "      <th>Hospitalized</th>\n",
       "      <th>New_tests</th>\n",
       "    </tr>\n",
       "  </thead>\n",
       "  <tbody>\n",
       "    <tr>\n",
       "      <td>4</td>\n",
       "      <td>3</td>\n",
       "      <td>0</td>\n",
       "      <td>0</td>\n",
       "      <td>2020-03-11</td>\n",
       "      <td>0</td>\n",
       "      <td>0</td>\n",
       "      <td>0</td>\n",
       "      <td>0</td>\n",
       "      <td>KPTD</td>\n",
       "      <td>0</td>\n",
       "      <td>0</td>\n",
       "    </tr>\n",
       "    <tr>\n",
       "      <td>12</td>\n",
       "      <td>3</td>\n",
       "      <td>0</td>\n",
       "      <td>0</td>\n",
       "      <td>2020-03-12</td>\n",
       "      <td>0</td>\n",
       "      <td>0</td>\n",
       "      <td>0</td>\n",
       "      <td>0</td>\n",
       "      <td>KPTD</td>\n",
       "      <td>0</td>\n",
       "      <td>0</td>\n",
       "    </tr>\n",
       "    <tr>\n",
       "      <td>20</td>\n",
       "      <td>4</td>\n",
       "      <td>0</td>\n",
       "      <td>0</td>\n",
       "      <td>2020-03-13</td>\n",
       "      <td>0</td>\n",
       "      <td>0</td>\n",
       "      <td>0</td>\n",
       "      <td>1</td>\n",
       "      <td>KPTD</td>\n",
       "      <td>0</td>\n",
       "      <td>0</td>\n",
       "    </tr>\n",
       "    <tr>\n",
       "      <td>28</td>\n",
       "      <td>4</td>\n",
       "      <td>0</td>\n",
       "      <td>0</td>\n",
       "      <td>2020-03-14</td>\n",
       "      <td>0</td>\n",
       "      <td>0</td>\n",
       "      <td>0</td>\n",
       "      <td>0</td>\n",
       "      <td>KPTD</td>\n",
       "      <td>0</td>\n",
       "      <td>0</td>\n",
       "    </tr>\n",
       "    <tr>\n",
       "      <td>36</td>\n",
       "      <td>5</td>\n",
       "      <td>0</td>\n",
       "      <td>0</td>\n",
       "      <td>2020-03-15</td>\n",
       "      <td>0</td>\n",
       "      <td>0</td>\n",
       "      <td>0</td>\n",
       "      <td>1</td>\n",
       "      <td>KPTD</td>\n",
       "      <td>0</td>\n",
       "      <td>0</td>\n",
       "    </tr>\n",
       "    <tr>\n",
       "      <td>44</td>\n",
       "      <td>5</td>\n",
       "      <td>0</td>\n",
       "      <td>0</td>\n",
       "      <td>2020-03-16</td>\n",
       "      <td>0</td>\n",
       "      <td>0</td>\n",
       "      <td>0</td>\n",
       "      <td>0</td>\n",
       "      <td>KPTD</td>\n",
       "      <td>0</td>\n",
       "      <td>0</td>\n",
       "    </tr>\n",
       "    <tr>\n",
       "      <td>53</td>\n",
       "      <td>5</td>\n",
       "      <td>0</td>\n",
       "      <td>0</td>\n",
       "      <td>2020-03-17</td>\n",
       "      <td>0</td>\n",
       "      <td>0</td>\n",
       "      <td>0</td>\n",
       "      <td>0</td>\n",
       "      <td>KPTD</td>\n",
       "      <td>0</td>\n",
       "      <td>0</td>\n",
       "    </tr>\n",
       "    <tr>\n",
       "      <td>61</td>\n",
       "      <td>6</td>\n",
       "      <td>0</td>\n",
       "      <td>0</td>\n",
       "      <td>2020-03-18</td>\n",
       "      <td>0</td>\n",
       "      <td>0</td>\n",
       "      <td>0</td>\n",
       "      <td>1</td>\n",
       "      <td>KPTD</td>\n",
       "      <td>0</td>\n",
       "      <td>0</td>\n",
       "    </tr>\n",
       "    <tr>\n",
       "      <td>69</td>\n",
       "      <td>7</td>\n",
       "      <td>0</td>\n",
       "      <td>0</td>\n",
       "      <td>2020-03-19</td>\n",
       "      <td>0</td>\n",
       "      <td>0</td>\n",
       "      <td>0</td>\n",
       "      <td>1</td>\n",
       "      <td>KPTD</td>\n",
       "      <td>0</td>\n",
       "      <td>0</td>\n",
       "    </tr>\n",
       "    <tr>\n",
       "      <td>77</td>\n",
       "      <td>19</td>\n",
       "      <td>0</td>\n",
       "      <td>0</td>\n",
       "      <td>2020-03-20</td>\n",
       "      <td>0</td>\n",
       "      <td>0</td>\n",
       "      <td>0</td>\n",
       "      <td>12</td>\n",
       "      <td>KPTD</td>\n",
       "      <td>0</td>\n",
       "      <td>0</td>\n",
       "    </tr>\n",
       "    <tr>\n",
       "      <td>85</td>\n",
       "      <td>21</td>\n",
       "      <td>0</td>\n",
       "      <td>0</td>\n",
       "      <td>2020-03-21</td>\n",
       "      <td>0</td>\n",
       "      <td>0</td>\n",
       "      <td>0</td>\n",
       "      <td>2</td>\n",
       "      <td>KPTD</td>\n",
       "      <td>0</td>\n",
       "      <td>0</td>\n",
       "    </tr>\n",
       "    <tr>\n",
       "      <td>93</td>\n",
       "      <td>21</td>\n",
       "      <td>0</td>\n",
       "      <td>0</td>\n",
       "      <td>2020-03-22</td>\n",
       "      <td>0</td>\n",
       "      <td>0</td>\n",
       "      <td>0</td>\n",
       "      <td>0</td>\n",
       "      <td>KPTD</td>\n",
       "      <td>0</td>\n",
       "      <td>0</td>\n",
       "    </tr>\n",
       "  </tbody>\n",
       "</table>\n",
       "</div>"
      ],
      "text/plain": [
       "    Cases  Confirmed  Total_tests       Date  Recovered  Dead  \\\n",
       "4       3          0            0 2020-03-11          0     0   \n",
       "12      3          0            0 2020-03-12          0     0   \n",
       "20      4          0            0 2020-03-13          0     0   \n",
       "28      4          0            0 2020-03-14          0     0   \n",
       "36      5          0            0 2020-03-15          0     0   \n",
       "44      5          0            0 2020-03-16          0     0   \n",
       "53      5          0            0 2020-03-17          0     0   \n",
       "61      6          0            0 2020-03-18          0     0   \n",
       "69      7          0            0 2020-03-19          0     0   \n",
       "77     19          0            0 2020-03-20          0     0   \n",
       "85     21          0            0 2020-03-21          0     0   \n",
       "93     21          0            0 2020-03-22          0     0   \n",
       "\n",
       "    Home_quarantine  New_cases Region  Hospitalized  New_tests  \n",
       "4                 0          0   KPTD             0          0  \n",
       "12                0          0   KPTD             0          0  \n",
       "20                0          1   KPTD             0          0  \n",
       "28                0          0   KPTD             0          0  \n",
       "36                0          1   KPTD             0          0  \n",
       "44                0          0   KPTD             0          0  \n",
       "53                0          0   KPTD             0          0  \n",
       "61                0          1   KPTD             0          0  \n",
       "69                0          1   KPTD             0          0  \n",
       "77                0         12   KPTD             0          0  \n",
       "85                0          2   KPTD             0          0  \n",
       "93                0          0   KPTD             0          0  "
      ]
     },
     "execution_count": 20,
     "metadata": {},
     "output_type": "execute_result"
    }
   ],
   "source": [
    "sheet1.loc[sheet1['Region']=='KPTD']    #data is not defined for KPTD(Federally Administered Tribal Areas)"
   ]
  },
  {
   "cell_type": "code",
   "execution_count": 21,
   "metadata": {},
   "outputs": [
    {
     "data": {
      "text/plain": [
       "(12, 11)"
      ]
     },
     "execution_count": 21,
     "metadata": {},
     "output_type": "execute_result"
    }
   ],
   "source": [
    "sheet1.loc[sheet1['Region']=='KPTD'].shape"
   ]
  },
  {
   "cell_type": "code",
   "execution_count": 22,
   "metadata": {},
   "outputs": [
    {
     "data": {
      "text/html": [
       "<div>\n",
       "<style scoped>\n",
       "    .dataframe tbody tr th:only-of-type {\n",
       "        vertical-align: middle;\n",
       "    }\n",
       "\n",
       "    .dataframe tbody tr th {\n",
       "        vertical-align: top;\n",
       "    }\n",
       "\n",
       "    .dataframe thead th {\n",
       "        text-align: right;\n",
       "    }\n",
       "</style>\n",
       "<table border=\"1\" class=\"dataframe\">\n",
       "  <thead>\n",
       "    <tr style=\"text-align: right;\">\n",
       "      <th></th>\n",
       "      <th>Cases</th>\n",
       "      <th>Confirmed</th>\n",
       "      <th>Total_tests</th>\n",
       "      <th>Date</th>\n",
       "      <th>Recovered</th>\n",
       "      <th>Dead</th>\n",
       "      <th>Home_quarantine</th>\n",
       "      <th>New_cases</th>\n",
       "      <th>Region</th>\n",
       "      <th>Hospitalized</th>\n",
       "      <th>New_tests</th>\n",
       "    </tr>\n",
       "  </thead>\n",
       "  <tbody>\n",
       "    <tr>\n",
       "      <td>48</td>\n",
       "      <td>0</td>\n",
       "      <td>6</td>\n",
       "      <td>28</td>\n",
       "      <td>2020-03-16</td>\n",
       "      <td>0</td>\n",
       "      <td>0</td>\n",
       "      <td>0</td>\n",
       "      <td>0</td>\n",
       "      <td>Mobile Lab</td>\n",
       "      <td>0</td>\n",
       "      <td>6</td>\n",
       "    </tr>\n",
       "  </tbody>\n",
       "</table>\n",
       "</div>"
      ],
      "text/plain": [
       "    Cases  Confirmed  Total_tests       Date  Recovered  Dead  \\\n",
       "48      0          6           28 2020-03-16          0     0   \n",
       "\n",
       "    Home_quarantine  New_cases      Region  Hospitalized  New_tests  \n",
       "48                0          0  Mobile Lab             0          6  "
      ]
     },
     "execution_count": 22,
     "metadata": {},
     "output_type": "execute_result"
    }
   ],
   "source": [
    "sheet1.loc[sheet1['Region']=='Mobile Lab']    "
   ]
  },
  {
   "cell_type": "code",
   "execution_count": 23,
   "metadata": {},
   "outputs": [
    {
     "data": {
      "text/plain": [
       "(441, 11)"
      ]
     },
     "execution_count": 23,
     "metadata": {},
     "output_type": "execute_result"
    }
   ],
   "source": [
    "sheet1.drop(sheet1.loc[sheet1['Region'].isin(['KPTD','Mobile Lab'])].index,inplace=True)\n",
    "sheet1.shape"
   ]
  },
  {
   "cell_type": "markdown",
   "metadata": {},
   "source": [
    "**Adding new column which show the active cases**"
   ]
  },
  {
   "cell_type": "code",
   "execution_count": 24,
   "metadata": {},
   "outputs": [],
   "source": [
    "sheet1['Active']=sheet1['Hospitalized']+sheet1['Home_quarantine']"
   ]
  },
  {
   "cell_type": "code",
   "execution_count": 25,
   "metadata": {},
   "outputs": [
    {
     "data": {
      "text/html": [
       "<div>\n",
       "<style scoped>\n",
       "    .dataframe tbody tr th:only-of-type {\n",
       "        vertical-align: middle;\n",
       "    }\n",
       "\n",
       "    .dataframe tbody tr th {\n",
       "        vertical-align: top;\n",
       "    }\n",
       "\n",
       "    .dataframe thead th {\n",
       "        text-align: right;\n",
       "    }\n",
       "</style>\n",
       "<table border=\"1\" class=\"dataframe\">\n",
       "  <thead>\n",
       "    <tr style=\"text-align: right;\">\n",
       "      <th></th>\n",
       "      <th>Active</th>\n",
       "      <th>Date</th>\n",
       "      <th>Region</th>\n",
       "    </tr>\n",
       "  </thead>\n",
       "  <tbody>\n",
       "    <tr>\n",
       "      <td>0</td>\n",
       "      <td>2</td>\n",
       "      <td>2020-03-11</td>\n",
       "      <td>ICT</td>\n",
       "    </tr>\n",
       "    <tr>\n",
       "      <td>1</td>\n",
       "      <td>0</td>\n",
       "      <td>2020-03-11</td>\n",
       "      <td>Punjab</td>\n",
       "    </tr>\n",
       "    <tr>\n",
       "      <td>2</td>\n",
       "      <td>13</td>\n",
       "      <td>2020-03-11</td>\n",
       "      <td>Sindh</td>\n",
       "    </tr>\n",
       "    <tr>\n",
       "      <td>3</td>\n",
       "      <td>0</td>\n",
       "      <td>2020-03-11</td>\n",
       "      <td>KP</td>\n",
       "    </tr>\n",
       "    <tr>\n",
       "      <td>5</td>\n",
       "      <td>1</td>\n",
       "      <td>2020-03-11</td>\n",
       "      <td>Balochistan</td>\n",
       "    </tr>\n",
       "    <tr>\n",
       "      <td>...</td>\n",
       "      <td>...</td>\n",
       "      <td>...</td>\n",
       "      <td>...</td>\n",
       "    </tr>\n",
       "    <tr>\n",
       "      <td>449</td>\n",
       "      <td>140</td>\n",
       "      <td>2020-05-13</td>\n",
       "      <td>GB</td>\n",
       "    </tr>\n",
       "    <tr>\n",
       "      <td>450</td>\n",
       "      <td>661</td>\n",
       "      <td>2020-05-13</td>\n",
       "      <td>ICT</td>\n",
       "    </tr>\n",
       "    <tr>\n",
       "      <td>451</td>\n",
       "      <td>3449</td>\n",
       "      <td>2020-05-13</td>\n",
       "      <td>KP</td>\n",
       "    </tr>\n",
       "    <tr>\n",
       "      <td>452</td>\n",
       "      <td>8480</td>\n",
       "      <td>2020-05-13</td>\n",
       "      <td>Punjab</td>\n",
       "    </tr>\n",
       "    <tr>\n",
       "      <td>453</td>\n",
       "      <td>10163</td>\n",
       "      <td>2020-05-13</td>\n",
       "      <td>Sindh</td>\n",
       "    </tr>\n",
       "  </tbody>\n",
       "</table>\n",
       "<p>441 rows × 3 columns</p>\n",
       "</div>"
      ],
      "text/plain": [
       "     Active       Date       Region\n",
       "0         2 2020-03-11          ICT\n",
       "1         0 2020-03-11       Punjab\n",
       "2        13 2020-03-11        Sindh\n",
       "3         0 2020-03-11           KP\n",
       "5         1 2020-03-11  Balochistan\n",
       "..      ...        ...          ...\n",
       "449     140 2020-05-13           GB\n",
       "450     661 2020-05-13          ICT\n",
       "451    3449 2020-05-13           KP\n",
       "452    8480 2020-05-13       Punjab\n",
       "453   10163 2020-05-13        Sindh\n",
       "\n",
       "[441 rows x 3 columns]"
      ]
     },
     "execution_count": 25,
     "metadata": {},
     "output_type": "execute_result"
    }
   ],
   "source": [
    "sheet1[['Active','Date','Region']]"
   ]
  },
  {
   "cell_type": "code",
   "execution_count": 26,
   "metadata": {},
   "outputs": [
    {
     "data": {
      "text/html": [
       "<div>\n",
       "<style scoped>\n",
       "    .dataframe tbody tr th:only-of-type {\n",
       "        vertical-align: middle;\n",
       "    }\n",
       "\n",
       "    .dataframe tbody tr th {\n",
       "        vertical-align: top;\n",
       "    }\n",
       "\n",
       "    .dataframe thead th {\n",
       "        text-align: right;\n",
       "    }\n",
       "</style>\n",
       "<table border=\"1\" class=\"dataframe\">\n",
       "  <thead>\n",
       "    <tr style=\"text-align: right;\">\n",
       "      <th></th>\n",
       "      <th>Active</th>\n",
       "    </tr>\n",
       "    <tr>\n",
       "      <th>Date</th>\n",
       "      <th></th>\n",
       "    </tr>\n",
       "  </thead>\n",
       "  <tbody>\n",
       "    <tr>\n",
       "      <td>2020-03-11</td>\n",
       "      <td>18</td>\n",
       "    </tr>\n",
       "    <tr>\n",
       "      <td>2020-03-12</td>\n",
       "      <td>18</td>\n",
       "    </tr>\n",
       "    <tr>\n",
       "      <td>2020-03-13</td>\n",
       "      <td>19</td>\n",
       "    </tr>\n",
       "    <tr>\n",
       "      <td>2020-03-14</td>\n",
       "      <td>25</td>\n",
       "    </tr>\n",
       "    <tr>\n",
       "      <td>2020-03-15</td>\n",
       "      <td>28</td>\n",
       "    </tr>\n",
       "    <tr>\n",
       "      <td>...</td>\n",
       "      <td>...</td>\n",
       "    </tr>\n",
       "    <tr>\n",
       "      <td>2020-05-09</td>\n",
       "      <td>19100</td>\n",
       "    </tr>\n",
       "    <tr>\n",
       "      <td>2020-05-10</td>\n",
       "      <td>20803</td>\n",
       "    </tr>\n",
       "    <tr>\n",
       "      <td>2020-05-11</td>\n",
       "      <td>22062</td>\n",
       "    </tr>\n",
       "    <tr>\n",
       "      <td>2020-05-12</td>\n",
       "      <td>22820</td>\n",
       "    </tr>\n",
       "    <tr>\n",
       "      <td>2020-05-13</td>\n",
       "      <td>24787</td>\n",
       "    </tr>\n",
       "  </tbody>\n",
       "</table>\n",
       "<p>63 rows × 1 columns</p>\n",
       "</div>"
      ],
      "text/plain": [
       "            Active\n",
       "Date              \n",
       "2020-03-11      18\n",
       "2020-03-12      18\n",
       "2020-03-13      19\n",
       "2020-03-14      25\n",
       "2020-03-15      28\n",
       "...            ...\n",
       "2020-05-09   19100\n",
       "2020-05-10   20803\n",
       "2020-05-11   22062\n",
       "2020-05-12   22820\n",
       "2020-05-13   24787\n",
       "\n",
       "[63 rows x 1 columns]"
      ]
     },
     "execution_count": 26,
     "metadata": {},
     "output_type": "execute_result"
    }
   ],
   "source": [
    "sheet1.filter(['Active','Region','Date']).groupby('Date').agg('sum')"
   ]
  },
  {
   "cell_type": "code",
   "execution_count": 27,
   "metadata": {},
   "outputs": [],
   "source": [
    "sheet1=sheet1[['Date','Region','Cases','Confirmed','Recovered','Dead','Active','Hospitalized','Home_quarantine','New_cases','Total_tests','New_tests']]"
   ]
  },
  {
   "cell_type": "code",
   "execution_count": 28,
   "metadata": {},
   "outputs": [
    {
     "data": {
      "text/html": [
       "<div>\n",
       "<style scoped>\n",
       "    .dataframe tbody tr th:only-of-type {\n",
       "        vertical-align: middle;\n",
       "    }\n",
       "\n",
       "    .dataframe tbody tr th {\n",
       "        vertical-align: top;\n",
       "    }\n",
       "\n",
       "    .dataframe thead th {\n",
       "        text-align: right;\n",
       "    }\n",
       "</style>\n",
       "<table border=\"1\" class=\"dataframe\">\n",
       "  <thead>\n",
       "    <tr style=\"text-align: right;\">\n",
       "      <th></th>\n",
       "      <th>Date</th>\n",
       "      <th>Region</th>\n",
       "      <th>Cases</th>\n",
       "      <th>Confirmed</th>\n",
       "      <th>Recovered</th>\n",
       "      <th>Dead</th>\n",
       "      <th>Active</th>\n",
       "      <th>Hospitalized</th>\n",
       "      <th>Home_quarantine</th>\n",
       "      <th>New_cases</th>\n",
       "      <th>Total_tests</th>\n",
       "      <th>New_tests</th>\n",
       "    </tr>\n",
       "  </thead>\n",
       "  <tbody>\n",
       "    <tr>\n",
       "      <td>0</td>\n",
       "      <td>2020-03-11</td>\n",
       "      <td>ICT</td>\n",
       "      <td>48</td>\n",
       "      <td>2</td>\n",
       "      <td>0</td>\n",
       "      <td>0</td>\n",
       "      <td>2</td>\n",
       "      <td>2</td>\n",
       "      <td>0</td>\n",
       "      <td>3</td>\n",
       "      <td>80</td>\n",
       "      <td>8</td>\n",
       "    </tr>\n",
       "    <tr>\n",
       "      <td>1</td>\n",
       "      <td>2020-03-11</td>\n",
       "      <td>Punjab</td>\n",
       "      <td>61</td>\n",
       "      <td>0</td>\n",
       "      <td>0</td>\n",
       "      <td>0</td>\n",
       "      <td>0</td>\n",
       "      <td>0</td>\n",
       "      <td>0</td>\n",
       "      <td>6</td>\n",
       "      <td>95</td>\n",
       "      <td>7</td>\n",
       "    </tr>\n",
       "    <tr>\n",
       "      <td>2</td>\n",
       "      <td>2020-03-11</td>\n",
       "      <td>Sindh</td>\n",
       "      <td>84</td>\n",
       "      <td>14</td>\n",
       "      <td>1</td>\n",
       "      <td>0</td>\n",
       "      <td>13</td>\n",
       "      <td>13</td>\n",
       "      <td>0</td>\n",
       "      <td>1</td>\n",
       "      <td>171</td>\n",
       "      <td>55</td>\n",
       "    </tr>\n",
       "    <tr>\n",
       "      <td>3</td>\n",
       "      <td>2020-03-11</td>\n",
       "      <td>KP</td>\n",
       "      <td>20</td>\n",
       "      <td>0</td>\n",
       "      <td>0</td>\n",
       "      <td>0</td>\n",
       "      <td>0</td>\n",
       "      <td>0</td>\n",
       "      <td>0</td>\n",
       "      <td>0</td>\n",
       "      <td>28</td>\n",
       "      <td>2</td>\n",
       "    </tr>\n",
       "    <tr>\n",
       "      <td>5</td>\n",
       "      <td>2020-03-11</td>\n",
       "      <td>Balochistan</td>\n",
       "      <td>19</td>\n",
       "      <td>1</td>\n",
       "      <td>0</td>\n",
       "      <td>0</td>\n",
       "      <td>1</td>\n",
       "      <td>1</td>\n",
       "      <td>0</td>\n",
       "      <td>4</td>\n",
       "      <td>18</td>\n",
       "      <td>4</td>\n",
       "    </tr>\n",
       "  </tbody>\n",
       "</table>\n",
       "</div>"
      ],
      "text/plain": [
       "        Date       Region  Cases  Confirmed  Recovered  Dead  Active  \\\n",
       "0 2020-03-11          ICT     48          2          0     0       2   \n",
       "1 2020-03-11       Punjab     61          0          0     0       0   \n",
       "2 2020-03-11        Sindh     84         14          1     0      13   \n",
       "3 2020-03-11           KP     20          0          0     0       0   \n",
       "5 2020-03-11  Balochistan     19          1          0     0       1   \n",
       "\n",
       "   Hospitalized  Home_quarantine  New_cases  Total_tests  New_tests  \n",
       "0             2                0          3           80          8  \n",
       "1             0                0          6           95          7  \n",
       "2            13                0          1          171         55  \n",
       "3             0                0          0           28          2  \n",
       "5             1                0          4           18          4  "
      ]
     },
     "execution_count": 28,
     "metadata": {},
     "output_type": "execute_result"
    }
   ],
   "source": [
    "sheet1.head()"
   ]
  },
  {
   "cell_type": "code",
   "execution_count": 29,
   "metadata": {},
   "outputs": [
    {
     "data": {
      "text/html": [
       "<div>\n",
       "<style scoped>\n",
       "    .dataframe tbody tr th:only-of-type {\n",
       "        vertical-align: middle;\n",
       "    }\n",
       "\n",
       "    .dataframe tbody tr th {\n",
       "        vertical-align: top;\n",
       "    }\n",
       "\n",
       "    .dataframe thead th {\n",
       "        text-align: right;\n",
       "    }\n",
       "</style>\n",
       "<table border=\"1\" class=\"dataframe\">\n",
       "  <thead>\n",
       "    <tr style=\"text-align: right;\">\n",
       "      <th></th>\n",
       "      <th>Cases</th>\n",
       "      <th>Confirmed</th>\n",
       "      <th>Recovered</th>\n",
       "      <th>Dead</th>\n",
       "      <th>Active</th>\n",
       "      <th>Hospitalized</th>\n",
       "      <th>Home_quarantine</th>\n",
       "      <th>New_cases</th>\n",
       "      <th>Total_tests</th>\n",
       "      <th>New_tests</th>\n",
       "    </tr>\n",
       "  </thead>\n",
       "  <tbody>\n",
       "    <tr>\n",
       "      <td>count</td>\n",
       "      <td>441.000000</td>\n",
       "      <td>441.000000</td>\n",
       "      <td>441.000000</td>\n",
       "      <td>441.000000</td>\n",
       "      <td>441.000000</td>\n",
       "      <td>441.000000</td>\n",
       "      <td>441.000000</td>\n",
       "      <td>441.000000</td>\n",
       "      <td>441.000000</td>\n",
       "      <td>441.000000</td>\n",
       "    </tr>\n",
       "    <tr>\n",
       "      <td>mean</td>\n",
       "      <td>11050.303855</td>\n",
       "      <td>1225.551020</td>\n",
       "      <td>382.340136</td>\n",
       "      <td>25.555556</td>\n",
       "      <td>840.349206</td>\n",
       "      <td>301.782313</td>\n",
       "      <td>538.566893</td>\n",
       "      <td>630.126984</td>\n",
       "      <td>12935.392290</td>\n",
       "      <td>601.532880</td>\n",
       "    </tr>\n",
       "    <tr>\n",
       "      <td>std</td>\n",
       "      <td>20064.932927</td>\n",
       "      <td>2365.299255</td>\n",
       "      <td>944.492402</td>\n",
       "      <td>52.317494</td>\n",
       "      <td>1906.479934</td>\n",
       "      <td>631.804952</td>\n",
       "      <td>1516.437017</td>\n",
       "      <td>1148.037732</td>\n",
       "      <td>24759.735671</td>\n",
       "      <td>1097.395437</td>\n",
       "    </tr>\n",
       "    <tr>\n",
       "      <td>min</td>\n",
       "      <td>3.000000</td>\n",
       "      <td>0.000000</td>\n",
       "      <td>0.000000</td>\n",
       "      <td>0.000000</td>\n",
       "      <td>0.000000</td>\n",
       "      <td>0.000000</td>\n",
       "      <td>0.000000</td>\n",
       "      <td>0.000000</td>\n",
       "      <td>4.000000</td>\n",
       "      <td>0.000000</td>\n",
       "    </tr>\n",
       "    <tr>\n",
       "      <td>25%</td>\n",
       "      <td>347.000000</td>\n",
       "      <td>51.000000</td>\n",
       "      <td>1.000000</td>\n",
       "      <td>0.000000</td>\n",
       "      <td>23.000000</td>\n",
       "      <td>12.000000</td>\n",
       "      <td>0.000000</td>\n",
       "      <td>28.000000</td>\n",
       "      <td>805.000000</td>\n",
       "      <td>0.000000</td>\n",
       "    </tr>\n",
       "    <tr>\n",
       "      <td>50%</td>\n",
       "      <td>3047.000000</td>\n",
       "      <td>233.000000</td>\n",
       "      <td>29.000000</td>\n",
       "      <td>3.000000</td>\n",
       "      <td>130.000000</td>\n",
       "      <td>36.000000</td>\n",
       "      <td>47.000000</td>\n",
       "      <td>133.000000</td>\n",
       "      <td>2780.000000</td>\n",
       "      <td>112.000000</td>\n",
       "    </tr>\n",
       "    <tr>\n",
       "      <td>75%</td>\n",
       "      <td>11689.000000</td>\n",
       "      <td>993.000000</td>\n",
       "      <td>242.000000</td>\n",
       "      <td>18.000000</td>\n",
       "      <td>699.000000</td>\n",
       "      <td>315.000000</td>\n",
       "      <td>375.000000</td>\n",
       "      <td>658.000000</td>\n",
       "      <td>11623.000000</td>\n",
       "      <td>634.000000</td>\n",
       "    </tr>\n",
       "    <tr>\n",
       "      <td>max</td>\n",
       "      <td>114762.000000</td>\n",
       "      <td>13225.000000</td>\n",
       "      <td>8668.000000</td>\n",
       "      <td>267.000000</td>\n",
       "      <td>22742.000000</td>\n",
       "      <td>5700.000000</td>\n",
       "      <td>21452.000000</td>\n",
       "      <td>7159.000000</td>\n",
       "      <td>140212.000000</td>\n",
       "      <td>5532.000000</td>\n",
       "    </tr>\n",
       "  </tbody>\n",
       "</table>\n",
       "</div>"
      ],
      "text/plain": [
       "               Cases     Confirmed    Recovered        Dead        Active  \\\n",
       "count     441.000000    441.000000   441.000000  441.000000    441.000000   \n",
       "mean    11050.303855   1225.551020   382.340136   25.555556    840.349206   \n",
       "std     20064.932927   2365.299255   944.492402   52.317494   1906.479934   \n",
       "min         3.000000      0.000000     0.000000    0.000000      0.000000   \n",
       "25%       347.000000     51.000000     1.000000    0.000000     23.000000   \n",
       "50%      3047.000000    233.000000    29.000000    3.000000    130.000000   \n",
       "75%     11689.000000    993.000000   242.000000   18.000000    699.000000   \n",
       "max    114762.000000  13225.000000  8668.000000  267.000000  22742.000000   \n",
       "\n",
       "       Hospitalized  Home_quarantine    New_cases    Total_tests    New_tests  \n",
       "count    441.000000       441.000000   441.000000     441.000000   441.000000  \n",
       "mean     301.782313       538.566893   630.126984   12935.392290   601.532880  \n",
       "std      631.804952      1516.437017  1148.037732   24759.735671  1097.395437  \n",
       "min        0.000000         0.000000     0.000000       4.000000     0.000000  \n",
       "25%       12.000000         0.000000    28.000000     805.000000     0.000000  \n",
       "50%       36.000000        47.000000   133.000000    2780.000000   112.000000  \n",
       "75%      315.000000       375.000000   658.000000   11623.000000   634.000000  \n",
       "max     5700.000000     21452.000000  7159.000000  140212.000000  5532.000000  "
      ]
     },
     "execution_count": 29,
     "metadata": {},
     "output_type": "execute_result"
    }
   ],
   "source": [
    "sheet1.describe()          #descriptive statistics"
   ]
  },
  {
   "cell_type": "code",
   "execution_count": 30,
   "metadata": {},
   "outputs": [
    {
     "data": {
      "text/plain": [
       "Balochistan    63\n",
       "Sindh          63\n",
       "KP             63\n",
       "Punjab         63\n",
       "AJK            63\n",
       "ICT            63\n",
       "GB             63\n",
       "Name: Region, dtype: int64"
      ]
     },
     "execution_count": 30,
     "metadata": {},
     "output_type": "execute_result"
    }
   ],
   "source": [
    "sheet1.Region.value_counts()"
   ]
  },
  {
   "cell_type": "code",
   "execution_count": 31,
   "metadata": {},
   "outputs": [
    {
     "data": {
      "text/plain": [
       "Timestamp('2020-03-11 00:00:00')"
      ]
     },
     "execution_count": 31,
     "metadata": {},
     "output_type": "execute_result"
    }
   ],
   "source": [
    "min(sheet1['Date'])"
   ]
  },
  {
   "cell_type": "code",
   "execution_count": 32,
   "metadata": {},
   "outputs": [
    {
     "data": {
      "text/plain": [
       "Timestamp('2020-05-13 00:00:00')"
      ]
     },
     "execution_count": 32,
     "metadata": {},
     "output_type": "execute_result"
    }
   ],
   "source": [
    "max(sheet1['Date'])"
   ]
  },
  {
   "cell_type": "code",
   "execution_count": 33,
   "metadata": {},
   "outputs": [
    {
     "data": {
      "text/plain": [
       "Timedelta('63 days 00:00:00')"
      ]
     },
     "execution_count": 33,
     "metadata": {},
     "output_type": "execute_result"
    }
   ],
   "source": [
    "max(sheet1['Date'])-min(sheet1['Date'])"
   ]
  },
  {
   "cell_type": "markdown",
   "metadata": {},
   "source": [
    "**Check for missing Dates**"
   ]
  },
  {
   "cell_type": "code",
   "execution_count": 34,
   "metadata": {},
   "outputs": [],
   "source": [
    "sheet_1=sheet1.copy(deep=True)"
   ]
  },
  {
   "cell_type": "code",
   "execution_count": 35,
   "metadata": {},
   "outputs": [],
   "source": [
    "sheet_1.set_index('Date',inplace=True)"
   ]
  },
  {
   "cell_type": "code",
   "execution_count": 36,
   "metadata": {},
   "outputs": [
    {
     "data": {
      "text/html": [
       "<div>\n",
       "<style scoped>\n",
       "    .dataframe tbody tr th:only-of-type {\n",
       "        vertical-align: middle;\n",
       "    }\n",
       "\n",
       "    .dataframe tbody tr th {\n",
       "        vertical-align: top;\n",
       "    }\n",
       "\n",
       "    .dataframe thead th {\n",
       "        text-align: right;\n",
       "    }\n",
       "</style>\n",
       "<table border=\"1\" class=\"dataframe\">\n",
       "  <thead>\n",
       "    <tr style=\"text-align: right;\">\n",
       "      <th></th>\n",
       "      <th>Region</th>\n",
       "      <th>Cases</th>\n",
       "      <th>Confirmed</th>\n",
       "      <th>Recovered</th>\n",
       "      <th>Dead</th>\n",
       "      <th>Active</th>\n",
       "      <th>Hospitalized</th>\n",
       "      <th>Home_quarantine</th>\n",
       "      <th>New_cases</th>\n",
       "      <th>Total_tests</th>\n",
       "      <th>New_tests</th>\n",
       "    </tr>\n",
       "    <tr>\n",
       "      <th>Date</th>\n",
       "      <th></th>\n",
       "      <th></th>\n",
       "      <th></th>\n",
       "      <th></th>\n",
       "      <th></th>\n",
       "      <th></th>\n",
       "      <th></th>\n",
       "      <th></th>\n",
       "      <th></th>\n",
       "      <th></th>\n",
       "      <th></th>\n",
       "    </tr>\n",
       "  </thead>\n",
       "  <tbody>\n",
       "    <tr>\n",
       "      <td>2020-03-11</td>\n",
       "      <td>ICT</td>\n",
       "      <td>48</td>\n",
       "      <td>2</td>\n",
       "      <td>0</td>\n",
       "      <td>0</td>\n",
       "      <td>2</td>\n",
       "      <td>2</td>\n",
       "      <td>0</td>\n",
       "      <td>3</td>\n",
       "      <td>80</td>\n",
       "      <td>8</td>\n",
       "    </tr>\n",
       "    <tr>\n",
       "      <td>2020-03-11</td>\n",
       "      <td>Punjab</td>\n",
       "      <td>61</td>\n",
       "      <td>0</td>\n",
       "      <td>0</td>\n",
       "      <td>0</td>\n",
       "      <td>0</td>\n",
       "      <td>0</td>\n",
       "      <td>0</td>\n",
       "      <td>6</td>\n",
       "      <td>95</td>\n",
       "      <td>7</td>\n",
       "    </tr>\n",
       "    <tr>\n",
       "      <td>2020-03-11</td>\n",
       "      <td>Sindh</td>\n",
       "      <td>84</td>\n",
       "      <td>14</td>\n",
       "      <td>1</td>\n",
       "      <td>0</td>\n",
       "      <td>13</td>\n",
       "      <td>13</td>\n",
       "      <td>0</td>\n",
       "      <td>1</td>\n",
       "      <td>171</td>\n",
       "      <td>55</td>\n",
       "    </tr>\n",
       "    <tr>\n",
       "      <td>2020-03-11</td>\n",
       "      <td>KP</td>\n",
       "      <td>20</td>\n",
       "      <td>0</td>\n",
       "      <td>0</td>\n",
       "      <td>0</td>\n",
       "      <td>0</td>\n",
       "      <td>0</td>\n",
       "      <td>0</td>\n",
       "      <td>0</td>\n",
       "      <td>28</td>\n",
       "      <td>2</td>\n",
       "    </tr>\n",
       "    <tr>\n",
       "      <td>2020-03-11</td>\n",
       "      <td>Balochistan</td>\n",
       "      <td>19</td>\n",
       "      <td>1</td>\n",
       "      <td>0</td>\n",
       "      <td>0</td>\n",
       "      <td>1</td>\n",
       "      <td>1</td>\n",
       "      <td>0</td>\n",
       "      <td>4</td>\n",
       "      <td>18</td>\n",
       "      <td>4</td>\n",
       "    </tr>\n",
       "  </tbody>\n",
       "</table>\n",
       "</div>"
      ],
      "text/plain": [
       "                 Region  Cases  Confirmed  Recovered  Dead  Active  \\\n",
       "Date                                                                 \n",
       "2020-03-11          ICT     48          2          0     0       2   \n",
       "2020-03-11       Punjab     61          0          0     0       0   \n",
       "2020-03-11        Sindh     84         14          1     0      13   \n",
       "2020-03-11           KP     20          0          0     0       0   \n",
       "2020-03-11  Balochistan     19          1          0     0       1   \n",
       "\n",
       "            Hospitalized  Home_quarantine  New_cases  Total_tests  New_tests  \n",
       "Date                                                                          \n",
       "2020-03-11             2                0          3           80          8  \n",
       "2020-03-11             0                0          6           95          7  \n",
       "2020-03-11            13                0          1          171         55  \n",
       "2020-03-11             0                0          0           28          2  \n",
       "2020-03-11             1                0          4           18          4  "
      ]
     },
     "execution_count": 36,
     "metadata": {},
     "output_type": "execute_result"
    }
   ],
   "source": [
    "sheet_1.head()"
   ]
  },
  {
   "cell_type": "code",
   "execution_count": 37,
   "metadata": {},
   "outputs": [
    {
     "data": {
      "text/plain": [
       "DatetimeIndex([], dtype='datetime64[ns]', freq=None)"
      ]
     },
     "execution_count": 37,
     "metadata": {},
     "output_type": "execute_result"
    }
   ],
   "source": [
    "pd.date_range(start =sheet_1.index.min(), end =sheet1.index.max()).difference(sheet_1.index)"
   ]
  },
  {
   "cell_type": "code",
   "execution_count": 38,
   "metadata": {},
   "outputs": [],
   "source": [
    "ict_data=sheet_1[sheet_1.Region=='ICT']"
   ]
  },
  {
   "cell_type": "code",
   "execution_count": 39,
   "metadata": {},
   "outputs": [],
   "source": [
    "ict_data=ict_data.resample('D').ffill()"
   ]
  },
  {
   "cell_type": "code",
   "execution_count": 40,
   "metadata": {},
   "outputs": [],
   "source": [
    "punjab_data=sheet_1[sheet_1.Region=='Punjab']"
   ]
  },
  {
   "cell_type": "code",
   "execution_count": 41,
   "metadata": {},
   "outputs": [],
   "source": [
    "punjab_data=punjab_data.resample('D').ffill()"
   ]
  },
  {
   "cell_type": "code",
   "execution_count": 42,
   "metadata": {},
   "outputs": [],
   "source": [
    "sindh_data=sheet_1[sheet_1.Region=='Sindh']"
   ]
  },
  {
   "cell_type": "code",
   "execution_count": 43,
   "metadata": {},
   "outputs": [],
   "source": [
    "sindh_data=sindh_data.resample('D').ffill()"
   ]
  },
  {
   "cell_type": "code",
   "execution_count": 44,
   "metadata": {},
   "outputs": [],
   "source": [
    "kp_data=sheet_1[sheet_1.Region=='KP']"
   ]
  },
  {
   "cell_type": "code",
   "execution_count": 45,
   "metadata": {},
   "outputs": [],
   "source": [
    "kp_data=kp_data.resample('D').ffill()"
   ]
  },
  {
   "cell_type": "code",
   "execution_count": 46,
   "metadata": {},
   "outputs": [],
   "source": [
    "baloch_data=sheet_1[sheet_1.Region=='Balochistan']"
   ]
  },
  {
   "cell_type": "code",
   "execution_count": 47,
   "metadata": {},
   "outputs": [],
   "source": [
    "baloch_data=baloch_data.resample('D').ffill()"
   ]
  },
  {
   "cell_type": "code",
   "execution_count": 48,
   "metadata": {},
   "outputs": [],
   "source": [
    "gb_data=sheet_1[sheet_1.Region=='GB']"
   ]
  },
  {
   "cell_type": "code",
   "execution_count": 49,
   "metadata": {},
   "outputs": [],
   "source": [
    "gb_data=gb_data.resample('D').ffill()"
   ]
  },
  {
   "cell_type": "code",
   "execution_count": 50,
   "metadata": {},
   "outputs": [
    {
     "data": {
      "text/plain": [
       "(64, 11)"
      ]
     },
     "execution_count": 50,
     "metadata": {},
     "output_type": "execute_result"
    }
   ],
   "source": [
    "gb_data.shape"
   ]
  },
  {
   "cell_type": "code",
   "execution_count": 51,
   "metadata": {},
   "outputs": [],
   "source": [
    "ajk_data=sheet_1[sheet_1.Region=='AJK']"
   ]
  },
  {
   "cell_type": "code",
   "execution_count": 52,
   "metadata": {},
   "outputs": [],
   "source": [
    "ajk_data=ajk_data.resample('D').ffill()"
   ]
  },
  {
   "cell_type": "code",
   "execution_count": 53,
   "metadata": {},
   "outputs": [
    {
     "data": {
      "text/plain": [
       "array(['ICT', 'Punjab', 'Sindh', 'KP', 'Balochistan', 'AJK', 'GB'],\n",
       "      dtype=object)"
      ]
     },
     "execution_count": 53,
     "metadata": {},
     "output_type": "execute_result"
    }
   ],
   "source": [
    "sheet1.Region.unique()"
   ]
  },
  {
   "cell_type": "code",
   "execution_count": 54,
   "metadata": {},
   "outputs": [],
   "source": [
    "sheet_1=pd.concat([ict_data,punjab_data,sindh_data,kp_data,baloch_data,ajk_data,gb_data])"
   ]
  },
  {
   "cell_type": "code",
   "execution_count": 55,
   "metadata": {},
   "outputs": [
    {
     "data": {
      "text/html": [
       "<div>\n",
       "<style scoped>\n",
       "    .dataframe tbody tr th:only-of-type {\n",
       "        vertical-align: middle;\n",
       "    }\n",
       "\n",
       "    .dataframe tbody tr th {\n",
       "        vertical-align: top;\n",
       "    }\n",
       "\n",
       "    .dataframe thead th {\n",
       "        text-align: right;\n",
       "    }\n",
       "</style>\n",
       "<table border=\"1\" class=\"dataframe\">\n",
       "  <thead>\n",
       "    <tr style=\"text-align: right;\">\n",
       "      <th></th>\n",
       "      <th>Region</th>\n",
       "      <th>Cases</th>\n",
       "      <th>Confirmed</th>\n",
       "      <th>Recovered</th>\n",
       "      <th>Dead</th>\n",
       "      <th>Active</th>\n",
       "      <th>Hospitalized</th>\n",
       "      <th>Home_quarantine</th>\n",
       "      <th>New_cases</th>\n",
       "      <th>Total_tests</th>\n",
       "      <th>New_tests</th>\n",
       "    </tr>\n",
       "    <tr>\n",
       "      <th>Date</th>\n",
       "      <th></th>\n",
       "      <th></th>\n",
       "      <th></th>\n",
       "      <th></th>\n",
       "      <th></th>\n",
       "      <th></th>\n",
       "      <th></th>\n",
       "      <th></th>\n",
       "      <th></th>\n",
       "      <th></th>\n",
       "      <th></th>\n",
       "    </tr>\n",
       "  </thead>\n",
       "  <tbody>\n",
       "    <tr>\n",
       "      <td>2020-03-11</td>\n",
       "      <td>ICT</td>\n",
       "      <td>48</td>\n",
       "      <td>2</td>\n",
       "      <td>0</td>\n",
       "      <td>0</td>\n",
       "      <td>2</td>\n",
       "      <td>2</td>\n",
       "      <td>0</td>\n",
       "      <td>3</td>\n",
       "      <td>80</td>\n",
       "      <td>8</td>\n",
       "    </tr>\n",
       "    <tr>\n",
       "      <td>2020-03-12</td>\n",
       "      <td>ICT</td>\n",
       "      <td>52</td>\n",
       "      <td>2</td>\n",
       "      <td>0</td>\n",
       "      <td>0</td>\n",
       "      <td>2</td>\n",
       "      <td>2</td>\n",
       "      <td>0</td>\n",
       "      <td>4</td>\n",
       "      <td>85</td>\n",
       "      <td>5</td>\n",
       "    </tr>\n",
       "    <tr>\n",
       "      <td>2020-03-13</td>\n",
       "      <td>ICT</td>\n",
       "      <td>57</td>\n",
       "      <td>2</td>\n",
       "      <td>0</td>\n",
       "      <td>0</td>\n",
       "      <td>2</td>\n",
       "      <td>2</td>\n",
       "      <td>0</td>\n",
       "      <td>5</td>\n",
       "      <td>92</td>\n",
       "      <td>7</td>\n",
       "    </tr>\n",
       "    <tr>\n",
       "      <td>2020-03-14</td>\n",
       "      <td>ICT</td>\n",
       "      <td>62</td>\n",
       "      <td>3</td>\n",
       "      <td>0</td>\n",
       "      <td>0</td>\n",
       "      <td>3</td>\n",
       "      <td>3</td>\n",
       "      <td>0</td>\n",
       "      <td>5</td>\n",
       "      <td>99</td>\n",
       "      <td>7</td>\n",
       "    </tr>\n",
       "    <tr>\n",
       "      <td>2020-03-15</td>\n",
       "      <td>ICT</td>\n",
       "      <td>65</td>\n",
       "      <td>4</td>\n",
       "      <td>0</td>\n",
       "      <td>0</td>\n",
       "      <td>4</td>\n",
       "      <td>4</td>\n",
       "      <td>0</td>\n",
       "      <td>3</td>\n",
       "      <td>115</td>\n",
       "      <td>16</td>\n",
       "    </tr>\n",
       "  </tbody>\n",
       "</table>\n",
       "</div>"
      ],
      "text/plain": [
       "           Region  Cases  Confirmed  Recovered  Dead  Active  Hospitalized  \\\n",
       "Date                                                                         \n",
       "2020-03-11    ICT     48          2          0     0       2             2   \n",
       "2020-03-12    ICT     52          2          0     0       2             2   \n",
       "2020-03-13    ICT     57          2          0     0       2             2   \n",
       "2020-03-14    ICT     62          3          0     0       3             3   \n",
       "2020-03-15    ICT     65          4          0     0       4             4   \n",
       "\n",
       "            Home_quarantine  New_cases  Total_tests  New_tests  \n",
       "Date                                                            \n",
       "2020-03-11                0          3           80          8  \n",
       "2020-03-12                0          4           85          5  \n",
       "2020-03-13                0          5           92          7  \n",
       "2020-03-14                0          5           99          7  \n",
       "2020-03-15                0          3          115         16  "
      ]
     },
     "execution_count": 55,
     "metadata": {},
     "output_type": "execute_result"
    }
   ],
   "source": [
    "sheet_1.head()"
   ]
  },
  {
   "cell_type": "code",
   "execution_count": 56,
   "metadata": {},
   "outputs": [
    {
     "data": {
      "text/plain": [
       "(448, 11)"
      ]
     },
     "execution_count": 56,
     "metadata": {},
     "output_type": "execute_result"
    }
   ],
   "source": [
    "sheet_1.shape"
   ]
  },
  {
   "cell_type": "code",
   "execution_count": 57,
   "metadata": {},
   "outputs": [
    {
     "data": {
      "text/plain": [
       "(441, 12)"
      ]
     },
     "execution_count": 57,
     "metadata": {},
     "output_type": "execute_result"
    }
   ],
   "source": [
    "sheet1.shape"
   ]
  },
  {
   "cell_type": "code",
   "execution_count": 58,
   "metadata": {},
   "outputs": [],
   "source": [
    "sheet_1.reset_index(inplace=True)"
   ]
  },
  {
   "cell_type": "code",
   "execution_count": 59,
   "metadata": {},
   "outputs": [
    {
     "data": {
      "text/plain": [
       "(302, 12)"
      ]
     },
     "execution_count": 59,
     "metadata": {},
     "output_type": "execute_result"
    }
   ],
   "source": [
    "sheet_1[sheet_1['Dead']!=0].shape"
   ]
  },
  {
   "cell_type": "code",
   "execution_count": 60,
   "metadata": {},
   "outputs": [
    {
     "data": {
      "text/plain": [
       "0     2020-03-11\n",
       "1     2020-03-12\n",
       "2     2020-03-13\n",
       "3     2020-03-14\n",
       "4     2020-03-15\n",
       "         ...    \n",
       "443   2020-05-09\n",
       "444   2020-05-10\n",
       "445   2020-05-11\n",
       "446   2020-05-12\n",
       "447   2020-05-13\n",
       "Name: Date, Length: 448, dtype: datetime64[ns]"
      ]
     },
     "execution_count": 60,
     "metadata": {},
     "output_type": "execute_result"
    }
   ],
   "source": [
    "sheet_1['Date']"
   ]
  },
  {
   "cell_type": "code",
   "execution_count": 61,
   "metadata": {},
   "outputs": [
    {
     "data": {
      "text/html": [
       "<div>\n",
       "<style scoped>\n",
       "    .dataframe tbody tr th:only-of-type {\n",
       "        vertical-align: middle;\n",
       "    }\n",
       "\n",
       "    .dataframe tbody tr th {\n",
       "        vertical-align: top;\n",
       "    }\n",
       "\n",
       "    .dataframe thead th {\n",
       "        text-align: right;\n",
       "    }\n",
       "</style>\n",
       "<table border=\"1\" class=\"dataframe\">\n",
       "  <thead>\n",
       "    <tr style=\"text-align: right;\">\n",
       "      <th></th>\n",
       "      <th>Date</th>\n",
       "      <th>Confirmed</th>\n",
       "    </tr>\n",
       "  </thead>\n",
       "  <tbody>\n",
       "    <tr>\n",
       "      <td>0</td>\n",
       "      <td>2020-03-11</td>\n",
       "      <td>19</td>\n",
       "    </tr>\n",
       "    <tr>\n",
       "      <td>1</td>\n",
       "      <td>2020-03-12</td>\n",
       "      <td>20</td>\n",
       "    </tr>\n",
       "    <tr>\n",
       "      <td>2</td>\n",
       "      <td>2020-03-13</td>\n",
       "      <td>21</td>\n",
       "    </tr>\n",
       "    <tr>\n",
       "      <td>3</td>\n",
       "      <td>2020-03-14</td>\n",
       "      <td>28</td>\n",
       "    </tr>\n",
       "    <tr>\n",
       "      <td>4</td>\n",
       "      <td>2020-03-15</td>\n",
       "      <td>31</td>\n",
       "    </tr>\n",
       "    <tr>\n",
       "      <td>...</td>\n",
       "      <td>...</td>\n",
       "      <td>...</td>\n",
       "    </tr>\n",
       "    <tr>\n",
       "      <td>59</td>\n",
       "      <td>2020-05-09</td>\n",
       "      <td>27474</td>\n",
       "    </tr>\n",
       "    <tr>\n",
       "      <td>60</td>\n",
       "      <td>2020-05-10</td>\n",
       "      <td>29465</td>\n",
       "    </tr>\n",
       "    <tr>\n",
       "      <td>61</td>\n",
       "      <td>2020-05-11</td>\n",
       "      <td>30941</td>\n",
       "    </tr>\n",
       "    <tr>\n",
       "      <td>62</td>\n",
       "      <td>2020-05-12</td>\n",
       "      <td>32081</td>\n",
       "    </tr>\n",
       "    <tr>\n",
       "      <td>63</td>\n",
       "      <td>2020-05-13</td>\n",
       "      <td>34336</td>\n",
       "    </tr>\n",
       "  </tbody>\n",
       "</table>\n",
       "<p>64 rows × 2 columns</p>\n",
       "</div>"
      ],
      "text/plain": [
       "         Date  Confirmed\n",
       "0  2020-03-11         19\n",
       "1  2020-03-12         20\n",
       "2  2020-03-13         21\n",
       "3  2020-03-14         28\n",
       "4  2020-03-15         31\n",
       "..        ...        ...\n",
       "59 2020-05-09      27474\n",
       "60 2020-05-10      29465\n",
       "61 2020-05-11      30941\n",
       "62 2020-05-12      32081\n",
       "63 2020-05-13      34336\n",
       "\n",
       "[64 rows x 2 columns]"
      ]
     },
     "execution_count": 61,
     "metadata": {},
     "output_type": "execute_result"
    }
   ],
   "source": [
    "confirmed_by_date = (sheet_1.filter(['Date','Confirmed']).groupby('Date').agg('sum').reset_index())\n",
    "confirmed_by_date"
   ]
  },
  {
   "cell_type": "code",
   "execution_count": 62,
   "metadata": {},
   "outputs": [
    {
     "name": "stderr",
     "output_type": "stream",
     "text": [
      "C:\\ProgramData\\Anaconda3\\lib\\site-packages\\pandas\\plotting\\_matplotlib\\converter.py:103: FutureWarning: Using an implicitly registered datetime converter for a matplotlib plotting method. The converter was registered by pandas on import. Future versions of pandas will require you to explicitly register matplotlib converters.\n",
      "\n",
      "To register the converters:\n",
      "\t>>> from pandas.plotting import register_matplotlib_converters\n",
      "\t>>> register_matplotlib_converters()\n",
      "  warnings.warn(msg, FutureWarning)\n"
     ]
    },
    {
     "data": {
      "image/png": "[encoded data removed]",
      "text/plain": [
       "<Figure size 432x288 with 1 Axes>"
      ]
     },
     "metadata": {},
     "output_type": "display_data"
    }
   ],
   "source": [
    "sns.set()\n",
    "fig=sns.lineplot(data = confirmed_by_date,x = 'Date',y = 'Confirmed')\n",
    "plt.title(\"Covid-19 Confirmed Cases across Pakistan\");"
   ]
  },
  {
   "cell_type": "code",
   "execution_count": 63,
   "metadata": {
    "scrolled": false
   },
   "outputs": [
    {
     "data": {
      "text/html": [
       "<div>\n",
       "<style scoped>\n",
       "    .dataframe tbody tr th:only-of-type {\n",
       "        vertical-align: middle;\n",
       "    }\n",
       "\n",
       "    .dataframe tbody tr th {\n",
       "        vertical-align: top;\n",
       "    }\n",
       "\n",
       "    .dataframe thead th {\n",
       "        text-align: right;\n",
       "    }\n",
       "</style>\n",
       "<table border=\"1\" class=\"dataframe\">\n",
       "  <thead>\n",
       "    <tr style=\"text-align: right;\">\n",
       "      <th></th>\n",
       "      <th>Date</th>\n",
       "      <th>Region</th>\n",
       "      <th>Confirmed</th>\n",
       "    </tr>\n",
       "  </thead>\n",
       "  <tbody>\n",
       "    <tr>\n",
       "      <td>0</td>\n",
       "      <td>2020-03-11</td>\n",
       "      <td>AJK</td>\n",
       "      <td>0</td>\n",
       "    </tr>\n",
       "    <tr>\n",
       "      <td>1</td>\n",
       "      <td>2020-03-11</td>\n",
       "      <td>Balochistan</td>\n",
       "      <td>1</td>\n",
       "    </tr>\n",
       "    <tr>\n",
       "      <td>2</td>\n",
       "      <td>2020-03-11</td>\n",
       "      <td>GB</td>\n",
       "      <td>2</td>\n",
       "    </tr>\n",
       "    <tr>\n",
       "      <td>3</td>\n",
       "      <td>2020-03-11</td>\n",
       "      <td>ICT</td>\n",
       "      <td>2</td>\n",
       "    </tr>\n",
       "    <tr>\n",
       "      <td>4</td>\n",
       "      <td>2020-03-11</td>\n",
       "      <td>KP</td>\n",
       "      <td>0</td>\n",
       "    </tr>\n",
       "    <tr>\n",
       "      <td>...</td>\n",
       "      <td>...</td>\n",
       "      <td>...</td>\n",
       "      <td>...</td>\n",
       "    </tr>\n",
       "    <tr>\n",
       "      <td>443</td>\n",
       "      <td>2020-05-13</td>\n",
       "      <td>GB</td>\n",
       "      <td>475</td>\n",
       "    </tr>\n",
       "    <tr>\n",
       "      <td>444</td>\n",
       "      <td>2020-05-13</td>\n",
       "      <td>ICT</td>\n",
       "      <td>759</td>\n",
       "    </tr>\n",
       "    <tr>\n",
       "      <td>445</td>\n",
       "      <td>2020-05-13</td>\n",
       "      <td>KP</td>\n",
       "      <td>5021</td>\n",
       "    </tr>\n",
       "    <tr>\n",
       "      <td>446</td>\n",
       "      <td>2020-05-13</td>\n",
       "      <td>Punjab</td>\n",
       "      <td>13225</td>\n",
       "    </tr>\n",
       "    <tr>\n",
       "      <td>447</td>\n",
       "      <td>2020-05-13</td>\n",
       "      <td>Sindh</td>\n",
       "      <td>12610</td>\n",
       "    </tr>\n",
       "  </tbody>\n",
       "</table>\n",
       "<p>448 rows × 3 columns</p>\n",
       "</div>"
      ],
      "text/plain": [
       "          Date       Region  Confirmed\n",
       "0   2020-03-11          AJK          0\n",
       "1   2020-03-11  Balochistan          1\n",
       "2   2020-03-11           GB          2\n",
       "3   2020-03-11          ICT          2\n",
       "4   2020-03-11           KP          0\n",
       "..         ...          ...        ...\n",
       "443 2020-05-13           GB        475\n",
       "444 2020-05-13          ICT        759\n",
       "445 2020-05-13           KP       5021\n",
       "446 2020-05-13       Punjab      13225\n",
       "447 2020-05-13        Sindh      12610\n",
       "\n",
       "[448 rows x 3 columns]"
      ]
     },
     "execution_count": 63,
     "metadata": {},
     "output_type": "execute_result"
    }
   ],
   "source": [
    "confirmed_by_regions = (sheet_1.filter(['Region','Date','Confirmed']).groupby(['Date','Region']).agg('sum').reset_index())\n",
    "confirmed_by_regions"
   ]
  },
  {
   "cell_type": "code",
   "execution_count": 64,
   "metadata": {},
   "outputs": [
    {
     "data": {
      "image/png": "[encoded data removed]",
      "text/plain": [
       "<Figure size 432x288 with 1 Axes>"
      ]
     },
     "metadata": {},
     "output_type": "display_data"
    }
   ],
   "source": [
    "sns.lineplot(data = confirmed_by_regions,x = 'Date',y = 'Confirmed',hue='Region')\n",
    "plt.title(\"Timeline of Confirmed cases across Regions\");"
   ]
  },
  {
   "cell_type": "code",
   "execution_count": 65,
   "metadata": {},
   "outputs": [
    {
     "data": {
      "text/html": [
       "<div>\n",
       "<style scoped>\n",
       "    .dataframe tbody tr th:only-of-type {\n",
       "        vertical-align: middle;\n",
       "    }\n",
       "\n",
       "    .dataframe tbody tr th {\n",
       "        vertical-align: top;\n",
       "    }\n",
       "\n",
       "    .dataframe thead th {\n",
       "        text-align: right;\n",
       "    }\n",
       "</style>\n",
       "<table border=\"1\" class=\"dataframe\">\n",
       "  <thead>\n",
       "    <tr style=\"text-align: right;\">\n",
       "      <th></th>\n",
       "      <th>Date</th>\n",
       "      <th>Dead</th>\n",
       "    </tr>\n",
       "  </thead>\n",
       "  <tbody>\n",
       "    <tr>\n",
       "      <td>0</td>\n",
       "      <td>2020-03-11</td>\n",
       "      <td>0</td>\n",
       "    </tr>\n",
       "    <tr>\n",
       "      <td>1</td>\n",
       "      <td>2020-03-12</td>\n",
       "      <td>0</td>\n",
       "    </tr>\n",
       "    <tr>\n",
       "      <td>2</td>\n",
       "      <td>2020-03-13</td>\n",
       "      <td>0</td>\n",
       "    </tr>\n",
       "    <tr>\n",
       "      <td>3</td>\n",
       "      <td>2020-03-14</td>\n",
       "      <td>0</td>\n",
       "    </tr>\n",
       "    <tr>\n",
       "      <td>4</td>\n",
       "      <td>2020-03-15</td>\n",
       "      <td>0</td>\n",
       "    </tr>\n",
       "    <tr>\n",
       "      <td>...</td>\n",
       "      <td>...</td>\n",
       "      <td>...</td>\n",
       "    </tr>\n",
       "    <tr>\n",
       "      <td>59</td>\n",
       "      <td>2020-05-09</td>\n",
       "      <td>618</td>\n",
       "    </tr>\n",
       "    <tr>\n",
       "      <td>60</td>\n",
       "      <td>2020-05-10</td>\n",
       "      <td>639</td>\n",
       "    </tr>\n",
       "    <tr>\n",
       "      <td>61</td>\n",
       "      <td>2020-05-11</td>\n",
       "      <td>667</td>\n",
       "    </tr>\n",
       "    <tr>\n",
       "      <td>62</td>\n",
       "      <td>2020-05-12</td>\n",
       "      <td>706</td>\n",
       "    </tr>\n",
       "    <tr>\n",
       "      <td>63</td>\n",
       "      <td>2020-05-13</td>\n",
       "      <td>737</td>\n",
       "    </tr>\n",
       "  </tbody>\n",
       "</table>\n",
       "<p>64 rows × 2 columns</p>\n",
       "</div>"
      ],
      "text/plain": [
       "         Date  Dead\n",
       "0  2020-03-11     0\n",
       "1  2020-03-12     0\n",
       "2  2020-03-13     0\n",
       "3  2020-03-14     0\n",
       "4  2020-03-15     0\n",
       "..        ...   ...\n",
       "59 2020-05-09   618\n",
       "60 2020-05-10   639\n",
       "61 2020-05-11   667\n",
       "62 2020-05-12   706\n",
       "63 2020-05-13   737\n",
       "\n",
       "[64 rows x 2 columns]"
      ]
     },
     "execution_count": 65,
     "metadata": {},
     "output_type": "execute_result"
    }
   ],
   "source": [
    "dead_by_date = (sheet_1.filter(['Date','Dead']).groupby('Date').agg('sum').reset_index())\n",
    "dead_by_date"
   ]
  },
  {
   "cell_type": "code",
   "execution_count": 66,
   "metadata": {},
   "outputs": [
    {
     "data": {
      "image/png": "[encoded data removed]",
      "text/plain": [
       "<Figure size 432x288 with 1 Axes>"
      ]
     },
     "metadata": {},
     "output_type": "display_data"
    }
   ],
   "source": [
    "sns.lineplot(data = dead_by_date,x = 'Date',y = 'Dead')\n",
    "plt.title(\"Timeline of Dead Cases across Pakistan\");\n"
   ]
  },
  {
   "cell_type": "code",
   "execution_count": 67,
   "metadata": {},
   "outputs": [
    {
     "data": {
      "text/html": [
       "<div>\n",
       "<style scoped>\n",
       "    .dataframe tbody tr th:only-of-type {\n",
       "        vertical-align: middle;\n",
       "    }\n",
       "\n",
       "    .dataframe tbody tr th {\n",
       "        vertical-align: top;\n",
       "    }\n",
       "\n",
       "    .dataframe thead th {\n",
       "        text-align: right;\n",
       "    }\n",
       "</style>\n",
       "<table border=\"1\" class=\"dataframe\">\n",
       "  <thead>\n",
       "    <tr style=\"text-align: right;\">\n",
       "      <th></th>\n",
       "      <th>Total_tests</th>\n",
       "    </tr>\n",
       "    <tr>\n",
       "      <th>Date</th>\n",
       "      <th></th>\n",
       "    </tr>\n",
       "  </thead>\n",
       "  <tbody>\n",
       "    <tr>\n",
       "      <td>2020-03-11</td>\n",
       "      <td>422</td>\n",
       "    </tr>\n",
       "    <tr>\n",
       "      <td>2020-03-12</td>\n",
       "      <td>471</td>\n",
       "    </tr>\n",
       "    <tr>\n",
       "      <td>2020-03-13</td>\n",
       "      <td>531</td>\n",
       "    </tr>\n",
       "    <tr>\n",
       "      <td>2020-03-14</td>\n",
       "      <td>609</td>\n",
       "    </tr>\n",
       "    <tr>\n",
       "      <td>2020-03-15</td>\n",
       "      <td>686</td>\n",
       "    </tr>\n",
       "    <tr>\n",
       "      <td>...</td>\n",
       "      <td>...</td>\n",
       "    </tr>\n",
       "    <tr>\n",
       "      <td>2020-05-09</td>\n",
       "      <td>270025</td>\n",
       "    </tr>\n",
       "    <tr>\n",
       "      <td>2020-05-10</td>\n",
       "      <td>283517</td>\n",
       "    </tr>\n",
       "    <tr>\n",
       "      <td>2020-05-11</td>\n",
       "      <td>294894</td>\n",
       "    </tr>\n",
       "    <tr>\n",
       "      <td>2020-05-12</td>\n",
       "      <td>305851</td>\n",
       "    </tr>\n",
       "    <tr>\n",
       "      <td>2020-05-13</td>\n",
       "      <td>317699</td>\n",
       "    </tr>\n",
       "  </tbody>\n",
       "</table>\n",
       "<p>64 rows × 1 columns</p>\n",
       "</div>"
      ],
      "text/plain": [
       "            Total_tests\n",
       "Date                   \n",
       "2020-03-11          422\n",
       "2020-03-12          471\n",
       "2020-03-13          531\n",
       "2020-03-14          609\n",
       "2020-03-15          686\n",
       "...                 ...\n",
       "2020-05-09       270025\n",
       "2020-05-10       283517\n",
       "2020-05-11       294894\n",
       "2020-05-12       305851\n",
       "2020-05-13       317699\n",
       "\n",
       "[64 rows x 1 columns]"
      ]
     },
     "execution_count": 67,
     "metadata": {},
     "output_type": "execute_result"
    }
   ],
   "source": [
    "test_by_date = sheet_1.filter(['Date','Total_tests']).groupby('Date').agg('sum')\n",
    "test_by_date"
   ]
  },
  {
   "cell_type": "code",
   "execution_count": 68,
   "metadata": {},
   "outputs": [
    {
     "data": {
      "image/png": "[encoded data removed]",
      "text/plain": [
       "<Figure size 432x288 with 1 Axes>"
      ]
     },
     "metadata": {},
     "output_type": "display_data"
    }
   ],
   "source": [
    "test_by_date.plot()\n",
    "plt.title(\"Total Test Performed in Pak till Now\");"
   ]
  },
  {
   "cell_type": "code",
   "execution_count": 69,
   "metadata": {},
   "outputs": [
    {
     "data": {
      "text/html": [
       "<div>\n",
       "<style scoped>\n",
       "    .dataframe tbody tr th:only-of-type {\n",
       "        vertical-align: middle;\n",
       "    }\n",
       "\n",
       "    .dataframe tbody tr th {\n",
       "        vertical-align: top;\n",
       "    }\n",
       "\n",
       "    .dataframe thead th {\n",
       "        text-align: right;\n",
       "    }\n",
       "</style>\n",
       "<table border=\"1\" class=\"dataframe\">\n",
       "  <thead>\n",
       "    <tr style=\"text-align: right;\">\n",
       "      <th></th>\n",
       "      <th>Date</th>\n",
       "      <th>Region</th>\n",
       "      <th>Cases</th>\n",
       "      <th>Confirmed</th>\n",
       "      <th>Recovered</th>\n",
       "      <th>Dead</th>\n",
       "      <th>Active</th>\n",
       "      <th>Hospitalized</th>\n",
       "      <th>Home_quarantine</th>\n",
       "      <th>New_cases</th>\n",
       "      <th>Total_tests</th>\n",
       "      <th>New_tests</th>\n",
       "    </tr>\n",
       "  </thead>\n",
       "  <tbody>\n",
       "    <tr>\n",
       "      <td>192</td>\n",
       "      <td>2020-03-11</td>\n",
       "      <td>KP</td>\n",
       "      <td>20</td>\n",
       "      <td>0</td>\n",
       "      <td>0</td>\n",
       "      <td>0</td>\n",
       "      <td>0</td>\n",
       "      <td>0</td>\n",
       "      <td>0</td>\n",
       "      <td>0</td>\n",
       "      <td>28</td>\n",
       "      <td>2</td>\n",
       "    </tr>\n",
       "    <tr>\n",
       "      <td>193</td>\n",
       "      <td>2020-03-12</td>\n",
       "      <td>KP</td>\n",
       "      <td>24</td>\n",
       "      <td>0</td>\n",
       "      <td>0</td>\n",
       "      <td>0</td>\n",
       "      <td>0</td>\n",
       "      <td>0</td>\n",
       "      <td>0</td>\n",
       "      <td>4</td>\n",
       "      <td>29</td>\n",
       "      <td>1</td>\n",
       "    </tr>\n",
       "    <tr>\n",
       "      <td>194</td>\n",
       "      <td>2020-03-13</td>\n",
       "      <td>KP</td>\n",
       "      <td>27</td>\n",
       "      <td>0</td>\n",
       "      <td>0</td>\n",
       "      <td>0</td>\n",
       "      <td>0</td>\n",
       "      <td>0</td>\n",
       "      <td>0</td>\n",
       "      <td>3</td>\n",
       "      <td>30</td>\n",
       "      <td>1</td>\n",
       "    </tr>\n",
       "    <tr>\n",
       "      <td>195</td>\n",
       "      <td>2020-03-14</td>\n",
       "      <td>KP</td>\n",
       "      <td>29</td>\n",
       "      <td>0</td>\n",
       "      <td>0</td>\n",
       "      <td>0</td>\n",
       "      <td>0</td>\n",
       "      <td>0</td>\n",
       "      <td>0</td>\n",
       "      <td>2</td>\n",
       "      <td>31</td>\n",
       "      <td>1</td>\n",
       "    </tr>\n",
       "    <tr>\n",
       "      <td>196</td>\n",
       "      <td>2020-03-15</td>\n",
       "      <td>KP</td>\n",
       "      <td>30</td>\n",
       "      <td>0</td>\n",
       "      <td>0</td>\n",
       "      <td>0</td>\n",
       "      <td>0</td>\n",
       "      <td>0</td>\n",
       "      <td>0</td>\n",
       "      <td>1</td>\n",
       "      <td>32</td>\n",
       "      <td>1</td>\n",
       "    </tr>\n",
       "    <tr>\n",
       "      <td>...</td>\n",
       "      <td>...</td>\n",
       "      <td>...</td>\n",
       "      <td>...</td>\n",
       "      <td>...</td>\n",
       "      <td>...</td>\n",
       "      <td>...</td>\n",
       "      <td>...</td>\n",
       "      <td>...</td>\n",
       "      <td>...</td>\n",
       "      <td>...</td>\n",
       "      <td>...</td>\n",
       "      <td>...</td>\n",
       "    </tr>\n",
       "    <tr>\n",
       "      <td>251</td>\n",
       "      <td>2020-05-09</td>\n",
       "      <td>KP</td>\n",
       "      <td>26981</td>\n",
       "      <td>4327</td>\n",
       "      <td>1033</td>\n",
       "      <td>221</td>\n",
       "      <td>3073</td>\n",
       "      <td>806</td>\n",
       "      <td>2267</td>\n",
       "      <td>1459</td>\n",
       "      <td>27990</td>\n",
       "      <td>1459</td>\n",
       "    </tr>\n",
       "    <tr>\n",
       "      <td>252</td>\n",
       "      <td>2020-05-10</td>\n",
       "      <td>KP</td>\n",
       "      <td>28193</td>\n",
       "      <td>4509</td>\n",
       "      <td>1086</td>\n",
       "      <td>234</td>\n",
       "      <td>3189</td>\n",
       "      <td>602</td>\n",
       "      <td>2587</td>\n",
       "      <td>1212</td>\n",
       "      <td>29202</td>\n",
       "      <td>1212</td>\n",
       "    </tr>\n",
       "    <tr>\n",
       "      <td>253</td>\n",
       "      <td>2020-05-11</td>\n",
       "      <td>KP</td>\n",
       "      <td>29463</td>\n",
       "      <td>4669</td>\n",
       "      <td>1126</td>\n",
       "      <td>245</td>\n",
       "      <td>3298</td>\n",
       "      <td>641</td>\n",
       "      <td>2657</td>\n",
       "      <td>1270</td>\n",
       "      <td>30472</td>\n",
       "      <td>1270</td>\n",
       "    </tr>\n",
       "    <tr>\n",
       "      <td>254</td>\n",
       "      <td>2020-05-12</td>\n",
       "      <td>KP</td>\n",
       "      <td>30597</td>\n",
       "      <td>4875</td>\n",
       "      <td>2713</td>\n",
       "      <td>257</td>\n",
       "      <td>3362</td>\n",
       "      <td>649</td>\n",
       "      <td>2713</td>\n",
       "      <td>1134</td>\n",
       "      <td>31606</td>\n",
       "      <td>1134</td>\n",
       "    </tr>\n",
       "    <tr>\n",
       "      <td>255</td>\n",
       "      <td>2020-05-13</td>\n",
       "      <td>KP</td>\n",
       "      <td>31568</td>\n",
       "      <td>5021</td>\n",
       "      <td>2860</td>\n",
       "      <td>267</td>\n",
       "      <td>3449</td>\n",
       "      <td>589</td>\n",
       "      <td>2860</td>\n",
       "      <td>971</td>\n",
       "      <td>32577</td>\n",
       "      <td>971</td>\n",
       "    </tr>\n",
       "  </tbody>\n",
       "</table>\n",
       "<p>64 rows × 12 columns</p>\n",
       "</div>"
      ],
      "text/plain": [
       "          Date Region  Cases  Confirmed  Recovered  Dead  Active  \\\n",
       "192 2020-03-11     KP     20          0          0     0       0   \n",
       "193 2020-03-12     KP     24          0          0     0       0   \n",
       "194 2020-03-13     KP     27          0          0     0       0   \n",
       "195 2020-03-14     KP     29          0          0     0       0   \n",
       "196 2020-03-15     KP     30          0          0     0       0   \n",
       "..         ...    ...    ...        ...        ...   ...     ...   \n",
       "251 2020-05-09     KP  26981       4327       1033   221    3073   \n",
       "252 2020-05-10     KP  28193       4509       1086   234    3189   \n",
       "253 2020-05-11     KP  29463       4669       1126   245    3298   \n",
       "254 2020-05-12     KP  30597       4875       2713   257    3362   \n",
       "255 2020-05-13     KP  31568       5021       2860   267    3449   \n",
       "\n",
       "     Hospitalized  Home_quarantine  New_cases  Total_tests  New_tests  \n",
       "192             0                0          0           28          2  \n",
       "193             0                0          4           29          1  \n",
       "194             0                0          3           30          1  \n",
       "195             0                0          2           31          1  \n",
       "196             0                0          1           32          1  \n",
       "..            ...              ...        ...          ...        ...  \n",
       "251           806             2267       1459        27990       1459  \n",
       "252           602             2587       1212        29202       1212  \n",
       "253           641             2657       1270        30472       1270  \n",
       "254           649             2713       1134        31606       1134  \n",
       "255           589             2860        971        32577        971  \n",
       "\n",
       "[64 rows x 12 columns]"
      ]
     },
     "execution_count": 69,
     "metadata": {},
     "output_type": "execute_result"
    }
   ],
   "source": [
    "sheet_1[sheet_1['Region']=='KP']"
   ]
  },
  {
   "cell_type": "code",
   "execution_count": 70,
   "metadata": {},
   "outputs": [
    {
     "data": {
      "text/html": [
       "<div>\n",
       "<style scoped>\n",
       "    .dataframe tbody tr th:only-of-type {\n",
       "        vertical-align: middle;\n",
       "    }\n",
       "\n",
       "    .dataframe tbody tr th {\n",
       "        vertical-align: top;\n",
       "    }\n",
       "\n",
       "    .dataframe thead th {\n",
       "        text-align: right;\n",
       "    }\n",
       "</style>\n",
       "<table border=\"1\" class=\"dataframe\">\n",
       "  <thead>\n",
       "    <tr style=\"text-align: right;\">\n",
       "      <th></th>\n",
       "      <th>Confirmed</th>\n",
       "      <th>Dead</th>\n",
       "      <th>Recovered</th>\n",
       "      <th>Total_tests</th>\n",
       "      <th>New_cases</th>\n",
       "    </tr>\n",
       "    <tr>\n",
       "      <th>Region</th>\n",
       "      <th></th>\n",
       "      <th></th>\n",
       "      <th></th>\n",
       "      <th></th>\n",
       "      <th></th>\n",
       "    </tr>\n",
       "  </thead>\n",
       "  <tbody>\n",
       "    <tr>\n",
       "      <td>AJK</td>\n",
       "      <td>88</td>\n",
       "      <td>1</td>\n",
       "      <td>0</td>\n",
       "      <td>3037</td>\n",
       "      <td>102</td>\n",
       "    </tr>\n",
       "    <tr>\n",
       "      <td>Balochistan</td>\n",
       "      <td>2158</td>\n",
       "      <td>27</td>\n",
       "      <td>1844</td>\n",
       "      <td>15751</td>\n",
       "      <td>267</td>\n",
       "    </tr>\n",
       "    <tr>\n",
       "      <td>GB</td>\n",
       "      <td>475</td>\n",
       "      <td>4</td>\n",
       "      <td>127</td>\n",
       "      <td>5748</td>\n",
       "      <td>11</td>\n",
       "    </tr>\n",
       "    <tr>\n",
       "      <td>ICT</td>\n",
       "      <td>759</td>\n",
       "      <td>6</td>\n",
       "      <td>632</td>\n",
       "      <td>21257</td>\n",
       "      <td>1056</td>\n",
       "    </tr>\n",
       "    <tr>\n",
       "      <td>KP</td>\n",
       "      <td>5021</td>\n",
       "      <td>267</td>\n",
       "      <td>2860</td>\n",
       "      <td>32577</td>\n",
       "      <td>971</td>\n",
       "    </tr>\n",
       "    <tr>\n",
       "      <td>Punjab</td>\n",
       "      <td>13225</td>\n",
       "      <td>214</td>\n",
       "      <td>2780</td>\n",
       "      <td>140212</td>\n",
       "      <td>7159</td>\n",
       "    </tr>\n",
       "    <tr>\n",
       "      <td>Sindh</td>\n",
       "      <td>12610</td>\n",
       "      <td>218</td>\n",
       "      <td>8668</td>\n",
       "      <td>99117</td>\n",
       "      <td>4064</td>\n",
       "    </tr>\n",
       "  </tbody>\n",
       "</table>\n",
       "</div>"
      ],
      "text/plain": [
       "             Confirmed  Dead  Recovered  Total_tests  New_cases\n",
       "Region                                                         \n",
       "AJK                 88     1          0         3037        102\n",
       "Balochistan       2158    27       1844        15751        267\n",
       "GB                 475     4        127         5748         11\n",
       "ICT                759     6        632        21257       1056\n",
       "KP                5021   267       2860        32577        971\n",
       "Punjab           13225   214       2780       140212       7159\n",
       "Sindh            12610   218       8668        99117       4064"
      ]
     },
     "execution_count": 70,
     "metadata": {},
     "output_type": "execute_result"
    }
   ],
   "source": [
    "regions_data=sheet_1[sheet_1.Date==max(sheet_1.Date)].filter(['Region','Confirmed','Dead','Recovered','Total_tests','Total_cases','New_cases']).groupby('Region').agg('sum')\n",
    "regions_data"
   ]
  },
  {
   "cell_type": "code",
   "execution_count": 71,
   "metadata": {},
   "outputs": [
    {
     "data": {
      "image/png": "[encoded data removed]",
      "text/plain": [
       "<Figure size 432x288 with 1 Axes>"
      ]
     },
     "metadata": {},
     "output_type": "display_data"
    }
   ],
   "source": [
    "sns.barplot(data=sheet_1,x='Dead',y='Region',color='darkred',ci=None)\n",
    "plt.title(\"Total Dead Cases in Regions till Now\");"
   ]
  },
  {
   "cell_type": "code",
   "execution_count": 72,
   "metadata": {},
   "outputs": [
    {
     "data": {
      "text/html": [
       "<div>\n",
       "<style scoped>\n",
       "    .dataframe tbody tr th:only-of-type {\n",
       "        vertical-align: middle;\n",
       "    }\n",
       "\n",
       "    .dataframe tbody tr th {\n",
       "        vertical-align: top;\n",
       "    }\n",
       "\n",
       "    .dataframe thead th {\n",
       "        text-align: right;\n",
       "    }\n",
       "</style>\n",
       "<table border=\"1\" class=\"dataframe\">\n",
       "  <thead>\n",
       "    <tr style=\"text-align: right;\">\n",
       "      <th></th>\n",
       "      <th>Date</th>\n",
       "      <th>Hospitalized</th>\n",
       "    </tr>\n",
       "  </thead>\n",
       "  <tbody>\n",
       "    <tr>\n",
       "      <td>0</td>\n",
       "      <td>2020-03-11</td>\n",
       "      <td>18</td>\n",
       "    </tr>\n",
       "    <tr>\n",
       "      <td>1</td>\n",
       "      <td>2020-03-12</td>\n",
       "      <td>18</td>\n",
       "    </tr>\n",
       "    <tr>\n",
       "      <td>2</td>\n",
       "      <td>2020-03-13</td>\n",
       "      <td>19</td>\n",
       "    </tr>\n",
       "    <tr>\n",
       "      <td>3</td>\n",
       "      <td>2020-03-14</td>\n",
       "      <td>25</td>\n",
       "    </tr>\n",
       "    <tr>\n",
       "      <td>4</td>\n",
       "      <td>2020-03-15</td>\n",
       "      <td>28</td>\n",
       "    </tr>\n",
       "    <tr>\n",
       "      <td>...</td>\n",
       "      <td>...</td>\n",
       "      <td>...</td>\n",
       "    </tr>\n",
       "    <tr>\n",
       "      <td>59</td>\n",
       "      <td>2020-05-09</td>\n",
       "      <td>5434</td>\n",
       "    </tr>\n",
       "    <tr>\n",
       "      <td>60</td>\n",
       "      <td>2020-05-10</td>\n",
       "      <td>5719</td>\n",
       "    </tr>\n",
       "    <tr>\n",
       "      <td>61</td>\n",
       "      <td>2020-05-11</td>\n",
       "      <td>6230</td>\n",
       "    </tr>\n",
       "    <tr>\n",
       "      <td>62</td>\n",
       "      <td>2020-05-12</td>\n",
       "      <td>6661</td>\n",
       "    </tr>\n",
       "    <tr>\n",
       "      <td>63</td>\n",
       "      <td>2020-05-13</td>\n",
       "      <td>7876</td>\n",
       "    </tr>\n",
       "  </tbody>\n",
       "</table>\n",
       "<p>64 rows × 2 columns</p>\n",
       "</div>"
      ],
      "text/plain": [
       "         Date  Hospitalized\n",
       "0  2020-03-11            18\n",
       "1  2020-03-12            18\n",
       "2  2020-03-13            19\n",
       "3  2020-03-14            25\n",
       "4  2020-03-15            28\n",
       "..        ...           ...\n",
       "59 2020-05-09          5434\n",
       "60 2020-05-10          5719\n",
       "61 2020-05-11          6230\n",
       "62 2020-05-12          6661\n",
       "63 2020-05-13          7876\n",
       "\n",
       "[64 rows x 2 columns]"
      ]
     },
     "execution_count": 72,
     "metadata": {},
     "output_type": "execute_result"
    }
   ],
   "source": [
    "n_hospitalized=sheet_1.filter(['Date','Hospitalized']).groupby(['Date']).agg('sum').reset_index()\n",
    "n_hospitalized"
   ]
  },
  {
   "cell_type": "code",
   "execution_count": 73,
   "metadata": {},
   "outputs": [
    {
     "data": {
      "text/html": [
       "<div>\n",
       "<style scoped>\n",
       "    .dataframe tbody tr th:only-of-type {\n",
       "        vertical-align: middle;\n",
       "    }\n",
       "\n",
       "    .dataframe tbody tr th {\n",
       "        vertical-align: top;\n",
       "    }\n",
       "\n",
       "    .dataframe thead th {\n",
       "        text-align: right;\n",
       "    }\n",
       "</style>\n",
       "<table border=\"1\" class=\"dataframe\">\n",
       "  <thead>\n",
       "    <tr style=\"text-align: right;\">\n",
       "      <th></th>\n",
       "      <th>Date</th>\n",
       "      <th>Home_quarantine</th>\n",
       "    </tr>\n",
       "  </thead>\n",
       "  <tbody>\n",
       "    <tr>\n",
       "      <td>0</td>\n",
       "      <td>2020-03-11</td>\n",
       "      <td>0</td>\n",
       "    </tr>\n",
       "    <tr>\n",
       "      <td>1</td>\n",
       "      <td>2020-03-12</td>\n",
       "      <td>0</td>\n",
       "    </tr>\n",
       "    <tr>\n",
       "      <td>2</td>\n",
       "      <td>2020-03-13</td>\n",
       "      <td>0</td>\n",
       "    </tr>\n",
       "    <tr>\n",
       "      <td>3</td>\n",
       "      <td>2020-03-14</td>\n",
       "      <td>0</td>\n",
       "    </tr>\n",
       "    <tr>\n",
       "      <td>4</td>\n",
       "      <td>2020-03-15</td>\n",
       "      <td>0</td>\n",
       "    </tr>\n",
       "    <tr>\n",
       "      <td>...</td>\n",
       "      <td>...</td>\n",
       "      <td>...</td>\n",
       "    </tr>\n",
       "    <tr>\n",
       "      <td>59</td>\n",
       "      <td>2020-05-09</td>\n",
       "      <td>13666</td>\n",
       "    </tr>\n",
       "    <tr>\n",
       "      <td>60</td>\n",
       "      <td>2020-05-10</td>\n",
       "      <td>15084</td>\n",
       "    </tr>\n",
       "    <tr>\n",
       "      <td>61</td>\n",
       "      <td>2020-05-11</td>\n",
       "      <td>15832</td>\n",
       "    </tr>\n",
       "    <tr>\n",
       "      <td>62</td>\n",
       "      <td>2020-05-12</td>\n",
       "      <td>16159</td>\n",
       "    </tr>\n",
       "    <tr>\n",
       "      <td>63</td>\n",
       "      <td>2020-05-13</td>\n",
       "      <td>16911</td>\n",
       "    </tr>\n",
       "  </tbody>\n",
       "</table>\n",
       "<p>64 rows × 2 columns</p>\n",
       "</div>"
      ],
      "text/plain": [
       "         Date  Home_quarantine\n",
       "0  2020-03-11                0\n",
       "1  2020-03-12                0\n",
       "2  2020-03-13                0\n",
       "3  2020-03-14                0\n",
       "4  2020-03-15                0\n",
       "..        ...              ...\n",
       "59 2020-05-09            13666\n",
       "60 2020-05-10            15084\n",
       "61 2020-05-11            15832\n",
       "62 2020-05-12            16159\n",
       "63 2020-05-13            16911\n",
       "\n",
       "[64 rows x 2 columns]"
      ]
     },
     "execution_count": 73,
     "metadata": {},
     "output_type": "execute_result"
    }
   ],
   "source": [
    "n_home=sheet_1.filter(['Region','Date','Home_quarantine']).groupby(['Date']).agg('sum').reset_index()\n",
    "n_home"
   ]
  },
  {
   "cell_type": "code",
   "execution_count": 74,
   "metadata": {
    "scrolled": false
   },
   "outputs": [
    {
     "data": {
      "text/plain": [
       "<matplotlib.axes._subplots.AxesSubplot at 0x19428a55ec8>"
      ]
     },
     "execution_count": 74,
     "metadata": {},
     "output_type": "execute_result"
    },
    {
     "data": {
      "image/png": "[encoded data removed]",
      "text/plain": [
       "<Figure size 432x288 with 1 Axes>"
      ]
     },
     "metadata": {},
     "output_type": "display_data"
    }
   ],
   "source": [
    "sns.scatterplot(data=sheet1,x='Confirmed',y='Total_tests')"
   ]
  },
  {
   "cell_type": "code",
   "execution_count": 75,
   "metadata": {},
   "outputs": [],
   "source": [
    "#sns.pairplot(sheet1,hue='Region');"
   ]
  },
  {
   "cell_type": "code",
   "execution_count": 76,
   "metadata": {},
   "outputs": [
    {
     "data": {
      "text/html": [
       "<div>\n",
       "<style scoped>\n",
       "    .dataframe tbody tr th:only-of-type {\n",
       "        vertical-align: middle;\n",
       "    }\n",
       "\n",
       "    .dataframe tbody tr th {\n",
       "        vertical-align: top;\n",
       "    }\n",
       "\n",
       "    .dataframe thead th {\n",
       "        text-align: right;\n",
       "    }\n",
       "</style>\n",
       "<table border=\"1\" class=\"dataframe\">\n",
       "  <thead>\n",
       "    <tr style=\"text-align: right;\">\n",
       "      <th></th>\n",
       "      <th>Cases</th>\n",
       "      <th>Confirmed</th>\n",
       "      <th>Recovered</th>\n",
       "      <th>Dead</th>\n",
       "      <th>Active</th>\n",
       "      <th>Hospitalized</th>\n",
       "      <th>Home_quarantine</th>\n",
       "      <th>New_cases</th>\n",
       "      <th>Total_tests</th>\n",
       "      <th>New_tests</th>\n",
       "    </tr>\n",
       "  </thead>\n",
       "  <tbody>\n",
       "    <tr>\n",
       "      <td>Cases</td>\n",
       "      <td>1.000000</td>\n",
       "      <td>0.986637</td>\n",
       "      <td>0.865548</td>\n",
       "      <td>0.819773</td>\n",
       "      <td>0.799317</td>\n",
       "      <td>0.897705</td>\n",
       "      <td>0.627764</td>\n",
       "      <td>0.912494</td>\n",
       "      <td>0.973635</td>\n",
       "      <td>0.945861</td>\n",
       "    </tr>\n",
       "    <tr>\n",
       "      <td>Confirmed</td>\n",
       "      <td>0.986637</td>\n",
       "      <td>1.000000</td>\n",
       "      <td>0.876453</td>\n",
       "      <td>0.868173</td>\n",
       "      <td>0.817952</td>\n",
       "      <td>0.896838</td>\n",
       "      <td>0.651561</td>\n",
       "      <td>0.896522</td>\n",
       "      <td>0.964557</td>\n",
       "      <td>0.933986</td>\n",
       "    </tr>\n",
       "    <tr>\n",
       "      <td>Recovered</td>\n",
       "      <td>0.865548</td>\n",
       "      <td>0.876453</td>\n",
       "      <td>1.000000</td>\n",
       "      <td>0.774818</td>\n",
       "      <td>0.636397</td>\n",
       "      <td>0.729048</td>\n",
       "      <td>0.493792</td>\n",
       "      <td>0.740233</td>\n",
       "      <td>0.822700</td>\n",
       "      <td>0.775494</td>\n",
       "    </tr>\n",
       "    <tr>\n",
       "      <td>Dead</td>\n",
       "      <td>0.819773</td>\n",
       "      <td>0.868173</td>\n",
       "      <td>0.774818</td>\n",
       "      <td>1.000000</td>\n",
       "      <td>0.685725</td>\n",
       "      <td>0.740384</td>\n",
       "      <td>0.551056</td>\n",
       "      <td>0.736203</td>\n",
       "      <td>0.775799</td>\n",
       "      <td>0.765963</td>\n",
       "    </tr>\n",
       "    <tr>\n",
       "      <td>Active</td>\n",
       "      <td>0.799317</td>\n",
       "      <td>0.817952</td>\n",
       "      <td>0.636397</td>\n",
       "      <td>0.685725</td>\n",
       "      <td>1.000000</td>\n",
       "      <td>0.716929</td>\n",
       "      <td>0.956101</td>\n",
       "      <td>0.713351</td>\n",
       "      <td>0.791797</td>\n",
       "      <td>0.767585</td>\n",
       "    </tr>\n",
       "    <tr>\n",
       "      <td>Hospitalized</td>\n",
       "      <td>0.897705</td>\n",
       "      <td>0.896838</td>\n",
       "      <td>0.729048</td>\n",
       "      <td>0.740384</td>\n",
       "      <td>0.716929</td>\n",
       "      <td>1.000000</td>\n",
       "      <td>0.481166</td>\n",
       "      <td>0.838902</td>\n",
       "      <td>0.932568</td>\n",
       "      <td>0.858135</td>\n",
       "    </tr>\n",
       "    <tr>\n",
       "      <td>Home_quarantine</td>\n",
       "      <td>0.627764</td>\n",
       "      <td>0.651561</td>\n",
       "      <td>0.493792</td>\n",
       "      <td>0.551056</td>\n",
       "      <td>0.956101</td>\n",
       "      <td>0.481166</td>\n",
       "      <td>1.000000</td>\n",
       "      <td>0.544383</td>\n",
       "      <td>0.603654</td>\n",
       "      <td>0.604494</td>\n",
       "    </tr>\n",
       "    <tr>\n",
       "      <td>New_cases</td>\n",
       "      <td>0.912494</td>\n",
       "      <td>0.896522</td>\n",
       "      <td>0.740233</td>\n",
       "      <td>0.736203</td>\n",
       "      <td>0.713351</td>\n",
       "      <td>0.838902</td>\n",
       "      <td>0.544383</td>\n",
       "      <td>1.000000</td>\n",
       "      <td>0.899639</td>\n",
       "      <td>0.951989</td>\n",
       "    </tr>\n",
       "    <tr>\n",
       "      <td>Total_tests</td>\n",
       "      <td>0.973635</td>\n",
       "      <td>0.964557</td>\n",
       "      <td>0.822700</td>\n",
       "      <td>0.775799</td>\n",
       "      <td>0.791797</td>\n",
       "      <td>0.932568</td>\n",
       "      <td>0.603654</td>\n",
       "      <td>0.899639</td>\n",
       "      <td>1.000000</td>\n",
       "      <td>0.938607</td>\n",
       "    </tr>\n",
       "    <tr>\n",
       "      <td>New_tests</td>\n",
       "      <td>0.945861</td>\n",
       "      <td>0.933986</td>\n",
       "      <td>0.775494</td>\n",
       "      <td>0.765963</td>\n",
       "      <td>0.767585</td>\n",
       "      <td>0.858135</td>\n",
       "      <td>0.604494</td>\n",
       "      <td>0.951989</td>\n",
       "      <td>0.938607</td>\n",
       "      <td>1.000000</td>\n",
       "    </tr>\n",
       "  </tbody>\n",
       "</table>\n",
       "</div>"
      ],
      "text/plain": [
       "                    Cases  Confirmed  Recovered      Dead    Active  \\\n",
       "Cases            1.000000   0.986637   0.865548  0.819773  0.799317   \n",
       "Confirmed        0.986637   1.000000   0.876453  0.868173  0.817952   \n",
       "Recovered        0.865548   0.876453   1.000000  0.774818  0.636397   \n",
       "Dead             0.819773   0.868173   0.774818  1.000000  0.685725   \n",
       "Active           0.799317   0.817952   0.636397  0.685725  1.000000   \n",
       "Hospitalized     0.897705   0.896838   0.729048  0.740384  0.716929   \n",
       "Home_quarantine  0.627764   0.651561   0.493792  0.551056  0.956101   \n",
       "New_cases        0.912494   0.896522   0.740233  0.736203  0.713351   \n",
       "Total_tests      0.973635   0.964557   0.822700  0.775799  0.791797   \n",
       "New_tests        0.945861   0.933986   0.775494  0.765963  0.767585   \n",
       "\n",
       "                 Hospitalized  Home_quarantine  New_cases  Total_tests  \\\n",
       "Cases                0.897705         0.627764   0.912494     0.973635   \n",
       "Confirmed            0.896838         0.651561   0.896522     0.964557   \n",
       "Recovered            0.729048         0.493792   0.740233     0.822700   \n",
       "Dead                 0.740384         0.551056   0.736203     0.775799   \n",
       "Active               0.716929         0.956101   0.713351     0.791797   \n",
       "Hospitalized         1.000000         0.481166   0.838902     0.932568   \n",
       "Home_quarantine      0.481166         1.000000   0.544383     0.603654   \n",
       "New_cases            0.838902         0.544383   1.000000     0.899639   \n",
       "Total_tests          0.932568         0.603654   0.899639     1.000000   \n",
       "New_tests            0.858135         0.604494   0.951989     0.938607   \n",
       "\n",
       "                 New_tests  \n",
       "Cases             0.945861  \n",
       "Confirmed         0.933986  \n",
       "Recovered         0.775494  \n",
       "Dead              0.765963  \n",
       "Active            0.767585  \n",
       "Hospitalized      0.858135  \n",
       "Home_quarantine   0.604494  \n",
       "New_cases         0.951989  \n",
       "Total_tests       0.938607  \n",
       "New_tests         1.000000  "
      ]
     },
     "execution_count": 76,
     "metadata": {},
     "output_type": "execute_result"
    }
   ],
   "source": [
    "sheet_1.corr()"
   ]
  },
  {
   "cell_type": "code",
   "execution_count": 77,
   "metadata": {},
   "outputs": [],
   "source": [
    "\n",
    "hospitalized_by_region=sheet_1[sheet_1.Date==max(sheet_1.Date)].filter(['Region','Hospitalized']).groupby(['Region']).agg('sum')"
   ]
  },
  {
   "cell_type": "code",
   "execution_count": 78,
   "metadata": {},
   "outputs": [
    {
     "data": {
      "text/html": [
       "<div>\n",
       "<style scoped>\n",
       "    .dataframe tbody tr th:only-of-type {\n",
       "        vertical-align: middle;\n",
       "    }\n",
       "\n",
       "    .dataframe tbody tr th {\n",
       "        vertical-align: top;\n",
       "    }\n",
       "\n",
       "    .dataframe thead th {\n",
       "        text-align: right;\n",
       "    }\n",
       "</style>\n",
       "<table border=\"1\" class=\"dataframe\">\n",
       "  <thead>\n",
       "    <tr style=\"text-align: right;\">\n",
       "      <th></th>\n",
       "      <th>Hospitalized</th>\n",
       "    </tr>\n",
       "    <tr>\n",
       "      <th>Region</th>\n",
       "      <th></th>\n",
       "    </tr>\n",
       "  </thead>\n",
       "  <tbody>\n",
       "    <tr>\n",
       "      <td>AJK</td>\n",
       "      <td>19</td>\n",
       "    </tr>\n",
       "    <tr>\n",
       "      <td>Balochistan</td>\n",
       "      <td>31</td>\n",
       "    </tr>\n",
       "    <tr>\n",
       "      <td>GB</td>\n",
       "      <td>13</td>\n",
       "    </tr>\n",
       "    <tr>\n",
       "      <td>ICT</td>\n",
       "      <td>29</td>\n",
       "    </tr>\n",
       "    <tr>\n",
       "      <td>KP</td>\n",
       "      <td>589</td>\n",
       "    </tr>\n",
       "    <tr>\n",
       "      <td>Punjab</td>\n",
       "      <td>5700</td>\n",
       "    </tr>\n",
       "    <tr>\n",
       "      <td>Sindh</td>\n",
       "      <td>1495</td>\n",
       "    </tr>\n",
       "  </tbody>\n",
       "</table>\n",
       "</div>"
      ],
      "text/plain": [
       "             Hospitalized\n",
       "Region                   \n",
       "AJK                    19\n",
       "Balochistan            31\n",
       "GB                     13\n",
       "ICT                    29\n",
       "KP                    589\n",
       "Punjab               5700\n",
       "Sindh                1495"
      ]
     },
     "execution_count": 78,
     "metadata": {},
     "output_type": "execute_result"
    }
   ],
   "source": [
    "hospitalized_by_region"
   ]
  },
  {
   "cell_type": "code",
   "execution_count": 79,
   "metadata": {},
   "outputs": [
    {
     "data": {
      "image/png": "[encoded data removed]",
      "text/plain": [
       "<Figure size 432x288 with 1 Axes>"
      ]
     },
     "metadata": {},
     "output_type": "display_data"
    }
   ],
   "source": [
    "sns.lineplot(data = n_hospitalized,x ='Date', y = 'Hospitalized')\n",
    "plt.title(\"Timeline of Hospitalized across Pakistan\");"
   ]
  },
  {
   "cell_type": "code",
   "execution_count": 80,
   "metadata": {},
   "outputs": [
    {
     "data": {
      "image/png": "[encoded data removed]",
      "text/plain": [
       "<Figure size 432x288 with 1 Axes>"
      ]
     },
     "metadata": {},
     "output_type": "display_data"
    }
   ],
   "source": [
    "sns.lineplot(data = n_home,x ='Date', y = 'Home_quarantine')\n",
    "plt.title(\"Timeline of Home quarantime across Pakistan\");"
   ]
  },
  {
   "cell_type": "code",
   "execution_count": 81,
   "metadata": {},
   "outputs": [
    {
     "data": {
      "text/html": [
       "<div>\n",
       "<style scoped>\n",
       "    .dataframe tbody tr th:only-of-type {\n",
       "        vertical-align: middle;\n",
       "    }\n",
       "\n",
       "    .dataframe tbody tr th {\n",
       "        vertical-align: top;\n",
       "    }\n",
       "\n",
       "    .dataframe thead th {\n",
       "        text-align: right;\n",
       "    }\n",
       "</style>\n",
       "<table border=\"1\" class=\"dataframe\">\n",
       "  <thead>\n",
       "    <tr style=\"text-align: right;\">\n",
       "      <th></th>\n",
       "      <th>New_cases</th>\n",
       "    </tr>\n",
       "    <tr>\n",
       "      <th>Date</th>\n",
       "      <th></th>\n",
       "    </tr>\n",
       "  </thead>\n",
       "  <tbody>\n",
       "    <tr>\n",
       "      <td>2020-03-11</td>\n",
       "      <td>14</td>\n",
       "    </tr>\n",
       "    <tr>\n",
       "      <td>2020-03-12</td>\n",
       "      <td>23</td>\n",
       "    </tr>\n",
       "    <tr>\n",
       "      <td>2020-03-13</td>\n",
       "      <td>46</td>\n",
       "    </tr>\n",
       "    <tr>\n",
       "      <td>2020-03-14</td>\n",
       "      <td>45</td>\n",
       "    </tr>\n",
       "    <tr>\n",
       "      <td>2020-03-15</td>\n",
       "      <td>18</td>\n",
       "    </tr>\n",
       "    <tr>\n",
       "      <td>...</td>\n",
       "      <td>...</td>\n",
       "    </tr>\n",
       "    <tr>\n",
       "      <td>2020-05-09</td>\n",
       "      <td>12397</td>\n",
       "    </tr>\n",
       "    <tr>\n",
       "      <td>2020-05-10</td>\n",
       "      <td>12809</td>\n",
       "    </tr>\n",
       "    <tr>\n",
       "      <td>2020-05-11</td>\n",
       "      <td>9239</td>\n",
       "    </tr>\n",
       "    <tr>\n",
       "      <td>2020-05-12</td>\n",
       "      <td>9743</td>\n",
       "    </tr>\n",
       "    <tr>\n",
       "      <td>2020-05-13</td>\n",
       "      <td>13630</td>\n",
       "    </tr>\n",
       "  </tbody>\n",
       "</table>\n",
       "<p>64 rows × 1 columns</p>\n",
       "</div>"
      ],
      "text/plain": [
       "            New_cases\n",
       "Date                 \n",
       "2020-03-11         14\n",
       "2020-03-12         23\n",
       "2020-03-13         46\n",
       "2020-03-14         45\n",
       "2020-03-15         18\n",
       "...               ...\n",
       "2020-05-09      12397\n",
       "2020-05-10      12809\n",
       "2020-05-11       9239\n",
       "2020-05-12       9743\n",
       "2020-05-13      13630\n",
       "\n",
       "[64 rows x 1 columns]"
      ]
     },
     "execution_count": 81,
     "metadata": {},
     "output_type": "execute_result"
    }
   ],
   "source": [
    "new_cases=sheet_1.filter(['Date','New_cases']).groupby('Date').agg('sum')\n",
    "new_cases"
   ]
  },
  {
   "cell_type": "code",
   "execution_count": 82,
   "metadata": {},
   "outputs": [
    {
     "data": {
      "text/plain": [
       "<matplotlib.axes._subplots.AxesSubplot at 0x19428ba1248>"
      ]
     },
     "execution_count": 82,
     "metadata": {},
     "output_type": "execute_result"
    },
    {
     "data": {
      "image/png": "[encoded data removed]",
      "text/plain": [
       "<Figure size 432x288 with 1 Axes>"
      ]
     },
     "metadata": {},
     "output_type": "display_data"
    }
   ],
   "source": [
    "new_cases.plot()"
   ]
  },
  {
   "cell_type": "code",
   "execution_count": 83,
   "metadata": {},
   "outputs": [
    {
     "data": {
      "text/html": [
       "<div>\n",
       "<style scoped>\n",
       "    .dataframe tbody tr th:only-of-type {\n",
       "        vertical-align: middle;\n",
       "    }\n",
       "\n",
       "    .dataframe tbody tr th {\n",
       "        vertical-align: top;\n",
       "    }\n",
       "\n",
       "    .dataframe thead th {\n",
       "        text-align: right;\n",
       "    }\n",
       "</style>\n",
       "<table border=\"1\" class=\"dataframe\">\n",
       "  <thead>\n",
       "    <tr style=\"text-align: right;\">\n",
       "      <th></th>\n",
       "      <th>Recovered</th>\n",
       "    </tr>\n",
       "    <tr>\n",
       "      <th>Date</th>\n",
       "      <th></th>\n",
       "    </tr>\n",
       "  </thead>\n",
       "  <tbody>\n",
       "    <tr>\n",
       "      <td>2020-03-11</td>\n",
       "      <td>1</td>\n",
       "    </tr>\n",
       "    <tr>\n",
       "      <td>2020-03-12</td>\n",
       "      <td>2</td>\n",
       "    </tr>\n",
       "    <tr>\n",
       "      <td>2020-03-13</td>\n",
       "      <td>2</td>\n",
       "    </tr>\n",
       "    <tr>\n",
       "      <td>2020-03-14</td>\n",
       "      <td>3</td>\n",
       "    </tr>\n",
       "    <tr>\n",
       "      <td>2020-03-15</td>\n",
       "      <td>3</td>\n",
       "    </tr>\n",
       "    <tr>\n",
       "      <td>...</td>\n",
       "      <td>...</td>\n",
       "    </tr>\n",
       "    <tr>\n",
       "      <td>2020-05-09</td>\n",
       "      <td>7756</td>\n",
       "    </tr>\n",
       "    <tr>\n",
       "      <td>2020-05-10</td>\n",
       "      <td>8023</td>\n",
       "    </tr>\n",
       "    <tr>\n",
       "      <td>2020-05-11</td>\n",
       "      <td>8212</td>\n",
       "    </tr>\n",
       "    <tr>\n",
       "      <td>2020-05-12</td>\n",
       "      <td>16159</td>\n",
       "    </tr>\n",
       "    <tr>\n",
       "      <td>2020-05-13</td>\n",
       "      <td>16911</td>\n",
       "    </tr>\n",
       "  </tbody>\n",
       "</table>\n",
       "<p>64 rows × 1 columns</p>\n",
       "</div>"
      ],
      "text/plain": [
       "            Recovered\n",
       "Date                 \n",
       "2020-03-11          1\n",
       "2020-03-12          2\n",
       "2020-03-13          2\n",
       "2020-03-14          3\n",
       "2020-03-15          3\n",
       "...               ...\n",
       "2020-05-09       7756\n",
       "2020-05-10       8023\n",
       "2020-05-11       8212\n",
       "2020-05-12      16159\n",
       "2020-05-13      16911\n",
       "\n",
       "[64 rows x 1 columns]"
      ]
     },
     "execution_count": 83,
     "metadata": {},
     "output_type": "execute_result"
    }
   ],
   "source": [
    "total_recovered=sheet_1.filter(['Date','Region','Recovered']).groupby(['Date']).agg('sum')\n",
    "total_recovered"
   ]
  },
  {
   "cell_type": "code",
   "execution_count": 84,
   "metadata": {},
   "outputs": [
    {
     "data": {
      "image/png": "[encoded data removed]",
      "text/plain": [
       "<Figure size 432x288 with 1 Axes>"
      ]
     },
     "metadata": {},
     "output_type": "display_data"
    }
   ],
   "source": [
    "sns.lineplot(data=sheet_1,x='Date',y='New_cases',hue='Region');"
   ]
  },
  {
   "cell_type": "code",
   "execution_count": 85,
   "metadata": {},
   "outputs": [
    {
     "data": {
      "text/html": [
       "<div>\n",
       "<style scoped>\n",
       "    .dataframe tbody tr th:only-of-type {\n",
       "        vertical-align: middle;\n",
       "    }\n",
       "\n",
       "    .dataframe tbody tr th {\n",
       "        vertical-align: top;\n",
       "    }\n",
       "\n",
       "    .dataframe thead th {\n",
       "        text-align: right;\n",
       "    }\n",
       "</style>\n",
       "<table border=\"1\" class=\"dataframe\">\n",
       "  <thead>\n",
       "    <tr style=\"text-align: right;\">\n",
       "      <th></th>\n",
       "      <th>Cases</th>\n",
       "    </tr>\n",
       "    <tr>\n",
       "      <th>Region</th>\n",
       "      <th></th>\n",
       "    </tr>\n",
       "  </thead>\n",
       "  <tbody>\n",
       "    <tr>\n",
       "      <td>AJK</td>\n",
       "      <td>3037</td>\n",
       "    </tr>\n",
       "    <tr>\n",
       "      <td>Balochistan</td>\n",
       "      <td>17781</td>\n",
       "    </tr>\n",
       "    <tr>\n",
       "      <td>GB</td>\n",
       "      <td>6224</td>\n",
       "    </tr>\n",
       "    <tr>\n",
       "      <td>ICT</td>\n",
       "      <td>21257</td>\n",
       "    </tr>\n",
       "    <tr>\n",
       "      <td>KP</td>\n",
       "      <td>31568</td>\n",
       "    </tr>\n",
       "    <tr>\n",
       "      <td>Punjab</td>\n",
       "      <td>114762</td>\n",
       "    </tr>\n",
       "    <tr>\n",
       "      <td>Sindh</td>\n",
       "      <td>99117</td>\n",
       "    </tr>\n",
       "  </tbody>\n",
       "</table>\n",
       "</div>"
      ],
      "text/plain": [
       "              Cases\n",
       "Region             \n",
       "AJK            3037\n",
       "Balochistan   17781\n",
       "GB             6224\n",
       "ICT           21257\n",
       "KP            31568\n",
       "Punjab       114762\n",
       "Sindh         99117"
      ]
     },
     "execution_count": 85,
     "metadata": {},
     "output_type": "execute_result"
    }
   ],
   "source": [
    "total_suspectcases=sheet_1[sheet_1.Date==max(sheet_1.Date)].filter(['Region','Cases']).groupby('Region').agg('sum')\n",
    "total_suspectcases"
   ]
  },
  {
   "cell_type": "code",
   "execution_count": 86,
   "metadata": {},
   "outputs": [
    {
     "data": {
      "text/plain": [
       "<seaborn.axisgrid.FacetGrid at 0x19428a00f88>"
      ]
     },
     "execution_count": 86,
     "metadata": {},
     "output_type": "execute_result"
    },
    {
     "data": {
      "image/png": "[encoded data removed]",
      "text/plain": [
       "<Figure size 360x360 with 1 Axes>"
      ]
     },
     "metadata": {},
     "output_type": "display_data"
    }
   ],
   "source": [
    "sns.relplot(data=sheet_1,x='Cases',y='Confirmed')"
   ]
  },
  {
   "cell_type": "code",
   "execution_count": 87,
   "metadata": {},
   "outputs": [
    {
     "data": {
      "text/plain": [
       "<seaborn.axisgrid.FacetGrid at 0x1942897b5c8>"
      ]
     },
     "execution_count": 87,
     "metadata": {},
     "output_type": "execute_result"
    },
    {
     "data": {
      "image/png": "[encoded data removed]",
      "text/plain": [
       "<Figure size 456.6x360 with 1 Axes>"
      ]
     },
     "metadata": {},
     "output_type": "display_data"
    }
   ],
   "source": [
    "sns.relplot(data=sheet_1,x='Cases',y='Confirmed',hue='Region')"
   ]
  },
  {
   "cell_type": "code",
   "execution_count": 88,
   "metadata": {},
   "outputs": [
    {
     "data": {
      "text/plain": [
       "<seaborn.axisgrid.FacetGrid at 0x1942898d808>"
      ]
     },
     "execution_count": 88,
     "metadata": {},
     "output_type": "execute_result"
    },
    {
     "data": {
      "image/png": "[encoded data removed]",
      "text/plain": [
       "<Figure size 360x360 with 1 Axes>"
      ]
     },
     "metadata": {},
     "output_type": "display_data"
    }
   ],
   "source": [
    "sns.relplot(data=sheet_1,x='Cases',y='Home_quarantine')"
   ]
  },
  {
   "cell_type": "code",
   "execution_count": 89,
   "metadata": {},
   "outputs": [
    {
     "data": {
      "image/png": "[encoded data removed]",
      "text/plain": [
       "<Figure size 360x360 with 1 Axes>"
      ]
     },
     "metadata": {},
     "output_type": "display_data"
    }
   ],
   "source": [
    "sns.catplot(x='Recovered',y='Region',data=sheet_1);"
   ]
  },
  {
   "cell_type": "code",
   "execution_count": 90,
   "metadata": {},
   "outputs": [
    {
     "data": {
      "text/html": [
       "<div>\n",
       "<style scoped>\n",
       "    .dataframe tbody tr th:only-of-type {\n",
       "        vertical-align: middle;\n",
       "    }\n",
       "\n",
       "    .dataframe tbody tr th {\n",
       "        vertical-align: top;\n",
       "    }\n",
       "\n",
       "    .dataframe thead th {\n",
       "        text-align: right;\n",
       "    }\n",
       "</style>\n",
       "<table border=\"1\" class=\"dataframe\">\n",
       "  <thead>\n",
       "    <tr style=\"text-align: right;\">\n",
       "      <th></th>\n",
       "      <th>Cases</th>\n",
       "      <th>Confirmed</th>\n",
       "      <th>Recovered</th>\n",
       "      <th>Dead</th>\n",
       "    </tr>\n",
       "    <tr>\n",
       "      <th>Date</th>\n",
       "      <th></th>\n",
       "      <th></th>\n",
       "      <th></th>\n",
       "      <th></th>\n",
       "    </tr>\n",
       "  </thead>\n",
       "  <tbody>\n",
       "    <tr>\n",
       "      <td>2020-05-13</td>\n",
       "      <td>293746</td>\n",
       "      <td>34336</td>\n",
       "      <td>16911</td>\n",
       "      <td>737</td>\n",
       "    </tr>\n",
       "  </tbody>\n",
       "</table>\n",
       "</div>"
      ],
      "text/plain": [
       "             Cases  Confirmed  Recovered  Dead\n",
       "Date                                          \n",
       "2020-05-13  293746      34336      16911   737"
      ]
     },
     "execution_count": 90,
     "metadata": {},
     "output_type": "execute_result"
    }
   ],
   "source": [
    "sheet_1[sheet_1['Date']==max(sheet_1.Date)].filter(['Date','Cases','Confirmed','Recovered','Dead']).groupby('Date').agg('sum')"
   ]
  },
  {
   "cell_type": "code",
   "execution_count": 91,
   "metadata": {},
   "outputs": [],
   "source": [
    "week_data=sheet_1.filter(['Region','Date','New_tests','New_cases'])\n",
    "\n",
    "week_data.set_index('Date',inplace=True)\n",
    "wk_data=week_data.resample('W').sum()"
   ]
  },
  {
   "cell_type": "code",
   "execution_count": 92,
   "metadata": {},
   "outputs": [
    {
     "data": {
      "image/png": "[encoded data removed]",
      "text/plain": [
       "<Figure size 432x288 with 1 Axes>"
      ]
     },
     "metadata": {},
     "output_type": "display_data"
    }
   ],
   "source": [
    "wk_data.plot();"
   ]
  },
  {
   "cell_type": "code",
   "execution_count": null,
   "metadata": {},
   "outputs": [],
   "source": []
  },
  {
   "cell_type": "code",
   "execution_count": null,
   "metadata": {},
   "outputs": [],
   "source": []
  },
  {
   "cell_type": "markdown",
   "metadata": {},
   "source": [
    "**Cleaning Sheet 2**"
   ]
  },
  {
   "cell_type": "code",
   "execution_count": 93,
   "metadata": {},
   "outputs": [
    {
     "data": {
      "text/html": [
       "<div>\n",
       "<style scoped>\n",
       "    .dataframe tbody tr th:only-of-type {\n",
       "        vertical-align: middle;\n",
       "    }\n",
       "\n",
       "    .dataframe tbody tr th {\n",
       "        vertical-align: top;\n",
       "    }\n",
       "\n",
       "    .dataframe thead th {\n",
       "        text-align: right;\n",
       "    }\n",
       "</style>\n",
       "<table border=\"1\" class=\"dataframe\">\n",
       "  <thead>\n",
       "    <tr style=\"text-align: right;\">\n",
       "      <th></th>\n",
       "      <th>Date</th>\n",
       "      <th>Province Old</th>\n",
       "      <th>Suspected Cases Last Date</th>\n",
       "      <th>Suspected Cases Last 24 Hrs</th>\n",
       "      <th>Suspected Cases Cumulative</th>\n",
       "      <th>Lab Tests Last 24 Hrs</th>\n",
       "      <th>Lab Tests Cumulative</th>\n",
       "      <th>Confirmed Cases Last Date</th>\n",
       "      <th>Confirmed Cases Last 24 Hrs</th>\n",
       "      <th>Confirmed Cases Cumulative</th>\n",
       "      <th>...</th>\n",
       "      <th>Confirmed HW - Active Nurses</th>\n",
       "      <th>Confirmed HW - Active Others</th>\n",
       "      <th>Confirmed HW - Active Total</th>\n",
       "      <th>Confirmed HW - Active Isolation</th>\n",
       "      <th>Confirmed HW - Active Hospital</th>\n",
       "      <th>Confirmed HW - Active Hospital Stable</th>\n",
       "      <th>Confirmed HW - Active Hospital Ventilator</th>\n",
       "      <th>Confirmed HW - Active Recovered</th>\n",
       "      <th>Confirmed HW - Active Deaths</th>\n",
       "      <th>Unnamed: 53</th>\n",
       "    </tr>\n",
       "  </thead>\n",
       "  <tbody>\n",
       "    <tr>\n",
       "      <td>0</td>\n",
       "      <td>2020-04-04</td>\n",
       "      <td>AJK</td>\n",
       "      <td>322</td>\n",
       "      <td>21</td>\n",
       "      <td>343</td>\n",
       "      <td>21</td>\n",
       "      <td>343</td>\n",
       "      <td>9</td>\n",
       "      <td>2</td>\n",
       "      <td>11</td>\n",
       "      <td>...</td>\n",
       "      <td>0</td>\n",
       "      <td>0</td>\n",
       "      <td>0</td>\n",
       "      <td>0</td>\n",
       "      <td>0</td>\n",
       "      <td>0</td>\n",
       "      <td>0</td>\n",
       "      <td>0</td>\n",
       "      <td>0</td>\n",
       "      <td>NaN</td>\n",
       "    </tr>\n",
       "    <tr>\n",
       "      <td>1</td>\n",
       "      <td>2020-04-04</td>\n",
       "      <td>Balochistan</td>\n",
       "      <td>2171</td>\n",
       "      <td>230</td>\n",
       "      <td>2401</td>\n",
       "      <td>0</td>\n",
       "      <td>2401</td>\n",
       "      <td>169</td>\n",
       "      <td>6</td>\n",
       "      <td>175</td>\n",
       "      <td>...</td>\n",
       "      <td>0</td>\n",
       "      <td>0</td>\n",
       "      <td>0</td>\n",
       "      <td>0</td>\n",
       "      <td>0</td>\n",
       "      <td>0</td>\n",
       "      <td>0</td>\n",
       "      <td>0</td>\n",
       "      <td>0</td>\n",
       "      <td>NaN</td>\n",
       "    </tr>\n",
       "    <tr>\n",
       "      <td>2</td>\n",
       "      <td>2020-04-04</td>\n",
       "      <td>GB</td>\n",
       "      <td>961</td>\n",
       "      <td>2</td>\n",
       "      <td>963</td>\n",
       "      <td>844</td>\n",
       "      <td>860</td>\n",
       "      <td>190</td>\n",
       "      <td>3</td>\n",
       "      <td>193</td>\n",
       "      <td>...</td>\n",
       "      <td>0</td>\n",
       "      <td>0</td>\n",
       "      <td>0</td>\n",
       "      <td>0</td>\n",
       "      <td>0</td>\n",
       "      <td>0</td>\n",
       "      <td>0</td>\n",
       "      <td>0</td>\n",
       "      <td>0</td>\n",
       "      <td>NaN</td>\n",
       "    </tr>\n",
       "    <tr>\n",
       "      <td>3</td>\n",
       "      <td>2020-04-04</td>\n",
       "      <td>ICT</td>\n",
       "      <td>2395</td>\n",
       "      <td>174</td>\n",
       "      <td>2569</td>\n",
       "      <td>174</td>\n",
       "      <td>2569</td>\n",
       "      <td>68</td>\n",
       "      <td>7</td>\n",
       "      <td>75</td>\n",
       "      <td>...</td>\n",
       "      <td>0</td>\n",
       "      <td>0</td>\n",
       "      <td>0</td>\n",
       "      <td>0</td>\n",
       "      <td>0</td>\n",
       "      <td>0</td>\n",
       "      <td>0</td>\n",
       "      <td>0</td>\n",
       "      <td>0</td>\n",
       "      <td>NaN</td>\n",
       "    </tr>\n",
       "    <tr>\n",
       "      <td>4</td>\n",
       "      <td>2020-04-04</td>\n",
       "      <td>KP</td>\n",
       "      <td>1938</td>\n",
       "      <td>431</td>\n",
       "      <td>2369</td>\n",
       "      <td>181</td>\n",
       "      <td>1624</td>\n",
       "      <td>311</td>\n",
       "      <td>32</td>\n",
       "      <td>343</td>\n",
       "      <td>...</td>\n",
       "      <td>0</td>\n",
       "      <td>0</td>\n",
       "      <td>0</td>\n",
       "      <td>0</td>\n",
       "      <td>0</td>\n",
       "      <td>0</td>\n",
       "      <td>0</td>\n",
       "      <td>0</td>\n",
       "      <td>0</td>\n",
       "      <td>NaN</td>\n",
       "    </tr>\n",
       "  </tbody>\n",
       "</table>\n",
       "<p>5 rows × 54 columns</p>\n",
       "</div>"
      ],
      "text/plain": [
       "        Date Province Old  Suspected Cases Last Date  \\\n",
       "0 2020-04-04          AJK                        322   \n",
       "1 2020-04-04  Balochistan                       2171   \n",
       "2 2020-04-04           GB                        961   \n",
       "3 2020-04-04          ICT                       2395   \n",
       "4 2020-04-04           KP                       1938   \n",
       "\n",
       "   Suspected Cases Last 24 Hrs  Suspected Cases Cumulative  \\\n",
       "0                           21                         343   \n",
       "1                          230                        2401   \n",
       "2                            2                         963   \n",
       "3                          174                        2569   \n",
       "4                          431                        2369   \n",
       "\n",
       "   Lab Tests Last 24 Hrs  Lab Tests Cumulative  Confirmed Cases Last Date  \\\n",
       "0                     21                   343                          9   \n",
       "1                      0                  2401                        169   \n",
       "2                    844                   860                        190   \n",
       "3                    174                  2569                         68   \n",
       "4                    181                  1624                        311   \n",
       "\n",
       "   Confirmed Cases Last 24 Hrs  Confirmed Cases Cumulative  ...  \\\n",
       "0                            2                          11  ...   \n",
       "1                            6                         175  ...   \n",
       "2                            3                         193  ...   \n",
       "3                            7                          75  ...   \n",
       "4                           32                         343  ...   \n",
       "\n",
       "   Confirmed HW - Active Nurses  Confirmed HW - Active Others  \\\n",
       "0                             0                             0   \n",
       "1                             0                             0   \n",
       "2                             0                             0   \n",
       "3                             0                             0   \n",
       "4                             0                             0   \n",
       "\n",
       "   Confirmed HW - Active Total  Confirmed HW - Active Isolation  \\\n",
       "0                            0                                0   \n",
       "1                            0                                0   \n",
       "2                            0                                0   \n",
       "3                            0                                0   \n",
       "4                            0                                0   \n",
       "\n",
       "   Confirmed HW - Active Hospital  Confirmed HW - Active Hospital Stable  \\\n",
       "0                               0                                      0   \n",
       "1                               0                                      0   \n",
       "2                               0                                      0   \n",
       "3                               0                                      0   \n",
       "4                               0                                      0   \n",
       "\n",
       "   Confirmed HW - Active Hospital Ventilator  Confirmed HW - Active Recovered  \\\n",
       "0                                          0                                0   \n",
       "1                                          0                                0   \n",
       "2                                          0                                0   \n",
       "3                                          0                                0   \n",
       "4                                          0                                0   \n",
       "\n",
       "   Confirmed HW - Active Deaths  Unnamed: 53  \n",
       "0                             0          NaN  \n",
       "1                             0          NaN  \n",
       "2                             0          NaN  \n",
       "3                             0          NaN  \n",
       "4                             0          NaN  \n",
       "\n",
       "[5 rows x 54 columns]"
      ]
     },
     "execution_count": 93,
     "metadata": {},
     "output_type": "execute_result"
    }
   ],
   "source": [
    "sheet2=covid_data.parse('TimeSeries_KeyIndicators_Detail')  #Opening  second sheet \n",
    "sheet2.head()\n"
   ]
  },
  {
   "cell_type": "code",
   "execution_count": 94,
   "metadata": {},
   "outputs": [
    {
     "data": {
      "text/plain": [
       "(238, 54)"
      ]
     },
     "execution_count": 94,
     "metadata": {},
     "output_type": "execute_result"
    }
   ],
   "source": [
    "sheet2.shape"
   ]
  },
  {
   "cell_type": "code",
   "execution_count": 95,
   "metadata": {},
   "outputs": [
    {
     "data": {
      "text/plain": [
       "RangeIndex(start=0, stop=238, step=1)"
      ]
     },
     "execution_count": 95,
     "metadata": {},
     "output_type": "execute_result"
    }
   ],
   "source": [
    "sheet2.index"
   ]
  },
  {
   "cell_type": "code",
   "execution_count": 96,
   "metadata": {},
   "outputs": [
    {
     "data": {
      "text/plain": [
       "Index(['Date', 'Province Old', 'Suspected Cases Last Date',\n",
       "       'Suspected Cases Last 24 Hrs', 'Suspected Cases Cumulative',\n",
       "       'Lab Tests Last 24 Hrs', 'Lab Tests Cumulative',\n",
       "       'Confirmed Cases Last Date', 'Confirmed Cases Last 24 Hrs',\n",
       "       'Confirmed Cases Cumulative', ' Deaths Last Date',\n",
       "       ' Deaths Last 24 Hrs', ' Deaths Cumulative',\n",
       "       ' Deaths Ventilator Last 24 Hrs', 'Transmission Total',\n",
       "       'Transmission Foreign - Iran', 'Transmission Foreign - Iran %',\n",
       "       'Transmission Foreign - Other', 'Transmission Foreign - Other %',\n",
       "       'Transmission Local - Tableegh', 'Transmission Local % - Tableegh',\n",
       "       'Transmission Local - Others', 'Transmission Local % - Others',\n",
       "       'Transmission Local', 'Transmission Local %', 'Total Hospitals',\n",
       "       'Beds for COVID', 'Total Admitted', 'Admitted Stable',\n",
       "       'Admitted Critical', 'Admitted Venilator', 'Home Quarantine',\n",
       "       'Recovered', 'Death', 'Quarantine Facilities', 'Last 24 Hrs Arrival',\n",
       "       'Last 24 Hrs (Location)', 'Last 24 Hrs Departure',\n",
       "       'Cumulative Quarantined', 'Number of Tests', 'Results Achieved',\n",
       "       'Test Positive Cases', 'Test Positive Cases %',\n",
       "       'Confirmed HW - Active Doctors', 'Confirmed HW - Active Nurses',\n",
       "       'Confirmed HW - Active Others', 'Confirmed HW - Active Total',\n",
       "       'Confirmed HW - Active Isolation', 'Confirmed HW - Active Hospital',\n",
       "       'Confirmed HW - Active Hospital Stable',\n",
       "       'Confirmed HW - Active Hospital Ventilator',\n",
       "       'Confirmed HW - Active Recovered', 'Confirmed HW - Active Deaths',\n",
       "       'Unnamed: 53'],\n",
       "      dtype='object')"
      ]
     },
     "execution_count": 96,
     "metadata": {},
     "output_type": "execute_result"
    }
   ],
   "source": [
    "sheet2.columns"
   ]
  },
  {
   "cell_type": "code",
   "execution_count": 97,
   "metadata": {},
   "outputs": [
    {
     "data": {
      "text/html": [
       "<div>\n",
       "<style scoped>\n",
       "    .dataframe tbody tr th:only-of-type {\n",
       "        vertical-align: middle;\n",
       "    }\n",
       "\n",
       "    .dataframe tbody tr th {\n",
       "        vertical-align: top;\n",
       "    }\n",
       "\n",
       "    .dataframe thead th {\n",
       "        text-align: right;\n",
       "    }\n",
       "</style>\n",
       "<table border=\"1\" class=\"dataframe\">\n",
       "  <thead>\n",
       "    <tr style=\"text-align: right;\">\n",
       "      <th></th>\n",
       "      <th>Deaths Last 24 Hrs</th>\n",
       "      <th>Deaths Cumulative</th>\n",
       "      <th>Deaths Ventilator Last 24 Hrs</th>\n",
       "      <th>Transmission Total</th>\n",
       "      <th>Transmission Foreign - Iran</th>\n",
       "      <th>Transmission Foreign - Iran %</th>\n",
       "      <th>Transmission Foreign - Other</th>\n",
       "      <th>Transmission Foreign - Other %</th>\n",
       "      <th>Transmission Local - Tableegh</th>\n",
       "      <th>Transmission Local % - Tableegh</th>\n",
       "      <th>...</th>\n",
       "      <th>Confirmed HW - Active Nurses</th>\n",
       "      <th>Confirmed HW - Active Others</th>\n",
       "      <th>Confirmed HW - Active Total</th>\n",
       "      <th>Confirmed HW - Active Isolation</th>\n",
       "      <th>Confirmed HW - Active Hospital</th>\n",
       "      <th>Confirmed HW - Active Hospital Stable</th>\n",
       "      <th>Confirmed HW - Active Hospital Ventilator</th>\n",
       "      <th>Confirmed HW - Active Recovered</th>\n",
       "      <th>Confirmed HW - Active Deaths</th>\n",
       "      <th>Unnamed: 53</th>\n",
       "    </tr>\n",
       "  </thead>\n",
       "  <tbody>\n",
       "    <tr>\n",
       "      <td>0</td>\n",
       "      <td>0</td>\n",
       "      <td>0</td>\n",
       "      <td>0</td>\n",
       "      <td>11</td>\n",
       "      <td>1</td>\n",
       "      <td>0.09</td>\n",
       "      <td>2</td>\n",
       "      <td>0.18</td>\n",
       "      <td>0</td>\n",
       "      <td>0.00</td>\n",
       "      <td>...</td>\n",
       "      <td>0</td>\n",
       "      <td>0</td>\n",
       "      <td>0</td>\n",
       "      <td>0</td>\n",
       "      <td>0</td>\n",
       "      <td>0</td>\n",
       "      <td>0</td>\n",
       "      <td>0</td>\n",
       "      <td>0</td>\n",
       "      <td>NaN</td>\n",
       "    </tr>\n",
       "    <tr>\n",
       "      <td>1</td>\n",
       "      <td>0</td>\n",
       "      <td>1</td>\n",
       "      <td>0</td>\n",
       "      <td>175</td>\n",
       "      <td>139</td>\n",
       "      <td>0.79</td>\n",
       "      <td>2</td>\n",
       "      <td>0.01</td>\n",
       "      <td>0</td>\n",
       "      <td>0.00</td>\n",
       "      <td>...</td>\n",
       "      <td>0</td>\n",
       "      <td>0</td>\n",
       "      <td>0</td>\n",
       "      <td>0</td>\n",
       "      <td>0</td>\n",
       "      <td>0</td>\n",
       "      <td>0</td>\n",
       "      <td>0</td>\n",
       "      <td>0</td>\n",
       "      <td>NaN</td>\n",
       "    </tr>\n",
       "    <tr>\n",
       "      <td>2</td>\n",
       "      <td>0</td>\n",
       "      <td>3</td>\n",
       "      <td>0</td>\n",
       "      <td>193</td>\n",
       "      <td>155</td>\n",
       "      <td>0.80</td>\n",
       "      <td>5</td>\n",
       "      <td>0.03</td>\n",
       "      <td>0</td>\n",
       "      <td>0.00</td>\n",
       "      <td>...</td>\n",
       "      <td>0</td>\n",
       "      <td>0</td>\n",
       "      <td>0</td>\n",
       "      <td>0</td>\n",
       "      <td>0</td>\n",
       "      <td>0</td>\n",
       "      <td>0</td>\n",
       "      <td>0</td>\n",
       "      <td>0</td>\n",
       "      <td>NaN</td>\n",
       "    </tr>\n",
       "    <tr>\n",
       "      <td>3</td>\n",
       "      <td>0</td>\n",
       "      <td>0</td>\n",
       "      <td>0</td>\n",
       "      <td>75</td>\n",
       "      <td>0</td>\n",
       "      <td>0.00</td>\n",
       "      <td>17</td>\n",
       "      <td>0.23</td>\n",
       "      <td>0</td>\n",
       "      <td>0.00</td>\n",
       "      <td>...</td>\n",
       "      <td>0</td>\n",
       "      <td>0</td>\n",
       "      <td>0</td>\n",
       "      <td>0</td>\n",
       "      <td>0</td>\n",
       "      <td>0</td>\n",
       "      <td>0</td>\n",
       "      <td>0</td>\n",
       "      <td>0</td>\n",
       "      <td>NaN</td>\n",
       "    </tr>\n",
       "    <tr>\n",
       "      <td>4</td>\n",
       "      <td>2</td>\n",
       "      <td>11</td>\n",
       "      <td>0</td>\n",
       "      <td>343</td>\n",
       "      <td>69</td>\n",
       "      <td>0.20</td>\n",
       "      <td>163</td>\n",
       "      <td>0.48</td>\n",
       "      <td>0</td>\n",
       "      <td>0.00</td>\n",
       "      <td>...</td>\n",
       "      <td>0</td>\n",
       "      <td>0</td>\n",
       "      <td>0</td>\n",
       "      <td>0</td>\n",
       "      <td>0</td>\n",
       "      <td>0</td>\n",
       "      <td>0</td>\n",
       "      <td>0</td>\n",
       "      <td>0</td>\n",
       "      <td>NaN</td>\n",
       "    </tr>\n",
       "    <tr>\n",
       "      <td>...</td>\n",
       "      <td>...</td>\n",
       "      <td>...</td>\n",
       "      <td>...</td>\n",
       "      <td>...</td>\n",
       "      <td>...</td>\n",
       "      <td>...</td>\n",
       "      <td>...</td>\n",
       "      <td>...</td>\n",
       "      <td>...</td>\n",
       "      <td>...</td>\n",
       "      <td>...</td>\n",
       "      <td>...</td>\n",
       "      <td>...</td>\n",
       "      <td>...</td>\n",
       "      <td>...</td>\n",
       "      <td>...</td>\n",
       "      <td>...</td>\n",
       "      <td>...</td>\n",
       "      <td>...</td>\n",
       "      <td>...</td>\n",
       "      <td>...</td>\n",
       "    </tr>\n",
       "    <tr>\n",
       "      <td>233</td>\n",
       "      <td>0</td>\n",
       "      <td>4</td>\n",
       "      <td>0</td>\n",
       "      <td>475</td>\n",
       "      <td>166</td>\n",
       "      <td>0.35</td>\n",
       "      <td>5</td>\n",
       "      <td>0.01</td>\n",
       "      <td>27</td>\n",
       "      <td>0.06</td>\n",
       "      <td>...</td>\n",
       "      <td>3</td>\n",
       "      <td>2</td>\n",
       "      <td>21</td>\n",
       "      <td>26</td>\n",
       "      <td>0</td>\n",
       "      <td>7</td>\n",
       "      <td>7</td>\n",
       "      <td>0</td>\n",
       "      <td>17</td>\n",
       "      <td>2.0</td>\n",
       "    </tr>\n",
       "    <tr>\n",
       "      <td>234</td>\n",
       "      <td>0</td>\n",
       "      <td>6</td>\n",
       "      <td>0</td>\n",
       "      <td>759</td>\n",
       "      <td>0</td>\n",
       "      <td>0.00</td>\n",
       "      <td>18</td>\n",
       "      <td>0.02</td>\n",
       "      <td>12</td>\n",
       "      <td>0.02</td>\n",
       "      <td>...</td>\n",
       "      <td>49</td>\n",
       "      <td>29</td>\n",
       "      <td>21</td>\n",
       "      <td>99</td>\n",
       "      <td>89</td>\n",
       "      <td>2</td>\n",
       "      <td>2</td>\n",
       "      <td>0</td>\n",
       "      <td>7</td>\n",
       "      <td>1.0</td>\n",
       "    </tr>\n",
       "    <tr>\n",
       "      <td>235</td>\n",
       "      <td>10</td>\n",
       "      <td>267</td>\n",
       "      <td>10</td>\n",
       "      <td>5021</td>\n",
       "      <td>71</td>\n",
       "      <td>0.01</td>\n",
       "      <td>691</td>\n",
       "      <td>0.14</td>\n",
       "      <td>315</td>\n",
       "      <td>0.06</td>\n",
       "      <td>...</td>\n",
       "      <td>117</td>\n",
       "      <td>46</td>\n",
       "      <td>101</td>\n",
       "      <td>264</td>\n",
       "      <td>168</td>\n",
       "      <td>37</td>\n",
       "      <td>36</td>\n",
       "      <td>1</td>\n",
       "      <td>57</td>\n",
       "      <td>2.0</td>\n",
       "    </tr>\n",
       "    <tr>\n",
       "      <td>236</td>\n",
       "      <td>3</td>\n",
       "      <td>214</td>\n",
       "      <td>3</td>\n",
       "      <td>13225</td>\n",
       "      <td>768</td>\n",
       "      <td>0.06</td>\n",
       "      <td>1077</td>\n",
       "      <td>0.08</td>\n",
       "      <td>1926</td>\n",
       "      <td>0.15</td>\n",
       "      <td>...</td>\n",
       "      <td>85</td>\n",
       "      <td>46</td>\n",
       "      <td>53</td>\n",
       "      <td>184</td>\n",
       "      <td>23</td>\n",
       "      <td>89</td>\n",
       "      <td>89</td>\n",
       "      <td>0</td>\n",
       "      <td>72</td>\n",
       "      <td>0.0</td>\n",
       "    </tr>\n",
       "    <tr>\n",
       "      <td>237</td>\n",
       "      <td>18</td>\n",
       "      <td>218</td>\n",
       "      <td>18</td>\n",
       "      <td>12610</td>\n",
       "      <td>280</td>\n",
       "      <td>0.02</td>\n",
       "      <td>690</td>\n",
       "      <td>0.05</td>\n",
       "      <td>767</td>\n",
       "      <td>0.06</td>\n",
       "      <td>...</td>\n",
       "      <td>127</td>\n",
       "      <td>19</td>\n",
       "      <td>43</td>\n",
       "      <td>189</td>\n",
       "      <td>144</td>\n",
       "      <td>10</td>\n",
       "      <td>7</td>\n",
       "      <td>3</td>\n",
       "      <td>30</td>\n",
       "      <td>5.0</td>\n",
       "    </tr>\n",
       "  </tbody>\n",
       "</table>\n",
       "<p>238 rows × 43 columns</p>\n",
       "</div>"
      ],
      "text/plain": [
       "      Deaths Last 24 Hrs   Deaths Cumulative   Deaths Ventilator Last 24 Hrs  \\\n",
       "0                      0                   0                               0   \n",
       "1                      0                   1                               0   \n",
       "2                      0                   3                               0   \n",
       "3                      0                   0                               0   \n",
       "4                      2                  11                               0   \n",
       "..                   ...                 ...                             ...   \n",
       "233                    0                   4                               0   \n",
       "234                    0                   6                               0   \n",
       "235                   10                 267                              10   \n",
       "236                    3                 214                               3   \n",
       "237                   18                 218                              18   \n",
       "\n",
       "     Transmission Total  Transmission Foreign - Iran  \\\n",
       "0                    11                            1   \n",
       "1                   175                          139   \n",
       "2                   193                          155   \n",
       "3                    75                            0   \n",
       "4                   343                           69   \n",
       "..                  ...                          ...   \n",
       "233                 475                          166   \n",
       "234                 759                            0   \n",
       "235                5021                           71   \n",
       "236               13225                          768   \n",
       "237               12610                          280   \n",
       "\n",
       "     Transmission Foreign - Iran %  Transmission Foreign - Other  \\\n",
       "0                             0.09                             2   \n",
       "1                             0.79                             2   \n",
       "2                             0.80                             5   \n",
       "3                             0.00                            17   \n",
       "4                             0.20                           163   \n",
       "..                             ...                           ...   \n",
       "233                           0.35                             5   \n",
       "234                           0.00                            18   \n",
       "235                           0.01                           691   \n",
       "236                           0.06                          1077   \n",
       "237                           0.02                           690   \n",
       "\n",
       "     Transmission Foreign - Other %  Transmission Local - Tableegh  \\\n",
       "0                              0.18                              0   \n",
       "1                              0.01                              0   \n",
       "2                              0.03                              0   \n",
       "3                              0.23                              0   \n",
       "4                              0.48                              0   \n",
       "..                              ...                            ...   \n",
       "233                            0.01                             27   \n",
       "234                            0.02                             12   \n",
       "235                            0.14                            315   \n",
       "236                            0.08                           1926   \n",
       "237                            0.05                            767   \n",
       "\n",
       "     Transmission Local % - Tableegh  ...  Confirmed HW - Active Nurses  \\\n",
       "0                               0.00  ...                             0   \n",
       "1                               0.00  ...                             0   \n",
       "2                               0.00  ...                             0   \n",
       "3                               0.00  ...                             0   \n",
       "4                               0.00  ...                             0   \n",
       "..                               ...  ...                           ...   \n",
       "233                             0.06  ...                             3   \n",
       "234                             0.02  ...                            49   \n",
       "235                             0.06  ...                           117   \n",
       "236                             0.15  ...                            85   \n",
       "237                             0.06  ...                           127   \n",
       "\n",
       "     Confirmed HW - Active Others  Confirmed HW - Active Total  \\\n",
       "0                               0                            0   \n",
       "1                               0                            0   \n",
       "2                               0                            0   \n",
       "3                               0                            0   \n",
       "4                               0                            0   \n",
       "..                            ...                          ...   \n",
       "233                             2                           21   \n",
       "234                            29                           21   \n",
       "235                            46                          101   \n",
       "236                            46                           53   \n",
       "237                            19                           43   \n",
       "\n",
       "     Confirmed HW - Active Isolation  Confirmed HW - Active Hospital  \\\n",
       "0                                  0                               0   \n",
       "1                                  0                               0   \n",
       "2                                  0                               0   \n",
       "3                                  0                               0   \n",
       "4                                  0                               0   \n",
       "..                               ...                             ...   \n",
       "233                               26                               0   \n",
       "234                               99                              89   \n",
       "235                              264                             168   \n",
       "236                              184                              23   \n",
       "237                              189                             144   \n",
       "\n",
       "     Confirmed HW - Active Hospital Stable  \\\n",
       "0                                        0   \n",
       "1                                        0   \n",
       "2                                        0   \n",
       "3                                        0   \n",
       "4                                        0   \n",
       "..                                     ...   \n",
       "233                                      7   \n",
       "234                                      2   \n",
       "235                                     37   \n",
       "236                                     89   \n",
       "237                                     10   \n",
       "\n",
       "     Confirmed HW - Active Hospital Ventilator  \\\n",
       "0                                            0   \n",
       "1                                            0   \n",
       "2                                            0   \n",
       "3                                            0   \n",
       "4                                            0   \n",
       "..                                         ...   \n",
       "233                                          7   \n",
       "234                                          2   \n",
       "235                                         36   \n",
       "236                                         89   \n",
       "237                                          7   \n",
       "\n",
       "     Confirmed HW - Active Recovered  Confirmed HW - Active Deaths  \\\n",
       "0                                  0                             0   \n",
       "1                                  0                             0   \n",
       "2                                  0                             0   \n",
       "3                                  0                             0   \n",
       "4                                  0                             0   \n",
       "..                               ...                           ...   \n",
       "233                                0                            17   \n",
       "234                                0                             7   \n",
       "235                                1                            57   \n",
       "236                                0                            72   \n",
       "237                                3                            30   \n",
       "\n",
       "     Unnamed: 53  \n",
       "0            NaN  \n",
       "1            NaN  \n",
       "2            NaN  \n",
       "3            NaN  \n",
       "4            NaN  \n",
       "..           ...  \n",
       "233          2.0  \n",
       "234          1.0  \n",
       "235          2.0  \n",
       "236          0.0  \n",
       "237          5.0  \n",
       "\n",
       "[238 rows x 43 columns]"
      ]
     },
     "execution_count": 97,
     "metadata": {},
     "output_type": "execute_result"
    }
   ],
   "source": [
    "sheet2[sheet2.columns[11:]]"
   ]
  },
  {
   "cell_type": "code",
   "execution_count": 98,
   "metadata": {},
   "outputs": [],
   "source": [
    "sheet2.columns=sheet2.columns.str.strip().str.capitalize().str.replace(' ','_')"
   ]
  },
  {
   "cell_type": "code",
   "execution_count": 99,
   "metadata": {},
   "outputs": [
    {
     "data": {
      "text/plain": [
       "array(['AJK', 'Balochistan', 'GB', 'ICT', 'KP', 'Punjab', 'Sindh'],\n",
       "      dtype=object)"
      ]
     },
     "execution_count": 99,
     "metadata": {},
     "output_type": "execute_result"
    }
   ],
   "source": [
    "sheet2['Province_old'].unique()"
   ]
  },
  {
   "cell_type": "code",
   "execution_count": 100,
   "metadata": {},
   "outputs": [
    {
     "data": {
      "text/html": [
       "<div>\n",
       "<style scoped>\n",
       "    .dataframe tbody tr th:only-of-type {\n",
       "        vertical-align: middle;\n",
       "    }\n",
       "\n",
       "    .dataframe tbody tr th {\n",
       "        vertical-align: top;\n",
       "    }\n",
       "\n",
       "    .dataframe thead th {\n",
       "        text-align: right;\n",
       "    }\n",
       "</style>\n",
       "<table border=\"1\" class=\"dataframe\">\n",
       "  <thead>\n",
       "    <tr style=\"text-align: right;\">\n",
       "      <th></th>\n",
       "      <th>Date</th>\n",
       "      <th>Province_old</th>\n",
       "      <th>Suspected_cases_last_date</th>\n",
       "      <th>Suspected_cases_last_24_hrs</th>\n",
       "      <th>Suspected_cases_cumulative</th>\n",
       "      <th>Lab_tests_last_24_hrs</th>\n",
       "      <th>Lab_tests_cumulative</th>\n",
       "      <th>Confirmed_cases_last_date</th>\n",
       "      <th>Confirmed_cases_last_24_hrs</th>\n",
       "      <th>Confirmed_cases_cumulative</th>\n",
       "      <th>...</th>\n",
       "      <th>Confirmed_hw_-_active_nurses</th>\n",
       "      <th>Confirmed_hw_-_active_others</th>\n",
       "      <th>Confirmed_hw_-_active_total</th>\n",
       "      <th>Confirmed_hw_-_active_isolation</th>\n",
       "      <th>Confirmed_hw_-_active_hospital</th>\n",
       "      <th>Confirmed_hw_-_active_hospital_stable</th>\n",
       "      <th>Confirmed_hw_-_active_hospital_ventilator</th>\n",
       "      <th>Confirmed_hw_-_active_recovered</th>\n",
       "      <th>Confirmed_hw_-_active_deaths</th>\n",
       "      <th>Unnamed:_53</th>\n",
       "    </tr>\n",
       "  </thead>\n",
       "  <tbody>\n",
       "    <tr>\n",
       "      <td>0</td>\n",
       "      <td>2020-04-04</td>\n",
       "      <td>AJK</td>\n",
       "      <td>322</td>\n",
       "      <td>21</td>\n",
       "      <td>343</td>\n",
       "      <td>21</td>\n",
       "      <td>343</td>\n",
       "      <td>9</td>\n",
       "      <td>2</td>\n",
       "      <td>11</td>\n",
       "      <td>...</td>\n",
       "      <td>0</td>\n",
       "      <td>0</td>\n",
       "      <td>0</td>\n",
       "      <td>0</td>\n",
       "      <td>0</td>\n",
       "      <td>0</td>\n",
       "      <td>0</td>\n",
       "      <td>0</td>\n",
       "      <td>0</td>\n",
       "      <td>NaN</td>\n",
       "    </tr>\n",
       "    <tr>\n",
       "      <td>1</td>\n",
       "      <td>2020-04-04</td>\n",
       "      <td>Balochistan</td>\n",
       "      <td>2171</td>\n",
       "      <td>230</td>\n",
       "      <td>2401</td>\n",
       "      <td>0</td>\n",
       "      <td>2401</td>\n",
       "      <td>169</td>\n",
       "      <td>6</td>\n",
       "      <td>175</td>\n",
       "      <td>...</td>\n",
       "      <td>0</td>\n",
       "      <td>0</td>\n",
       "      <td>0</td>\n",
       "      <td>0</td>\n",
       "      <td>0</td>\n",
       "      <td>0</td>\n",
       "      <td>0</td>\n",
       "      <td>0</td>\n",
       "      <td>0</td>\n",
       "      <td>NaN</td>\n",
       "    </tr>\n",
       "    <tr>\n",
       "      <td>2</td>\n",
       "      <td>2020-04-04</td>\n",
       "      <td>GB</td>\n",
       "      <td>961</td>\n",
       "      <td>2</td>\n",
       "      <td>963</td>\n",
       "      <td>844</td>\n",
       "      <td>860</td>\n",
       "      <td>190</td>\n",
       "      <td>3</td>\n",
       "      <td>193</td>\n",
       "      <td>...</td>\n",
       "      <td>0</td>\n",
       "      <td>0</td>\n",
       "      <td>0</td>\n",
       "      <td>0</td>\n",
       "      <td>0</td>\n",
       "      <td>0</td>\n",
       "      <td>0</td>\n",
       "      <td>0</td>\n",
       "      <td>0</td>\n",
       "      <td>NaN</td>\n",
       "    </tr>\n",
       "    <tr>\n",
       "      <td>3</td>\n",
       "      <td>2020-04-04</td>\n",
       "      <td>ICT</td>\n",
       "      <td>2395</td>\n",
       "      <td>174</td>\n",
       "      <td>2569</td>\n",
       "      <td>174</td>\n",
       "      <td>2569</td>\n",
       "      <td>68</td>\n",
       "      <td>7</td>\n",
       "      <td>75</td>\n",
       "      <td>...</td>\n",
       "      <td>0</td>\n",
       "      <td>0</td>\n",
       "      <td>0</td>\n",
       "      <td>0</td>\n",
       "      <td>0</td>\n",
       "      <td>0</td>\n",
       "      <td>0</td>\n",
       "      <td>0</td>\n",
       "      <td>0</td>\n",
       "      <td>NaN</td>\n",
       "    </tr>\n",
       "    <tr>\n",
       "      <td>4</td>\n",
       "      <td>2020-04-04</td>\n",
       "      <td>KP</td>\n",
       "      <td>1938</td>\n",
       "      <td>431</td>\n",
       "      <td>2369</td>\n",
       "      <td>181</td>\n",
       "      <td>1624</td>\n",
       "      <td>311</td>\n",
       "      <td>32</td>\n",
       "      <td>343</td>\n",
       "      <td>...</td>\n",
       "      <td>0</td>\n",
       "      <td>0</td>\n",
       "      <td>0</td>\n",
       "      <td>0</td>\n",
       "      <td>0</td>\n",
       "      <td>0</td>\n",
       "      <td>0</td>\n",
       "      <td>0</td>\n",
       "      <td>0</td>\n",
       "      <td>NaN</td>\n",
       "    </tr>\n",
       "  </tbody>\n",
       "</table>\n",
       "<p>5 rows × 54 columns</p>\n",
       "</div>"
      ],
      "text/plain": [
       "        Date Province_old  Suspected_cases_last_date  \\\n",
       "0 2020-04-04          AJK                        322   \n",
       "1 2020-04-04  Balochistan                       2171   \n",
       "2 2020-04-04           GB                        961   \n",
       "3 2020-04-04          ICT                       2395   \n",
       "4 2020-04-04           KP                       1938   \n",
       "\n",
       "   Suspected_cases_last_24_hrs  Suspected_cases_cumulative  \\\n",
       "0                           21                         343   \n",
       "1                          230                        2401   \n",
       "2                            2                         963   \n",
       "3                          174                        2569   \n",
       "4                          431                        2369   \n",
       "\n",
       "   Lab_tests_last_24_hrs  Lab_tests_cumulative  Confirmed_cases_last_date  \\\n",
       "0                     21                   343                          9   \n",
       "1                      0                  2401                        169   \n",
       "2                    844                   860                        190   \n",
       "3                    174                  2569                         68   \n",
       "4                    181                  1624                        311   \n",
       "\n",
       "   Confirmed_cases_last_24_hrs  Confirmed_cases_cumulative  ...  \\\n",
       "0                            2                          11  ...   \n",
       "1                            6                         175  ...   \n",
       "2                            3                         193  ...   \n",
       "3                            7                          75  ...   \n",
       "4                           32                         343  ...   \n",
       "\n",
       "   Confirmed_hw_-_active_nurses  Confirmed_hw_-_active_others  \\\n",
       "0                             0                             0   \n",
       "1                             0                             0   \n",
       "2                             0                             0   \n",
       "3                             0                             0   \n",
       "4                             0                             0   \n",
       "\n",
       "   Confirmed_hw_-_active_total  Confirmed_hw_-_active_isolation  \\\n",
       "0                            0                                0   \n",
       "1                            0                                0   \n",
       "2                            0                                0   \n",
       "3                            0                                0   \n",
       "4                            0                                0   \n",
       "\n",
       "   Confirmed_hw_-_active_hospital  Confirmed_hw_-_active_hospital_stable  \\\n",
       "0                               0                                      0   \n",
       "1                               0                                      0   \n",
       "2                               0                                      0   \n",
       "3                               0                                      0   \n",
       "4                               0                                      0   \n",
       "\n",
       "   Confirmed_hw_-_active_hospital_ventilator  Confirmed_hw_-_active_recovered  \\\n",
       "0                                          0                                0   \n",
       "1                                          0                                0   \n",
       "2                                          0                                0   \n",
       "3                                          0                                0   \n",
       "4                                          0                                0   \n",
       "\n",
       "   Confirmed_hw_-_active_deaths  Unnamed:_53  \n",
       "0                             0          NaN  \n",
       "1                             0          NaN  \n",
       "2                             0          NaN  \n",
       "3                             0          NaN  \n",
       "4                             0          NaN  \n",
       "\n",
       "[5 rows x 54 columns]"
      ]
     },
     "execution_count": 100,
     "metadata": {},
     "output_type": "execute_result"
    }
   ],
   "source": [
    "sheet2.head()"
   ]
  },
  {
   "cell_type": "code",
   "execution_count": 101,
   "metadata": {},
   "outputs": [
    {
     "name": "stdout",
     "output_type": "stream",
     "text": [
      "<class 'pandas.core.frame.DataFrame'>\n",
      "RangeIndex: 238 entries, 0 to 237\n",
      "Data columns (total 54 columns):\n",
      "Date                                         238 non-null datetime64[ns]\n",
      "Province_old                                 238 non-null object\n",
      "Suspected_cases_last_date                    238 non-null int64\n",
      "Suspected_cases_last_24_hrs                  238 non-null int64\n",
      "Suspected_cases_cumulative                   238 non-null int64\n",
      "Lab_tests_last_24_hrs                        238 non-null int64\n",
      "Lab_tests_cumulative                         238 non-null int64\n",
      "Confirmed_cases_last_date                    238 non-null int64\n",
      "Confirmed_cases_last_24_hrs                  238 non-null int64\n",
      "Confirmed_cases_cumulative                   238 non-null int64\n",
      "Deaths_last_date                             238 non-null int64\n",
      "Deaths_last_24_hrs                           238 non-null int64\n",
      "Deaths_cumulative                            238 non-null int64\n",
      "Deaths_ventilator_last_24_hrs                238 non-null int64\n",
      "Transmission_total                           238 non-null int64\n",
      "Transmission_foreign_-_iran                  238 non-null int64\n",
      "Transmission_foreign_-_iran_%                238 non-null float64\n",
      "Transmission_foreign_-_other                 238 non-null int64\n",
      "Transmission_foreign_-_other_%               238 non-null float64\n",
      "Transmission_local_-_tableegh                238 non-null int64\n",
      "Transmission_local_%_-_tableegh              238 non-null float64\n",
      "Transmission_local_-_others                  238 non-null int64\n",
      "Transmission_local_%_-_others                238 non-null float64\n",
      "Transmission_local                           238 non-null int64\n",
      "Transmission_local_%                         238 non-null float64\n",
      "Total_hospitals                              238 non-null int64\n",
      "Beds_for_covid                               238 non-null int64\n",
      "Total_admitted                               238 non-null int64\n",
      "Admitted_stable                              238 non-null int64\n",
      "Admitted_critical                            238 non-null int64\n",
      "Admitted_venilator                           238 non-null int64\n",
      "Home_quarantine                              238 non-null int64\n",
      "Recovered                                    238 non-null int64\n",
      "Death                                        238 non-null int64\n",
      "Quarantine_facilities                        238 non-null int64\n",
      "Last_24_hrs_arrival                          238 non-null int64\n",
      "Last_24_hrs_(location)                       238 non-null int64\n",
      "Last_24_hrs_departure                        238 non-null int64\n",
      "Cumulative_quarantined                       238 non-null int64\n",
      "Number_of_tests                              238 non-null int64\n",
      "Results_achieved                             238 non-null int64\n",
      "Test_positive_cases                          238 non-null int64\n",
      "Test_positive_cases_%                        238 non-null float64\n",
      "Confirmed_hw_-_active_doctors                238 non-null float64\n",
      "Confirmed_hw_-_active_nurses                 238 non-null int64\n",
      "Confirmed_hw_-_active_others                 238 non-null int64\n",
      "Confirmed_hw_-_active_total                  238 non-null int64\n",
      "Confirmed_hw_-_active_isolation              238 non-null int64\n",
      "Confirmed_hw_-_active_hospital               238 non-null int64\n",
      "Confirmed_hw_-_active_hospital_stable        238 non-null int64\n",
      "Confirmed_hw_-_active_hospital_ventilator    238 non-null int64\n",
      "Confirmed_hw_-_active_recovered              238 non-null int64\n",
      "Confirmed_hw_-_active_deaths                 238 non-null int64\n",
      "Unnamed:_53                                  28 non-null float64\n",
      "dtypes: datetime64[ns](1), float64(8), int64(44), object(1)\n",
      "memory usage: 100.5+ KB\n"
     ]
    }
   ],
   "source": [
    "sheet2.info()                            "
   ]
  },
  {
   "cell_type": "code",
   "execution_count": 102,
   "metadata": {},
   "outputs": [
    {
     "data": {
      "text/plain": [
       "0"
      ]
     },
     "execution_count": 102,
     "metadata": {},
     "output_type": "execute_result"
    }
   ],
   "source": [
    "sheet2.duplicated().sum()"
   ]
  },
  {
   "cell_type": "code",
   "execution_count": 103,
   "metadata": {},
   "outputs": [
    {
     "data": {
      "text/plain": [
       "Date                                           0\n",
       "Province_old                                   0\n",
       "Suspected_cases_last_date                      0\n",
       "Suspected_cases_last_24_hrs                    0\n",
       "Suspected_cases_cumulative                     0\n",
       "Lab_tests_last_24_hrs                          0\n",
       "Lab_tests_cumulative                           0\n",
       "Confirmed_cases_last_date                      0\n",
       "Confirmed_cases_last_24_hrs                    0\n",
       "Confirmed_cases_cumulative                     0\n",
       "Deaths_last_date                               0\n",
       "Deaths_last_24_hrs                             0\n",
       "Deaths_cumulative                              0\n",
       "Deaths_ventilator_last_24_hrs                  0\n",
       "Transmission_total                             0\n",
       "Transmission_foreign_-_iran                    0\n",
       "Transmission_foreign_-_iran_%                  0\n",
       "Transmission_foreign_-_other                   0\n",
       "Transmission_foreign_-_other_%                 0\n",
       "Transmission_local_-_tableegh                  0\n",
       "Transmission_local_%_-_tableegh                0\n",
       "Transmission_local_-_others                    0\n",
       "Transmission_local_%_-_others                  0\n",
       "Transmission_local                             0\n",
       "Transmission_local_%                           0\n",
       "Total_hospitals                                0\n",
       "Beds_for_covid                                 0\n",
       "Total_admitted                                 0\n",
       "Admitted_stable                                0\n",
       "Admitted_critical                              0\n",
       "Admitted_venilator                             0\n",
       "Home_quarantine                                0\n",
       "Recovered                                      0\n",
       "Death                                          0\n",
       "Quarantine_facilities                          0\n",
       "Last_24_hrs_arrival                            0\n",
       "Last_24_hrs_(location)                         0\n",
       "Last_24_hrs_departure                          0\n",
       "Cumulative_quarantined                         0\n",
       "Number_of_tests                                0\n",
       "Results_achieved                               0\n",
       "Test_positive_cases                            0\n",
       "Test_positive_cases_%                          0\n",
       "Confirmed_hw_-_active_doctors                  0\n",
       "Confirmed_hw_-_active_nurses                   0\n",
       "Confirmed_hw_-_active_others                   0\n",
       "Confirmed_hw_-_active_total                    0\n",
       "Confirmed_hw_-_active_isolation                0\n",
       "Confirmed_hw_-_active_hospital                 0\n",
       "Confirmed_hw_-_active_hospital_stable          0\n",
       "Confirmed_hw_-_active_hospital_ventilator      0\n",
       "Confirmed_hw_-_active_recovered                0\n",
       "Confirmed_hw_-_active_deaths                   0\n",
       "Unnamed:_53                                  210\n",
       "dtype: int64"
      ]
     },
     "execution_count": 103,
     "metadata": {},
     "output_type": "execute_result"
    }
   ],
   "source": [
    "sheet2.isnull().sum()"
   ]
  },
  {
   "cell_type": "code",
   "execution_count": 104,
   "metadata": {},
   "outputs": [
    {
     "data": {
      "text/plain": [
       "Date                                           0\n",
       "Province_old                                   0\n",
       "Suspected_cases_last_date                      0\n",
       "Suspected_cases_last_24_hrs                    0\n",
       "Suspected_cases_cumulative                     0\n",
       "Lab_tests_last_24_hrs                          1\n",
       "Lab_tests_cumulative                           0\n",
       "Confirmed_cases_last_date                      0\n",
       "Confirmed_cases_last_24_hrs                   14\n",
       "Confirmed_cases_cumulative                     0\n",
       "Deaths_last_date                              37\n",
       "Deaths_last_24_hrs                           120\n",
       "Deaths_cumulative                             35\n",
       "Deaths_ventilator_last_24_hrs                196\n",
       "Transmission_total                             0\n",
       "Transmission_foreign_-_iran                   34\n",
       "Transmission_foreign_-_iran_%                 34\n",
       "Transmission_foreign_-_other                   0\n",
       "Transmission_foreign_-_other_%                18\n",
       "Transmission_local_-_tableegh                 24\n",
       "Transmission_local_%_-_tableegh               24\n",
       "Transmission_local_-_others                   24\n",
       "Transmission_local_%_-_others                 24\n",
       "Transmission_local                             0\n",
       "Transmission_local_%                           0\n",
       "Total_hospitals                                0\n",
       "Beds_for_covid                                 0\n",
       "Total_admitted                                 1\n",
       "Admitted_stable                                0\n",
       "Admitted_critical                             82\n",
       "Admitted_venilator                           183\n",
       "Home_quarantine                               41\n",
       "Recovered                                      5\n",
       "Death                                         33\n",
       "Quarantine_facilities                          2\n",
       "Last_24_hrs_arrival                          108\n",
       "Last_24_hrs_(location)                       224\n",
       "Last_24_hrs_departure                        109\n",
       "Cumulative_quarantined                         8\n",
       "Number_of_tests                                8\n",
       "Results_achieved                               1\n",
       "Test_positive_cases                            1\n",
       "Test_positive_cases_%                          1\n",
       "Confirmed_hw_-_active_doctors                126\n",
       "Confirmed_hw_-_active_nurses                 143\n",
       "Confirmed_hw_-_active_others                 130\n",
       "Confirmed_hw_-_active_total                  126\n",
       "Confirmed_hw_-_active_isolation              162\n",
       "Confirmed_hw_-_active_hospital               157\n",
       "Confirmed_hw_-_active_hospital_stable        154\n",
       "Confirmed_hw_-_active_hospital_ventilator    214\n",
       "Confirmed_hw_-_active_recovered              150\n",
       "Confirmed_hw_-_active_deaths                 162\n",
       "Unnamed:_53                                    8\n",
       "dtype: int64"
      ]
     },
     "execution_count": 104,
     "metadata": {},
     "output_type": "execute_result"
    }
   ],
   "source": [
    "sheet2.isin([0]).sum()    #where column has 0 values"
   ]
  },
  {
   "cell_type": "code",
   "execution_count": 105,
   "metadata": {},
   "outputs": [
    {
     "data": {
      "text/plain": [
       "Date                                         False\n",
       "Province_old                                 False\n",
       "Suspected_cases_last_date                    False\n",
       "Suspected_cases_last_24_hrs                  False\n",
       "Suspected_cases_cumulative                   False\n",
       "Lab_tests_last_24_hrs                        False\n",
       "Lab_tests_cumulative                         False\n",
       "Confirmed_cases_last_date                    False\n",
       "Confirmed_cases_last_24_hrs                  False\n",
       "Confirmed_cases_cumulative                   False\n",
       "Deaths_last_date                             False\n",
       "Deaths_last_24_hrs                            True\n",
       "Deaths_cumulative                            False\n",
       "Deaths_ventilator_last_24_hrs                 True\n",
       "Transmission_total                           False\n",
       "Transmission_foreign_-_iran                  False\n",
       "Transmission_foreign_-_iran_%                False\n",
       "Transmission_foreign_-_other                 False\n",
       "Transmission_foreign_-_other_%               False\n",
       "Transmission_local_-_tableegh                False\n",
       "Transmission_local_%_-_tableegh              False\n",
       "Transmission_local_-_others                  False\n",
       "Transmission_local_%_-_others                False\n",
       "Transmission_local                           False\n",
       "Transmission_local_%                         False\n",
       "Total_hospitals                              False\n",
       "Beds_for_covid                               False\n",
       "Total_admitted                               False\n",
       "Admitted_stable                              False\n",
       "Admitted_critical                            False\n",
       "Admitted_venilator                            True\n",
       "Home_quarantine                              False\n",
       "Recovered                                    False\n",
       "Death                                        False\n",
       "Quarantine_facilities                        False\n",
       "Last_24_hrs_arrival                          False\n",
       "Last_24_hrs_(location)                        True\n",
       "Last_24_hrs_departure                        False\n",
       "Cumulative_quarantined                       False\n",
       "Number_of_tests                              False\n",
       "Results_achieved                             False\n",
       "Test_positive_cases                          False\n",
       "Test_positive_cases_%                        False\n",
       "Confirmed_hw_-_active_doctors                 True\n",
       "Confirmed_hw_-_active_nurses                  True\n",
       "Confirmed_hw_-_active_others                  True\n",
       "Confirmed_hw_-_active_total                   True\n",
       "Confirmed_hw_-_active_isolation               True\n",
       "Confirmed_hw_-_active_hospital                True\n",
       "Confirmed_hw_-_active_hospital_stable         True\n",
       "Confirmed_hw_-_active_hospital_ventilator     True\n",
       "Confirmed_hw_-_active_recovered               True\n",
       "Confirmed_hw_-_active_deaths                  True\n",
       "Unnamed:_53                                  False\n",
       "dtype: bool"
      ]
     },
     "execution_count": 105,
     "metadata": {},
     "output_type": "execute_result"
    }
   ],
   "source": [
    "sheet2.isin([0]).sum()>=len(sheet2)/2   #which columns has 0 values equal or more than number of enteries or length of dataframe"
   ]
  },
  {
   "cell_type": "code",
   "execution_count": 106,
   "metadata": {},
   "outputs": [
    {
     "data": {
      "text/plain": [
       "(array([11, 13, 30, 36, 43, 44, 45, 46, 47, 48, 49, 50, 51, 52],\n",
       "       dtype=int64),)"
      ]
     },
     "execution_count": 106,
     "metadata": {},
     "output_type": "execute_result"
    }
   ],
   "source": [
    "cols=np.where(((sheet2.isin([0]).sum())>=(len(sheet2)/2))==True)\n",
    "cols"
   ]
  },
  {
   "cell_type": "markdown",
   "metadata": {},
   "source": [
    "**Dropping Columns more than length of datatframe or enteries**"
   ]
  },
  {
   "cell_type": "code",
   "execution_count": 107,
   "metadata": {},
   "outputs": [],
   "source": [
    "sheet2.drop(sheet2.columns[cols],axis=1,inplace=True)"
   ]
  },
  {
   "cell_type": "code",
   "execution_count": 108,
   "metadata": {},
   "outputs": [
    {
     "name": "stdout",
     "output_type": "stream",
     "text": [
      "<class 'pandas.core.frame.DataFrame'>\n",
      "RangeIndex: 238 entries, 0 to 237\n",
      "Data columns (total 40 columns):\n",
      "Date                               238 non-null datetime64[ns]\n",
      "Province_old                       238 non-null object\n",
      "Suspected_cases_last_date          238 non-null int64\n",
      "Suspected_cases_last_24_hrs        238 non-null int64\n",
      "Suspected_cases_cumulative         238 non-null int64\n",
      "Lab_tests_last_24_hrs              238 non-null int64\n",
      "Lab_tests_cumulative               238 non-null int64\n",
      "Confirmed_cases_last_date          238 non-null int64\n",
      "Confirmed_cases_last_24_hrs        238 non-null int64\n",
      "Confirmed_cases_cumulative         238 non-null int64\n",
      "Deaths_last_date                   238 non-null int64\n",
      "Deaths_cumulative                  238 non-null int64\n",
      "Transmission_total                 238 non-null int64\n",
      "Transmission_foreign_-_iran        238 non-null int64\n",
      "Transmission_foreign_-_iran_%      238 non-null float64\n",
      "Transmission_foreign_-_other       238 non-null int64\n",
      "Transmission_foreign_-_other_%     238 non-null float64\n",
      "Transmission_local_-_tableegh      238 non-null int64\n",
      "Transmission_local_%_-_tableegh    238 non-null float64\n",
      "Transmission_local_-_others        238 non-null int64\n",
      "Transmission_local_%_-_others      238 non-null float64\n",
      "Transmission_local                 238 non-null int64\n",
      "Transmission_local_%               238 non-null float64\n",
      "Total_hospitals                    238 non-null int64\n",
      "Beds_for_covid                     238 non-null int64\n",
      "Total_admitted                     238 non-null int64\n",
      "Admitted_stable                    238 non-null int64\n",
      "Admitted_critical                  238 non-null int64\n",
      "Home_quarantine                    238 non-null int64\n",
      "Recovered                          238 non-null int64\n",
      "Death                              238 non-null int64\n",
      "Quarantine_facilities              238 non-null int64\n",
      "Last_24_hrs_arrival                238 non-null int64\n",
      "Last_24_hrs_departure              238 non-null int64\n",
      "Cumulative_quarantined             238 non-null int64\n",
      "Number_of_tests                    238 non-null int64\n",
      "Results_achieved                   238 non-null int64\n",
      "Test_positive_cases                238 non-null int64\n",
      "Test_positive_cases_%              238 non-null float64\n",
      "Unnamed:_53                        28 non-null float64\n",
      "dtypes: datetime64[ns](1), float64(7), int64(31), object(1)\n",
      "memory usage: 74.5+ KB\n"
     ]
    }
   ],
   "source": [
    "sheet2.info()"
   ]
  },
  {
   "cell_type": "code",
   "execution_count": 109,
   "metadata": {},
   "outputs": [
    {
     "data": {
      "text/html": [
       "<div>\n",
       "<style scoped>\n",
       "    .dataframe tbody tr th:only-of-type {\n",
       "        vertical-align: middle;\n",
       "    }\n",
       "\n",
       "    .dataframe tbody tr th {\n",
       "        vertical-align: top;\n",
       "    }\n",
       "\n",
       "    .dataframe thead th {\n",
       "        text-align: right;\n",
       "    }\n",
       "</style>\n",
       "<table border=\"1\" class=\"dataframe\">\n",
       "  <thead>\n",
       "    <tr style=\"text-align: right;\">\n",
       "      <th></th>\n",
       "      <th>Date</th>\n",
       "      <th>Province_old</th>\n",
       "      <th>Suspected_cases_last_date</th>\n",
       "      <th>Suspected_cases_last_24_hrs</th>\n",
       "      <th>Suspected_cases_cumulative</th>\n",
       "      <th>Lab_tests_last_24_hrs</th>\n",
       "      <th>Lab_tests_cumulative</th>\n",
       "      <th>Confirmed_cases_last_date</th>\n",
       "      <th>Confirmed_cases_last_24_hrs</th>\n",
       "      <th>Confirmed_cases_cumulative</th>\n",
       "      <th>...</th>\n",
       "      <th>Death</th>\n",
       "      <th>Quarantine_facilities</th>\n",
       "      <th>Last_24_hrs_arrival</th>\n",
       "      <th>Last_24_hrs_departure</th>\n",
       "      <th>Cumulative_quarantined</th>\n",
       "      <th>Number_of_tests</th>\n",
       "      <th>Results_achieved</th>\n",
       "      <th>Test_positive_cases</th>\n",
       "      <th>Test_positive_cases_%</th>\n",
       "      <th>Unnamed:_53</th>\n",
       "    </tr>\n",
       "  </thead>\n",
       "  <tbody>\n",
       "    <tr>\n",
       "      <td>0</td>\n",
       "      <td>2020-04-04</td>\n",
       "      <td>AJK</td>\n",
       "      <td>322</td>\n",
       "      <td>21</td>\n",
       "      <td>343</td>\n",
       "      <td>21</td>\n",
       "      <td>343</td>\n",
       "      <td>9</td>\n",
       "      <td>2</td>\n",
       "      <td>11</td>\n",
       "      <td>...</td>\n",
       "      <td>0</td>\n",
       "      <td>57</td>\n",
       "      <td>10</td>\n",
       "      <td>61</td>\n",
       "      <td>192</td>\n",
       "      <td>107</td>\n",
       "      <td>102</td>\n",
       "      <td>5</td>\n",
       "      <td>0.05</td>\n",
       "      <td>NaN</td>\n",
       "    </tr>\n",
       "    <tr>\n",
       "      <td>1</td>\n",
       "      <td>2020-04-04</td>\n",
       "      <td>Balochistan</td>\n",
       "      <td>2171</td>\n",
       "      <td>230</td>\n",
       "      <td>2401</td>\n",
       "      <td>0</td>\n",
       "      <td>2401</td>\n",
       "      <td>169</td>\n",
       "      <td>6</td>\n",
       "      <td>175</td>\n",
       "      <td>...</td>\n",
       "      <td>1</td>\n",
       "      <td>68</td>\n",
       "      <td>17</td>\n",
       "      <td>0</td>\n",
       "      <td>273</td>\n",
       "      <td>230</td>\n",
       "      <td>230</td>\n",
       "      <td>6</td>\n",
       "      <td>0.03</td>\n",
       "      <td>NaN</td>\n",
       "    </tr>\n",
       "    <tr>\n",
       "      <td>2</td>\n",
       "      <td>2020-04-04</td>\n",
       "      <td>GB</td>\n",
       "      <td>961</td>\n",
       "      <td>2</td>\n",
       "      <td>963</td>\n",
       "      <td>844</td>\n",
       "      <td>860</td>\n",
       "      <td>190</td>\n",
       "      <td>3</td>\n",
       "      <td>193</td>\n",
       "      <td>...</td>\n",
       "      <td>3</td>\n",
       "      <td>47</td>\n",
       "      <td>0</td>\n",
       "      <td>232</td>\n",
       "      <td>274</td>\n",
       "      <td>963</td>\n",
       "      <td>860</td>\n",
       "      <td>193</td>\n",
       "      <td>0.23</td>\n",
       "      <td>NaN</td>\n",
       "    </tr>\n",
       "    <tr>\n",
       "      <td>3</td>\n",
       "      <td>2020-04-04</td>\n",
       "      <td>ICT</td>\n",
       "      <td>2395</td>\n",
       "      <td>174</td>\n",
       "      <td>2569</td>\n",
       "      <td>174</td>\n",
       "      <td>2569</td>\n",
       "      <td>68</td>\n",
       "      <td>7</td>\n",
       "      <td>75</td>\n",
       "      <td>...</td>\n",
       "      <td>0</td>\n",
       "      <td>6</td>\n",
       "      <td>213</td>\n",
       "      <td>0</td>\n",
       "      <td>243</td>\n",
       "      <td>213</td>\n",
       "      <td>27</td>\n",
       "      <td>2</td>\n",
       "      <td>0.07</td>\n",
       "      <td>NaN</td>\n",
       "    </tr>\n",
       "    <tr>\n",
       "      <td>4</td>\n",
       "      <td>2020-04-04</td>\n",
       "      <td>KP</td>\n",
       "      <td>1938</td>\n",
       "      <td>431</td>\n",
       "      <td>2369</td>\n",
       "      <td>181</td>\n",
       "      <td>1624</td>\n",
       "      <td>311</td>\n",
       "      <td>32</td>\n",
       "      <td>343</td>\n",
       "      <td>...</td>\n",
       "      <td>11</td>\n",
       "      <td>102</td>\n",
       "      <td>113</td>\n",
       "      <td>140</td>\n",
       "      <td>3306</td>\n",
       "      <td>1640</td>\n",
       "      <td>1011</td>\n",
       "      <td>293</td>\n",
       "      <td>0.29</td>\n",
       "      <td>NaN</td>\n",
       "    </tr>\n",
       "  </tbody>\n",
       "</table>\n",
       "<p>5 rows × 40 columns</p>\n",
       "</div>"
      ],
      "text/plain": [
       "        Date Province_old  Suspected_cases_last_date  \\\n",
       "0 2020-04-04          AJK                        322   \n",
       "1 2020-04-04  Balochistan                       2171   \n",
       "2 2020-04-04           GB                        961   \n",
       "3 2020-04-04          ICT                       2395   \n",
       "4 2020-04-04           KP                       1938   \n",
       "\n",
       "   Suspected_cases_last_24_hrs  Suspected_cases_cumulative  \\\n",
       "0                           21                         343   \n",
       "1                          230                        2401   \n",
       "2                            2                         963   \n",
       "3                          174                        2569   \n",
       "4                          431                        2369   \n",
       "\n",
       "   Lab_tests_last_24_hrs  Lab_tests_cumulative  Confirmed_cases_last_date  \\\n",
       "0                     21                   343                          9   \n",
       "1                      0                  2401                        169   \n",
       "2                    844                   860                        190   \n",
       "3                    174                  2569                         68   \n",
       "4                    181                  1624                        311   \n",
       "\n",
       "   Confirmed_cases_last_24_hrs  Confirmed_cases_cumulative  ...  Death  \\\n",
       "0                            2                          11  ...      0   \n",
       "1                            6                         175  ...      1   \n",
       "2                            3                         193  ...      3   \n",
       "3                            7                          75  ...      0   \n",
       "4                           32                         343  ...     11   \n",
       "\n",
       "   Quarantine_facilities  Last_24_hrs_arrival  Last_24_hrs_departure  \\\n",
       "0                     57                   10                     61   \n",
       "1                     68                   17                      0   \n",
       "2                     47                    0                    232   \n",
       "3                      6                  213                      0   \n",
       "4                    102                  113                    140   \n",
       "\n",
       "   Cumulative_quarantined  Number_of_tests  Results_achieved  \\\n",
       "0                     192              107               102   \n",
       "1                     273              230               230   \n",
       "2                     274              963               860   \n",
       "3                     243              213                27   \n",
       "4                    3306             1640              1011   \n",
       "\n",
       "   Test_positive_cases  Test_positive_cases_%  Unnamed:_53  \n",
       "0                    5                   0.05          NaN  \n",
       "1                    6                   0.03          NaN  \n",
       "2                  193                   0.23          NaN  \n",
       "3                    2                   0.07          NaN  \n",
       "4                  293                   0.29          NaN  \n",
       "\n",
       "[5 rows x 40 columns]"
      ]
     },
     "execution_count": 109,
     "metadata": {},
     "output_type": "execute_result"
    }
   ],
   "source": [
    "sheet2.head()"
   ]
  },
  {
   "cell_type": "code",
   "execution_count": 110,
   "metadata": {},
   "outputs": [
    {
     "data": {
      "text/plain": [
       "Date                                 0\n",
       "Province_old                         0\n",
       "Suspected_cases_last_date            0\n",
       "Suspected_cases_last_24_hrs          0\n",
       "Suspected_cases_cumulative           0\n",
       "Lab_tests_last_24_hrs                0\n",
       "Lab_tests_cumulative                 0\n",
       "Confirmed_cases_last_date            0\n",
       "Confirmed_cases_last_24_hrs          0\n",
       "Confirmed_cases_cumulative           0\n",
       "Deaths_last_date                     0\n",
       "Deaths_cumulative                    0\n",
       "Transmission_total                   0\n",
       "Transmission_foreign_-_iran          0\n",
       "Transmission_foreign_-_iran_%        0\n",
       "Transmission_foreign_-_other         0\n",
       "Transmission_foreign_-_other_%       0\n",
       "Transmission_local_-_tableegh        0\n",
       "Transmission_local_%_-_tableegh      0\n",
       "Transmission_local_-_others          0\n",
       "Transmission_local_%_-_others        0\n",
       "Transmission_local                   0\n",
       "Transmission_local_%                 0\n",
       "Total_hospitals                      0\n",
       "Beds_for_covid                       0\n",
       "Total_admitted                       0\n",
       "Admitted_stable                      0\n",
       "Admitted_critical                    0\n",
       "Home_quarantine                      0\n",
       "Recovered                            0\n",
       "Death                                0\n",
       "Quarantine_facilities                0\n",
       "Last_24_hrs_arrival                  0\n",
       "Last_24_hrs_departure                0\n",
       "Cumulative_quarantined               0\n",
       "Number_of_tests                      0\n",
       "Results_achieved                     0\n",
       "Test_positive_cases                  0\n",
       "Test_positive_cases_%                0\n",
       "Unnamed:_53                        210\n",
       "dtype: int64"
      ]
     },
     "execution_count": 110,
     "metadata": {},
     "output_type": "execute_result"
    }
   ],
   "source": [
    "sheet2.isin(['.','?','na','NA','N/A',np.nan,'No 0']).sum()"
   ]
  },
  {
   "cell_type": "code",
   "execution_count": 111,
   "metadata": {},
   "outputs": [
    {
     "data": {
      "text/plain": [
       "(238, 39)"
      ]
     },
     "execution_count": 111,
     "metadata": {},
     "output_type": "execute_result"
    }
   ],
   "source": [
    "sheet2.drop('Unnamed:_53',axis=1,inplace=True)\n",
    "sheet2.shape"
   ]
  },
  {
   "cell_type": "code",
   "execution_count": 112,
   "metadata": {},
   "outputs": [
    {
     "name": "stdout",
     "output_type": "stream",
     "text": [
      "<class 'pandas.core.frame.DataFrame'>\n",
      "RangeIndex: 238 entries, 0 to 237\n",
      "Data columns (total 39 columns):\n",
      "Date                               238 non-null datetime64[ns]\n",
      "Province_old                       238 non-null object\n",
      "Suspected_cases_last_date          238 non-null int64\n",
      "Suspected_cases_last_24_hrs        238 non-null int64\n",
      "Suspected_cases_cumulative         238 non-null int64\n",
      "Lab_tests_last_24_hrs              238 non-null int64\n",
      "Lab_tests_cumulative               238 non-null int64\n",
      "Confirmed_cases_last_date          238 non-null int64\n",
      "Confirmed_cases_last_24_hrs        238 non-null int64\n",
      "Confirmed_cases_cumulative         238 non-null int64\n",
      "Deaths_last_date                   238 non-null int64\n",
      "Deaths_cumulative                  238 non-null int64\n",
      "Transmission_total                 238 non-null int64\n",
      "Transmission_foreign_-_iran        238 non-null int64\n",
      "Transmission_foreign_-_iran_%      238 non-null float64\n",
      "Transmission_foreign_-_other       238 non-null int64\n",
      "Transmission_foreign_-_other_%     238 non-null float64\n",
      "Transmission_local_-_tableegh      238 non-null int64\n",
      "Transmission_local_%_-_tableegh    238 non-null float64\n",
      "Transmission_local_-_others        238 non-null int64\n",
      "Transmission_local_%_-_others      238 non-null float64\n",
      "Transmission_local                 238 non-null int64\n",
      "Transmission_local_%               238 non-null float64\n",
      "Total_hospitals                    238 non-null int64\n",
      "Beds_for_covid                     238 non-null int64\n",
      "Total_admitted                     238 non-null int64\n",
      "Admitted_stable                    238 non-null int64\n",
      "Admitted_critical                  238 non-null int64\n",
      "Home_quarantine                    238 non-null int64\n",
      "Recovered                          238 non-null int64\n",
      "Death                              238 non-null int64\n",
      "Quarantine_facilities              238 non-null int64\n",
      "Last_24_hrs_arrival                238 non-null int64\n",
      "Last_24_hrs_departure              238 non-null int64\n",
      "Cumulative_quarantined             238 non-null int64\n",
      "Number_of_tests                    238 non-null int64\n",
      "Results_achieved                   238 non-null int64\n",
      "Test_positive_cases                238 non-null int64\n",
      "Test_positive_cases_%              238 non-null float64\n",
      "dtypes: datetime64[ns](1), float64(6), int64(31), object(1)\n",
      "memory usage: 72.6+ KB\n"
     ]
    }
   ],
   "source": [
    "sheet2.info()"
   ]
  },
  {
   "cell_type": "code",
   "execution_count": 113,
   "metadata": {},
   "outputs": [],
   "source": [
    "sheet2.rename(columns={'Province_old':'Region','Suspected_cases_last_date':'Cases(till)','Suspected_cases_last_24_hrs':'Cases (24 hrs)','Suspected_cases_cumulative':'Total_cases','Lab_tests_last_24_hrs':'New_labtest','Lab_tests_cumulative':'Total_labtests','Confirmed_cases_last_date':'Confirmed (till)','Confirmed_cases_last_24_hrs':'New_confirmed','Confirmed_cases_cumulative':'Total_confirmed','Deaths_last_date':'Death (till)','Deaths_cumulative':'Total_deaths','Last_24_hrs_arrival':'New_arrivals','Last_24_hrs_departure':'New_departure','Cumulative_quarantined':'Total_quarantine','Test_positive_cases':'Test_positive','Test_positive_cases_%':'Test_postivie(%)'},inplace=True)\n"
   ]
  },
  {
   "cell_type": "code",
   "execution_count": 114,
   "metadata": {},
   "outputs": [],
   "source": [
    "sheet2.rename(columns={'Transmission_foreign_-_iran':'Foreign_transmission(Iran)','Transmission_foreign_-_iran_%':'%Foreign_transmission(Iran)','Transmission_foreign_-_other':'Foreign_transmission(other)','Transmission_foreign_-_other_%':'%Foreign_transmission(Other)','Transmission_local_-_tableegh':'Local_transmission(Tableegh)','Transmission_local_%_-_tableegh':'%Local_transmission(Tableegh)','Transmission_local_-_others':'Local_transmission(Other)','Transmission_local_%_-_others':'Local_transmission(Other)','Transmission_local':'Total_Transmission(local)','Transmission_local_%':'%Total_Transmission(local)'},inplace=True)"
   ]
  },
  {
   "cell_type": "code",
   "execution_count": 115,
   "metadata": {},
   "outputs": [
    {
     "data": {
      "text/plain": [
       "Index(['Date', 'Region', 'Cases(till)', 'Cases (24 hrs)', 'Total_cases',\n",
       "       'New_labtest', 'Total_labtests', 'Confirmed (till)', 'New_confirmed',\n",
       "       'Total_confirmed', 'Death (till)', 'Total_deaths', 'Transmission_total',\n",
       "       'Foreign_transmission(Iran)', '%Foreign_transmission(Iran)',\n",
       "       'Foreign_transmission(other)', '%Foreign_transmission(Other)',\n",
       "       'Local_transmission(Tableegh)', '%Local_transmission(Tableegh)',\n",
       "       'Local_transmission(Other)', 'Local_transmission(Other)',\n",
       "       'Total_Transmission(local)', '%Total_Transmission(local)',\n",
       "       'Total_hospitals', 'Beds_for_covid', 'Total_admitted',\n",
       "       'Admitted_stable', 'Admitted_critical', 'Home_quarantine', 'Recovered',\n",
       "       'Death', 'Quarantine_facilities', 'New_arrivals', 'New_departure',\n",
       "       'Total_quarantine', 'Number_of_tests', 'Results_achieved',\n",
       "       'Test_positive', 'Test_postivie(%)'],\n",
       "      dtype='object')"
      ]
     },
     "execution_count": 115,
     "metadata": {},
     "output_type": "execute_result"
    }
   ],
   "source": [
    "sheet2.columns"
   ]
  },
  {
   "cell_type": "code",
   "execution_count": 116,
   "metadata": {},
   "outputs": [
    {
     "data": {
      "text/plain": [
       "Timestamp('2020-04-04 00:00:00')"
      ]
     },
     "execution_count": 116,
     "metadata": {},
     "output_type": "execute_result"
    }
   ],
   "source": [
    "min(sheet2.Date)"
   ]
  },
  {
   "cell_type": "code",
   "execution_count": 117,
   "metadata": {},
   "outputs": [
    {
     "data": {
      "text/plain": [
       "Timestamp('2020-05-13 00:00:00')"
      ]
     },
     "execution_count": 117,
     "metadata": {},
     "output_type": "execute_result"
    }
   ],
   "source": [
    "max(sheet2.Date)"
   ]
  },
  {
   "cell_type": "code",
   "execution_count": 118,
   "metadata": {},
   "outputs": [
    {
     "data": {
      "text/plain": [
       "Timedelta('39 days 00:00:00')"
      ]
     },
     "execution_count": 118,
     "metadata": {},
     "output_type": "execute_result"
    }
   ],
   "source": [
    "max(sheet2.Date)-min(sheet2.Date)"
   ]
  },
  {
   "cell_type": "code",
   "execution_count": 119,
   "metadata": {},
   "outputs": [
    {
     "data": {
      "text/plain": [
       "Index(['Date', 'Region', 'Cases(till)', 'Cases (24 hrs)', 'Total_cases',\n",
       "       'New_labtest', 'Total_labtests', 'Confirmed (till)', 'New_confirmed',\n",
       "       'Total_confirmed', 'Death (till)', 'Total_deaths', 'Transmission_total',\n",
       "       'Foreign_transmission(Iran)', '%Foreign_transmission(Iran)',\n",
       "       'Foreign_transmission(other)', '%Foreign_transmission(Other)',\n",
       "       'Local_transmission(Tableegh)', '%Local_transmission(Tableegh)',\n",
       "       'Local_transmission(Other)', 'Local_transmission(Other)',\n",
       "       'Total_Transmission(local)', '%Total_Transmission(local)',\n",
       "       'Total_hospitals', 'Beds_for_covid', 'Total_admitted',\n",
       "       'Admitted_stable', 'Admitted_critical', 'Home_quarantine', 'Recovered',\n",
       "       'Death', 'Quarantine_facilities', 'New_arrivals', 'New_departure',\n",
       "       'Total_quarantine', 'Number_of_tests', 'Results_achieved',\n",
       "       'Test_positive', 'Test_postivie(%)'],\n",
       "      dtype='object')"
      ]
     },
     "execution_count": 119,
     "metadata": {},
     "output_type": "execute_result"
    }
   ],
   "source": [
    "sheet2.columns"
   ]
  },
  {
   "cell_type": "code",
   "execution_count": 120,
   "metadata": {},
   "outputs": [
    {
     "data": {
      "text/plain": [
       "231     304\n",
       "232    2136\n",
       "233     151\n",
       "234     430\n",
       "235    5598\n",
       "236    7753\n",
       "237    4688\n",
       "Name: Beds_for_covid, dtype: int64"
      ]
     },
     "execution_count": 120,
     "metadata": {},
     "output_type": "execute_result"
    }
   ],
   "source": [
    "sheet2[sheet2.Date==max(sheet2.Date)].Beds_for_covid"
   ]
  },
  {
   "cell_type": "code",
   "execution_count": 121,
   "metadata": {},
   "outputs": [
    {
     "data": {
      "text/plain": [
       "array(['AJK', 'Balochistan', 'GB', 'ICT', 'KP', 'Punjab', 'Sindh'],\n",
       "      dtype=object)"
      ]
     },
     "execution_count": 121,
     "metadata": {},
     "output_type": "execute_result"
    }
   ],
   "source": [
    "sheet2.Region.unique()"
   ]
  },
  {
   "cell_type": "code",
   "execution_count": 123,
   "metadata": {},
   "outputs": [
    {
     "data": {
      "text/plain": [
       "Balochistan    34\n",
       "Sindh          34\n",
       "KP             34\n",
       "AJK            34\n",
       "ICT            34\n",
       "GB             34\n",
       "Punjab         34\n",
       "Name: Region, dtype: int64"
      ]
     },
     "execution_count": 123,
     "metadata": {},
     "output_type": "execute_result"
    }
   ],
   "source": [
    "sheet2.Region.value_counts()   #values are less than days so missing some dates value"
   ]
  },
  {
   "cell_type": "code",
   "execution_count": 127,
   "metadata": {},
   "outputs": [
    {
     "data": {
      "text/plain": [
       "(238,)"
      ]
     },
     "execution_count": 127,
     "metadata": {},
     "output_type": "execute_result"
    }
   ],
   "source": [
    "sheet2['Total_confirmed'].shape"
   ]
  },
  {
   "cell_type": "code",
   "execution_count": 128,
   "metadata": {},
   "outputs": [
    {
     "data": {
      "text/plain": [
       "array(['ICT', 'Punjab', 'Sindh', 'KP', 'Balochistan', 'AJK', 'GB'],\n",
       "      dtype=object)"
      ]
     },
     "execution_count": 128,
     "metadata": {},
     "output_type": "execute_result"
    }
   ],
   "source": [
    "sheet_1.Region.unique()"
   ]
  },
  {
   "cell_type": "code",
   "execution_count": 129,
   "metadata": {},
   "outputs": [
    {
     "data": {
      "text/plain": [
       "array(['AJK', 'Balochistan', 'GB', 'ICT', 'KP', 'Punjab', 'Sindh'],\n",
       "      dtype=object)"
      ]
     },
     "execution_count": 129,
     "metadata": {},
     "output_type": "execute_result"
    }
   ],
   "source": [
    "sheet2.Region.unique()"
   ]
  },
  {
   "cell_type": "code",
   "execution_count": 130,
   "metadata": {},
   "outputs": [
    {
     "data": {
      "text/html": [
       "<div>\n",
       "<style scoped>\n",
       "    .dataframe tbody tr th:only-of-type {\n",
       "        vertical-align: middle;\n",
       "    }\n",
       "\n",
       "    .dataframe tbody tr th {\n",
       "        vertical-align: top;\n",
       "    }\n",
       "\n",
       "    .dataframe thead th {\n",
       "        text-align: right;\n",
       "    }\n",
       "</style>\n",
       "<table border=\"1\" class=\"dataframe\">\n",
       "  <thead>\n",
       "    <tr style=\"text-align: right;\">\n",
       "      <th></th>\n",
       "      <th>Region</th>\n",
       "      <th>Cases(till)</th>\n",
       "      <th>Cases (24 hrs)</th>\n",
       "      <th>Total_cases</th>\n",
       "      <th>New_labtest</th>\n",
       "      <th>Total_labtests</th>\n",
       "      <th>Confirmed (till)</th>\n",
       "      <th>New_confirmed</th>\n",
       "      <th>Total_confirmed</th>\n",
       "      <th>Death (till)</th>\n",
       "      <th>...</th>\n",
       "      <th>Recovered</th>\n",
       "      <th>Death</th>\n",
       "      <th>Quarantine_facilities</th>\n",
       "      <th>New_arrivals</th>\n",
       "      <th>New_departure</th>\n",
       "      <th>Total_quarantine</th>\n",
       "      <th>Number_of_tests</th>\n",
       "      <th>Results_achieved</th>\n",
       "      <th>Test_positive</th>\n",
       "      <th>Test_postivie(%)</th>\n",
       "    </tr>\n",
       "    <tr>\n",
       "      <th>Date</th>\n",
       "      <th></th>\n",
       "      <th></th>\n",
       "      <th></th>\n",
       "      <th></th>\n",
       "      <th></th>\n",
       "      <th></th>\n",
       "      <th></th>\n",
       "      <th></th>\n",
       "      <th></th>\n",
       "      <th></th>\n",
       "      <th></th>\n",
       "      <th></th>\n",
       "      <th></th>\n",
       "      <th></th>\n",
       "      <th></th>\n",
       "      <th></th>\n",
       "      <th></th>\n",
       "      <th></th>\n",
       "      <th></th>\n",
       "      <th></th>\n",
       "      <th></th>\n",
       "    </tr>\n",
       "  </thead>\n",
       "  <tbody>\n",
       "    <tr>\n",
       "      <td>2020-04-04</td>\n",
       "      <td>AJK</td>\n",
       "      <td>322</td>\n",
       "      <td>21</td>\n",
       "      <td>343</td>\n",
       "      <td>21</td>\n",
       "      <td>343</td>\n",
       "      <td>9</td>\n",
       "      <td>2</td>\n",
       "      <td>11</td>\n",
       "      <td>0</td>\n",
       "      <td>...</td>\n",
       "      <td>0</td>\n",
       "      <td>0</td>\n",
       "      <td>57</td>\n",
       "      <td>10</td>\n",
       "      <td>61</td>\n",
       "      <td>192</td>\n",
       "      <td>107</td>\n",
       "      <td>102</td>\n",
       "      <td>5</td>\n",
       "      <td>0.05</td>\n",
       "    </tr>\n",
       "    <tr>\n",
       "      <td>2020-04-04</td>\n",
       "      <td>Balochistan</td>\n",
       "      <td>2171</td>\n",
       "      <td>230</td>\n",
       "      <td>2401</td>\n",
       "      <td>0</td>\n",
       "      <td>2401</td>\n",
       "      <td>169</td>\n",
       "      <td>6</td>\n",
       "      <td>175</td>\n",
       "      <td>1</td>\n",
       "      <td>...</td>\n",
       "      <td>17</td>\n",
       "      <td>1</td>\n",
       "      <td>68</td>\n",
       "      <td>17</td>\n",
       "      <td>0</td>\n",
       "      <td>273</td>\n",
       "      <td>230</td>\n",
       "      <td>230</td>\n",
       "      <td>6</td>\n",
       "      <td>0.03</td>\n",
       "    </tr>\n",
       "    <tr>\n",
       "      <td>2020-04-04</td>\n",
       "      <td>GB</td>\n",
       "      <td>961</td>\n",
       "      <td>2</td>\n",
       "      <td>963</td>\n",
       "      <td>844</td>\n",
       "      <td>860</td>\n",
       "      <td>190</td>\n",
       "      <td>3</td>\n",
       "      <td>193</td>\n",
       "      <td>3</td>\n",
       "      <td>...</td>\n",
       "      <td>9</td>\n",
       "      <td>3</td>\n",
       "      <td>47</td>\n",
       "      <td>0</td>\n",
       "      <td>232</td>\n",
       "      <td>274</td>\n",
       "      <td>963</td>\n",
       "      <td>860</td>\n",
       "      <td>193</td>\n",
       "      <td>0.23</td>\n",
       "    </tr>\n",
       "    <tr>\n",
       "      <td>2020-04-04</td>\n",
       "      <td>ICT</td>\n",
       "      <td>2395</td>\n",
       "      <td>174</td>\n",
       "      <td>2569</td>\n",
       "      <td>174</td>\n",
       "      <td>2569</td>\n",
       "      <td>68</td>\n",
       "      <td>7</td>\n",
       "      <td>75</td>\n",
       "      <td>0</td>\n",
       "      <td>...</td>\n",
       "      <td>3</td>\n",
       "      <td>0</td>\n",
       "      <td>6</td>\n",
       "      <td>213</td>\n",
       "      <td>0</td>\n",
       "      <td>243</td>\n",
       "      <td>213</td>\n",
       "      <td>27</td>\n",
       "      <td>2</td>\n",
       "      <td>0.07</td>\n",
       "    </tr>\n",
       "    <tr>\n",
       "      <td>2020-04-04</td>\n",
       "      <td>KP</td>\n",
       "      <td>1938</td>\n",
       "      <td>431</td>\n",
       "      <td>2369</td>\n",
       "      <td>181</td>\n",
       "      <td>1624</td>\n",
       "      <td>311</td>\n",
       "      <td>32</td>\n",
       "      <td>343</td>\n",
       "      <td>9</td>\n",
       "      <td>...</td>\n",
       "      <td>30</td>\n",
       "      <td>11</td>\n",
       "      <td>102</td>\n",
       "      <td>113</td>\n",
       "      <td>140</td>\n",
       "      <td>3306</td>\n",
       "      <td>1640</td>\n",
       "      <td>1011</td>\n",
       "      <td>293</td>\n",
       "      <td>0.29</td>\n",
       "    </tr>\n",
       "  </tbody>\n",
       "</table>\n",
       "<p>5 rows × 38 columns</p>\n",
       "</div>"
      ],
      "text/plain": [
       "                 Region  Cases(till)  Cases (24 hrs)  Total_cases  \\\n",
       "Date                                                                \n",
       "2020-04-04          AJK          322              21          343   \n",
       "2020-04-04  Balochistan         2171             230         2401   \n",
       "2020-04-04           GB          961               2          963   \n",
       "2020-04-04          ICT         2395             174         2569   \n",
       "2020-04-04           KP         1938             431         2369   \n",
       "\n",
       "            New_labtest  Total_labtests  Confirmed (till)  New_confirmed  \\\n",
       "Date                                                                       \n",
       "2020-04-04           21             343                 9              2   \n",
       "2020-04-04            0            2401               169              6   \n",
       "2020-04-04          844             860               190              3   \n",
       "2020-04-04          174            2569                68              7   \n",
       "2020-04-04          181            1624               311             32   \n",
       "\n",
       "            Total_confirmed  Death (till)  ...  Recovered  Death  \\\n",
       "Date                                       ...                     \n",
       "2020-04-04               11             0  ...          0      0   \n",
       "2020-04-04              175             1  ...         17      1   \n",
       "2020-04-04              193             3  ...          9      3   \n",
       "2020-04-04               75             0  ...          3      0   \n",
       "2020-04-04              343             9  ...         30     11   \n",
       "\n",
       "            Quarantine_facilities  New_arrivals  New_departure  \\\n",
       "Date                                                             \n",
       "2020-04-04                     57            10             61   \n",
       "2020-04-04                     68            17              0   \n",
       "2020-04-04                     47             0            232   \n",
       "2020-04-04                      6           213              0   \n",
       "2020-04-04                    102           113            140   \n",
       "\n",
       "            Total_quarantine  Number_of_tests  Results_achieved  \\\n",
       "Date                                                              \n",
       "2020-04-04               192              107               102   \n",
       "2020-04-04               273              230               230   \n",
       "2020-04-04               274              963               860   \n",
       "2020-04-04               243              213                27   \n",
       "2020-04-04              3306             1640              1011   \n",
       "\n",
       "            Test_positive  Test_postivie(%)  \n",
       "Date                                         \n",
       "2020-04-04              5              0.05  \n",
       "2020-04-04              6              0.03  \n",
       "2020-04-04            193              0.23  \n",
       "2020-04-04              2              0.07  \n",
       "2020-04-04            293              0.29  \n",
       "\n",
       "[5 rows x 38 columns]"
      ]
     },
     "execution_count": 130,
     "metadata": {},
     "output_type": "execute_result"
    }
   ],
   "source": [
    "sheet2.set_index('Date',inplace=True)\n",
    "sheet2.head()"
   ]
  },
  {
   "cell_type": "code",
   "execution_count": 131,
   "metadata": {},
   "outputs": [
    {
     "data": {
      "text/plain": [
       "DatetimeIndex(['2020-04-27', '2020-05-03', '2020-05-06', '2020-05-07',\n",
       "               '2020-05-08', '2020-05-11'],\n",
       "              dtype='datetime64[ns]', freq=None)"
      ]
     },
     "execution_count": 131,
     "metadata": {},
     "output_type": "execute_result"
    }
   ],
   "source": [
    "pd.date_range(start =sheet2.index.min(), end =sheet2.index.max()).difference(sheet2[sheet2.Region=='KP'].index)"
   ]
  },
  {
   "cell_type": "code",
   "execution_count": 132,
   "metadata": {},
   "outputs": [
    {
     "data": {
      "text/plain": [
       "DatetimeIndex(['2020-04-27', '2020-05-03', '2020-05-06', '2020-05-07',\n",
       "               '2020-05-08', '2020-05-11'],\n",
       "              dtype='datetime64[ns]', freq=None)"
      ]
     },
     "execution_count": 132,
     "metadata": {},
     "output_type": "execute_result"
    }
   ],
   "source": [
    "pd.date_range(start =sheet2.index.min(), end = sheet2.index.max()).difference(sheet2[sheet2.Region=='Punjab'].index)"
   ]
  },
  {
   "cell_type": "code",
   "execution_count": 133,
   "metadata": {},
   "outputs": [
    {
     "data": {
      "text/plain": [
       "DatetimeIndex(['2020-04-27', '2020-05-03', '2020-05-06', '2020-05-07',\n",
       "               '2020-05-08', '2020-05-11'],\n",
       "              dtype='datetime64[ns]', freq=None)"
      ]
     },
     "execution_count": 133,
     "metadata": {},
     "output_type": "execute_result"
    }
   ],
   "source": [
    "pd.date_range(start =sheet2.index.min(), end =sheet2.index.max() ).difference(sheet2[sheet2.Region=='ICT'].index)"
   ]
  },
  {
   "cell_type": "code",
   "execution_count": 134,
   "metadata": {},
   "outputs": [
    {
     "data": {
      "text/plain": [
       "DatetimeIndex(['2020-04-27', '2020-05-03', '2020-05-06', '2020-05-07',\n",
       "               '2020-05-08', '2020-05-11'],\n",
       "              dtype='datetime64[ns]', freq=None)"
      ]
     },
     "execution_count": 134,
     "metadata": {},
     "output_type": "execute_result"
    }
   ],
   "source": [
    "pd.date_range(start =sheet2.index.min(), end =sheet2.index.max()).difference(sheet2[sheet2.Region=='Sindh'].index)"
   ]
  },
  {
   "cell_type": "code",
   "execution_count": 135,
   "metadata": {},
   "outputs": [
    {
     "data": {
      "text/plain": [
       "DatetimeIndex(['2020-04-27', '2020-05-03', '2020-05-06', '2020-05-07',\n",
       "               '2020-05-08', '2020-05-11'],\n",
       "              dtype='datetime64[ns]', freq=None)"
      ]
     },
     "execution_count": 135,
     "metadata": {},
     "output_type": "execute_result"
    }
   ],
   "source": [
    "pd.date_range(start =sheet2.index.min(), end =sheet2.index.max() ).difference(sheet2[sheet2.Region=='GB'].index)"
   ]
  },
  {
   "cell_type": "code",
   "execution_count": 136,
   "metadata": {},
   "outputs": [
    {
     "data": {
      "text/plain": [
       "DatetimeIndex(['2020-04-27', '2020-05-03', '2020-05-06', '2020-05-07',\n",
       "               '2020-05-08', '2020-05-11'],\n",
       "              dtype='datetime64[ns]', freq=None)"
      ]
     },
     "execution_count": 136,
     "metadata": {},
     "output_type": "execute_result"
    }
   ],
   "source": [
    "pd.date_range(start =sheet2.index.min(), end =sheet2.index.max() ).difference(sheet2[sheet2.Region=='AJK'].index)"
   ]
  },
  {
   "cell_type": "code",
   "execution_count": 137,
   "metadata": {},
   "outputs": [
    {
     "data": {
      "text/plain": [
       "DatetimeIndex(['2020-04-27', '2020-05-03', '2020-05-06', '2020-05-07',\n",
       "               '2020-05-08', '2020-05-11'],\n",
       "              dtype='datetime64[ns]', freq=None)"
      ]
     },
     "execution_count": 137,
     "metadata": {},
     "output_type": "execute_result"
    }
   ],
   "source": [
    "pd.date_range(start =sheet2.index.min(), end =sheet2.index.max() ).difference(sheet2[sheet2.Region=='Balochistan'].index)"
   ]
  },
  {
   "cell_type": "code",
   "execution_count": 138,
   "metadata": {},
   "outputs": [
    {
     "data": {
      "text/plain": [
       "7"
      ]
     },
     "execution_count": 138,
     "metadata": {},
     "output_type": "execute_result"
    }
   ],
   "source": [
    "sheet2.duplicated().sum()"
   ]
  },
  {
   "cell_type": "code",
   "execution_count": 139,
   "metadata": {},
   "outputs": [
    {
     "data": {
      "text/html": [
       "<div>\n",
       "<style scoped>\n",
       "    .dataframe tbody tr th:only-of-type {\n",
       "        vertical-align: middle;\n",
       "    }\n",
       "\n",
       "    .dataframe tbody tr th {\n",
       "        vertical-align: top;\n",
       "    }\n",
       "\n",
       "    .dataframe thead th {\n",
       "        text-align: right;\n",
       "    }\n",
       "</style>\n",
       "<table border=\"1\" class=\"dataframe\">\n",
       "  <thead>\n",
       "    <tr style=\"text-align: right;\">\n",
       "      <th></th>\n",
       "      <th>Region</th>\n",
       "      <th>Cases(till)</th>\n",
       "      <th>Cases (24 hrs)</th>\n",
       "      <th>Total_cases</th>\n",
       "      <th>New_labtest</th>\n",
       "      <th>Total_labtests</th>\n",
       "      <th>Confirmed (till)</th>\n",
       "      <th>New_confirmed</th>\n",
       "      <th>Total_confirmed</th>\n",
       "      <th>Death (till)</th>\n",
       "      <th>...</th>\n",
       "      <th>Recovered</th>\n",
       "      <th>Death</th>\n",
       "      <th>Quarantine_facilities</th>\n",
       "      <th>New_arrivals</th>\n",
       "      <th>New_departure</th>\n",
       "      <th>Total_quarantine</th>\n",
       "      <th>Number_of_tests</th>\n",
       "      <th>Results_achieved</th>\n",
       "      <th>Test_positive</th>\n",
       "      <th>Test_postivie(%)</th>\n",
       "    </tr>\n",
       "    <tr>\n",
       "      <th>Date</th>\n",
       "      <th></th>\n",
       "      <th></th>\n",
       "      <th></th>\n",
       "      <th></th>\n",
       "      <th></th>\n",
       "      <th></th>\n",
       "      <th></th>\n",
       "      <th></th>\n",
       "      <th></th>\n",
       "      <th></th>\n",
       "      <th></th>\n",
       "      <th></th>\n",
       "      <th></th>\n",
       "      <th></th>\n",
       "      <th></th>\n",
       "      <th></th>\n",
       "      <th></th>\n",
       "      <th></th>\n",
       "      <th></th>\n",
       "      <th></th>\n",
       "      <th></th>\n",
       "    </tr>\n",
       "  </thead>\n",
       "  <tbody>\n",
       "    <tr>\n",
       "      <td>2020-04-26</td>\n",
       "      <td>AJK</td>\n",
       "      <td>1522</td>\n",
       "      <td>66</td>\n",
       "      <td>1588</td>\n",
       "      <td>66</td>\n",
       "      <td>1588</td>\n",
       "      <td>55</td>\n",
       "      <td>0</td>\n",
       "      <td>55</td>\n",
       "      <td>0</td>\n",
       "      <td>...</td>\n",
       "      <td>32</td>\n",
       "      <td>0</td>\n",
       "      <td>60</td>\n",
       "      <td>28</td>\n",
       "      <td>9</td>\n",
       "      <td>181</td>\n",
       "      <td>715</td>\n",
       "      <td>633</td>\n",
       "      <td>42</td>\n",
       "      <td>0.07</td>\n",
       "    </tr>\n",
       "    <tr>\n",
       "      <td>2020-04-26</td>\n",
       "      <td>Balochistan</td>\n",
       "      <td>8794</td>\n",
       "      <td>1610</td>\n",
       "      <td>10404</td>\n",
       "      <td>470</td>\n",
       "      <td>7212</td>\n",
       "      <td>656</td>\n",
       "      <td>66</td>\n",
       "      <td>722</td>\n",
       "      <td>10</td>\n",
       "      <td>...</td>\n",
       "      <td>176</td>\n",
       "      <td>11</td>\n",
       "      <td>68</td>\n",
       "      <td>184</td>\n",
       "      <td>22</td>\n",
       "      <td>962</td>\n",
       "      <td>7682</td>\n",
       "      <td>7212</td>\n",
       "      <td>722</td>\n",
       "      <td>0.10</td>\n",
       "    </tr>\n",
       "    <tr>\n",
       "      <td>2020-04-26</td>\n",
       "      <td>GB</td>\n",
       "      <td>3434</td>\n",
       "      <td>157</td>\n",
       "      <td>3591</td>\n",
       "      <td>111</td>\n",
       "      <td>3273</td>\n",
       "      <td>307</td>\n",
       "      <td>1</td>\n",
       "      <td>308</td>\n",
       "      <td>3</td>\n",
       "      <td>...</td>\n",
       "      <td>216</td>\n",
       "      <td>3</td>\n",
       "      <td>43</td>\n",
       "      <td>18</td>\n",
       "      <td>7</td>\n",
       "      <td>116</td>\n",
       "      <td>3591</td>\n",
       "      <td>3273</td>\n",
       "      <td>308</td>\n",
       "      <td>0.09</td>\n",
       "    </tr>\n",
       "    <tr>\n",
       "      <td>2020-04-26</td>\n",
       "      <td>ICT</td>\n",
       "      <td>8059</td>\n",
       "      <td>396</td>\n",
       "      <td>8455</td>\n",
       "      <td>396</td>\n",
       "      <td>8455</td>\n",
       "      <td>223</td>\n",
       "      <td>12</td>\n",
       "      <td>235</td>\n",
       "      <td>3</td>\n",
       "      <td>...</td>\n",
       "      <td>29</td>\n",
       "      <td>3</td>\n",
       "      <td>16</td>\n",
       "      <td>0</td>\n",
       "      <td>0</td>\n",
       "      <td>295</td>\n",
       "      <td>2576</td>\n",
       "      <td>2576</td>\n",
       "      <td>34</td>\n",
       "      <td>0.01</td>\n",
       "    </tr>\n",
       "    <tr>\n",
       "      <td>2020-04-26</td>\n",
       "      <td>KP</td>\n",
       "      <td>12100</td>\n",
       "      <td>821</td>\n",
       "      <td>12921</td>\n",
       "      <td>821</td>\n",
       "      <td>13930</td>\n",
       "      <td>1708</td>\n",
       "      <td>85</td>\n",
       "      <td>1793</td>\n",
       "      <td>89</td>\n",
       "      <td>...</td>\n",
       "      <td>485</td>\n",
       "      <td>93</td>\n",
       "      <td>279</td>\n",
       "      <td>752</td>\n",
       "      <td>163</td>\n",
       "      <td>1200</td>\n",
       "      <td>1730</td>\n",
       "      <td>1730</td>\n",
       "      <td>206</td>\n",
       "      <td>0.12</td>\n",
       "    </tr>\n",
       "    <tr>\n",
       "      <td>2020-04-26</td>\n",
       "      <td>Punjab</td>\n",
       "      <td>41126</td>\n",
       "      <td>1330</td>\n",
       "      <td>42456</td>\n",
       "      <td>1755</td>\n",
       "      <td>71726</td>\n",
       "      <td>5046</td>\n",
       "      <td>332</td>\n",
       "      <td>5378</td>\n",
       "      <td>73</td>\n",
       "      <td>...</td>\n",
       "      <td>1126</td>\n",
       "      <td>81</td>\n",
       "      <td>233</td>\n",
       "      <td>0</td>\n",
       "      <td>0</td>\n",
       "      <td>5165</td>\n",
       "      <td>15490</td>\n",
       "      <td>12633</td>\n",
       "      <td>2840</td>\n",
       "      <td>0.22</td>\n",
       "    </tr>\n",
       "    <tr>\n",
       "      <td>2020-04-26</td>\n",
       "      <td>Sindh</td>\n",
       "      <td>35582</td>\n",
       "      <td>2599</td>\n",
       "      <td>38181</td>\n",
       "      <td>2599</td>\n",
       "      <td>38181</td>\n",
       "      <td>3945</td>\n",
       "      <td>287</td>\n",
       "      <td>4232</td>\n",
       "      <td>75</td>\n",
       "      <td>...</td>\n",
       "      <td>802</td>\n",
       "      <td>78</td>\n",
       "      <td>17</td>\n",
       "      <td>0</td>\n",
       "      <td>0</td>\n",
       "      <td>765</td>\n",
       "      <td>7569</td>\n",
       "      <td>7569</td>\n",
       "      <td>1191</td>\n",
       "      <td>0.16</td>\n",
       "    </tr>\n",
       "  </tbody>\n",
       "</table>\n",
       "<p>7 rows × 38 columns</p>\n",
       "</div>"
      ],
      "text/plain": [
       "                 Region  Cases(till)  Cases (24 hrs)  Total_cases  \\\n",
       "Date                                                                \n",
       "2020-04-26          AJK         1522              66         1588   \n",
       "2020-04-26  Balochistan         8794            1610        10404   \n",
       "2020-04-26           GB         3434             157         3591   \n",
       "2020-04-26          ICT         8059             396         8455   \n",
       "2020-04-26           KP        12100             821        12921   \n",
       "2020-04-26       Punjab        41126            1330        42456   \n",
       "2020-04-26        Sindh        35582            2599        38181   \n",
       "\n",
       "            New_labtest  Total_labtests  Confirmed (till)  New_confirmed  \\\n",
       "Date                                                                       \n",
       "2020-04-26           66            1588                55              0   \n",
       "2020-04-26          470            7212               656             66   \n",
       "2020-04-26          111            3273               307              1   \n",
       "2020-04-26          396            8455               223             12   \n",
       "2020-04-26          821           13930              1708             85   \n",
       "2020-04-26         1755           71726              5046            332   \n",
       "2020-04-26         2599           38181              3945            287   \n",
       "\n",
       "            Total_confirmed  Death (till)  ...  Recovered  Death  \\\n",
       "Date                                       ...                     \n",
       "2020-04-26               55             0  ...         32      0   \n",
       "2020-04-26              722            10  ...        176     11   \n",
       "2020-04-26              308             3  ...        216      3   \n",
       "2020-04-26              235             3  ...         29      3   \n",
       "2020-04-26             1793            89  ...        485     93   \n",
       "2020-04-26             5378            73  ...       1126     81   \n",
       "2020-04-26             4232            75  ...        802     78   \n",
       "\n",
       "            Quarantine_facilities  New_arrivals  New_departure  \\\n",
       "Date                                                             \n",
       "2020-04-26                     60            28              9   \n",
       "2020-04-26                     68           184             22   \n",
       "2020-04-26                     43            18              7   \n",
       "2020-04-26                     16             0              0   \n",
       "2020-04-26                    279           752            163   \n",
       "2020-04-26                    233             0              0   \n",
       "2020-04-26                     17             0              0   \n",
       "\n",
       "            Total_quarantine  Number_of_tests  Results_achieved  \\\n",
       "Date                                                              \n",
       "2020-04-26               181              715               633   \n",
       "2020-04-26               962             7682              7212   \n",
       "2020-04-26               116             3591              3273   \n",
       "2020-04-26               295             2576              2576   \n",
       "2020-04-26              1200             1730              1730   \n",
       "2020-04-26              5165            15490             12633   \n",
       "2020-04-26               765             7569              7569   \n",
       "\n",
       "            Test_positive  Test_postivie(%)  \n",
       "Date                                         \n",
       "2020-04-26             42              0.07  \n",
       "2020-04-26            722              0.10  \n",
       "2020-04-26            308              0.09  \n",
       "2020-04-26             34              0.01  \n",
       "2020-04-26            206              0.12  \n",
       "2020-04-26           2840              0.22  \n",
       "2020-04-26           1191              0.16  \n",
       "\n",
       "[7 rows x 38 columns]"
      ]
     },
     "execution_count": 139,
     "metadata": {},
     "output_type": "execute_result"
    }
   ],
   "source": [
    "sheet2[sheet2.duplicated()==True]              #duplicated is data from previous data and we still can't lose data for date time interval even if its providing previous date info "
   ]
  },
  {
   "cell_type": "code",
   "execution_count": 140,
   "metadata": {},
   "outputs": [
    {
     "data": {
      "text/plain": [
       "Date                             0\n",
       "Region                           7\n",
       "Cases(till)                      7\n",
       "Cases (24 hrs)                   7\n",
       "Total_cases                      7\n",
       "New_labtest                      7\n",
       "Total_labtests                   7\n",
       "Confirmed (till)                 7\n",
       "New_confirmed                    7\n",
       "Total_confirmed                  7\n",
       "Death (till)                     7\n",
       "Total_deaths                     7\n",
       "Transmission_total               7\n",
       "Foreign_transmission(Iran)       7\n",
       "%Foreign_transmission(Iran)      7\n",
       "Foreign_transmission(other)      7\n",
       "%Foreign_transmission(Other)     7\n",
       "Local_transmission(Tableegh)     7\n",
       "%Local_transmission(Tableegh)    7\n",
       "Local_transmission(Other)        7\n",
       "Local_transmission(Other)        7\n",
       "Total_Transmission(local)        7\n",
       "%Total_Transmission(local)       7\n",
       "Total_hospitals                  7\n",
       "Beds_for_covid                   7\n",
       "Total_admitted                   7\n",
       "Admitted_stable                  7\n",
       "Admitted_critical                7\n",
       "Home_quarantine                  7\n",
       "Recovered                        7\n",
       "Death                            7\n",
       "Quarantine_facilities            7\n",
       "New_arrivals                     7\n",
       "New_departure                    7\n",
       "Total_quarantine                 7\n",
       "Number_of_tests                  7\n",
       "Results_achieved                 7\n",
       "Test_positive                    7\n",
       "Test_postivie(%)                 7\n",
       "dtype: int64"
      ]
     },
     "execution_count": 140,
     "metadata": {},
     "output_type": "execute_result"
    }
   ],
   "source": [
    "(sheet2[sheet2.index=='2020-04-25'].reset_index()==sheet2[sheet2.index=='2020-04-26'].reset_index()).sum()"
   ]
  },
  {
   "cell_type": "markdown",
   "metadata": {},
   "source": [
    "**Filling values for missing dates data in all Regions**"
   ]
  },
  {
   "cell_type": "code",
   "execution_count": 141,
   "metadata": {},
   "outputs": [
    {
     "data": {
      "text/plain": [
       "array(['AJK', 'Balochistan', 'GB', 'ICT', 'KP', 'Punjab', 'Sindh'],\n",
       "      dtype=object)"
      ]
     },
     "execution_count": 141,
     "metadata": {},
     "output_type": "execute_result"
    }
   ],
   "source": [
    "sheet2.Region.unique()"
   ]
  },
  {
   "cell_type": "code",
   "execution_count": 142,
   "metadata": {},
   "outputs": [],
   "source": [
    "ajk_data=sheet2[sheet2.Region=='AJK']"
   ]
  },
  {
   "cell_type": "code",
   "execution_count": 143,
   "metadata": {},
   "outputs": [
    {
     "data": {
      "text/html": [
       "<div>\n",
       "<style scoped>\n",
       "    .dataframe tbody tr th:only-of-type {\n",
       "        vertical-align: middle;\n",
       "    }\n",
       "\n",
       "    .dataframe tbody tr th {\n",
       "        vertical-align: top;\n",
       "    }\n",
       "\n",
       "    .dataframe thead th {\n",
       "        text-align: right;\n",
       "    }\n",
       "</style>\n",
       "<table border=\"1\" class=\"dataframe\">\n",
       "  <thead>\n",
       "    <tr style=\"text-align: right;\">\n",
       "      <th></th>\n",
       "      <th>Region</th>\n",
       "      <th>Cases(till)</th>\n",
       "      <th>Cases (24 hrs)</th>\n",
       "      <th>Total_cases</th>\n",
       "      <th>New_labtest</th>\n",
       "      <th>Total_labtests</th>\n",
       "      <th>Confirmed (till)</th>\n",
       "      <th>New_confirmed</th>\n",
       "      <th>Total_confirmed</th>\n",
       "      <th>Death (till)</th>\n",
       "      <th>...</th>\n",
       "      <th>Recovered</th>\n",
       "      <th>Death</th>\n",
       "      <th>Quarantine_facilities</th>\n",
       "      <th>New_arrivals</th>\n",
       "      <th>New_departure</th>\n",
       "      <th>Total_quarantine</th>\n",
       "      <th>Number_of_tests</th>\n",
       "      <th>Results_achieved</th>\n",
       "      <th>Test_positive</th>\n",
       "      <th>Test_postivie(%)</th>\n",
       "    </tr>\n",
       "    <tr>\n",
       "      <th>Date</th>\n",
       "      <th></th>\n",
       "      <th></th>\n",
       "      <th></th>\n",
       "      <th></th>\n",
       "      <th></th>\n",
       "      <th></th>\n",
       "      <th></th>\n",
       "      <th></th>\n",
       "      <th></th>\n",
       "      <th></th>\n",
       "      <th></th>\n",
       "      <th></th>\n",
       "      <th></th>\n",
       "      <th></th>\n",
       "      <th></th>\n",
       "      <th></th>\n",
       "      <th></th>\n",
       "      <th></th>\n",
       "      <th></th>\n",
       "      <th></th>\n",
       "      <th></th>\n",
       "    </tr>\n",
       "  </thead>\n",
       "  <tbody>\n",
       "    <tr>\n",
       "      <td>2020-04-04</td>\n",
       "      <td>AJK</td>\n",
       "      <td>322</td>\n",
       "      <td>21</td>\n",
       "      <td>343</td>\n",
       "      <td>21</td>\n",
       "      <td>343</td>\n",
       "      <td>9</td>\n",
       "      <td>2</td>\n",
       "      <td>11</td>\n",
       "      <td>0</td>\n",
       "      <td>...</td>\n",
       "      <td>0</td>\n",
       "      <td>0</td>\n",
       "      <td>57</td>\n",
       "      <td>10</td>\n",
       "      <td>61</td>\n",
       "      <td>192</td>\n",
       "      <td>107</td>\n",
       "      <td>102</td>\n",
       "      <td>5</td>\n",
       "      <td>0.050</td>\n",
       "    </tr>\n",
       "    <tr>\n",
       "      <td>2020-04-05</td>\n",
       "      <td>AJK</td>\n",
       "      <td>343</td>\n",
       "      <td>42</td>\n",
       "      <td>385</td>\n",
       "      <td>42</td>\n",
       "      <td>385</td>\n",
       "      <td>11</td>\n",
       "      <td>1</td>\n",
       "      <td>12</td>\n",
       "      <td>0</td>\n",
       "      <td>...</td>\n",
       "      <td>1</td>\n",
       "      <td>0</td>\n",
       "      <td>57</td>\n",
       "      <td>25</td>\n",
       "      <td>92</td>\n",
       "      <td>170</td>\n",
       "      <td>119</td>\n",
       "      <td>102</td>\n",
       "      <td>5</td>\n",
       "      <td>0.050</td>\n",
       "    </tr>\n",
       "    <tr>\n",
       "      <td>2020-04-06</td>\n",
       "      <td>AJK</td>\n",
       "      <td>385</td>\n",
       "      <td>15</td>\n",
       "      <td>400</td>\n",
       "      <td>15</td>\n",
       "      <td>400</td>\n",
       "      <td>12</td>\n",
       "      <td>3</td>\n",
       "      <td>15</td>\n",
       "      <td>0</td>\n",
       "      <td>...</td>\n",
       "      <td>1</td>\n",
       "      <td>0</td>\n",
       "      <td>57</td>\n",
       "      <td>19</td>\n",
       "      <td>94</td>\n",
       "      <td>171</td>\n",
       "      <td>135</td>\n",
       "      <td>117</td>\n",
       "      <td>8</td>\n",
       "      <td>0.070</td>\n",
       "    </tr>\n",
       "    <tr>\n",
       "      <td>2020-04-07</td>\n",
       "      <td>AJK</td>\n",
       "      <td>400</td>\n",
       "      <td>84</td>\n",
       "      <td>484</td>\n",
       "      <td>84</td>\n",
       "      <td>484</td>\n",
       "      <td>15</td>\n",
       "      <td>3</td>\n",
       "      <td>18</td>\n",
       "      <td>0</td>\n",
       "      <td>...</td>\n",
       "      <td>1</td>\n",
       "      <td>0</td>\n",
       "      <td>57</td>\n",
       "      <td>20</td>\n",
       "      <td>112</td>\n",
       "      <td>157</td>\n",
       "      <td>155</td>\n",
       "      <td>117</td>\n",
       "      <td>10</td>\n",
       "      <td>0.085</td>\n",
       "    </tr>\n",
       "    <tr>\n",
       "      <td>2020-04-08</td>\n",
       "      <td>AJK</td>\n",
       "      <td>484</td>\n",
       "      <td>50</td>\n",
       "      <td>534</td>\n",
       "      <td>50</td>\n",
       "      <td>534</td>\n",
       "      <td>18</td>\n",
       "      <td>1</td>\n",
       "      <td>19</td>\n",
       "      <td>0</td>\n",
       "      <td>...</td>\n",
       "      <td>1</td>\n",
       "      <td>0</td>\n",
       "      <td>57</td>\n",
       "      <td>20</td>\n",
       "      <td>112</td>\n",
       "      <td>173</td>\n",
       "      <td>149</td>\n",
       "      <td>123</td>\n",
       "      <td>10</td>\n",
       "      <td>0.080</td>\n",
       "    </tr>\n",
       "  </tbody>\n",
       "</table>\n",
       "<p>5 rows × 38 columns</p>\n",
       "</div>"
      ],
      "text/plain": [
       "           Region  Cases(till)  Cases (24 hrs)  Total_cases  New_labtest  \\\n",
       "Date                                                                       \n",
       "2020-04-04    AJK          322              21          343           21   \n",
       "2020-04-05    AJK          343              42          385           42   \n",
       "2020-04-06    AJK          385              15          400           15   \n",
       "2020-04-07    AJK          400              84          484           84   \n",
       "2020-04-08    AJK          484              50          534           50   \n",
       "\n",
       "            Total_labtests  Confirmed (till)  New_confirmed  Total_confirmed  \\\n",
       "Date                                                                           \n",
       "2020-04-04             343                 9              2               11   \n",
       "2020-04-05             385                11              1               12   \n",
       "2020-04-06             400                12              3               15   \n",
       "2020-04-07             484                15              3               18   \n",
       "2020-04-08             534                18              1               19   \n",
       "\n",
       "            Death (till)  ...  Recovered  Death  Quarantine_facilities  \\\n",
       "Date                      ...                                            \n",
       "2020-04-04             0  ...          0      0                     57   \n",
       "2020-04-05             0  ...          1      0                     57   \n",
       "2020-04-06             0  ...          1      0                     57   \n",
       "2020-04-07             0  ...          1      0                     57   \n",
       "2020-04-08             0  ...          1      0                     57   \n",
       "\n",
       "            New_arrivals  New_departure  Total_quarantine  Number_of_tests  \\\n",
       "Date                                                                         \n",
       "2020-04-04            10             61               192              107   \n",
       "2020-04-05            25             92               170              119   \n",
       "2020-04-06            19             94               171              135   \n",
       "2020-04-07            20            112               157              155   \n",
       "2020-04-08            20            112               173              149   \n",
       "\n",
       "            Results_achieved  Test_positive  Test_postivie(%)  \n",
       "Date                                                           \n",
       "2020-04-04               102              5             0.050  \n",
       "2020-04-05               102              5             0.050  \n",
       "2020-04-06               117              8             0.070  \n",
       "2020-04-07               117             10             0.085  \n",
       "2020-04-08               123             10             0.080  \n",
       "\n",
       "[5 rows x 38 columns]"
      ]
     },
     "execution_count": 143,
     "metadata": {},
     "output_type": "execute_result"
    }
   ],
   "source": [
    "ajk_data.head()"
   ]
  },
  {
   "cell_type": "code",
   "execution_count": 144,
   "metadata": {},
   "outputs": [],
   "source": [
    "ajk_data=ajk_data.resample('D').ffill()"
   ]
  },
  {
   "cell_type": "code",
   "execution_count": 145,
   "metadata": {},
   "outputs": [
    {
     "data": {
      "text/html": [
       "<div>\n",
       "<style scoped>\n",
       "    .dataframe tbody tr th:only-of-type {\n",
       "        vertical-align: middle;\n",
       "    }\n",
       "\n",
       "    .dataframe tbody tr th {\n",
       "        vertical-align: top;\n",
       "    }\n",
       "\n",
       "    .dataframe thead th {\n",
       "        text-align: right;\n",
       "    }\n",
       "</style>\n",
       "<table border=\"1\" class=\"dataframe\">\n",
       "  <thead>\n",
       "    <tr style=\"text-align: right;\">\n",
       "      <th></th>\n",
       "      <th>Region</th>\n",
       "      <th>Cases(till)</th>\n",
       "      <th>Cases (24 hrs)</th>\n",
       "      <th>Total_cases</th>\n",
       "      <th>New_labtest</th>\n",
       "      <th>Total_labtests</th>\n",
       "      <th>Confirmed (till)</th>\n",
       "      <th>New_confirmed</th>\n",
       "      <th>Total_confirmed</th>\n",
       "      <th>Death (till)</th>\n",
       "      <th>...</th>\n",
       "      <th>Recovered</th>\n",
       "      <th>Death</th>\n",
       "      <th>Quarantine_facilities</th>\n",
       "      <th>New_arrivals</th>\n",
       "      <th>New_departure</th>\n",
       "      <th>Total_quarantine</th>\n",
       "      <th>Number_of_tests</th>\n",
       "      <th>Results_achieved</th>\n",
       "      <th>Test_positive</th>\n",
       "      <th>Test_postivie(%)</th>\n",
       "    </tr>\n",
       "    <tr>\n",
       "      <th>Date</th>\n",
       "      <th></th>\n",
       "      <th></th>\n",
       "      <th></th>\n",
       "      <th></th>\n",
       "      <th></th>\n",
       "      <th></th>\n",
       "      <th></th>\n",
       "      <th></th>\n",
       "      <th></th>\n",
       "      <th></th>\n",
       "      <th></th>\n",
       "      <th></th>\n",
       "      <th></th>\n",
       "      <th></th>\n",
       "      <th></th>\n",
       "      <th></th>\n",
       "      <th></th>\n",
       "      <th></th>\n",
       "      <th></th>\n",
       "      <th></th>\n",
       "      <th></th>\n",
       "    </tr>\n",
       "  </thead>\n",
       "  <tbody>\n",
       "    <tr>\n",
       "      <td>2020-04-04</td>\n",
       "      <td>AJK</td>\n",
       "      <td>322</td>\n",
       "      <td>21</td>\n",
       "      <td>343</td>\n",
       "      <td>21</td>\n",
       "      <td>343</td>\n",
       "      <td>9</td>\n",
       "      <td>2</td>\n",
       "      <td>11</td>\n",
       "      <td>0</td>\n",
       "      <td>...</td>\n",
       "      <td>0</td>\n",
       "      <td>0</td>\n",
       "      <td>57</td>\n",
       "      <td>10</td>\n",
       "      <td>61</td>\n",
       "      <td>192</td>\n",
       "      <td>107</td>\n",
       "      <td>102</td>\n",
       "      <td>5</td>\n",
       "      <td>0.050</td>\n",
       "    </tr>\n",
       "    <tr>\n",
       "      <td>2020-04-05</td>\n",
       "      <td>AJK</td>\n",
       "      <td>343</td>\n",
       "      <td>42</td>\n",
       "      <td>385</td>\n",
       "      <td>42</td>\n",
       "      <td>385</td>\n",
       "      <td>11</td>\n",
       "      <td>1</td>\n",
       "      <td>12</td>\n",
       "      <td>0</td>\n",
       "      <td>...</td>\n",
       "      <td>1</td>\n",
       "      <td>0</td>\n",
       "      <td>57</td>\n",
       "      <td>25</td>\n",
       "      <td>92</td>\n",
       "      <td>170</td>\n",
       "      <td>119</td>\n",
       "      <td>102</td>\n",
       "      <td>5</td>\n",
       "      <td>0.050</td>\n",
       "    </tr>\n",
       "    <tr>\n",
       "      <td>2020-04-06</td>\n",
       "      <td>AJK</td>\n",
       "      <td>385</td>\n",
       "      <td>15</td>\n",
       "      <td>400</td>\n",
       "      <td>15</td>\n",
       "      <td>400</td>\n",
       "      <td>12</td>\n",
       "      <td>3</td>\n",
       "      <td>15</td>\n",
       "      <td>0</td>\n",
       "      <td>...</td>\n",
       "      <td>1</td>\n",
       "      <td>0</td>\n",
       "      <td>57</td>\n",
       "      <td>19</td>\n",
       "      <td>94</td>\n",
       "      <td>171</td>\n",
       "      <td>135</td>\n",
       "      <td>117</td>\n",
       "      <td>8</td>\n",
       "      <td>0.070</td>\n",
       "    </tr>\n",
       "    <tr>\n",
       "      <td>2020-04-07</td>\n",
       "      <td>AJK</td>\n",
       "      <td>400</td>\n",
       "      <td>84</td>\n",
       "      <td>484</td>\n",
       "      <td>84</td>\n",
       "      <td>484</td>\n",
       "      <td>15</td>\n",
       "      <td>3</td>\n",
       "      <td>18</td>\n",
       "      <td>0</td>\n",
       "      <td>...</td>\n",
       "      <td>1</td>\n",
       "      <td>0</td>\n",
       "      <td>57</td>\n",
       "      <td>20</td>\n",
       "      <td>112</td>\n",
       "      <td>157</td>\n",
       "      <td>155</td>\n",
       "      <td>117</td>\n",
       "      <td>10</td>\n",
       "      <td>0.085</td>\n",
       "    </tr>\n",
       "    <tr>\n",
       "      <td>2020-04-08</td>\n",
       "      <td>AJK</td>\n",
       "      <td>484</td>\n",
       "      <td>50</td>\n",
       "      <td>534</td>\n",
       "      <td>50</td>\n",
       "      <td>534</td>\n",
       "      <td>18</td>\n",
       "      <td>1</td>\n",
       "      <td>19</td>\n",
       "      <td>0</td>\n",
       "      <td>...</td>\n",
       "      <td>1</td>\n",
       "      <td>0</td>\n",
       "      <td>57</td>\n",
       "      <td>20</td>\n",
       "      <td>112</td>\n",
       "      <td>173</td>\n",
       "      <td>149</td>\n",
       "      <td>123</td>\n",
       "      <td>10</td>\n",
       "      <td>0.080</td>\n",
       "    </tr>\n",
       "  </tbody>\n",
       "</table>\n",
       "<p>5 rows × 38 columns</p>\n",
       "</div>"
      ],
      "text/plain": [
       "           Region  Cases(till)  Cases (24 hrs)  Total_cases  New_labtest  \\\n",
       "Date                                                                       \n",
       "2020-04-04    AJK          322              21          343           21   \n",
       "2020-04-05    AJK          343              42          385           42   \n",
       "2020-04-06    AJK          385              15          400           15   \n",
       "2020-04-07    AJK          400              84          484           84   \n",
       "2020-04-08    AJK          484              50          534           50   \n",
       "\n",
       "            Total_labtests  Confirmed (till)  New_confirmed  Total_confirmed  \\\n",
       "Date                                                                           \n",
       "2020-04-04             343                 9              2               11   \n",
       "2020-04-05             385                11              1               12   \n",
       "2020-04-06             400                12              3               15   \n",
       "2020-04-07             484                15              3               18   \n",
       "2020-04-08             534                18              1               19   \n",
       "\n",
       "            Death (till)  ...  Recovered  Death  Quarantine_facilities  \\\n",
       "Date                      ...                                            \n",
       "2020-04-04             0  ...          0      0                     57   \n",
       "2020-04-05             0  ...          1      0                     57   \n",
       "2020-04-06             0  ...          1      0                     57   \n",
       "2020-04-07             0  ...          1      0                     57   \n",
       "2020-04-08             0  ...          1      0                     57   \n",
       "\n",
       "            New_arrivals  New_departure  Total_quarantine  Number_of_tests  \\\n",
       "Date                                                                         \n",
       "2020-04-04            10             61               192              107   \n",
       "2020-04-05            25             92               170              119   \n",
       "2020-04-06            19             94               171              135   \n",
       "2020-04-07            20            112               157              155   \n",
       "2020-04-08            20            112               173              149   \n",
       "\n",
       "            Results_achieved  Test_positive  Test_postivie(%)  \n",
       "Date                                                           \n",
       "2020-04-04               102              5             0.050  \n",
       "2020-04-05               102              5             0.050  \n",
       "2020-04-06               117              8             0.070  \n",
       "2020-04-07               117             10             0.085  \n",
       "2020-04-08               123             10             0.080  \n",
       "\n",
       "[5 rows x 38 columns]"
      ]
     },
     "execution_count": 145,
     "metadata": {},
     "output_type": "execute_result"
    }
   ],
   "source": [
    "ajk_data.head()"
   ]
  },
  {
   "cell_type": "code",
   "execution_count": 146,
   "metadata": {},
   "outputs": [
    {
     "data": {
      "text/plain": [
       "(40, 38)"
      ]
     },
     "execution_count": 146,
     "metadata": {},
     "output_type": "execute_result"
    }
   ],
   "source": [
    "ajk_data.shape"
   ]
  },
  {
   "cell_type": "code",
   "execution_count": 147,
   "metadata": {},
   "outputs": [
    {
     "data": {
      "text/plain": [
       "DatetimeIndex([], dtype='datetime64[ns]', freq='D')"
      ]
     },
     "execution_count": 147,
     "metadata": {},
     "output_type": "execute_result"
    }
   ],
   "source": [
    "pd.date_range(start =sheet2.index.min(), end =sheet2.index.max()).difference(ajk_data.index)"
   ]
  },
  {
   "cell_type": "code",
   "execution_count": 148,
   "metadata": {},
   "outputs": [],
   "source": [
    "punjab_data=sheet2[sheet2.Region=='Punjab']"
   ]
  },
  {
   "cell_type": "code",
   "execution_count": 149,
   "metadata": {},
   "outputs": [
    {
     "data": {
      "text/plain": [
       "(34, 38)"
      ]
     },
     "execution_count": 149,
     "metadata": {},
     "output_type": "execute_result"
    }
   ],
   "source": [
    "punjab_data.shape"
   ]
  },
  {
   "cell_type": "code",
   "execution_count": 150,
   "metadata": {},
   "outputs": [],
   "source": [
    "punjab_data=punjab_data.resample('D').ffill()"
   ]
  },
  {
   "cell_type": "code",
   "execution_count": 151,
   "metadata": {},
   "outputs": [
    {
     "data": {
      "text/plain": [
       "DatetimeIndex([], dtype='datetime64[ns]', freq='D')"
      ]
     },
     "execution_count": 151,
     "metadata": {},
     "output_type": "execute_result"
    }
   ],
   "source": [
    "pd.date_range(start =sheet2.index.min(), end =sheet2.index.max()).difference(punjab_data.index)"
   ]
  },
  {
   "cell_type": "code",
   "execution_count": 152,
   "metadata": {},
   "outputs": [
    {
     "data": {
      "text/plain": [
       "(40, 38)"
      ]
     },
     "execution_count": 152,
     "metadata": {},
     "output_type": "execute_result"
    }
   ],
   "source": [
    "punjab_data.shape"
   ]
  },
  {
   "cell_type": "code",
   "execution_count": 153,
   "metadata": {},
   "outputs": [],
   "source": [
    "kp_data=sheet2[sheet2.Region=='KP']"
   ]
  },
  {
   "cell_type": "code",
   "execution_count": 154,
   "metadata": {},
   "outputs": [
    {
     "data": {
      "text/plain": [
       "(34, 38)"
      ]
     },
     "execution_count": 154,
     "metadata": {},
     "output_type": "execute_result"
    }
   ],
   "source": [
    "kp_data.shape"
   ]
  },
  {
   "cell_type": "code",
   "execution_count": 155,
   "metadata": {},
   "outputs": [],
   "source": [
    "kp_data=kp_data.resample('D').ffill()"
   ]
  },
  {
   "cell_type": "code",
   "execution_count": 156,
   "metadata": {},
   "outputs": [
    {
     "data": {
      "text/plain": [
       "(40, 38)"
      ]
     },
     "execution_count": 156,
     "metadata": {},
     "output_type": "execute_result"
    }
   ],
   "source": [
    "kp_data.shape"
   ]
  },
  {
   "cell_type": "code",
   "execution_count": 157,
   "metadata": {},
   "outputs": [],
   "source": [
    "ict_data=sheet2[sheet2.Region=='ICT']"
   ]
  },
  {
   "cell_type": "code",
   "execution_count": 158,
   "metadata": {},
   "outputs": [
    {
     "data": {
      "text/plain": [
       "(34, 38)"
      ]
     },
     "execution_count": 158,
     "metadata": {},
     "output_type": "execute_result"
    }
   ],
   "source": [
    "ict_data.shape"
   ]
  },
  {
   "cell_type": "code",
   "execution_count": 159,
   "metadata": {},
   "outputs": [],
   "source": [
    "ict_data=ict_data.resample('D').ffill()"
   ]
  },
  {
   "cell_type": "code",
   "execution_count": 160,
   "metadata": {},
   "outputs": [
    {
     "data": {
      "text/plain": [
       "DatetimeIndex([], dtype='datetime64[ns]', freq='D')"
      ]
     },
     "execution_count": 160,
     "metadata": {},
     "output_type": "execute_result"
    }
   ],
   "source": [
    "pd.date_range(start =sheet2.index.min(), end =sheet2.index.max()).difference(ict_data.index)"
   ]
  },
  {
   "cell_type": "code",
   "execution_count": 161,
   "metadata": {},
   "outputs": [],
   "source": [
    "gb_data=sheet2[sheet2.Region=='GB']"
   ]
  },
  {
   "cell_type": "code",
   "execution_count": 162,
   "metadata": {},
   "outputs": [],
   "source": [
    "gb_data=gb_data.resample('D').ffill()"
   ]
  },
  {
   "cell_type": "code",
   "execution_count": 163,
   "metadata": {},
   "outputs": [
    {
     "data": {
      "text/plain": [
       "DatetimeIndex([], dtype='datetime64[ns]', freq='D')"
      ]
     },
     "execution_count": 163,
     "metadata": {},
     "output_type": "execute_result"
    }
   ],
   "source": [
    "pd.date_range(start =sheet2.index.min(), end =sheet2.index.max()).difference(gb_data.index)"
   ]
  },
  {
   "cell_type": "code",
   "execution_count": 164,
   "metadata": {},
   "outputs": [],
   "source": [
    "baloch_data=sheet2[sheet2.Region=='Balochistan']"
   ]
  },
  {
   "cell_type": "code",
   "execution_count": 165,
   "metadata": {},
   "outputs": [],
   "source": [
    "baloch_data=baloch_data.resample('D').ffill()"
   ]
  },
  {
   "cell_type": "code",
   "execution_count": 166,
   "metadata": {},
   "outputs": [
    {
     "data": {
      "text/plain": [
       "DatetimeIndex([], dtype='datetime64[ns]', freq='D')"
      ]
     },
     "execution_count": 166,
     "metadata": {},
     "output_type": "execute_result"
    }
   ],
   "source": [
    "pd.date_range(start =sheet2.index.min(), end =sheet2.index.max()).difference(baloch_data.index)"
   ]
  },
  {
   "cell_type": "code",
   "execution_count": 167,
   "metadata": {},
   "outputs": [],
   "source": [
    "sindh_data=sheet2[sheet2.Region=='Sindh']"
   ]
  },
  {
   "cell_type": "code",
   "execution_count": 168,
   "metadata": {},
   "outputs": [],
   "source": [
    "sindh_data=sindh_data.resample('D').ffill()"
   ]
  },
  {
   "cell_type": "code",
   "execution_count": 169,
   "metadata": {},
   "outputs": [
    {
     "data": {
      "text/plain": [
       "DatetimeIndex([], dtype='datetime64[ns]', freq='D')"
      ]
     },
     "execution_count": 169,
     "metadata": {},
     "output_type": "execute_result"
    }
   ],
   "source": [
    "pd.date_range(start =sheet2.index.min(), end =sheet2.index.max()).difference(sindh_data.index)"
   ]
  },
  {
   "cell_type": "code",
   "execution_count": 170,
   "metadata": {},
   "outputs": [],
   "source": [
    "sheet_2=pd.concat([ict_data,punjab_data,sindh_data,kp_data,baloch_data,ajk_data,gb_data])"
   ]
  },
  {
   "cell_type": "code",
   "execution_count": 171,
   "metadata": {},
   "outputs": [
    {
     "data": {
      "text/html": [
       "<div>\n",
       "<style scoped>\n",
       "    .dataframe tbody tr th:only-of-type {\n",
       "        vertical-align: middle;\n",
       "    }\n",
       "\n",
       "    .dataframe tbody tr th {\n",
       "        vertical-align: top;\n",
       "    }\n",
       "\n",
       "    .dataframe thead th {\n",
       "        text-align: right;\n",
       "    }\n",
       "</style>\n",
       "<table border=\"1\" class=\"dataframe\">\n",
       "  <thead>\n",
       "    <tr style=\"text-align: right;\">\n",
       "      <th></th>\n",
       "      <th>Region</th>\n",
       "      <th>Cases(till)</th>\n",
       "      <th>Cases (24 hrs)</th>\n",
       "      <th>Total_cases</th>\n",
       "      <th>New_labtest</th>\n",
       "      <th>Total_labtests</th>\n",
       "      <th>Confirmed (till)</th>\n",
       "      <th>New_confirmed</th>\n",
       "      <th>Total_confirmed</th>\n",
       "      <th>Death (till)</th>\n",
       "      <th>...</th>\n",
       "      <th>Recovered</th>\n",
       "      <th>Death</th>\n",
       "      <th>Quarantine_facilities</th>\n",
       "      <th>New_arrivals</th>\n",
       "      <th>New_departure</th>\n",
       "      <th>Total_quarantine</th>\n",
       "      <th>Number_of_tests</th>\n",
       "      <th>Results_achieved</th>\n",
       "      <th>Test_positive</th>\n",
       "      <th>Test_postivie(%)</th>\n",
       "    </tr>\n",
       "    <tr>\n",
       "      <th>Date</th>\n",
       "      <th></th>\n",
       "      <th></th>\n",
       "      <th></th>\n",
       "      <th></th>\n",
       "      <th></th>\n",
       "      <th></th>\n",
       "      <th></th>\n",
       "      <th></th>\n",
       "      <th></th>\n",
       "      <th></th>\n",
       "      <th></th>\n",
       "      <th></th>\n",
       "      <th></th>\n",
       "      <th></th>\n",
       "      <th></th>\n",
       "      <th></th>\n",
       "      <th></th>\n",
       "      <th></th>\n",
       "      <th></th>\n",
       "      <th></th>\n",
       "      <th></th>\n",
       "    </tr>\n",
       "  </thead>\n",
       "  <tbody>\n",
       "    <tr>\n",
       "      <td>2020-04-04</td>\n",
       "      <td>ICT</td>\n",
       "      <td>2395</td>\n",
       "      <td>174</td>\n",
       "      <td>2569</td>\n",
       "      <td>174</td>\n",
       "      <td>2569</td>\n",
       "      <td>68</td>\n",
       "      <td>7</td>\n",
       "      <td>75</td>\n",
       "      <td>0</td>\n",
       "      <td>...</td>\n",
       "      <td>3</td>\n",
       "      <td>0</td>\n",
       "      <td>6</td>\n",
       "      <td>213</td>\n",
       "      <td>0</td>\n",
       "      <td>243</td>\n",
       "      <td>213</td>\n",
       "      <td>27</td>\n",
       "      <td>2</td>\n",
       "      <td>0.07</td>\n",
       "    </tr>\n",
       "    <tr>\n",
       "      <td>2020-04-05</td>\n",
       "      <td>ICT</td>\n",
       "      <td>2569</td>\n",
       "      <td>175</td>\n",
       "      <td>2744</td>\n",
       "      <td>175</td>\n",
       "      <td>2744</td>\n",
       "      <td>75</td>\n",
       "      <td>3</td>\n",
       "      <td>78</td>\n",
       "      <td>0</td>\n",
       "      <td>...</td>\n",
       "      <td>3</td>\n",
       "      <td>0</td>\n",
       "      <td>10</td>\n",
       "      <td>180</td>\n",
       "      <td>0</td>\n",
       "      <td>426</td>\n",
       "      <td>180</td>\n",
       "      <td>27</td>\n",
       "      <td>2</td>\n",
       "      <td>0.07</td>\n",
       "    </tr>\n",
       "    <tr>\n",
       "      <td>2020-04-06</td>\n",
       "      <td>ICT</td>\n",
       "      <td>2744</td>\n",
       "      <td>127</td>\n",
       "      <td>2871</td>\n",
       "      <td>127</td>\n",
       "      <td>2871</td>\n",
       "      <td>78</td>\n",
       "      <td>4</td>\n",
       "      <td>82</td>\n",
       "      <td>0</td>\n",
       "      <td>...</td>\n",
       "      <td>3</td>\n",
       "      <td>0</td>\n",
       "      <td>10</td>\n",
       "      <td>0</td>\n",
       "      <td>321</td>\n",
       "      <td>105</td>\n",
       "      <td>396</td>\n",
       "      <td>423</td>\n",
       "      <td>24</td>\n",
       "      <td>0.06</td>\n",
       "    </tr>\n",
       "    <tr>\n",
       "      <td>2020-04-07</td>\n",
       "      <td>ICT</td>\n",
       "      <td>2871</td>\n",
       "      <td>50</td>\n",
       "      <td>2921</td>\n",
       "      <td>50</td>\n",
       "      <td>2921</td>\n",
       "      <td>82</td>\n",
       "      <td>1</td>\n",
       "      <td>83</td>\n",
       "      <td>0</td>\n",
       "      <td>...</td>\n",
       "      <td>3</td>\n",
       "      <td>1</td>\n",
       "      <td>10</td>\n",
       "      <td>137</td>\n",
       "      <td>81</td>\n",
       "      <td>161</td>\n",
       "      <td>0</td>\n",
       "      <td>423</td>\n",
       "      <td>24</td>\n",
       "      <td>0.06</td>\n",
       "    </tr>\n",
       "    <tr>\n",
       "      <td>2020-04-08</td>\n",
       "      <td>ICT</td>\n",
       "      <td>2921</td>\n",
       "      <td>175</td>\n",
       "      <td>3096</td>\n",
       "      <td>175</td>\n",
       "      <td>3096</td>\n",
       "      <td>83</td>\n",
       "      <td>9</td>\n",
       "      <td>92</td>\n",
       "      <td>1</td>\n",
       "      <td>...</td>\n",
       "      <td>3</td>\n",
       "      <td>1</td>\n",
       "      <td>12</td>\n",
       "      <td>159</td>\n",
       "      <td>0</td>\n",
       "      <td>320</td>\n",
       "      <td>137</td>\n",
       "      <td>423</td>\n",
       "      <td>24</td>\n",
       "      <td>0.06</td>\n",
       "    </tr>\n",
       "    <tr>\n",
       "      <td>...</td>\n",
       "      <td>...</td>\n",
       "      <td>...</td>\n",
       "      <td>...</td>\n",
       "      <td>...</td>\n",
       "      <td>...</td>\n",
       "      <td>...</td>\n",
       "      <td>...</td>\n",
       "      <td>...</td>\n",
       "      <td>...</td>\n",
       "      <td>...</td>\n",
       "      <td>...</td>\n",
       "      <td>...</td>\n",
       "      <td>...</td>\n",
       "      <td>...</td>\n",
       "      <td>...</td>\n",
       "      <td>...</td>\n",
       "      <td>...</td>\n",
       "      <td>...</td>\n",
       "      <td>...</td>\n",
       "      <td>...</td>\n",
       "      <td>...</td>\n",
       "    </tr>\n",
       "    <tr>\n",
       "      <td>2020-05-09</td>\n",
       "      <td>GB</td>\n",
       "      <td>5658</td>\n",
       "      <td>228</td>\n",
       "      <td>5886</td>\n",
       "      <td>128</td>\n",
       "      <td>5135</td>\n",
       "      <td>394</td>\n",
       "      <td>27</td>\n",
       "      <td>421</td>\n",
       "      <td>3</td>\n",
       "      <td>...</td>\n",
       "      <td>108</td>\n",
       "      <td>298</td>\n",
       "      <td>3</td>\n",
       "      <td>65</td>\n",
       "      <td>0</td>\n",
       "      <td>72</td>\n",
       "      <td>531</td>\n",
       "      <td>5886</td>\n",
       "      <td>5420</td>\n",
       "      <td>421.00</td>\n",
       "    </tr>\n",
       "    <tr>\n",
       "      <td>2020-05-10</td>\n",
       "      <td>GB</td>\n",
       "      <td>5886</td>\n",
       "      <td>97</td>\n",
       "      <td>5983</td>\n",
       "      <td>175</td>\n",
       "      <td>5310</td>\n",
       "      <td>421</td>\n",
       "      <td>9</td>\n",
       "      <td>430</td>\n",
       "      <td>3</td>\n",
       "      <td>...</td>\n",
       "      <td>110</td>\n",
       "      <td>303</td>\n",
       "      <td>4</td>\n",
       "      <td>61</td>\n",
       "      <td>0</td>\n",
       "      <td>106</td>\n",
       "      <td>472</td>\n",
       "      <td>5983</td>\n",
       "      <td>5558</td>\n",
       "      <td>430.00</td>\n",
       "    </tr>\n",
       "    <tr>\n",
       "      <td>2020-05-11</td>\n",
       "      <td>GB</td>\n",
       "      <td>5886</td>\n",
       "      <td>97</td>\n",
       "      <td>5983</td>\n",
       "      <td>175</td>\n",
       "      <td>5310</td>\n",
       "      <td>421</td>\n",
       "      <td>9</td>\n",
       "      <td>430</td>\n",
       "      <td>3</td>\n",
       "      <td>...</td>\n",
       "      <td>110</td>\n",
       "      <td>303</td>\n",
       "      <td>4</td>\n",
       "      <td>61</td>\n",
       "      <td>0</td>\n",
       "      <td>106</td>\n",
       "      <td>472</td>\n",
       "      <td>5983</td>\n",
       "      <td>5558</td>\n",
       "      <td>430.00</td>\n",
       "    </tr>\n",
       "    <tr>\n",
       "      <td>2020-05-12</td>\n",
       "      <td>GB</td>\n",
       "      <td>6060</td>\n",
       "      <td>153</td>\n",
       "      <td>6213</td>\n",
       "      <td>139</td>\n",
       "      <td>5619</td>\n",
       "      <td>442</td>\n",
       "      <td>15</td>\n",
       "      <td>457</td>\n",
       "      <td>4</td>\n",
       "      <td>...</td>\n",
       "      <td>121</td>\n",
       "      <td>320</td>\n",
       "      <td>4</td>\n",
       "      <td>59</td>\n",
       "      <td>0</td>\n",
       "      <td>48</td>\n",
       "      <td>610</td>\n",
       "      <td>6213</td>\n",
       "      <td>5873</td>\n",
       "      <td>457.00</td>\n",
       "    </tr>\n",
       "    <tr>\n",
       "      <td>2020-05-13</td>\n",
       "      <td>GB</td>\n",
       "      <td>6213</td>\n",
       "      <td>11</td>\n",
       "      <td>6224</td>\n",
       "      <td>129</td>\n",
       "      <td>5748</td>\n",
       "      <td>457</td>\n",
       "      <td>18</td>\n",
       "      <td>475</td>\n",
       "      <td>4</td>\n",
       "      <td>...</td>\n",
       "      <td>127</td>\n",
       "      <td>331</td>\n",
       "      <td>4</td>\n",
       "      <td>58</td>\n",
       "      <td>0</td>\n",
       "      <td>261</td>\n",
       "      <td>607</td>\n",
       "      <td>6224</td>\n",
       "      <td>6004</td>\n",
       "      <td>475.00</td>\n",
       "    </tr>\n",
       "  </tbody>\n",
       "</table>\n",
       "<p>280 rows × 38 columns</p>\n",
       "</div>"
      ],
      "text/plain": [
       "           Region  Cases(till)  Cases (24 hrs)  Total_cases  New_labtest  \\\n",
       "Date                                                                       \n",
       "2020-04-04    ICT         2395             174         2569          174   \n",
       "2020-04-05    ICT         2569             175         2744          175   \n",
       "2020-04-06    ICT         2744             127         2871          127   \n",
       "2020-04-07    ICT         2871              50         2921           50   \n",
       "2020-04-08    ICT         2921             175         3096          175   \n",
       "...           ...          ...             ...          ...          ...   \n",
       "2020-05-09     GB         5658             228         5886          128   \n",
       "2020-05-10     GB         5886              97         5983          175   \n",
       "2020-05-11     GB         5886              97         5983          175   \n",
       "2020-05-12     GB         6060             153         6213          139   \n",
       "2020-05-13     GB         6213              11         6224          129   \n",
       "\n",
       "            Total_labtests  Confirmed (till)  New_confirmed  Total_confirmed  \\\n",
       "Date                                                                           \n",
       "2020-04-04            2569                68              7               75   \n",
       "2020-04-05            2744                75              3               78   \n",
       "2020-04-06            2871                78              4               82   \n",
       "2020-04-07            2921                82              1               83   \n",
       "2020-04-08            3096                83              9               92   \n",
       "...                    ...               ...            ...              ...   \n",
       "2020-05-09            5135               394             27              421   \n",
       "2020-05-10            5310               421              9              430   \n",
       "2020-05-11            5310               421              9              430   \n",
       "2020-05-12            5619               442             15              457   \n",
       "2020-05-13            5748               457             18              475   \n",
       "\n",
       "            Death (till)  ...  Recovered  Death  Quarantine_facilities  \\\n",
       "Date                      ...                                            \n",
       "2020-04-04             0  ...          3      0                      6   \n",
       "2020-04-05             0  ...          3      0                     10   \n",
       "2020-04-06             0  ...          3      0                     10   \n",
       "2020-04-07             0  ...          3      1                     10   \n",
       "2020-04-08             1  ...          3      1                     12   \n",
       "...                  ...  ...        ...    ...                    ...   \n",
       "2020-05-09             3  ...        108    298                      3   \n",
       "2020-05-10             3  ...        110    303                      4   \n",
       "2020-05-11             3  ...        110    303                      4   \n",
       "2020-05-12             4  ...        121    320                      4   \n",
       "2020-05-13             4  ...        127    331                      4   \n",
       "\n",
       "            New_arrivals  New_departure  Total_quarantine  Number_of_tests  \\\n",
       "Date                                                                         \n",
       "2020-04-04           213              0               243              213   \n",
       "2020-04-05           180              0               426              180   \n",
       "2020-04-06             0            321               105              396   \n",
       "2020-04-07           137             81               161                0   \n",
       "2020-04-08           159              0               320              137   \n",
       "...                  ...            ...               ...              ...   \n",
       "2020-05-09            65              0                72              531   \n",
       "2020-05-10            61              0               106              472   \n",
       "2020-05-11            61              0               106              472   \n",
       "2020-05-12            59              0                48              610   \n",
       "2020-05-13            58              0               261              607   \n",
       "\n",
       "            Results_achieved  Test_positive  Test_postivie(%)  \n",
       "Date                                                           \n",
       "2020-04-04                27              2              0.07  \n",
       "2020-04-05                27              2              0.07  \n",
       "2020-04-06               423             24              0.06  \n",
       "2020-04-07               423             24              0.06  \n",
       "2020-04-08               423             24              0.06  \n",
       "...                      ...            ...               ...  \n",
       "2020-05-09              5886           5420            421.00  \n",
       "2020-05-10              5983           5558            430.00  \n",
       "2020-05-11              5983           5558            430.00  \n",
       "2020-05-12              6213           5873            457.00  \n",
       "2020-05-13              6224           6004            475.00  \n",
       "\n",
       "[280 rows x 38 columns]"
      ]
     },
     "execution_count": 171,
     "metadata": {},
     "output_type": "execute_result"
    }
   ],
   "source": [
    "sheet_2"
   ]
  },
  {
   "cell_type": "code",
   "execution_count": 172,
   "metadata": {},
   "outputs": [
    {
     "data": {
      "text/plain": [
       "Balochistan    40\n",
       "Sindh          40\n",
       "KP             40\n",
       "GB             40\n",
       "ICT            40\n",
       "AJK            40\n",
       "Punjab         40\n",
       "Name: Region, dtype: int64"
      ]
     },
     "execution_count": 172,
     "metadata": {},
     "output_type": "execute_result"
    }
   ],
   "source": [
    "sheet_2.Region.value_counts()"
   ]
  },
  {
   "cell_type": "code",
   "execution_count": 293,
   "metadata": {},
   "outputs": [
    {
     "data": {
      "text/html": [
       "<div>\n",
       "<style scoped>\n",
       "    .dataframe tbody tr th:only-of-type {\n",
       "        vertical-align: middle;\n",
       "    }\n",
       "\n",
       "    .dataframe tbody tr th {\n",
       "        vertical-align: top;\n",
       "    }\n",
       "\n",
       "    .dataframe thead th {\n",
       "        text-align: right;\n",
       "    }\n",
       "</style>\n",
       "<table border=\"1\" class=\"dataframe\">\n",
       "  <thead>\n",
       "    <tr style=\"text-align: right;\">\n",
       "      <th></th>\n",
       "      <th>Date</th>\n",
       "      <th>Region</th>\n",
       "      <th>Cases</th>\n",
       "      <th>Confirmed</th>\n",
       "      <th>Recovered</th>\n",
       "      <th>Dead</th>\n",
       "      <th>Active</th>\n",
       "      <th>Hospitalized</th>\n",
       "      <th>Home_quarantine</th>\n",
       "      <th>New_cases</th>\n",
       "      <th>Total_tests</th>\n",
       "      <th>New_tests</th>\n",
       "    </tr>\n",
       "  </thead>\n",
       "  <tbody>\n",
       "    <tr>\n",
       "      <td>0</td>\n",
       "      <td>2020-03-11</td>\n",
       "      <td>ICT</td>\n",
       "      <td>48</td>\n",
       "      <td>2</td>\n",
       "      <td>0</td>\n",
       "      <td>0</td>\n",
       "      <td>2</td>\n",
       "      <td>2</td>\n",
       "      <td>0</td>\n",
       "      <td>3</td>\n",
       "      <td>80</td>\n",
       "      <td>8</td>\n",
       "    </tr>\n",
       "    <tr>\n",
       "      <td>1</td>\n",
       "      <td>2020-03-12</td>\n",
       "      <td>ICT</td>\n",
       "      <td>52</td>\n",
       "      <td>2</td>\n",
       "      <td>0</td>\n",
       "      <td>0</td>\n",
       "      <td>2</td>\n",
       "      <td>2</td>\n",
       "      <td>0</td>\n",
       "      <td>4</td>\n",
       "      <td>85</td>\n",
       "      <td>5</td>\n",
       "    </tr>\n",
       "    <tr>\n",
       "      <td>2</td>\n",
       "      <td>2020-03-13</td>\n",
       "      <td>ICT</td>\n",
       "      <td>57</td>\n",
       "      <td>2</td>\n",
       "      <td>0</td>\n",
       "      <td>0</td>\n",
       "      <td>2</td>\n",
       "      <td>2</td>\n",
       "      <td>0</td>\n",
       "      <td>5</td>\n",
       "      <td>92</td>\n",
       "      <td>7</td>\n",
       "    </tr>\n",
       "    <tr>\n",
       "      <td>3</td>\n",
       "      <td>2020-03-14</td>\n",
       "      <td>ICT</td>\n",
       "      <td>62</td>\n",
       "      <td>3</td>\n",
       "      <td>0</td>\n",
       "      <td>0</td>\n",
       "      <td>3</td>\n",
       "      <td>3</td>\n",
       "      <td>0</td>\n",
       "      <td>5</td>\n",
       "      <td>99</td>\n",
       "      <td>7</td>\n",
       "    </tr>\n",
       "    <tr>\n",
       "      <td>4</td>\n",
       "      <td>2020-03-15</td>\n",
       "      <td>ICT</td>\n",
       "      <td>65</td>\n",
       "      <td>4</td>\n",
       "      <td>0</td>\n",
       "      <td>0</td>\n",
       "      <td>4</td>\n",
       "      <td>4</td>\n",
       "      <td>0</td>\n",
       "      <td>3</td>\n",
       "      <td>115</td>\n",
       "      <td>16</td>\n",
       "    </tr>\n",
       "  </tbody>\n",
       "</table>\n",
       "</div>"
      ],
      "text/plain": [
       "        Date Region  Cases  Confirmed  Recovered  Dead  Active  Hospitalized  \\\n",
       "0 2020-03-11    ICT     48          2          0     0       2             2   \n",
       "1 2020-03-12    ICT     52          2          0     0       2             2   \n",
       "2 2020-03-13    ICT     57          2          0     0       2             2   \n",
       "3 2020-03-14    ICT     62          3          0     0       3             3   \n",
       "4 2020-03-15    ICT     65          4          0     0       4             4   \n",
       "\n",
       "   Home_quarantine  New_cases  Total_tests  New_tests  \n",
       "0                0          3           80          8  \n",
       "1                0          4           85          5  \n",
       "2                0          5           92          7  \n",
       "3                0          5           99          7  \n",
       "4                0          3          115         16  "
      ]
     },
     "execution_count": 293,
     "metadata": {},
     "output_type": "execute_result"
    }
   ],
   "source": [
    "sheet_1.head()"
   ]
  },
  {
   "cell_type": "code",
   "execution_count": 174,
   "metadata": {},
   "outputs": [
    {
     "data": {
      "text/plain": [
       "246"
      ]
     },
     "execution_count": 174,
     "metadata": {},
     "output_type": "execute_result"
    }
   ],
   "source": [
    "(sheet_2['Total_confirmed'].reset_index(drop=True)==sheet_1[sheet_1['Date']>=sheet_2.index.min()].Confirmed.reset_index(drop=True)).sum()"
   ]
  },
  {
   "cell_type": "code",
   "execution_count": null,
   "metadata": {},
   "outputs": [],
   "source": []
  },
  {
   "cell_type": "markdown",
   "metadata": {},
   "source": [
    "**Cleaning Sheet 3**"
   ]
  },
  {
   "cell_type": "code",
   "execution_count": 175,
   "metadata": {},
   "outputs": [
    {
     "data": {
      "text/html": [
       "<div>\n",
       "<style scoped>\n",
       "    .dataframe tbody tr th:only-of-type {\n",
       "        vertical-align: middle;\n",
       "    }\n",
       "\n",
       "    .dataframe tbody tr th {\n",
       "        vertical-align: top;\n",
       "    }\n",
       "\n",
       "    .dataframe thead th {\n",
       "        text-align: right;\n",
       "    }\n",
       "</style>\n",
       "<table border=\"1\" class=\"dataframe\">\n",
       "  <thead>\n",
       "    <tr style=\"text-align: right;\">\n",
       "      <th></th>\n",
       "      <th>Date</th>\n",
       "      <th>Cumulative travelers Screened</th>\n",
       "      <th>Suspected at Points of Entry</th>\n",
       "      <th>Travelers Screened at Points ofEntry in last 24 hours</th>\n",
       "    </tr>\n",
       "  </thead>\n",
       "  <tbody>\n",
       "    <tr>\n",
       "      <td>0</td>\n",
       "      <td>11-Mar-2020</td>\n",
       "      <td>873288</td>\n",
       "      <td>26</td>\n",
       "      <td>21102</td>\n",
       "    </tr>\n",
       "    <tr>\n",
       "      <td>1</td>\n",
       "      <td>12-Mar-2020</td>\n",
       "      <td>894256</td>\n",
       "      <td>29</td>\n",
       "      <td>20968</td>\n",
       "    </tr>\n",
       "    <tr>\n",
       "      <td>2</td>\n",
       "      <td>13-Mar-2020</td>\n",
       "      <td>913542</td>\n",
       "      <td>33</td>\n",
       "      <td>19286</td>\n",
       "    </tr>\n",
       "    <tr>\n",
       "      <td>3</td>\n",
       "      <td>14-Mar-2020</td>\n",
       "      <td>933970</td>\n",
       "      <td>43</td>\n",
       "      <td>20428</td>\n",
       "    </tr>\n",
       "    <tr>\n",
       "      <td>4</td>\n",
       "      <td>15-Mar-2020</td>\n",
       "      <td>954646</td>\n",
       "      <td>59</td>\n",
       "      <td>20676</td>\n",
       "    </tr>\n",
       "  </tbody>\n",
       "</table>\n",
       "</div>"
      ],
      "text/plain": [
       "          Date  Cumulative travelers Screened  Suspected at Points of Entry  \\\n",
       "0  11-Mar-2020                         873288                            26   \n",
       "1  12-Mar-2020                         894256                            29   \n",
       "2  13-Mar-2020                         913542                            33   \n",
       "3  14-Mar-2020                         933970                            43   \n",
       "4  15-Mar-2020                         954646                            59   \n",
       "\n",
       "   Travelers Screened at Points ofEntry in last 24 hours  \n",
       "0                                              21102      \n",
       "1                                              20968      \n",
       "2                                              19286      \n",
       "3                                              20428      \n",
       "4                                              20676      "
      ]
     },
     "execution_count": 175,
     "metadata": {},
     "output_type": "execute_result"
    }
   ],
   "source": [
    "sheet3=covid_data.parse('TimeSeries_Action_Screen')  #Opening  third sheet\n",
    "sheet3.head()\n"
   ]
  },
  {
   "cell_type": "code",
   "execution_count": 176,
   "metadata": {},
   "outputs": [
    {
     "data": {
      "text/plain": [
       "(24, 4)"
      ]
     },
     "execution_count": 176,
     "metadata": {},
     "output_type": "execute_result"
    }
   ],
   "source": [
    "sheet3.shape"
   ]
  },
  {
   "cell_type": "code",
   "execution_count": 177,
   "metadata": {},
   "outputs": [],
   "source": [
    "sheet3.columns=['Date','Total_travelers_screened','Suspected_travelers','New_travelers_screened']"
   ]
  },
  {
   "cell_type": "code",
   "execution_count": 178,
   "metadata": {},
   "outputs": [
    {
     "data": {
      "text/html": [
       "<div>\n",
       "<style scoped>\n",
       "    .dataframe tbody tr th:only-of-type {\n",
       "        vertical-align: middle;\n",
       "    }\n",
       "\n",
       "    .dataframe tbody tr th {\n",
       "        vertical-align: top;\n",
       "    }\n",
       "\n",
       "    .dataframe thead th {\n",
       "        text-align: right;\n",
       "    }\n",
       "</style>\n",
       "<table border=\"1\" class=\"dataframe\">\n",
       "  <thead>\n",
       "    <tr style=\"text-align: right;\">\n",
       "      <th></th>\n",
       "      <th>Date</th>\n",
       "      <th>Total_travelers_screened</th>\n",
       "      <th>Suspected_travelers</th>\n",
       "      <th>New_travelers_screened</th>\n",
       "    </tr>\n",
       "  </thead>\n",
       "  <tbody>\n",
       "    <tr>\n",
       "      <td>0</td>\n",
       "      <td>11-Mar-2020</td>\n",
       "      <td>873288</td>\n",
       "      <td>26</td>\n",
       "      <td>21102</td>\n",
       "    </tr>\n",
       "    <tr>\n",
       "      <td>1</td>\n",
       "      <td>12-Mar-2020</td>\n",
       "      <td>894256</td>\n",
       "      <td>29</td>\n",
       "      <td>20968</td>\n",
       "    </tr>\n",
       "    <tr>\n",
       "      <td>2</td>\n",
       "      <td>13-Mar-2020</td>\n",
       "      <td>913542</td>\n",
       "      <td>33</td>\n",
       "      <td>19286</td>\n",
       "    </tr>\n",
       "    <tr>\n",
       "      <td>3</td>\n",
       "      <td>14-Mar-2020</td>\n",
       "      <td>933970</td>\n",
       "      <td>43</td>\n",
       "      <td>20428</td>\n",
       "    </tr>\n",
       "    <tr>\n",
       "      <td>4</td>\n",
       "      <td>15-Mar-2020</td>\n",
       "      <td>954646</td>\n",
       "      <td>59</td>\n",
       "      <td>20676</td>\n",
       "    </tr>\n",
       "  </tbody>\n",
       "</table>\n",
       "</div>"
      ],
      "text/plain": [
       "          Date  Total_travelers_screened  Suspected_travelers  \\\n",
       "0  11-Mar-2020                    873288                   26   \n",
       "1  12-Mar-2020                    894256                   29   \n",
       "2  13-Mar-2020                    913542                   33   \n",
       "3  14-Mar-2020                    933970                   43   \n",
       "4  15-Mar-2020                    954646                   59   \n",
       "\n",
       "   New_travelers_screened  \n",
       "0                   21102  \n",
       "1                   20968  \n",
       "2                   19286  \n",
       "3                   20428  \n",
       "4                   20676  "
      ]
     },
     "execution_count": 178,
     "metadata": {},
     "output_type": "execute_result"
    }
   ],
   "source": [
    "sheet3.head()"
   ]
  },
  {
   "cell_type": "code",
   "execution_count": 179,
   "metadata": {},
   "outputs": [
    {
     "name": "stdout",
     "output_type": "stream",
     "text": [
      "<class 'pandas.core.frame.DataFrame'>\n",
      "RangeIndex: 24 entries, 0 to 23\n",
      "Data columns (total 4 columns):\n",
      "Date                        24 non-null object\n",
      "Total_travelers_screened    24 non-null int64\n",
      "Suspected_travelers         24 non-null int64\n",
      "New_travelers_screened      24 non-null int64\n",
      "dtypes: int64(3), object(1)\n",
      "memory usage: 896.0+ bytes\n"
     ]
    }
   ],
   "source": [
    "sheet3.info()"
   ]
  },
  {
   "cell_type": "code",
   "execution_count": 180,
   "metadata": {},
   "outputs": [
    {
     "name": "stdout",
     "output_type": "stream",
     "text": [
      "<class 'pandas.core.frame.DataFrame'>\n",
      "RangeIndex: 24 entries, 0 to 23\n",
      "Data columns (total 4 columns):\n",
      "Date                        24 non-null datetime64[ns]\n",
      "Total_travelers_screened    24 non-null int64\n",
      "Suspected_travelers         24 non-null int64\n",
      "New_travelers_screened      24 non-null int64\n",
      "dtypes: datetime64[ns](1), int64(3)\n",
      "memory usage: 896.0 bytes\n"
     ]
    }
   ],
   "source": [
    "sheet3['Date']=pd.to_datetime(sheet3['Date'])\n",
    "sheet3.info()"
   ]
  },
  {
   "cell_type": "code",
   "execution_count": 181,
   "metadata": {},
   "outputs": [
    {
     "data": {
      "text/plain": [
       "Date                        0\n",
       "Total_travelers_screened    0\n",
       "Suspected_travelers         0\n",
       "New_travelers_screened      0\n",
       "dtype: int64"
      ]
     },
     "execution_count": 181,
     "metadata": {},
     "output_type": "execute_result"
    }
   ],
   "source": [
    "sheet3.isnull().sum()"
   ]
  },
  {
   "cell_type": "code",
   "execution_count": 182,
   "metadata": {},
   "outputs": [
    {
     "data": {
      "text/plain": [
       "0"
      ]
     },
     "execution_count": 182,
     "metadata": {},
     "output_type": "execute_result"
    }
   ],
   "source": [
    "sheet3.duplicated().sum()"
   ]
  },
  {
   "cell_type": "code",
   "execution_count": 183,
   "metadata": {},
   "outputs": [
    {
     "data": {
      "text/plain": [
       "Date                        0\n",
       "Total_travelers_screened    0\n",
       "Suspected_travelers         0\n",
       "New_travelers_screened      0\n",
       "dtype: int64"
      ]
     },
     "execution_count": 183,
     "metadata": {},
     "output_type": "execute_result"
    }
   ],
   "source": [
    "sheet3.isin(['.','?','na','NA','N/A',np.nan,'No 0']).sum()"
   ]
  },
  {
   "cell_type": "code",
   "execution_count": 184,
   "metadata": {},
   "outputs": [
    {
     "data": {
      "text/plain": [
       "Timestamp('2020-03-11 00:00:00')"
      ]
     },
     "execution_count": 184,
     "metadata": {},
     "output_type": "execute_result"
    }
   ],
   "source": [
    "min(sheet3['Date'])"
   ]
  },
  {
   "cell_type": "code",
   "execution_count": 185,
   "metadata": {},
   "outputs": [
    {
     "data": {
      "text/plain": [
       "Timestamp('2020-04-03 00:00:00')"
      ]
     },
     "execution_count": 185,
     "metadata": {},
     "output_type": "execute_result"
    }
   ],
   "source": [
    "max(sheet3['Date'])"
   ]
  },
  {
   "cell_type": "code",
   "execution_count": 186,
   "metadata": {},
   "outputs": [
    {
     "data": {
      "text/plain": [
       "Timedelta('23 days 00:00:00')"
      ]
     },
     "execution_count": 186,
     "metadata": {},
     "output_type": "execute_result"
    }
   ],
   "source": [
    "max(sheet3['Date'])-min(sheet3['Date'])"
   ]
  },
  {
   "cell_type": "code",
   "execution_count": null,
   "metadata": {},
   "outputs": [],
   "source": []
  },
  {
   "cell_type": "code",
   "execution_count": null,
   "metadata": {},
   "outputs": [],
   "source": []
  },
  {
   "cell_type": "markdown",
   "metadata": {},
   "source": [
    "**Cleaning Sheet 4** "
   ]
  },
  {
   "cell_type": "code",
   "execution_count": 187,
   "metadata": {},
   "outputs": [
    {
     "data": {
      "text/html": [
       "<div>\n",
       "<style scoped>\n",
       "    .dataframe tbody tr th:only-of-type {\n",
       "        vertical-align: middle;\n",
       "    }\n",
       "\n",
       "    .dataframe tbody tr th {\n",
       "        vertical-align: top;\n",
       "    }\n",
       "\n",
       "    .dataframe thead th {\n",
       "        text-align: right;\n",
       "    }\n",
       "</style>\n",
       "<table border=\"1\" class=\"dataframe\">\n",
       "  <thead>\n",
       "    <tr style=\"text-align: right;\">\n",
       "      <th></th>\n",
       "      <th>Returnees</th>\n",
       "      <th>Advised Self-Quarantine</th>\n",
       "      <th>Cumulative no offirst-time calls</th>\n",
       "      <th>Cumulativefollow-up calls</th>\n",
       "      <th>Date</th>\n",
       "      <th>First-time calls inpast 24 hrs</th>\n",
       "      <th>Follow-up calls inpast 24 hrs</th>\n",
       "    </tr>\n",
       "  </thead>\n",
       "  <tbody>\n",
       "    <tr>\n",
       "      <td>0</td>\n",
       "      <td>Returnees from Iran</td>\n",
       "      <td>0</td>\n",
       "      <td>9459</td>\n",
       "      <td>2553</td>\n",
       "      <td>11-Mar-2020</td>\n",
       "      <td>0</td>\n",
       "      <td>353</td>\n",
       "    </tr>\n",
       "    <tr>\n",
       "      <td>1</td>\n",
       "      <td>Returnees from China</td>\n",
       "      <td>11</td>\n",
       "      <td>5342</td>\n",
       "      <td>7746</td>\n",
       "      <td>11-Mar-2020</td>\n",
       "      <td>17</td>\n",
       "      <td>400</td>\n",
       "    </tr>\n",
       "    <tr>\n",
       "      <td>2</td>\n",
       "      <td>Returnees from Iran</td>\n",
       "      <td>14</td>\n",
       "      <td>9475</td>\n",
       "      <td>3221</td>\n",
       "      <td>12-Mar-2020</td>\n",
       "      <td>16</td>\n",
       "      <td>668</td>\n",
       "    </tr>\n",
       "    <tr>\n",
       "      <td>3</td>\n",
       "      <td>Returnees from China</td>\n",
       "      <td>7</td>\n",
       "      <td>5352</td>\n",
       "      <td>7855</td>\n",
       "      <td>12-Mar-2020</td>\n",
       "      <td>10</td>\n",
       "      <td>109</td>\n",
       "    </tr>\n",
       "    <tr>\n",
       "      <td>4</td>\n",
       "      <td>Returnees from Iran</td>\n",
       "      <td>0</td>\n",
       "      <td>9475</td>\n",
       "      <td>3853</td>\n",
       "      <td>13-Mar-2020</td>\n",
       "      <td>0</td>\n",
       "      <td>632</td>\n",
       "    </tr>\n",
       "  </tbody>\n",
       "</table>\n",
       "</div>"
      ],
      "text/plain": [
       "              Returnees  Advised Self-Quarantine  \\\n",
       "0   Returnees from Iran                        0   \n",
       "1  Returnees from China                       11   \n",
       "2   Returnees from Iran                       14   \n",
       "3  Returnees from China                        7   \n",
       "4   Returnees from Iran                        0   \n",
       "\n",
       "   Cumulative no offirst-time calls  Cumulativefollow-up calls         Date  \\\n",
       "0                              9459                       2553  11-Mar-2020   \n",
       "1                              5342                       7746  11-Mar-2020   \n",
       "2                              9475                       3221  12-Mar-2020   \n",
       "3                              5352                       7855  12-Mar-2020   \n",
       "4                              9475                       3853  13-Mar-2020   \n",
       "\n",
       "   First-time calls inpast 24 hrs  Follow-up calls inpast 24 hrs  \n",
       "0                               0                            353  \n",
       "1                              17                            400  \n",
       "2                              16                            668  \n",
       "3                              10                            109  \n",
       "4                               0                            632  "
      ]
     },
     "execution_count": 187,
     "metadata": {},
     "output_type": "execute_result"
    }
   ],
   "source": [
    "sheet4=covid_data.parse('TimeSeries_Action_Call')  #Opening  first sheet\n",
    "sheet4.head()"
   ]
  },
  {
   "cell_type": "code",
   "execution_count": 188,
   "metadata": {},
   "outputs": [
    {
     "data": {
      "text/plain": [
       "(40, 7)"
      ]
     },
     "execution_count": 188,
     "metadata": {},
     "output_type": "execute_result"
    }
   ],
   "source": [
    "sheet4.shape"
   ]
  },
  {
   "cell_type": "code",
   "execution_count": 189,
   "metadata": {},
   "outputs": [],
   "source": [
    "sheet4.columns=['Returnees','Advised_quarantine','Total_firsttime_calls','Total_followup_calls','Date','Firsttime_calls (24h)','Followup_calls (24h)']"
   ]
  },
  {
   "cell_type": "code",
   "execution_count": 190,
   "metadata": {},
   "outputs": [
    {
     "data": {
      "text/html": [
       "<div>\n",
       "<style scoped>\n",
       "    .dataframe tbody tr th:only-of-type {\n",
       "        vertical-align: middle;\n",
       "    }\n",
       "\n",
       "    .dataframe tbody tr th {\n",
       "        vertical-align: top;\n",
       "    }\n",
       "\n",
       "    .dataframe thead th {\n",
       "        text-align: right;\n",
       "    }\n",
       "</style>\n",
       "<table border=\"1\" class=\"dataframe\">\n",
       "  <thead>\n",
       "    <tr style=\"text-align: right;\">\n",
       "      <th></th>\n",
       "      <th>Returnees</th>\n",
       "      <th>Advised_quarantine</th>\n",
       "      <th>Total_firsttime_calls</th>\n",
       "      <th>Total_followup_calls</th>\n",
       "      <th>Date</th>\n",
       "      <th>Firsttime_calls (24h)</th>\n",
       "      <th>Followup_calls (24h)</th>\n",
       "    </tr>\n",
       "  </thead>\n",
       "  <tbody>\n",
       "    <tr>\n",
       "      <td>0</td>\n",
       "      <td>Returnees from Iran</td>\n",
       "      <td>0</td>\n",
       "      <td>9459</td>\n",
       "      <td>2553</td>\n",
       "      <td>11-Mar-2020</td>\n",
       "      <td>0</td>\n",
       "      <td>353</td>\n",
       "    </tr>\n",
       "    <tr>\n",
       "      <td>1</td>\n",
       "      <td>Returnees from China</td>\n",
       "      <td>11</td>\n",
       "      <td>5342</td>\n",
       "      <td>7746</td>\n",
       "      <td>11-Mar-2020</td>\n",
       "      <td>17</td>\n",
       "      <td>400</td>\n",
       "    </tr>\n",
       "    <tr>\n",
       "      <td>2</td>\n",
       "      <td>Returnees from Iran</td>\n",
       "      <td>14</td>\n",
       "      <td>9475</td>\n",
       "      <td>3221</td>\n",
       "      <td>12-Mar-2020</td>\n",
       "      <td>16</td>\n",
       "      <td>668</td>\n",
       "    </tr>\n",
       "    <tr>\n",
       "      <td>3</td>\n",
       "      <td>Returnees from China</td>\n",
       "      <td>7</td>\n",
       "      <td>5352</td>\n",
       "      <td>7855</td>\n",
       "      <td>12-Mar-2020</td>\n",
       "      <td>10</td>\n",
       "      <td>109</td>\n",
       "    </tr>\n",
       "    <tr>\n",
       "      <td>4</td>\n",
       "      <td>Returnees from Iran</td>\n",
       "      <td>0</td>\n",
       "      <td>9475</td>\n",
       "      <td>3853</td>\n",
       "      <td>13-Mar-2020</td>\n",
       "      <td>0</td>\n",
       "      <td>632</td>\n",
       "    </tr>\n",
       "  </tbody>\n",
       "</table>\n",
       "</div>"
      ],
      "text/plain": [
       "              Returnees  Advised_quarantine  Total_firsttime_calls  \\\n",
       "0   Returnees from Iran                   0                   9459   \n",
       "1  Returnees from China                  11                   5342   \n",
       "2   Returnees from Iran                  14                   9475   \n",
       "3  Returnees from China                   7                   5352   \n",
       "4   Returnees from Iran                   0                   9475   \n",
       "\n",
       "   Total_followup_calls         Date  Firsttime_calls (24h)  \\\n",
       "0                  2553  11-Mar-2020                      0   \n",
       "1                  7746  11-Mar-2020                     17   \n",
       "2                  3221  12-Mar-2020                     16   \n",
       "3                  7855  12-Mar-2020                     10   \n",
       "4                  3853  13-Mar-2020                      0   \n",
       "\n",
       "   Followup_calls (24h)  \n",
       "0                   353  \n",
       "1                   400  \n",
       "2                   668  \n",
       "3                   109  \n",
       "4                   632  "
      ]
     },
     "execution_count": 190,
     "metadata": {},
     "output_type": "execute_result"
    }
   ],
   "source": [
    "sheet4.head()"
   ]
  },
  {
   "cell_type": "code",
   "execution_count": 191,
   "metadata": {},
   "outputs": [
    {
     "name": "stdout",
     "output_type": "stream",
     "text": [
      "<class 'pandas.core.frame.DataFrame'>\n",
      "RangeIndex: 40 entries, 0 to 39\n",
      "Data columns (total 7 columns):\n",
      "Returnees                40 non-null object\n",
      "Advised_quarantine       40 non-null int64\n",
      "Total_firsttime_calls    40 non-null int64\n",
      "Total_followup_calls     40 non-null int64\n",
      "Date                     40 non-null object\n",
      "Firsttime_calls (24h)    40 non-null int64\n",
      "Followup_calls (24h)     40 non-null int64\n",
      "dtypes: int64(5), object(2)\n",
      "memory usage: 2.3+ KB\n"
     ]
    }
   ],
   "source": [
    "sheet4.info()"
   ]
  },
  {
   "cell_type": "code",
   "execution_count": 192,
   "metadata": {},
   "outputs": [],
   "source": [
    "sheet4['Date']=pd.to_datetime(sheet4['Date'])"
   ]
  },
  {
   "cell_type": "code",
   "execution_count": 193,
   "metadata": {},
   "outputs": [
    {
     "name": "stdout",
     "output_type": "stream",
     "text": [
      "<class 'pandas.core.frame.DataFrame'>\n",
      "RangeIndex: 40 entries, 0 to 39\n",
      "Data columns (total 7 columns):\n",
      "Returnees                40 non-null object\n",
      "Advised_quarantine       40 non-null int64\n",
      "Total_firsttime_calls    40 non-null int64\n",
      "Total_followup_calls     40 non-null int64\n",
      "Date                     40 non-null datetime64[ns]\n",
      "Firsttime_calls (24h)    40 non-null int64\n",
      "Followup_calls (24h)     40 non-null int64\n",
      "dtypes: datetime64[ns](1), int64(5), object(1)\n",
      "memory usage: 2.3+ KB\n"
     ]
    }
   ],
   "source": [
    "sheet4.info()"
   ]
  },
  {
   "cell_type": "code",
   "execution_count": 194,
   "metadata": {},
   "outputs": [
    {
     "data": {
      "text/plain": [
       "Timestamp('2020-03-30 00:00:00')"
      ]
     },
     "execution_count": 194,
     "metadata": {},
     "output_type": "execute_result"
    }
   ],
   "source": [
    "max(sheet4['Date'])"
   ]
  },
  {
   "cell_type": "code",
   "execution_count": 195,
   "metadata": {},
   "outputs": [
    {
     "data": {
      "text/plain": [
       "Timedelta('19 days 00:00:00')"
      ]
     },
     "execution_count": 195,
     "metadata": {},
     "output_type": "execute_result"
    }
   ],
   "source": [
    "max(sheet4['Date'])-min(sheet4['Date'])"
   ]
  },
  {
   "cell_type": "code",
   "execution_count": 196,
   "metadata": {},
   "outputs": [
    {
     "data": {
      "text/plain": [
       "Returnees                0\n",
       "Advised_quarantine       0\n",
       "Total_firsttime_calls    0\n",
       "Total_followup_calls     0\n",
       "Date                     0\n",
       "Firsttime_calls (24h)    0\n",
       "Followup_calls (24h)     0\n",
       "dtype: int64"
      ]
     },
     "execution_count": 196,
     "metadata": {},
     "output_type": "execute_result"
    }
   ],
   "source": [
    "sheet4.isnull().sum()"
   ]
  },
  {
   "cell_type": "code",
   "execution_count": 197,
   "metadata": {},
   "outputs": [
    {
     "data": {
      "text/plain": [
       "0"
      ]
     },
     "execution_count": 197,
     "metadata": {},
     "output_type": "execute_result"
    }
   ],
   "source": [
    "sheet4.duplicated().sum()"
   ]
  },
  {
   "cell_type": "code",
   "execution_count": 198,
   "metadata": {},
   "outputs": [
    {
     "data": {
      "text/plain": [
       "Returnees                0\n",
       "Advised_quarantine       0\n",
       "Total_firsttime_calls    0\n",
       "Total_followup_calls     0\n",
       "Date                     0\n",
       "Firsttime_calls (24h)    0\n",
       "Followup_calls (24h)     0\n",
       "dtype: int64"
      ]
     },
     "execution_count": 198,
     "metadata": {},
     "output_type": "execute_result"
    }
   ],
   "source": [
    "sheet4.isin(['.','?','na','NA','N/A',np.nan,'No 0']).sum()"
   ]
  },
  {
   "cell_type": "code",
   "execution_count": 199,
   "metadata": {},
   "outputs": [
    {
     "data": {
      "text/plain": [
       "Returnees from Iran     20\n",
       "Returnees from China    20\n",
       "Name: Returnees, dtype: int64"
      ]
     },
     "execution_count": 199,
     "metadata": {},
     "output_type": "execute_result"
    }
   ],
   "source": [
    "sheet4.Returnees.value_counts()"
   ]
  },
  {
   "cell_type": "code",
   "execution_count": 200,
   "metadata": {},
   "outputs": [
    {
     "data": {
      "text/html": [
       "<div>\n",
       "<style scoped>\n",
       "    .dataframe tbody tr th:only-of-type {\n",
       "        vertical-align: middle;\n",
       "    }\n",
       "\n",
       "    .dataframe tbody tr th {\n",
       "        vertical-align: top;\n",
       "    }\n",
       "\n",
       "    .dataframe thead th {\n",
       "        text-align: right;\n",
       "    }\n",
       "</style>\n",
       "<table border=\"1\" class=\"dataframe\">\n",
       "  <thead>\n",
       "    <tr style=\"text-align: right;\">\n",
       "      <th></th>\n",
       "      <th>Returnees</th>\n",
       "      <th>Advised_quarantine</th>\n",
       "      <th>Total_firsttime_calls</th>\n",
       "      <th>Total_followup_calls</th>\n",
       "      <th>Date</th>\n",
       "      <th>Firsttime_calls (24h)</th>\n",
       "      <th>Followup_calls (24h)</th>\n",
       "    </tr>\n",
       "  </thead>\n",
       "  <tbody>\n",
       "    <tr>\n",
       "      <td>1</td>\n",
       "      <td>Returnees from China</td>\n",
       "      <td>11</td>\n",
       "      <td>5342</td>\n",
       "      <td>7746</td>\n",
       "      <td>2020-03-11</td>\n",
       "      <td>17</td>\n",
       "      <td>400</td>\n",
       "    </tr>\n",
       "    <tr>\n",
       "      <td>3</td>\n",
       "      <td>Returnees from China</td>\n",
       "      <td>7</td>\n",
       "      <td>5352</td>\n",
       "      <td>7855</td>\n",
       "      <td>2020-03-12</td>\n",
       "      <td>10</td>\n",
       "      <td>109</td>\n",
       "    </tr>\n",
       "    <tr>\n",
       "      <td>5</td>\n",
       "      <td>Returnees from China</td>\n",
       "      <td>10</td>\n",
       "      <td>5362</td>\n",
       "      <td>8041</td>\n",
       "      <td>2020-03-13</td>\n",
       "      <td>10</td>\n",
       "      <td>186</td>\n",
       "    </tr>\n",
       "    <tr>\n",
       "      <td>7</td>\n",
       "      <td>Returnees from China</td>\n",
       "      <td>5</td>\n",
       "      <td>5370</td>\n",
       "      <td>8083</td>\n",
       "      <td>2020-03-14</td>\n",
       "      <td>8</td>\n",
       "      <td>42</td>\n",
       "    </tr>\n",
       "    <tr>\n",
       "      <td>9</td>\n",
       "      <td>Returnees from China</td>\n",
       "      <td>0</td>\n",
       "      <td>5370</td>\n",
       "      <td>8160</td>\n",
       "      <td>2020-03-15</td>\n",
       "      <td>0</td>\n",
       "      <td>77</td>\n",
       "    </tr>\n",
       "    <tr>\n",
       "      <td>11</td>\n",
       "      <td>Returnees from China</td>\n",
       "      <td>11</td>\n",
       "      <td>5394</td>\n",
       "      <td>8160</td>\n",
       "      <td>2020-03-16</td>\n",
       "      <td>24</td>\n",
       "      <td>0</td>\n",
       "    </tr>\n",
       "    <tr>\n",
       "      <td>13</td>\n",
       "      <td>Returnees from China</td>\n",
       "      <td>13</td>\n",
       "      <td>5413</td>\n",
       "      <td>8180</td>\n",
       "      <td>2020-03-17</td>\n",
       "      <td>19</td>\n",
       "      <td>20</td>\n",
       "    </tr>\n",
       "    <tr>\n",
       "      <td>15</td>\n",
       "      <td>Returnees from China</td>\n",
       "      <td>16</td>\n",
       "      <td>5439</td>\n",
       "      <td>8899</td>\n",
       "      <td>2020-03-18</td>\n",
       "      <td>26</td>\n",
       "      <td>719</td>\n",
       "    </tr>\n",
       "    <tr>\n",
       "      <td>17</td>\n",
       "      <td>Returnees from China</td>\n",
       "      <td>0</td>\n",
       "      <td>5441</td>\n",
       "      <td>9392</td>\n",
       "      <td>2020-03-19</td>\n",
       "      <td>2</td>\n",
       "      <td>493</td>\n",
       "    </tr>\n",
       "    <tr>\n",
       "      <td>19</td>\n",
       "      <td>Returnees from China</td>\n",
       "      <td>8</td>\n",
       "      <td>5458</td>\n",
       "      <td>9392</td>\n",
       "      <td>2020-03-20</td>\n",
       "      <td>17</td>\n",
       "      <td>0</td>\n",
       "    </tr>\n",
       "    <tr>\n",
       "      <td>21</td>\n",
       "      <td>Returnees from China</td>\n",
       "      <td>1</td>\n",
       "      <td>5462</td>\n",
       "      <td>9658</td>\n",
       "      <td>2020-03-21</td>\n",
       "      <td>4</td>\n",
       "      <td>266</td>\n",
       "    </tr>\n",
       "    <tr>\n",
       "      <td>23</td>\n",
       "      <td>Returnees from China</td>\n",
       "      <td>3</td>\n",
       "      <td>5473</td>\n",
       "      <td>10109</td>\n",
       "      <td>2020-03-22</td>\n",
       "      <td>11</td>\n",
       "      <td>451</td>\n",
       "    </tr>\n",
       "    <tr>\n",
       "      <td>25</td>\n",
       "      <td>Returnees from China</td>\n",
       "      <td>1</td>\n",
       "      <td>5474</td>\n",
       "      <td>10451</td>\n",
       "      <td>2020-03-23</td>\n",
       "      <td>1</td>\n",
       "      <td>342</td>\n",
       "    </tr>\n",
       "    <tr>\n",
       "      <td>27</td>\n",
       "      <td>Returnees from China</td>\n",
       "      <td>0</td>\n",
       "      <td>5474</td>\n",
       "      <td>10875</td>\n",
       "      <td>2020-03-24</td>\n",
       "      <td>0</td>\n",
       "      <td>424</td>\n",
       "    </tr>\n",
       "    <tr>\n",
       "      <td>29</td>\n",
       "      <td>Returnees from China</td>\n",
       "      <td>0</td>\n",
       "      <td>5474</td>\n",
       "      <td>11110</td>\n",
       "      <td>2020-03-25</td>\n",
       "      <td>0</td>\n",
       "      <td>235</td>\n",
       "    </tr>\n",
       "    <tr>\n",
       "      <td>31</td>\n",
       "      <td>Returnees from China</td>\n",
       "      <td>0</td>\n",
       "      <td>5474</td>\n",
       "      <td>11460</td>\n",
       "      <td>2020-03-26</td>\n",
       "      <td>0</td>\n",
       "      <td>350</td>\n",
       "    </tr>\n",
       "    <tr>\n",
       "      <td>33</td>\n",
       "      <td>Returnees from China</td>\n",
       "      <td>0</td>\n",
       "      <td>5474</td>\n",
       "      <td>11727</td>\n",
       "      <td>2020-03-27</td>\n",
       "      <td>0</td>\n",
       "      <td>267</td>\n",
       "    </tr>\n",
       "    <tr>\n",
       "      <td>35</td>\n",
       "      <td>Returnees from China</td>\n",
       "      <td>0</td>\n",
       "      <td>5474</td>\n",
       "      <td>12247</td>\n",
       "      <td>2020-03-28</td>\n",
       "      <td>0</td>\n",
       "      <td>520</td>\n",
       "    </tr>\n",
       "    <tr>\n",
       "      <td>37</td>\n",
       "      <td>Returnees from China</td>\n",
       "      <td>0</td>\n",
       "      <td>5474</td>\n",
       "      <td>12409</td>\n",
       "      <td>2020-03-29</td>\n",
       "      <td>0</td>\n",
       "      <td>162</td>\n",
       "    </tr>\n",
       "    <tr>\n",
       "      <td>39</td>\n",
       "      <td>Returnees from China</td>\n",
       "      <td>0</td>\n",
       "      <td>5474</td>\n",
       "      <td>12480</td>\n",
       "      <td>2020-03-30</td>\n",
       "      <td>0</td>\n",
       "      <td>71</td>\n",
       "    </tr>\n",
       "  </tbody>\n",
       "</table>\n",
       "</div>"
      ],
      "text/plain": [
       "               Returnees  Advised_quarantine  Total_firsttime_calls  \\\n",
       "1   Returnees from China                  11                   5342   \n",
       "3   Returnees from China                   7                   5352   \n",
       "5   Returnees from China                  10                   5362   \n",
       "7   Returnees from China                   5                   5370   \n",
       "9   Returnees from China                   0                   5370   \n",
       "11  Returnees from China                  11                   5394   \n",
       "13  Returnees from China                  13                   5413   \n",
       "15  Returnees from China                  16                   5439   \n",
       "17  Returnees from China                   0                   5441   \n",
       "19  Returnees from China                   8                   5458   \n",
       "21  Returnees from China                   1                   5462   \n",
       "23  Returnees from China                   3                   5473   \n",
       "25  Returnees from China                   1                   5474   \n",
       "27  Returnees from China                   0                   5474   \n",
       "29  Returnees from China                   0                   5474   \n",
       "31  Returnees from China                   0                   5474   \n",
       "33  Returnees from China                   0                   5474   \n",
       "35  Returnees from China                   0                   5474   \n",
       "37  Returnees from China                   0                   5474   \n",
       "39  Returnees from China                   0                   5474   \n",
       "\n",
       "    Total_followup_calls       Date  Firsttime_calls (24h)  \\\n",
       "1                   7746 2020-03-11                     17   \n",
       "3                   7855 2020-03-12                     10   \n",
       "5                   8041 2020-03-13                     10   \n",
       "7                   8083 2020-03-14                      8   \n",
       "9                   8160 2020-03-15                      0   \n",
       "11                  8160 2020-03-16                     24   \n",
       "13                  8180 2020-03-17                     19   \n",
       "15                  8899 2020-03-18                     26   \n",
       "17                  9392 2020-03-19                      2   \n",
       "19                  9392 2020-03-20                     17   \n",
       "21                  9658 2020-03-21                      4   \n",
       "23                 10109 2020-03-22                     11   \n",
       "25                 10451 2020-03-23                      1   \n",
       "27                 10875 2020-03-24                      0   \n",
       "29                 11110 2020-03-25                      0   \n",
       "31                 11460 2020-03-26                      0   \n",
       "33                 11727 2020-03-27                      0   \n",
       "35                 12247 2020-03-28                      0   \n",
       "37                 12409 2020-03-29                      0   \n",
       "39                 12480 2020-03-30                      0   \n",
       "\n",
       "    Followup_calls (24h)  \n",
       "1                    400  \n",
       "3                    109  \n",
       "5                    186  \n",
       "7                     42  \n",
       "9                     77  \n",
       "11                     0  \n",
       "13                    20  \n",
       "15                   719  \n",
       "17                   493  \n",
       "19                     0  \n",
       "21                   266  \n",
       "23                   451  \n",
       "25                   342  \n",
       "27                   424  \n",
       "29                   235  \n",
       "31                   350  \n",
       "33                   267  \n",
       "35                   520  \n",
       "37                   162  \n",
       "39                    71  "
      ]
     },
     "execution_count": 200,
     "metadata": {},
     "output_type": "execute_result"
    }
   ],
   "source": [
    "sheet4[sheet4['Returnees']=='Returnees from China']"
   ]
  },
  {
   "cell_type": "code",
   "execution_count": 201,
   "metadata": {},
   "outputs": [
    {
     "data": {
      "text/html": [
       "<div>\n",
       "<style scoped>\n",
       "    .dataframe tbody tr th:only-of-type {\n",
       "        vertical-align: middle;\n",
       "    }\n",
       "\n",
       "    .dataframe tbody tr th {\n",
       "        vertical-align: top;\n",
       "    }\n",
       "\n",
       "    .dataframe thead th {\n",
       "        text-align: right;\n",
       "    }\n",
       "</style>\n",
       "<table border=\"1\" class=\"dataframe\">\n",
       "  <thead>\n",
       "    <tr style=\"text-align: right;\">\n",
       "      <th></th>\n",
       "      <th>Advised_quarantine</th>\n",
       "    </tr>\n",
       "    <tr>\n",
       "      <th>Returnees</th>\n",
       "      <th></th>\n",
       "    </tr>\n",
       "  </thead>\n",
       "  <tbody>\n",
       "    <tr>\n",
       "      <td>Returnees from China</td>\n",
       "      <td>86</td>\n",
       "    </tr>\n",
       "    <tr>\n",
       "      <td>Returnees from Iran</td>\n",
       "      <td>21</td>\n",
       "    </tr>\n",
       "  </tbody>\n",
       "</table>\n",
       "</div>"
      ],
      "text/plain": [
       "                      Advised_quarantine\n",
       "Returnees                               \n",
       "Returnees from China                  86\n",
       "Returnees from Iran                   21"
      ]
     },
     "execution_count": 201,
     "metadata": {},
     "output_type": "execute_result"
    }
   ],
   "source": [
    "total_returnees_quarantine=sheet4.filter(['Returnees','Advised_quarantine','Date']).groupby(['Returnees']).agg('sum')\n",
    "total_returnees_quarantine\n",
    "                                                                                                        "
   ]
  },
  {
   "cell_type": "code",
   "execution_count": 202,
   "metadata": {},
   "outputs": [],
   "source": [
    "iran_data=sheet4[sheet4['Returnees']=='Returnees from Iran']"
   ]
  },
  {
   "cell_type": "code",
   "execution_count": 203,
   "metadata": {},
   "outputs": [],
   "source": [
    "iran_data=iran_data.set_index('Date')"
   ]
  },
  {
   "cell_type": "code",
   "execution_count": 204,
   "metadata": {},
   "outputs": [
    {
     "data": {
      "image/png": "[encoded data removed]",
      "text/plain": [
       "<Figure size 432x288 with 1 Axes>"
      ]
     },
     "metadata": {},
     "output_type": "display_data"
    }
   ],
   "source": [
    "iran_data['Advised_quarantine'].plot();"
   ]
  },
  {
   "cell_type": "code",
   "execution_count": 205,
   "metadata": {},
   "outputs": [],
   "source": [
    "china_data=sheet4[sheet4['Returnees']=='Returnees from China']"
   ]
  },
  {
   "cell_type": "code",
   "execution_count": 206,
   "metadata": {},
   "outputs": [
    {
     "data": {
      "text/plain": [
       "(20, 6)"
      ]
     },
     "execution_count": 206,
     "metadata": {},
     "output_type": "execute_result"
    }
   ],
   "source": [
    "china_data=china_data.set_index('Date')\n",
    "china_data.shape"
   ]
  },
  {
   "cell_type": "code",
   "execution_count": 207,
   "metadata": {},
   "outputs": [
    {
     "data": {
      "text/html": [
       "<div>\n",
       "<style scoped>\n",
       "    .dataframe tbody tr th:only-of-type {\n",
       "        vertical-align: middle;\n",
       "    }\n",
       "\n",
       "    .dataframe tbody tr th {\n",
       "        vertical-align: top;\n",
       "    }\n",
       "\n",
       "    .dataframe thead th {\n",
       "        text-align: right;\n",
       "    }\n",
       "</style>\n",
       "<table border=\"1\" class=\"dataframe\">\n",
       "  <thead>\n",
       "    <tr style=\"text-align: right;\">\n",
       "      <th></th>\n",
       "      <th>Returnees</th>\n",
       "      <th>Advised_quarantine</th>\n",
       "      <th>Total_firsttime_calls</th>\n",
       "      <th>Total_followup_calls</th>\n",
       "      <th>Firsttime_calls (24h)</th>\n",
       "      <th>Followup_calls (24h)</th>\n",
       "    </tr>\n",
       "    <tr>\n",
       "      <th>Date</th>\n",
       "      <th></th>\n",
       "      <th></th>\n",
       "      <th></th>\n",
       "      <th></th>\n",
       "      <th></th>\n",
       "      <th></th>\n",
       "    </tr>\n",
       "  </thead>\n",
       "  <tbody>\n",
       "    <tr>\n",
       "      <td>2020-03-11</td>\n",
       "      <td>Returnees from China</td>\n",
       "      <td>11</td>\n",
       "      <td>5342</td>\n",
       "      <td>7746</td>\n",
       "      <td>17</td>\n",
       "      <td>400</td>\n",
       "    </tr>\n",
       "    <tr>\n",
       "      <td>2020-03-12</td>\n",
       "      <td>Returnees from China</td>\n",
       "      <td>7</td>\n",
       "      <td>5352</td>\n",
       "      <td>7855</td>\n",
       "      <td>10</td>\n",
       "      <td>109</td>\n",
       "    </tr>\n",
       "    <tr>\n",
       "      <td>2020-03-13</td>\n",
       "      <td>Returnees from China</td>\n",
       "      <td>10</td>\n",
       "      <td>5362</td>\n",
       "      <td>8041</td>\n",
       "      <td>10</td>\n",
       "      <td>186</td>\n",
       "    </tr>\n",
       "    <tr>\n",
       "      <td>2020-03-14</td>\n",
       "      <td>Returnees from China</td>\n",
       "      <td>5</td>\n",
       "      <td>5370</td>\n",
       "      <td>8083</td>\n",
       "      <td>8</td>\n",
       "      <td>42</td>\n",
       "    </tr>\n",
       "    <tr>\n",
       "      <td>2020-03-15</td>\n",
       "      <td>Returnees from China</td>\n",
       "      <td>0</td>\n",
       "      <td>5370</td>\n",
       "      <td>8160</td>\n",
       "      <td>0</td>\n",
       "      <td>77</td>\n",
       "    </tr>\n",
       "  </tbody>\n",
       "</table>\n",
       "</div>"
      ],
      "text/plain": [
       "                       Returnees  Advised_quarantine  Total_firsttime_calls  \\\n",
       "Date                                                                          \n",
       "2020-03-11  Returnees from China                  11                   5342   \n",
       "2020-03-12  Returnees from China                   7                   5352   \n",
       "2020-03-13  Returnees from China                  10                   5362   \n",
       "2020-03-14  Returnees from China                   5                   5370   \n",
       "2020-03-15  Returnees from China                   0                   5370   \n",
       "\n",
       "            Total_followup_calls  Firsttime_calls (24h)  Followup_calls (24h)  \n",
       "Date                                                                           \n",
       "2020-03-11                  7746                     17                   400  \n",
       "2020-03-12                  7855                     10                   109  \n",
       "2020-03-13                  8041                     10                   186  \n",
       "2020-03-14                  8083                      8                    42  \n",
       "2020-03-15                  8160                      0                    77  "
      ]
     },
     "execution_count": 207,
     "metadata": {},
     "output_type": "execute_result"
    }
   ],
   "source": [
    "china_data.head()"
   ]
  },
  {
   "cell_type": "code",
   "execution_count": 208,
   "metadata": {},
   "outputs": [
    {
     "data": {
      "image/png": "[encoded data removed]",
      "text/plain": [
       "<Figure size 432x288 with 1 Axes>"
      ]
     },
     "metadata": {},
     "output_type": "display_data"
    }
   ],
   "source": [
    "china_data['Advised_quarantine'].plot(label='China')\n",
    "iran_data['Advised_quarantine'].plot(label='Iran')\n",
    "plt.title(\"Comparison of Iran and China advised quarantine\")\n",
    "plt.legend(loc=1)\n",
    "plt.show();\n"
   ]
  },
  {
   "cell_type": "code",
   "execution_count": 209,
   "metadata": {},
   "outputs": [
    {
     "data": {
      "image/png": "[encoded data removed]",
      "text/plain": [
       "<Figure size 432x288 with 1 Axes>"
      ]
     },
     "metadata": {},
     "output_type": "display_data"
    }
   ],
   "source": [
    "china_data['Total_followup_calls'].plot(label='China')\n",
    "iran_data['Total_followup_calls'].plot(label='Iran')\n",
    "plt.title(\"Follow up calls after point of Entry\")\n",
    "plt.legend(loc=2)\n",
    "plt.show();"
   ]
  },
  {
   "cell_type": "code",
   "execution_count": null,
   "metadata": {},
   "outputs": [],
   "source": []
  },
  {
   "cell_type": "code",
   "execution_count": null,
   "metadata": {},
   "outputs": [],
   "source": []
  },
  {
   "cell_type": "markdown",
   "metadata": {},
   "source": [
    "**Cleaning Sheet 5**"
   ]
  },
  {
   "cell_type": "code",
   "execution_count": 210,
   "metadata": {},
   "outputs": [
    {
     "data": {
      "text/html": [
       "<div>\n",
       "<style scoped>\n",
       "    .dataframe tbody tr th:only-of-type {\n",
       "        vertical-align: middle;\n",
       "    }\n",
       "\n",
       "    .dataframe tbody tr th {\n",
       "        vertical-align: top;\n",
       "    }\n",
       "\n",
       "    .dataframe thead th {\n",
       "        text-align: right;\n",
       "    }\n",
       "</style>\n",
       "<table border=\"1\" class=\"dataframe\">\n",
       "  <thead>\n",
       "    <tr style=\"text-align: right;\">\n",
       "      <th></th>\n",
       "      <th>Unnamed: 0</th>\n",
       "      <th>Date</th>\n",
       "      <th>News</th>\n",
       "      <th>Agg News</th>\n",
       "    </tr>\n",
       "  </thead>\n",
       "  <tbody>\n",
       "    <tr>\n",
       "      <td>0</td>\n",
       "      <td>0</td>\n",
       "      <td>11-Mar-2020</td>\n",
       "      <td>Updates: Pakistan:</td>\n",
       "      <td>Updates: Pakistan: \\n Three new cases have bee...</td>\n",
       "    </tr>\n",
       "    <tr>\n",
       "      <td>1</td>\n",
       "      <td>1</td>\n",
       "      <td>11-Mar-2020</td>\n",
       "      <td>Three new cases have been confirmed in the pas...</td>\n",
       "      <td>Updates: Pakistan: \\n Three new cases have bee...</td>\n",
       "    </tr>\n",
       "    <tr>\n",
       "      <td>2</td>\n",
       "      <td>2</td>\n",
       "      <td>11-Mar-2020</td>\n",
       "      <td>Number of calls to passengers returning from I...</td>\n",
       "      <td>Updates: Pakistan: \\n Three new cases have bee...</td>\n",
       "    </tr>\n",
       "    <tr>\n",
       "      <td>3</td>\n",
       "      <td>3</td>\n",
       "      <td>11-Mar-2020</td>\n",
       "      <td>Global:</td>\n",
       "      <td>Updates: Pakistan: \\n Three new cases have bee...</td>\n",
       "    </tr>\n",
       "    <tr>\n",
       "      <td>4</td>\n",
       "      <td>4</td>\n",
       "      <td>11-Mar-2020</td>\n",
       "      <td>Total cases: 118,887,  Total Deaths: 4,290 •</td>\n",
       "      <td>Updates: Pakistan: \\n Three new cases have bee...</td>\n",
       "    </tr>\n",
       "  </tbody>\n",
       "</table>\n",
       "</div>"
      ],
      "text/plain": [
       "   Unnamed: 0         Date                                               News  \\\n",
       "0           0  11-Mar-2020                                 Updates: Pakistan:   \n",
       "1           1  11-Mar-2020  Three new cases have been confirmed in the pas...   \n",
       "2           2  11-Mar-2020  Number of calls to passengers returning from I...   \n",
       "3           3  11-Mar-2020                                            Global:   \n",
       "4           4  11-Mar-2020       Total cases: 118,887,  Total Deaths: 4,290 •   \n",
       "\n",
       "                                            Agg News  \n",
       "0  Updates: Pakistan: \\n Three new cases have bee...  \n",
       "1  Updates: Pakistan: \\n Three new cases have bee...  \n",
       "2  Updates: Pakistan: \\n Three new cases have bee...  \n",
       "3  Updates: Pakistan: \\n Three new cases have bee...  \n",
       "4  Updates: Pakistan: \\n Three new cases have bee...  "
      ]
     },
     "execution_count": 210,
     "metadata": {},
     "output_type": "execute_result"
    }
   ],
   "source": [
    "sheet5=covid_data.parse('TimeSeries_COVID_News')  #Opening  fifth sheet\n",
    "sheet5.head()"
   ]
  },
  {
   "cell_type": "code",
   "execution_count": 211,
   "metadata": {},
   "outputs": [
    {
     "data": {
      "text/html": [
       "<div>\n",
       "<style scoped>\n",
       "    .dataframe tbody tr th:only-of-type {\n",
       "        vertical-align: middle;\n",
       "    }\n",
       "\n",
       "    .dataframe tbody tr th {\n",
       "        vertical-align: top;\n",
       "    }\n",
       "\n",
       "    .dataframe thead th {\n",
       "        text-align: right;\n",
       "    }\n",
       "</style>\n",
       "<table border=\"1\" class=\"dataframe\">\n",
       "  <thead>\n",
       "    <tr style=\"text-align: right;\">\n",
       "      <th></th>\n",
       "      <th>Date</th>\n",
       "      <th>News</th>\n",
       "      <th>Agg News</th>\n",
       "    </tr>\n",
       "  </thead>\n",
       "  <tbody>\n",
       "    <tr>\n",
       "      <td>0</td>\n",
       "      <td>11-Mar-2020</td>\n",
       "      <td>Updates: Pakistan:</td>\n",
       "      <td>Updates: Pakistan: \\n Three new cases have bee...</td>\n",
       "    </tr>\n",
       "    <tr>\n",
       "      <td>1</td>\n",
       "      <td>11-Mar-2020</td>\n",
       "      <td>Three new cases have been confirmed in the pas...</td>\n",
       "      <td>Updates: Pakistan: \\n Three new cases have bee...</td>\n",
       "    </tr>\n",
       "    <tr>\n",
       "      <td>2</td>\n",
       "      <td>11-Mar-2020</td>\n",
       "      <td>Number of calls to passengers returning from I...</td>\n",
       "      <td>Updates: Pakistan: \\n Three new cases have bee...</td>\n",
       "    </tr>\n",
       "    <tr>\n",
       "      <td>3</td>\n",
       "      <td>11-Mar-2020</td>\n",
       "      <td>Global:</td>\n",
       "      <td>Updates: Pakistan: \\n Three new cases have bee...</td>\n",
       "    </tr>\n",
       "    <tr>\n",
       "      <td>4</td>\n",
       "      <td>11-Mar-2020</td>\n",
       "      <td>Total cases: 118,887,  Total Deaths: 4,290 •</td>\n",
       "      <td>Updates: Pakistan: \\n Three new cases have bee...</td>\n",
       "    </tr>\n",
       "  </tbody>\n",
       "</table>\n",
       "</div>"
      ],
      "text/plain": [
       "          Date                                               News  \\\n",
       "0  11-Mar-2020                                 Updates: Pakistan:   \n",
       "1  11-Mar-2020  Three new cases have been confirmed in the pas...   \n",
       "2  11-Mar-2020  Number of calls to passengers returning from I...   \n",
       "3  11-Mar-2020                                            Global:   \n",
       "4  11-Mar-2020       Total cases: 118,887,  Total Deaths: 4,290 •   \n",
       "\n",
       "                                            Agg News  \n",
       "0  Updates: Pakistan: \\n Three new cases have bee...  \n",
       "1  Updates: Pakistan: \\n Three new cases have bee...  \n",
       "2  Updates: Pakistan: \\n Three new cases have bee...  \n",
       "3  Updates: Pakistan: \\n Three new cases have bee...  \n",
       "4  Updates: Pakistan: \\n Three new cases have bee...  "
      ]
     },
     "execution_count": 211,
     "metadata": {},
     "output_type": "execute_result"
    }
   ],
   "source": [
    "sheet5.drop('Unnamed: 0',axis=1,inplace=True)               #droping unnamed column keeping default indexing\n",
    "sheet5.head()"
   ]
  },
  {
   "cell_type": "code",
   "execution_count": 212,
   "metadata": {},
   "outputs": [],
   "source": [
    "sheet5.columns=['Date','NH_news','Daily_news']"
   ]
  },
  {
   "cell_type": "code",
   "execution_count": 213,
   "metadata": {},
   "outputs": [
    {
     "name": "stdout",
     "output_type": "stream",
     "text": [
      "<class 'pandas.core.frame.DataFrame'>\n",
      "RangeIndex: 146 entries, 0 to 145\n",
      "Data columns (total 3 columns):\n",
      "Date          146 non-null object\n",
      "NH_news       146 non-null object\n",
      "Daily_news    146 non-null object\n",
      "dtypes: object(3)\n",
      "memory usage: 3.5+ KB\n"
     ]
    }
   ],
   "source": [
    "sheet5.info()"
   ]
  },
  {
   "cell_type": "code",
   "execution_count": 214,
   "metadata": {},
   "outputs": [
    {
     "name": "stdout",
     "output_type": "stream",
     "text": [
      "<class 'pandas.core.frame.DataFrame'>\n",
      "RangeIndex: 146 entries, 0 to 145\n",
      "Data columns (total 3 columns):\n",
      "Date          146 non-null datetime64[ns]\n",
      "NH_news       146 non-null object\n",
      "Daily_news    146 non-null object\n",
      "dtypes: datetime64[ns](1), object(2)\n",
      "memory usage: 3.5+ KB\n"
     ]
    }
   ],
   "source": [
    "sheet5['Date']=pd.to_datetime(sheet5['Date'])\n",
    "sheet5.info()"
   ]
  },
  {
   "cell_type": "code",
   "execution_count": 215,
   "metadata": {},
   "outputs": [
    {
     "data": {
      "text/plain": [
       "Timestamp('2020-04-03 00:00:00')"
      ]
     },
     "execution_count": 215,
     "metadata": {},
     "output_type": "execute_result"
    }
   ],
   "source": [
    "max(sheet5['Date'])"
   ]
  },
  {
   "cell_type": "code",
   "execution_count": 216,
   "metadata": {},
   "outputs": [
    {
     "data": {
      "text/plain": [
       "Timedelta('19 days 00:00:00')"
      ]
     },
     "execution_count": 216,
     "metadata": {},
     "output_type": "execute_result"
    }
   ],
   "source": [
    "max(sheet4['Date'])-min(sheet4['Date'])"
   ]
  },
  {
   "cell_type": "code",
   "execution_count": 217,
   "metadata": {},
   "outputs": [
    {
     "data": {
      "text/plain": [
       "Date          0\n",
       "NH_news       0\n",
       "Daily_news    0\n",
       "dtype: int64"
      ]
     },
     "execution_count": 217,
     "metadata": {},
     "output_type": "execute_result"
    }
   ],
   "source": [
    "sheet5.isnull().sum()"
   ]
  },
  {
   "cell_type": "code",
   "execution_count": 218,
   "metadata": {},
   "outputs": [
    {
     "name": "stdout",
     "output_type": "stream",
     "text": [
      "0\n"
     ]
    },
    {
     "data": {
      "text/plain": [
       "Date          0\n",
       "NH_news       0\n",
       "Daily_news    0\n",
       "dtype: int64"
      ]
     },
     "execution_count": 218,
     "metadata": {},
     "output_type": "execute_result"
    }
   ],
   "source": [
    "print(sheet5.duplicated().sum())\n",
    "sheet5.isin(['.','?','na','NA','N/A',np.nan,'No 0']).sum()"
   ]
  },
  {
   "cell_type": "code",
   "execution_count": 219,
   "metadata": {},
   "outputs": [
    {
     "data": {
      "text/plain": [
       "(146, 3)"
      ]
     },
     "execution_count": 219,
     "metadata": {},
     "output_type": "execute_result"
    }
   ],
   "source": [
    "sheet5.shape"
   ]
  },
  {
   "cell_type": "code",
   "execution_count": null,
   "metadata": {},
   "outputs": [],
   "source": []
  },
  {
   "cell_type": "code",
   "execution_count": null,
   "metadata": {},
   "outputs": [],
   "source": []
  },
  {
   "cell_type": "markdown",
   "metadata": {},
   "source": [
    "**Cleaning Sheet 6**"
   ]
  },
  {
   "cell_type": "code",
   "execution_count": 220,
   "metadata": {},
   "outputs": [
    {
     "data": {
      "text/html": [
       "<div>\n",
       "<style scoped>\n",
       "    .dataframe tbody tr th:only-of-type {\n",
       "        vertical-align: middle;\n",
       "    }\n",
       "\n",
       "    .dataframe tbody tr th {\n",
       "        vertical-align: top;\n",
       "    }\n",
       "\n",
       "    .dataframe thead th {\n",
       "        text-align: right;\n",
       "    }\n",
       "</style>\n",
       "<table border=\"1\" class=\"dataframe\">\n",
       "  <thead>\n",
       "    <tr style=\"text-align: right;\">\n",
       "      <th></th>\n",
       "      <th>Unnamed: 0</th>\n",
       "      <th>Date</th>\n",
       "      <th>NIH Preparedness and Response</th>\n",
       "      <th>Agg NIH Preparedness and Response</th>\n",
       "    </tr>\n",
       "  </thead>\n",
       "  <tbody>\n",
       "    <tr>\n",
       "      <td>0</td>\n",
       "      <td>0</td>\n",
       "      <td>11-Mar-2020</td>\n",
       "      <td>BSL-3 mobile lab with state of art equipment h...</td>\n",
       "      <td>BSL-3 mobile lab with state of art equipment h...</td>\n",
       "    </tr>\n",
       "    <tr>\n",
       "      <td>1</td>\n",
       "      <td>1</td>\n",
       "      <td>11-Mar-2020</td>\n",
       "      <td>IPC trainings have been completed at Gilgit an...</td>\n",
       "      <td>BSL-3 mobile lab with state of art equipment h...</td>\n",
       "    </tr>\n",
       "    <tr>\n",
       "      <td>2</td>\n",
       "      <td>2</td>\n",
       "      <td>11-Mar-2020</td>\n",
       "      <td>Training of the GB lab staff has been conducte...</td>\n",
       "      <td>BSL-3 mobile lab with state of art equipment h...</td>\n",
       "    </tr>\n",
       "    <tr>\n",
       "      <td>3</td>\n",
       "      <td>3</td>\n",
       "      <td>11-Mar-2020</td>\n",
       "      <td>IPC training is in progress for FG Hospital st...</td>\n",
       "      <td>BSL-3 mobile lab with state of art equipment h...</td>\n",
       "    </tr>\n",
       "    <tr>\n",
       "      <td>4</td>\n",
       "      <td>0</td>\n",
       "      <td>12-Mar-2020</td>\n",
       "      <td>BSL-3 mobile lab is ready for testing.  •</td>\n",
       "      <td>BSL-3 mobile lab is ready for testing.  • \\n I...</td>\n",
       "    </tr>\n",
       "  </tbody>\n",
       "</table>\n",
       "</div>"
      ],
      "text/plain": [
       "   Unnamed: 0         Date                      NIH Preparedness and Response  \\\n",
       "0           0  11-Mar-2020  BSL-3 mobile lab with state of art equipment h...   \n",
       "1           1  11-Mar-2020  IPC trainings have been completed at Gilgit an...   \n",
       "2           2  11-Mar-2020  Training of the GB lab staff has been conducte...   \n",
       "3           3  11-Mar-2020  IPC training is in progress for FG Hospital st...   \n",
       "4           0  12-Mar-2020          BSL-3 mobile lab is ready for testing.  •   \n",
       "\n",
       "                   Agg NIH Preparedness and Response  \n",
       "0  BSL-3 mobile lab with state of art equipment h...  \n",
       "1  BSL-3 mobile lab with state of art equipment h...  \n",
       "2  BSL-3 mobile lab with state of art equipment h...  \n",
       "3  BSL-3 mobile lab with state of art equipment h...  \n",
       "4  BSL-3 mobile lab is ready for testing.  • \\n I...  "
      ]
     },
     "execution_count": 220,
     "metadata": {},
     "output_type": "execute_result"
    }
   ],
   "source": [
    "sheet6=covid_data.parse('TimeSeries_NIH_Response')  #Opening  first sheet\n",
    "sheet6.head()"
   ]
  },
  {
   "cell_type": "code",
   "execution_count": 221,
   "metadata": {},
   "outputs": [
    {
     "data": {
      "text/html": [
       "<div>\n",
       "<style scoped>\n",
       "    .dataframe tbody tr th:only-of-type {\n",
       "        vertical-align: middle;\n",
       "    }\n",
       "\n",
       "    .dataframe tbody tr th {\n",
       "        vertical-align: top;\n",
       "    }\n",
       "\n",
       "    .dataframe thead th {\n",
       "        text-align: right;\n",
       "    }\n",
       "</style>\n",
       "<table border=\"1\" class=\"dataframe\">\n",
       "  <thead>\n",
       "    <tr style=\"text-align: right;\">\n",
       "      <th></th>\n",
       "      <th>Date</th>\n",
       "      <th>NIH Preparedness and Response</th>\n",
       "      <th>Agg NIH Preparedness and Response</th>\n",
       "    </tr>\n",
       "  </thead>\n",
       "  <tbody>\n",
       "    <tr>\n",
       "      <td>0</td>\n",
       "      <td>11-Mar-2020</td>\n",
       "      <td>BSL-3 mobile lab with state of art equipment h...</td>\n",
       "      <td>BSL-3 mobile lab with state of art equipment h...</td>\n",
       "    </tr>\n",
       "    <tr>\n",
       "      <td>1</td>\n",
       "      <td>11-Mar-2020</td>\n",
       "      <td>IPC trainings have been completed at Gilgit an...</td>\n",
       "      <td>BSL-3 mobile lab with state of art equipment h...</td>\n",
       "    </tr>\n",
       "    <tr>\n",
       "      <td>2</td>\n",
       "      <td>11-Mar-2020</td>\n",
       "      <td>Training of the GB lab staff has been conducte...</td>\n",
       "      <td>BSL-3 mobile lab with state of art equipment h...</td>\n",
       "    </tr>\n",
       "    <tr>\n",
       "      <td>3</td>\n",
       "      <td>11-Mar-2020</td>\n",
       "      <td>IPC training is in progress for FG Hospital st...</td>\n",
       "      <td>BSL-3 mobile lab with state of art equipment h...</td>\n",
       "    </tr>\n",
       "    <tr>\n",
       "      <td>4</td>\n",
       "      <td>12-Mar-2020</td>\n",
       "      <td>BSL-3 mobile lab is ready for testing.  •</td>\n",
       "      <td>BSL-3 mobile lab is ready for testing.  • \\n I...</td>\n",
       "    </tr>\n",
       "  </tbody>\n",
       "</table>\n",
       "</div>"
      ],
      "text/plain": [
       "          Date                      NIH Preparedness and Response  \\\n",
       "0  11-Mar-2020  BSL-3 mobile lab with state of art equipment h...   \n",
       "1  11-Mar-2020  IPC trainings have been completed at Gilgit an...   \n",
       "2  11-Mar-2020  Training of the GB lab staff has been conducte...   \n",
       "3  11-Mar-2020  IPC training is in progress for FG Hospital st...   \n",
       "4  12-Mar-2020          BSL-3 mobile lab is ready for testing.  •   \n",
       "\n",
       "                   Agg NIH Preparedness and Response  \n",
       "0  BSL-3 mobile lab with state of art equipment h...  \n",
       "1  BSL-3 mobile lab with state of art equipment h...  \n",
       "2  BSL-3 mobile lab with state of art equipment h...  \n",
       "3  BSL-3 mobile lab with state of art equipment h...  \n",
       "4  BSL-3 mobile lab is ready for testing.  • \\n I...  "
      ]
     },
     "execution_count": 221,
     "metadata": {},
     "output_type": "execute_result"
    }
   ],
   "source": [
    "sheet6.drop('Unnamed: 0',axis=1,inplace=True)               #droping unnamed column keeping default indexing\n",
    "sheet6.head()"
   ]
  },
  {
   "cell_type": "code",
   "execution_count": 222,
   "metadata": {},
   "outputs": [],
   "source": [
    "sheet6.columns=['Date','Steps_takenby_NIH','Steps_details']"
   ]
  },
  {
   "cell_type": "code",
   "execution_count": 223,
   "metadata": {},
   "outputs": [
    {
     "name": "stdout",
     "output_type": "stream",
     "text": [
      "<class 'pandas.core.frame.DataFrame'>\n",
      "RangeIndex: 65 entries, 0 to 64\n",
      "Data columns (total 3 columns):\n",
      "Date                 65 non-null object\n",
      "Steps_takenby_NIH    65 non-null object\n",
      "Steps_details        65 non-null object\n",
      "dtypes: object(3)\n",
      "memory usage: 1.6+ KB\n"
     ]
    }
   ],
   "source": [
    "sheet6.info()"
   ]
  },
  {
   "cell_type": "code",
   "execution_count": 224,
   "metadata": {},
   "outputs": [
    {
     "name": "stdout",
     "output_type": "stream",
     "text": [
      "<class 'pandas.core.frame.DataFrame'>\n",
      "RangeIndex: 65 entries, 0 to 64\n",
      "Data columns (total 3 columns):\n",
      "Date                 65 non-null datetime64[ns]\n",
      "Steps_takenby_NIH    65 non-null object\n",
      "Steps_details        65 non-null object\n",
      "dtypes: datetime64[ns](1), object(2)\n",
      "memory usage: 1.6+ KB\n"
     ]
    }
   ],
   "source": [
    "sheet6['Date']=pd.to_datetime(sheet6['Date'])\n",
    "sheet6.info()"
   ]
  },
  {
   "cell_type": "code",
   "execution_count": 225,
   "metadata": {},
   "outputs": [
    {
     "data": {
      "text/plain": [
       "Timestamp('2020-03-11 00:00:00')"
      ]
     },
     "execution_count": 225,
     "metadata": {},
     "output_type": "execute_result"
    }
   ],
   "source": [
    "min(sheet6['Date'])"
   ]
  },
  {
   "cell_type": "code",
   "execution_count": 226,
   "metadata": {},
   "outputs": [
    {
     "data": {
      "text/plain": [
       "Timestamp('2020-04-03 00:00:00')"
      ]
     },
     "execution_count": 226,
     "metadata": {},
     "output_type": "execute_result"
    }
   ],
   "source": [
    "max(sheet6['Date'])"
   ]
  },
  {
   "cell_type": "code",
   "execution_count": 227,
   "metadata": {},
   "outputs": [
    {
     "data": {
      "text/plain": [
       "Timedelta('23 days 00:00:00')"
      ]
     },
     "execution_count": 227,
     "metadata": {},
     "output_type": "execute_result"
    }
   ],
   "source": [
    "max(sheet6['Date'])-min(sheet6['Date'])"
   ]
  },
  {
   "cell_type": "code",
   "execution_count": 228,
   "metadata": {},
   "outputs": [
    {
     "name": "stdout",
     "output_type": "stream",
     "text": [
      "Date                 0\n",
      "Steps_takenby_NIH    0\n",
      "Steps_details        0\n",
      "dtype: int64\n"
     ]
    }
   ],
   "source": [
    "print(sheet6.isnull().sum())"
   ]
  },
  {
   "cell_type": "code",
   "execution_count": 229,
   "metadata": {},
   "outputs": [
    {
     "data": {
      "text/plain": [
       "Date                 0\n",
       "Steps_takenby_NIH    0\n",
       "Steps_details        0\n",
       "dtype: int64"
      ]
     },
     "execution_count": 229,
     "metadata": {},
     "output_type": "execute_result"
    }
   ],
   "source": [
    "sheet6.isin(['.','?','na','NA','N/A',np.nan,'No 0']).sum()"
   ]
  },
  {
   "cell_type": "code",
   "execution_count": 230,
   "metadata": {},
   "outputs": [
    {
     "data": {
      "text/plain": [
       "0"
      ]
     },
     "execution_count": 230,
     "metadata": {},
     "output_type": "execute_result"
    }
   ],
   "source": [
    "sheet6.duplicated().sum()"
   ]
  },
  {
   "cell_type": "code",
   "execution_count": 231,
   "metadata": {},
   "outputs": [
    {
     "data": {
      "text/plain": [
       "(65, 3)"
      ]
     },
     "execution_count": 231,
     "metadata": {},
     "output_type": "execute_result"
    }
   ],
   "source": [
    "sheet6.shape"
   ]
  },
  {
   "cell_type": "code",
   "execution_count": null,
   "metadata": {},
   "outputs": [],
   "source": []
  },
  {
   "cell_type": "code",
   "execution_count": null,
   "metadata": {},
   "outputs": [],
   "source": []
  },
  {
   "cell_type": "markdown",
   "metadata": {},
   "source": [
    "**Cleaning Sheet 7**"
   ]
  },
  {
   "cell_type": "code",
   "execution_count": 232,
   "metadata": {},
   "outputs": [
    {
     "data": {
      "text/html": [
       "<div>\n",
       "<style scoped>\n",
       "    .dataframe tbody tr th:only-of-type {\n",
       "        vertical-align: middle;\n",
       "    }\n",
       "\n",
       "    .dataframe tbody tr th {\n",
       "        vertical-align: top;\n",
       "    }\n",
       "\n",
       "    .dataframe thead th {\n",
       "        text-align: right;\n",
       "    }\n",
       "</style>\n",
       "<table border=\"1\" class=\"dataframe\">\n",
       "  <thead>\n",
       "    <tr style=\"text-align: right;\">\n",
       "      <th></th>\n",
       "      <th>Unnamed: 0</th>\n",
       "      <th>Date</th>\n",
       "      <th>Risk Assessment NIH</th>\n",
       "    </tr>\n",
       "  </thead>\n",
       "  <tbody>\n",
       "    <tr>\n",
       "      <td>0</td>\n",
       "      <td>0</td>\n",
       "      <td>11-Mar-2020</td>\n",
       "      <td>MODERATE.</td>\n",
       "    </tr>\n",
       "    <tr>\n",
       "      <td>1</td>\n",
       "      <td>0</td>\n",
       "      <td>12-Mar-2020</td>\n",
       "      <td>MODERATE.</td>\n",
       "    </tr>\n",
       "    <tr>\n",
       "      <td>2</td>\n",
       "      <td>0</td>\n",
       "      <td>13-Mar-2020</td>\n",
       "      <td>MODERATE.</td>\n",
       "    </tr>\n",
       "    <tr>\n",
       "      <td>3</td>\n",
       "      <td>0</td>\n",
       "      <td>14-Mar-2020</td>\n",
       "      <td>MODERATE.</td>\n",
       "    </tr>\n",
       "    <tr>\n",
       "      <td>4</td>\n",
       "      <td>0</td>\n",
       "      <td>15-Mar-2020</td>\n",
       "      <td>Moderate</td>\n",
       "    </tr>\n",
       "  </tbody>\n",
       "</table>\n",
       "</div>"
      ],
      "text/plain": [
       "   Unnamed: 0         Date Risk Assessment NIH\n",
       "0           0  11-Mar-2020           MODERATE.\n",
       "1           0  12-Mar-2020           MODERATE.\n",
       "2           0  13-Mar-2020           MODERATE.\n",
       "3           0  14-Mar-2020           MODERATE.\n",
       "4           0  15-Mar-2020            Moderate"
      ]
     },
     "execution_count": 232,
     "metadata": {},
     "output_type": "execute_result"
    }
   ],
   "source": [
    "sheet7=covid_data.parse('TimeSeries_NIH_Risk')  #Opening  first sheet\n",
    "sheet7.head()\n",
    "\n",
    "\n",
    "\n",
    " "
   ]
  },
  {
   "cell_type": "code",
   "execution_count": 233,
   "metadata": {},
   "outputs": [
    {
     "data": {
      "text/plain": [
       "(24, 3)"
      ]
     },
     "execution_count": 233,
     "metadata": {},
     "output_type": "execute_result"
    }
   ],
   "source": [
    "sheet7.shape"
   ]
  },
  {
   "cell_type": "code",
   "execution_count": 234,
   "metadata": {},
   "outputs": [
    {
     "data": {
      "text/plain": [
       "24"
      ]
     },
     "execution_count": 234,
     "metadata": {},
     "output_type": "execute_result"
    }
   ],
   "source": [
    "sheet7['Unnamed: 0'].isin([0]).sum()"
   ]
  },
  {
   "cell_type": "code",
   "execution_count": 235,
   "metadata": {},
   "outputs": [
    {
     "data": {
      "text/html": [
       "<div>\n",
       "<style scoped>\n",
       "    .dataframe tbody tr th:only-of-type {\n",
       "        vertical-align: middle;\n",
       "    }\n",
       "\n",
       "    .dataframe tbody tr th {\n",
       "        vertical-align: top;\n",
       "    }\n",
       "\n",
       "    .dataframe thead th {\n",
       "        text-align: right;\n",
       "    }\n",
       "</style>\n",
       "<table border=\"1\" class=\"dataframe\">\n",
       "  <thead>\n",
       "    <tr style=\"text-align: right;\">\n",
       "      <th></th>\n",
       "      <th>Date</th>\n",
       "      <th>Risk Assessment NIH</th>\n",
       "    </tr>\n",
       "  </thead>\n",
       "  <tbody>\n",
       "    <tr>\n",
       "      <td>0</td>\n",
       "      <td>11-Mar-2020</td>\n",
       "      <td>MODERATE.</td>\n",
       "    </tr>\n",
       "    <tr>\n",
       "      <td>1</td>\n",
       "      <td>12-Mar-2020</td>\n",
       "      <td>MODERATE.</td>\n",
       "    </tr>\n",
       "    <tr>\n",
       "      <td>2</td>\n",
       "      <td>13-Mar-2020</td>\n",
       "      <td>MODERATE.</td>\n",
       "    </tr>\n",
       "    <tr>\n",
       "      <td>3</td>\n",
       "      <td>14-Mar-2020</td>\n",
       "      <td>MODERATE.</td>\n",
       "    </tr>\n",
       "    <tr>\n",
       "      <td>4</td>\n",
       "      <td>15-Mar-2020</td>\n",
       "      <td>Moderate</td>\n",
       "    </tr>\n",
       "  </tbody>\n",
       "</table>\n",
       "</div>"
      ],
      "text/plain": [
       "          Date Risk Assessment NIH\n",
       "0  11-Mar-2020           MODERATE.\n",
       "1  12-Mar-2020           MODERATE.\n",
       "2  13-Mar-2020           MODERATE.\n",
       "3  14-Mar-2020           MODERATE.\n",
       "4  15-Mar-2020            Moderate"
      ]
     },
     "execution_count": 235,
     "metadata": {},
     "output_type": "execute_result"
    }
   ],
   "source": [
    "sheet7.drop('Unnamed: 0',axis=1,inplace=True)               #droping unnamed column keeping default indexing\n",
    "sheet7.head()"
   ]
  },
  {
   "cell_type": "code",
   "execution_count": 236,
   "metadata": {},
   "outputs": [
    {
     "name": "stdout",
     "output_type": "stream",
     "text": [
      "<class 'pandas.core.frame.DataFrame'>\n",
      "RangeIndex: 24 entries, 0 to 23\n",
      "Data columns (total 2 columns):\n",
      "Date                   24 non-null object\n",
      "Risk Assessment NIH    24 non-null object\n",
      "dtypes: object(2)\n",
      "memory usage: 512.0+ bytes\n"
     ]
    }
   ],
   "source": [
    "sheet7.info()"
   ]
  },
  {
   "cell_type": "code",
   "execution_count": 237,
   "metadata": {},
   "outputs": [
    {
     "name": "stdout",
     "output_type": "stream",
     "text": [
      "<class 'pandas.core.frame.DataFrame'>\n",
      "RangeIndex: 24 entries, 0 to 23\n",
      "Data columns (total 2 columns):\n",
      "Date                   24 non-null datetime64[ns]\n",
      "Risk Assessment NIH    24 non-null object\n",
      "dtypes: datetime64[ns](1), object(1)\n",
      "memory usage: 512.0+ bytes\n"
     ]
    }
   ],
   "source": [
    "sheet7['Date']=pd.to_datetime(sheet7['Date'])\n",
    "sheet7.info()"
   ]
  },
  {
   "cell_type": "code",
   "execution_count": 238,
   "metadata": {},
   "outputs": [
    {
     "data": {
      "text/plain": [
       "Timestamp('2020-04-03 00:00:00')"
      ]
     },
     "execution_count": 238,
     "metadata": {},
     "output_type": "execute_result"
    }
   ],
   "source": [
    "max(sheet7['Date'])"
   ]
  },
  {
   "cell_type": "code",
   "execution_count": 239,
   "metadata": {},
   "outputs": [
    {
     "data": {
      "text/plain": [
       "Timedelta('23 days 00:00:00')"
      ]
     },
     "execution_count": 239,
     "metadata": {},
     "output_type": "execute_result"
    }
   ],
   "source": [
    "max(sheet7['Date'])-min(sheet7['Date'])"
   ]
  },
  {
   "cell_type": "code",
   "execution_count": 240,
   "metadata": {},
   "outputs": [
    {
     "name": "stdout",
     "output_type": "stream",
     "text": [
      "Date                   0\n",
      "Risk Assessment NIH    0\n",
      "dtype: int64\n"
     ]
    },
    {
     "data": {
      "text/plain": [
       "Date                   0\n",
       "Risk Assessment NIH    0\n",
       "dtype: int64"
      ]
     },
     "execution_count": 240,
     "metadata": {},
     "output_type": "execute_result"
    }
   ],
   "source": [
    "print(sheet7.isnull().sum())\n",
    "sheet7.isin(['.','?','na','NA','N/A',np.nan,'No 0']).sum()"
   ]
  },
  {
   "cell_type": "code",
   "execution_count": 241,
   "metadata": {},
   "outputs": [
    {
     "data": {
      "text/plain": [
       "0"
      ]
     },
     "execution_count": 241,
     "metadata": {},
     "output_type": "execute_result"
    }
   ],
   "source": [
    "sheet7.duplicated().sum()"
   ]
  },
  {
   "cell_type": "markdown",
   "metadata": {},
   "source": [
    "**Cleaninng Sheet 8**"
   ]
  },
  {
   "cell_type": "code",
   "execution_count": 242,
   "metadata": {},
   "outputs": [
    {
     "data": {
      "text/html": [
       "<div>\n",
       "<style scoped>\n",
       "    .dataframe tbody tr th:only-of-type {\n",
       "        vertical-align: middle;\n",
       "    }\n",
       "\n",
       "    .dataframe tbody tr th {\n",
       "        vertical-align: top;\n",
       "    }\n",
       "\n",
       "    .dataframe thead th {\n",
       "        text-align: right;\n",
       "    }\n",
       "</style>\n",
       "<table border=\"1\" class=\"dataframe\">\n",
       "  <thead>\n",
       "    <tr style=\"text-align: right;\">\n",
       "      <th></th>\n",
       "      <th>Unnamed: 0</th>\n",
       "      <th>region</th>\n",
       "      <th>Provinces Preparedness and Response</th>\n",
       "      <th>Date</th>\n",
       "      <th>Agg Provinces Preparedness and Response</th>\n",
       "    </tr>\n",
       "  </thead>\n",
       "  <tbody>\n",
       "    <tr>\n",
       "      <td>0</td>\n",
       "      <td>0</td>\n",
       "      <td>Balochistan</td>\n",
       "      <td>316 newly arrived individuals screened and qua...</td>\n",
       "      <td>11-Mar-2020</td>\n",
       "      <td>316 newly arrived individuals screened and qua...</td>\n",
       "    </tr>\n",
       "    <tr>\n",
       "      <td>1</td>\n",
       "      <td>1</td>\n",
       "      <td>Balochistan</td>\n",
       "      <td>14 Chinese nationals quarantined at East Bay E...</td>\n",
       "      <td>11-Mar-2020</td>\n",
       "      <td>316 newly arrived individuals screened and qua...</td>\n",
       "    </tr>\n",
       "    <tr>\n",
       "      <td>2</td>\n",
       "      <td>2</td>\n",
       "      <td>Sindh</td>\n",
       "      <td>Staff deployed to designated quarantine facili...</td>\n",
       "      <td>11-Mar-2020</td>\n",
       "      <td>Staff deployed to designated quarantine facili...</td>\n",
       "    </tr>\n",
       "    <tr>\n",
       "      <td>3</td>\n",
       "      <td>3</td>\n",
       "      <td>Sindh</td>\n",
       "      <td>Training and orientation sessions for the heal...</td>\n",
       "      <td>11-Mar-2020</td>\n",
       "      <td>Staff deployed to designated quarantine facili...</td>\n",
       "    </tr>\n",
       "    <tr>\n",
       "      <td>4</td>\n",
       "      <td>4</td>\n",
       "      <td>KP &amp; TD</td>\n",
       "      <td>24 High Dependency Units established across KP...</td>\n",
       "      <td>11-Mar-2020</td>\n",
       "      <td>24 High Dependency Units established across KP...</td>\n",
       "    </tr>\n",
       "  </tbody>\n",
       "</table>\n",
       "</div>"
      ],
      "text/plain": [
       "   Unnamed: 0       region                Provinces Preparedness and Response  \\\n",
       "0           0  Balochistan  316 newly arrived individuals screened and qua...   \n",
       "1           1  Balochistan  14 Chinese nationals quarantined at East Bay E...   \n",
       "2           2        Sindh  Staff deployed to designated quarantine facili...   \n",
       "3           3        Sindh  Training and orientation sessions for the heal...   \n",
       "4           4      KP & TD  24 High Dependency Units established across KP...   \n",
       "\n",
       "          Date            Agg Provinces Preparedness and Response  \n",
       "0  11-Mar-2020  316 newly arrived individuals screened and qua...  \n",
       "1  11-Mar-2020  316 newly arrived individuals screened and qua...  \n",
       "2  11-Mar-2020  Staff deployed to designated quarantine facili...  \n",
       "3  11-Mar-2020  Staff deployed to designated quarantine facili...  \n",
       "4  11-Mar-2020  24 High Dependency Units established across KP...  "
      ]
     },
     "execution_count": 242,
     "metadata": {},
     "output_type": "execute_result"
    }
   ],
   "source": [
    "sheet8=covid_data.parse('TimeSeries_Province_Response')  #Opening  first sheet\n",
    "sheet8.head()\n",
    "\n"
   ]
  },
  {
   "cell_type": "code",
   "execution_count": 243,
   "metadata": {},
   "outputs": [
    {
     "data": {
      "text/plain": [
       "(166, 5)"
      ]
     },
     "execution_count": 243,
     "metadata": {},
     "output_type": "execute_result"
    }
   ],
   "source": [
    "sheet8.shape"
   ]
  },
  {
   "cell_type": "code",
   "execution_count": 244,
   "metadata": {
    "scrolled": true
   },
   "outputs": [
    {
     "data": {
      "text/html": [
       "<div>\n",
       "<style scoped>\n",
       "    .dataframe tbody tr th:only-of-type {\n",
       "        vertical-align: middle;\n",
       "    }\n",
       "\n",
       "    .dataframe tbody tr th {\n",
       "        vertical-align: top;\n",
       "    }\n",
       "\n",
       "    .dataframe thead th {\n",
       "        text-align: right;\n",
       "    }\n",
       "</style>\n",
       "<table border=\"1\" class=\"dataframe\">\n",
       "  <thead>\n",
       "    <tr style=\"text-align: right;\">\n",
       "      <th></th>\n",
       "      <th>Unnamed: 0</th>\n",
       "      <th>region</th>\n",
       "      <th>Provinces Preparedness and Response</th>\n",
       "      <th>Date</th>\n",
       "      <th>Agg Provinces Preparedness and Response</th>\n",
       "    </tr>\n",
       "  </thead>\n",
       "  <tbody>\n",
       "    <tr>\n",
       "      <td>4</td>\n",
       "      <td>4</td>\n",
       "      <td>KP &amp; TD</td>\n",
       "      <td>24 High Dependency Units established across KP...</td>\n",
       "      <td>11-Mar-2020</td>\n",
       "      <td>24 High Dependency Units established across KP...</td>\n",
       "    </tr>\n",
       "    <tr>\n",
       "      <td>12</td>\n",
       "      <td>4</td>\n",
       "      <td>KP &amp; TD</td>\n",
       "      <td>01 alert generated (self-referral) in Police a...</td>\n",
       "      <td>12-Mar-2020</td>\n",
       "      <td>01 alert generated (self-referral) in Police a...</td>\n",
       "    </tr>\n",
       "    <tr>\n",
       "      <td>20</td>\n",
       "      <td>4</td>\n",
       "      <td>KP &amp; TD</td>\n",
       "      <td>A total of 75 personnel including doctors, par...</td>\n",
       "      <td>13-Mar-2020</td>\n",
       "      <td>A total of 75 personnel including doctors, par...</td>\n",
       "    </tr>\n",
       "    <tr>\n",
       "      <td>29</td>\n",
       "      <td>4</td>\n",
       "      <td>AJK</td>\n",
       "      <td>Chest Diseases General Hospital (CDGH) Hill Ch...</td>\n",
       "      <td>14-Mar-2020</td>\n",
       "      <td>Chest Diseases General Hospital (CDGH) Hill Ch...</td>\n",
       "    </tr>\n",
       "    <tr>\n",
       "      <td>36</td>\n",
       "      <td>4</td>\n",
       "      <td>Sindh</td>\n",
       "      <td>Quarantine facilities established and operatio...</td>\n",
       "      <td>15-Mar-2020</td>\n",
       "      <td>Quarantine facilities established and operatio...</td>\n",
       "    </tr>\n",
       "    <tr>\n",
       "      <td>46</td>\n",
       "      <td>4</td>\n",
       "      <td>KP &amp; TD</td>\n",
       "      <td>Four new suspected cases reported from Police ...</td>\n",
       "      <td>16-Mar-2020</td>\n",
       "      <td>Four new suspected cases reported from Police ...</td>\n",
       "    </tr>\n",
       "    <tr>\n",
       "      <td>54</td>\n",
       "      <td>4</td>\n",
       "      <td>Punjab</td>\n",
       "      <td>PDSRU is in 24/7 coordination with NIH, Islama...</td>\n",
       "      <td>17-Mar-2020</td>\n",
       "      <td>PDSRU is in 24/7 coordination with NIH, Islama...</td>\n",
       "    </tr>\n",
       "    <tr>\n",
       "      <td>62</td>\n",
       "      <td>4</td>\n",
       "      <td>KP &amp; TD</td>\n",
       "      <td>Quarantine facility for 171 passengers establi...</td>\n",
       "      <td>18-Mar-2020</td>\n",
       "      <td>Quarantine facility for 171 passengers establi...</td>\n",
       "    </tr>\n",
       "    <tr>\n",
       "      <td>70</td>\n",
       "      <td>4</td>\n",
       "      <td>AJK</td>\n",
       "      <td>Contact tracing of confirmed case being carrie...</td>\n",
       "      <td>19-Mar-2020</td>\n",
       "      <td>Contact tracing of confirmed case being carrie...</td>\n",
       "    </tr>\n",
       "    <tr>\n",
       "      <td>76</td>\n",
       "      <td>4</td>\n",
       "      <td>KP &amp; TD</td>\n",
       "      <td>Contact tracing of all suspected and confirmed...</td>\n",
       "      <td>20-Mar-2020</td>\n",
       "      <td>Contact tracing of all suspected and confirmed...</td>\n",
       "    </tr>\n",
       "    <tr>\n",
       "      <td>83</td>\n",
       "      <td>4</td>\n",
       "      <td>KP &amp; TD</td>\n",
       "      <td>30 people who have an international travel his...</td>\n",
       "      <td>21-Mar-2020</td>\n",
       "      <td>30 people who have an international travel his...</td>\n",
       "    </tr>\n",
       "    <tr>\n",
       "      <td>90</td>\n",
       "      <td>4</td>\n",
       "      <td>KP &amp; TD</td>\n",
       "      <td>Incident Command and Management Centre regardi...</td>\n",
       "      <td>22-Mar-2020</td>\n",
       "      <td>Incident Command and Management Centre regardi...</td>\n",
       "    </tr>\n",
       "    <tr>\n",
       "      <td>97</td>\n",
       "      <td>4</td>\n",
       "      <td>AJK</td>\n",
       "      <td>13 new pilgrims have been received from Taftan...</td>\n",
       "      <td>23-Mar-2020</td>\n",
       "      <td>13 new pilgrims have been received from Taftan...</td>\n",
       "    </tr>\n",
       "    <tr>\n",
       "      <td>103</td>\n",
       "      <td>4</td>\n",
       "      <td>AJK</td>\n",
       "      <td>VTM kits made available at all designated hosp...</td>\n",
       "      <td>24-Mar-2020</td>\n",
       "      <td>VTM kits made available at all designated hosp...</td>\n",
       "    </tr>\n",
       "    <tr>\n",
       "      <td>109</td>\n",
       "      <td>4</td>\n",
       "      <td>GB</td>\n",
       "      <td>Gilgit and Baltistan announced 2 Red Zones.   •</td>\n",
       "      <td>25-Mar-2020</td>\n",
       "      <td>Gilgit and Baltistan announced 2 Red Zones.   •</td>\n",
       "    </tr>\n",
       "    <tr>\n",
       "      <td>114</td>\n",
       "      <td>4</td>\n",
       "      <td>AJK</td>\n",
       "      <td>SOPs on COVID-19 prepared by Dept of AJK have ...</td>\n",
       "      <td>26-Mar-2020</td>\n",
       "      <td>SOPs on COVID-19 prepared by Dept of AJK have ...</td>\n",
       "    </tr>\n",
       "    <tr>\n",
       "      <td>120</td>\n",
       "      <td>4</td>\n",
       "      <td>AJK</td>\n",
       "      <td>SOPs on COVID-19 prepared by Dept of AJK have ...</td>\n",
       "      <td>27-Mar-2020</td>\n",
       "      <td>SOPs on COVID-19 prepared by Dept of AJK have ...</td>\n",
       "    </tr>\n",
       "    <tr>\n",
       "      <td>126</td>\n",
       "      <td>4</td>\n",
       "      <td>AJK</td>\n",
       "      <td>A new field isolation hospital for COVID-19 wi...</td>\n",
       "      <td>28-Mar-2020</td>\n",
       "      <td>A new field isolation hospital for COVID-19 wi...</td>\n",
       "    </tr>\n",
       "    <tr>\n",
       "      <td>132</td>\n",
       "      <td>4</td>\n",
       "      <td>AJK</td>\n",
       "      <td>SOPs on COVID-19 prepared by Department of hea...</td>\n",
       "      <td>29-Mar-2020</td>\n",
       "      <td>SOPs on COVID-19 prepared by Department of hea...</td>\n",
       "    </tr>\n",
       "    <tr>\n",
       "      <td>138</td>\n",
       "      <td>4</td>\n",
       "      <td>AJK</td>\n",
       "      <td>A new field isolation hospital for COVID-19 pa...</td>\n",
       "      <td>30-Mar-2020</td>\n",
       "      <td>A new field isolation hospital for COVID-19 pa...</td>\n",
       "    </tr>\n",
       "    <tr>\n",
       "      <td>144</td>\n",
       "      <td>4</td>\n",
       "      <td>KP</td>\n",
       "      <td>Equipment and supplies including oxygen concen...</td>\n",
       "      <td>2020-03-31 00:00:00</td>\n",
       "      <td>Equipment and supplies including oxygen concen...</td>\n",
       "    </tr>\n",
       "    <tr>\n",
       "      <td>151</td>\n",
       "      <td>4</td>\n",
       "      <td>AJK</td>\n",
       "      <td>Contact tracing of confirmed cases done. 50 sa...</td>\n",
       "      <td>2020-04-01 00:00:00</td>\n",
       "      <td>Contact tracing of confirmed cases done. 50 sa...</td>\n",
       "    </tr>\n",
       "    <tr>\n",
       "      <td>157</td>\n",
       "      <td>4</td>\n",
       "      <td>AJK</td>\n",
       "      <td>MNCH program released Rs. 2.25 million to all ...</td>\n",
       "      <td>2020-04-02 00:00:00</td>\n",
       "      <td>MNCH program released Rs. 2.25 million to all ...</td>\n",
       "    </tr>\n",
       "    <tr>\n",
       "      <td>163</td>\n",
       "      <td>4</td>\n",
       "      <td>KP</td>\n",
       "      <td>Data transcription on to the IPMS software hos...</td>\n",
       "      <td>2020-04-03 00:00:00</td>\n",
       "      <td>Data transcription on to the IPMS software hos...</td>\n",
       "    </tr>\n",
       "  </tbody>\n",
       "</table>\n",
       "</div>"
      ],
      "text/plain": [
       "     Unnamed: 0   region                Provinces Preparedness and Response  \\\n",
       "4             4  KP & TD  24 High Dependency Units established across KP...   \n",
       "12            4  KP & TD  01 alert generated (self-referral) in Police a...   \n",
       "20            4  KP & TD  A total of 75 personnel including doctors, par...   \n",
       "29            4      AJK  Chest Diseases General Hospital (CDGH) Hill Ch...   \n",
       "36            4    Sindh  Quarantine facilities established and operatio...   \n",
       "46            4  KP & TD  Four new suspected cases reported from Police ...   \n",
       "54            4   Punjab  PDSRU is in 24/7 coordination with NIH, Islama...   \n",
       "62            4  KP & TD  Quarantine facility for 171 passengers establi...   \n",
       "70            4      AJK  Contact tracing of confirmed case being carrie...   \n",
       "76            4  KP & TD  Contact tracing of all suspected and confirmed...   \n",
       "83            4  KP & TD  30 people who have an international travel his...   \n",
       "90            4  KP & TD  Incident Command and Management Centre regardi...   \n",
       "97            4      AJK  13 new pilgrims have been received from Taftan...   \n",
       "103           4      AJK  VTM kits made available at all designated hosp...   \n",
       "109           4       GB    Gilgit and Baltistan announced 2 Red Zones.   •   \n",
       "114           4      AJK  SOPs on COVID-19 prepared by Dept of AJK have ...   \n",
       "120           4      AJK  SOPs on COVID-19 prepared by Dept of AJK have ...   \n",
       "126           4      AJK  A new field isolation hospital for COVID-19 wi...   \n",
       "132           4      AJK  SOPs on COVID-19 prepared by Department of hea...   \n",
       "138           4      AJK  A new field isolation hospital for COVID-19 pa...   \n",
       "144           4       KP  Equipment and supplies including oxygen concen...   \n",
       "151           4      AJK  Contact tracing of confirmed cases done. 50 sa...   \n",
       "157           4      AJK  MNCH program released Rs. 2.25 million to all ...   \n",
       "163           4       KP  Data transcription on to the IPMS software hos...   \n",
       "\n",
       "                    Date            Agg Provinces Preparedness and Response  \n",
       "4            11-Mar-2020  24 High Dependency Units established across KP...  \n",
       "12           12-Mar-2020  01 alert generated (self-referral) in Police a...  \n",
       "20           13-Mar-2020  A total of 75 personnel including doctors, par...  \n",
       "29           14-Mar-2020  Chest Diseases General Hospital (CDGH) Hill Ch...  \n",
       "36           15-Mar-2020  Quarantine facilities established and operatio...  \n",
       "46           16-Mar-2020  Four new suspected cases reported from Police ...  \n",
       "54           17-Mar-2020  PDSRU is in 24/7 coordination with NIH, Islama...  \n",
       "62           18-Mar-2020  Quarantine facility for 171 passengers establi...  \n",
       "70           19-Mar-2020  Contact tracing of confirmed case being carrie...  \n",
       "76           20-Mar-2020  Contact tracing of all suspected and confirmed...  \n",
       "83           21-Mar-2020  30 people who have an international travel his...  \n",
       "90           22-Mar-2020  Incident Command and Management Centre regardi...  \n",
       "97           23-Mar-2020  13 new pilgrims have been received from Taftan...  \n",
       "103          24-Mar-2020  VTM kits made available at all designated hosp...  \n",
       "109          25-Mar-2020    Gilgit and Baltistan announced 2 Red Zones.   •  \n",
       "114          26-Mar-2020  SOPs on COVID-19 prepared by Dept of AJK have ...  \n",
       "120          27-Mar-2020  SOPs on COVID-19 prepared by Dept of AJK have ...  \n",
       "126          28-Mar-2020  A new field isolation hospital for COVID-19 wi...  \n",
       "132          29-Mar-2020  SOPs on COVID-19 prepared by Department of hea...  \n",
       "138          30-Mar-2020  A new field isolation hospital for COVID-19 pa...  \n",
       "144  2020-03-31 00:00:00  Equipment and supplies including oxygen concen...  \n",
       "151  2020-04-01 00:00:00  Contact tracing of confirmed cases done. 50 sa...  \n",
       "157  2020-04-02 00:00:00  MNCH program released Rs. 2.25 million to all ...  \n",
       "163  2020-04-03 00:00:00  Data transcription on to the IPMS software hos...  "
      ]
     },
     "execution_count": 244,
     "metadata": {},
     "output_type": "execute_result"
    }
   ],
   "source": [
    "sheet8[sheet8['Unnamed: 0']==4]"
   ]
  },
  {
   "cell_type": "code",
   "execution_count": 245,
   "metadata": {},
   "outputs": [
    {
     "data": {
      "text/html": [
       "<div>\n",
       "<style scoped>\n",
       "    .dataframe tbody tr th:only-of-type {\n",
       "        vertical-align: middle;\n",
       "    }\n",
       "\n",
       "    .dataframe tbody tr th {\n",
       "        vertical-align: top;\n",
       "    }\n",
       "\n",
       "    .dataframe thead th {\n",
       "        text-align: right;\n",
       "    }\n",
       "</style>\n",
       "<table border=\"1\" class=\"dataframe\">\n",
       "  <thead>\n",
       "    <tr style=\"text-align: right;\">\n",
       "      <th></th>\n",
       "      <th>region</th>\n",
       "      <th>Provinces Preparedness and Response</th>\n",
       "      <th>Date</th>\n",
       "      <th>Agg Provinces Preparedness and Response</th>\n",
       "    </tr>\n",
       "  </thead>\n",
       "  <tbody>\n",
       "    <tr>\n",
       "      <td>0</td>\n",
       "      <td>Balochistan</td>\n",
       "      <td>316 newly arrived individuals screened and qua...</td>\n",
       "      <td>11-Mar-2020</td>\n",
       "      <td>316 newly arrived individuals screened and qua...</td>\n",
       "    </tr>\n",
       "    <tr>\n",
       "      <td>1</td>\n",
       "      <td>Balochistan</td>\n",
       "      <td>14 Chinese nationals quarantined at East Bay E...</td>\n",
       "      <td>11-Mar-2020</td>\n",
       "      <td>316 newly arrived individuals screened and qua...</td>\n",
       "    </tr>\n",
       "    <tr>\n",
       "      <td>2</td>\n",
       "      <td>Sindh</td>\n",
       "      <td>Staff deployed to designated quarantine facili...</td>\n",
       "      <td>11-Mar-2020</td>\n",
       "      <td>Staff deployed to designated quarantine facili...</td>\n",
       "    </tr>\n",
       "    <tr>\n",
       "      <td>3</td>\n",
       "      <td>Sindh</td>\n",
       "      <td>Training and orientation sessions for the heal...</td>\n",
       "      <td>11-Mar-2020</td>\n",
       "      <td>Staff deployed to designated quarantine facili...</td>\n",
       "    </tr>\n",
       "    <tr>\n",
       "      <td>4</td>\n",
       "      <td>KP &amp; TD</td>\n",
       "      <td>24 High Dependency Units established across KP...</td>\n",
       "      <td>11-Mar-2020</td>\n",
       "      <td>24 High Dependency Units established across KP...</td>\n",
       "    </tr>\n",
       "  </tbody>\n",
       "</table>\n",
       "</div>"
      ],
      "text/plain": [
       "        region                Provinces Preparedness and Response  \\\n",
       "0  Balochistan  316 newly arrived individuals screened and qua...   \n",
       "1  Balochistan  14 Chinese nationals quarantined at East Bay E...   \n",
       "2        Sindh  Staff deployed to designated quarantine facili...   \n",
       "3        Sindh  Training and orientation sessions for the heal...   \n",
       "4      KP & TD  24 High Dependency Units established across KP...   \n",
       "\n",
       "          Date            Agg Provinces Preparedness and Response  \n",
       "0  11-Mar-2020  316 newly arrived individuals screened and qua...  \n",
       "1  11-Mar-2020  316 newly arrived individuals screened and qua...  \n",
       "2  11-Mar-2020  Staff deployed to designated quarantine facili...  \n",
       "3  11-Mar-2020  Staff deployed to designated quarantine facili...  \n",
       "4  11-Mar-2020  24 High Dependency Units established across KP...  "
      ]
     },
     "execution_count": 245,
     "metadata": {},
     "output_type": "execute_result"
    }
   ],
   "source": [
    "sheet8.drop('Unnamed: 0',axis=1,inplace=True)               #droping unnamed column keeping default indexing\n",
    "sheet8.head()"
   ]
  },
  {
   "cell_type": "code",
   "execution_count": 246,
   "metadata": {},
   "outputs": [],
   "source": [
    "sheet8.columns=['Region','Steps_takenby_provinces','Date','Steps_details']"
   ]
  },
  {
   "cell_type": "code",
   "execution_count": 247,
   "metadata": {},
   "outputs": [
    {
     "name": "stdout",
     "output_type": "stream",
     "text": [
      "<class 'pandas.core.frame.DataFrame'>\n",
      "RangeIndex: 166 entries, 0 to 165\n",
      "Data columns (total 4 columns):\n",
      "Region                     166 non-null object\n",
      "Steps_takenby_provinces    166 non-null object\n",
      "Date                       166 non-null object\n",
      "Steps_details              166 non-null object\n",
      "dtypes: object(4)\n",
      "memory usage: 5.3+ KB\n"
     ]
    }
   ],
   "source": [
    "sheet8.info()"
   ]
  },
  {
   "cell_type": "code",
   "execution_count": 248,
   "metadata": {},
   "outputs": [
    {
     "name": "stdout",
     "output_type": "stream",
     "text": [
      "<class 'pandas.core.frame.DataFrame'>\n",
      "RangeIndex: 166 entries, 0 to 165\n",
      "Data columns (total 4 columns):\n",
      "Region                     166 non-null object\n",
      "Steps_takenby_provinces    166 non-null object\n",
      "Date                       166 non-null datetime64[ns]\n",
      "Steps_details              166 non-null object\n",
      "dtypes: datetime64[ns](1), object(3)\n",
      "memory usage: 5.3+ KB\n"
     ]
    }
   ],
   "source": [
    "sheet8['Date']=pd.to_datetime(sheet8['Date'])\n",
    "sheet8.info()"
   ]
  },
  {
   "cell_type": "code",
   "execution_count": 249,
   "metadata": {},
   "outputs": [
    {
     "data": {
      "text/plain": [
       "Timestamp('2020-04-03 00:00:00')"
      ]
     },
     "execution_count": 249,
     "metadata": {},
     "output_type": "execute_result"
    }
   ],
   "source": [
    "max(sheet8['Date'])"
   ]
  },
  {
   "cell_type": "code",
   "execution_count": 250,
   "metadata": {},
   "outputs": [
    {
     "data": {
      "text/plain": [
       "Timedelta('23 days 00:00:00')"
      ]
     },
     "execution_count": 250,
     "metadata": {},
     "output_type": "execute_result"
    }
   ],
   "source": [
    "max(sheet8['Date'])-min(sheet8['Date'])"
   ]
  },
  {
   "cell_type": "code",
   "execution_count": null,
   "metadata": {},
   "outputs": [],
   "source": []
  },
  {
   "cell_type": "code",
   "execution_count": 251,
   "metadata": {},
   "outputs": [
    {
     "data": {
      "text/plain": [
       "Region                     0\n",
       "Steps_takenby_provinces    0\n",
       "Date                       0\n",
       "Steps_details              0\n",
       "dtype: int64"
      ]
     },
     "execution_count": 251,
     "metadata": {},
     "output_type": "execute_result"
    }
   ],
   "source": [
    "sheet8.isnull().sum()"
   ]
  },
  {
   "cell_type": "code",
   "execution_count": 252,
   "metadata": {},
   "outputs": [
    {
     "data": {
      "text/plain": [
       "Region                     0\n",
       "Steps_takenby_provinces    0\n",
       "Date                       0\n",
       "Steps_details              0\n",
       "dtype: int64"
      ]
     },
     "execution_count": 252,
     "metadata": {},
     "output_type": "execute_result"
    }
   ],
   "source": [
    "sheet8.isin(['.','?','na','NA','N/A',np.nan,'No 0']).sum()"
   ]
  },
  {
   "cell_type": "code",
   "execution_count": 253,
   "metadata": {},
   "outputs": [
    {
     "data": {
      "text/plain": [
       "0"
      ]
     },
     "execution_count": 253,
     "metadata": {},
     "output_type": "execute_result"
    }
   ],
   "source": [
    "sheet8.duplicated().sum()"
   ]
  },
  {
   "cell_type": "code",
   "execution_count": 254,
   "metadata": {},
   "outputs": [
    {
     "data": {
      "text/plain": [
       "array(['Balochistan', 'Sindh', 'KP & TD', 'GB', 'Punjab', 'AJK', 'ICT',\n",
       "       'KP'], dtype=object)"
      ]
     },
     "execution_count": 254,
     "metadata": {},
     "output_type": "execute_result"
    }
   ],
   "source": [
    "sheet8.Region.unique()"
   ]
  },
  {
   "cell_type": "code",
   "execution_count": 255,
   "metadata": {},
   "outputs": [
    {
     "data": {
      "text/plain": [
       "(20, 4)"
      ]
     },
     "execution_count": 255,
     "metadata": {},
     "output_type": "execute_result"
    }
   ],
   "source": [
    "sheet8[sheet8['Region']=='KP & TD'].shape"
   ]
  },
  {
   "cell_type": "code",
   "execution_count": 256,
   "metadata": {},
   "outputs": [
    {
     "data": {
      "text/plain": [
       "Balochistan    36\n",
       "Sindh          26\n",
       "GB             26\n",
       "AJK            25\n",
       "Punjab         24\n",
       "KP & TD        20\n",
       "KP              8\n",
       "ICT             1\n",
       "Name: Region, dtype: int64"
      ]
     },
     "execution_count": 256,
     "metadata": {},
     "output_type": "execute_result"
    }
   ],
   "source": [
    "sheet8.Region.value_counts()"
   ]
  },
  {
   "cell_type": "code",
   "execution_count": null,
   "metadata": {},
   "outputs": [],
   "source": []
  },
  {
   "cell_type": "code",
   "execution_count": null,
   "metadata": {},
   "outputs": [],
   "source": []
  },
  {
   "cell_type": "code",
   "execution_count": null,
   "metadata": {},
   "outputs": [],
   "source": []
  },
  {
   "cell_type": "markdown",
   "metadata": {},
   "source": [
    "**Cleaning Sheet 9**"
   ]
  },
  {
   "cell_type": "code",
   "execution_count": 257,
   "metadata": {},
   "outputs": [
    {
     "data": {
      "text/html": [
       "<div>\n",
       "<style scoped>\n",
       "    .dataframe tbody tr th:only-of-type {\n",
       "        vertical-align: middle;\n",
       "    }\n",
       "\n",
       "    .dataframe tbody tr th {\n",
       "        vertical-align: top;\n",
       "    }\n",
       "\n",
       "    .dataframe thead th {\n",
       "        text-align: right;\n",
       "    }\n",
       "</style>\n",
       "<table border=\"1\" class=\"dataframe\">\n",
       "  <thead>\n",
       "    <tr style=\"text-align: right;\">\n",
       "      <th></th>\n",
       "      <th>Unnamed: 0</th>\n",
       "      <th>Cumulative Calls</th>\n",
       "      <th>Date</th>\n",
       "      <th>New Calls</th>\n",
       "    </tr>\n",
       "  </thead>\n",
       "  <tbody>\n",
       "    <tr>\n",
       "      <td>0</td>\n",
       "      <td>0</td>\n",
       "      <td>12481</td>\n",
       "      <td>2020-03-11</td>\n",
       "      <td>547</td>\n",
       "    </tr>\n",
       "    <tr>\n",
       "      <td>1</td>\n",
       "      <td>0</td>\n",
       "      <td>13167</td>\n",
       "      <td>2020-03-12</td>\n",
       "      <td>686</td>\n",
       "    </tr>\n",
       "    <tr>\n",
       "      <td>2</td>\n",
       "      <td>0</td>\n",
       "      <td>13896</td>\n",
       "      <td>2020-03-13</td>\n",
       "      <td>729</td>\n",
       "    </tr>\n",
       "    <tr>\n",
       "      <td>3</td>\n",
       "      <td>0</td>\n",
       "      <td>15340</td>\n",
       "      <td>2020-03-14</td>\n",
       "      <td>1444</td>\n",
       "    </tr>\n",
       "    <tr>\n",
       "      <td>4</td>\n",
       "      <td>0</td>\n",
       "      <td>19131</td>\n",
       "      <td>2020-03-15</td>\n",
       "      <td>3791</td>\n",
       "    </tr>\n",
       "  </tbody>\n",
       "</table>\n",
       "</div>"
      ],
      "text/plain": [
       "   Unnamed: 0  Cumulative Calls       Date  New Calls\n",
       "0           0             12481 2020-03-11        547\n",
       "1           0             13167 2020-03-12        686\n",
       "2           0             13896 2020-03-13        729\n",
       "3           0             15340 2020-03-14       1444\n",
       "4           0             19131 2020-03-15       3791"
      ]
     },
     "execution_count": 257,
     "metadata": {},
     "output_type": "execute_result"
    }
   ],
   "source": [
    "sheet9=covid_data.parse('TimeSeries_Helpline_Calls')  #Opening  ninth sheet\n",
    "sheet9.head()\n"
   ]
  },
  {
   "cell_type": "code",
   "execution_count": 258,
   "metadata": {},
   "outputs": [
    {
     "data": {
      "text/plain": [
       "(24, 4)"
      ]
     },
     "execution_count": 258,
     "metadata": {},
     "output_type": "execute_result"
    }
   ],
   "source": [
    "sheet9.shape"
   ]
  },
  {
   "cell_type": "code",
   "execution_count": 259,
   "metadata": {},
   "outputs": [
    {
     "data": {
      "text/plain": [
       "24"
      ]
     },
     "execution_count": 259,
     "metadata": {},
     "output_type": "execute_result"
    }
   ],
   "source": [
    "sheet9['Unnamed: 0'].isin([0]).sum()"
   ]
  },
  {
   "cell_type": "code",
   "execution_count": 260,
   "metadata": {},
   "outputs": [
    {
     "data": {
      "text/html": [
       "<div>\n",
       "<style scoped>\n",
       "    .dataframe tbody tr th:only-of-type {\n",
       "        vertical-align: middle;\n",
       "    }\n",
       "\n",
       "    .dataframe tbody tr th {\n",
       "        vertical-align: top;\n",
       "    }\n",
       "\n",
       "    .dataframe thead th {\n",
       "        text-align: right;\n",
       "    }\n",
       "</style>\n",
       "<table border=\"1\" class=\"dataframe\">\n",
       "  <thead>\n",
       "    <tr style=\"text-align: right;\">\n",
       "      <th></th>\n",
       "      <th>Cumulative Calls</th>\n",
       "      <th>Date</th>\n",
       "      <th>New Calls</th>\n",
       "    </tr>\n",
       "  </thead>\n",
       "  <tbody>\n",
       "    <tr>\n",
       "      <td>0</td>\n",
       "      <td>12481</td>\n",
       "      <td>2020-03-11</td>\n",
       "      <td>547</td>\n",
       "    </tr>\n",
       "    <tr>\n",
       "      <td>1</td>\n",
       "      <td>13167</td>\n",
       "      <td>2020-03-12</td>\n",
       "      <td>686</td>\n",
       "    </tr>\n",
       "    <tr>\n",
       "      <td>2</td>\n",
       "      <td>13896</td>\n",
       "      <td>2020-03-13</td>\n",
       "      <td>729</td>\n",
       "    </tr>\n",
       "    <tr>\n",
       "      <td>3</td>\n",
       "      <td>15340</td>\n",
       "      <td>2020-03-14</td>\n",
       "      <td>1444</td>\n",
       "    </tr>\n",
       "    <tr>\n",
       "      <td>4</td>\n",
       "      <td>19131</td>\n",
       "      <td>2020-03-15</td>\n",
       "      <td>3791</td>\n",
       "    </tr>\n",
       "  </tbody>\n",
       "</table>\n",
       "</div>"
      ],
      "text/plain": [
       "   Cumulative Calls       Date  New Calls\n",
       "0             12481 2020-03-11        547\n",
       "1             13167 2020-03-12        686\n",
       "2             13896 2020-03-13        729\n",
       "3             15340 2020-03-14       1444\n",
       "4             19131 2020-03-15       3791"
      ]
     },
     "execution_count": 260,
     "metadata": {},
     "output_type": "execute_result"
    }
   ],
   "source": [
    "sheet9.drop('Unnamed: 0',axis=1,inplace=True)               #droping unnamed column keeping default indexing\n",
    "sheet9.head()"
   ]
  },
  {
   "cell_type": "code",
   "execution_count": 261,
   "metadata": {},
   "outputs": [],
   "source": [
    "sheet9.columns=sheet9.columns.str.strip().str.capitalize().str.replace(' ','_')"
   ]
  },
  {
   "cell_type": "code",
   "execution_count": 262,
   "metadata": {},
   "outputs": [
    {
     "name": "stdout",
     "output_type": "stream",
     "text": [
      "<class 'pandas.core.frame.DataFrame'>\n",
      "RangeIndex: 24 entries, 0 to 23\n",
      "Data columns (total 3 columns):\n",
      "Cumulative_calls    24 non-null int64\n",
      "Date                24 non-null datetime64[ns]\n",
      "New_calls           24 non-null int64\n",
      "dtypes: datetime64[ns](1), int64(2)\n",
      "memory usage: 704.0 bytes\n"
     ]
    }
   ],
   "source": [
    "sheet9.info()"
   ]
  },
  {
   "cell_type": "code",
   "execution_count": 263,
   "metadata": {},
   "outputs": [
    {
     "name": "stdout",
     "output_type": "stream",
     "text": [
      "Cumulative_calls    0\n",
      "Date                0\n",
      "New_calls           0\n",
      "dtype: int64\n"
     ]
    },
    {
     "data": {
      "text/plain": [
       "Cumulative_calls    0\n",
       "Date                0\n",
       "New_calls           0\n",
       "dtype: int64"
      ]
     },
     "execution_count": 263,
     "metadata": {},
     "output_type": "execute_result"
    }
   ],
   "source": [
    "print(sheet9.isnull().sum())\n",
    "sheet9.isin(['.','?','na','NA','N/A',np.nan,'No 0']).sum()"
   ]
  },
  {
   "cell_type": "code",
   "execution_count": 264,
   "metadata": {},
   "outputs": [
    {
     "data": {
      "text/plain": [
       "0"
      ]
     },
     "execution_count": 264,
     "metadata": {},
     "output_type": "execute_result"
    }
   ],
   "source": [
    "sheet9.duplicated().sum()"
   ]
  },
  {
   "cell_type": "code",
   "execution_count": 265,
   "metadata": {},
   "outputs": [
    {
     "data": {
      "text/plain": [
       "Timedelta('23 days 00:00:00')"
      ]
     },
     "execution_count": 265,
     "metadata": {},
     "output_type": "execute_result"
    }
   ],
   "source": [
    "sheet9.Date.max()-sheet9.Date.min()"
   ]
  },
  {
   "cell_type": "code",
   "execution_count": 266,
   "metadata": {},
   "outputs": [
    {
     "data": {
      "text/plain": [
       "Timestamp('2020-03-11 00:00:00')"
      ]
     },
     "execution_count": 266,
     "metadata": {},
     "output_type": "execute_result"
    }
   ],
   "source": [
    "sheet9.Date.min()"
   ]
  },
  {
   "cell_type": "code",
   "execution_count": 267,
   "metadata": {},
   "outputs": [
    {
     "data": {
      "text/plain": [
       "Timestamp('2020-04-03 00:00:00')"
      ]
     },
     "execution_count": 267,
     "metadata": {},
     "output_type": "execute_result"
    }
   ],
   "source": [
    "sheet9.Date.max()"
   ]
  },
  {
   "cell_type": "markdown",
   "metadata": {},
   "source": [
    "**Cleaning Sheet 10**"
   ]
  },
  {
   "cell_type": "code",
   "execution_count": 268,
   "metadata": {},
   "outputs": [
    {
     "data": {
      "text/html": [
       "<div>\n",
       "<style scoped>\n",
       "    .dataframe tbody tr th:only-of-type {\n",
       "        vertical-align: middle;\n",
       "    }\n",
       "\n",
       "    .dataframe tbody tr th {\n",
       "        vertical-align: top;\n",
       "    }\n",
       "\n",
       "    .dataframe thead th {\n",
       "        text-align: right;\n",
       "    }\n",
       "</style>\n",
       "<table border=\"1\" class=\"dataframe\">\n",
       "  <thead>\n",
       "    <tr style=\"text-align: right;\">\n",
       "      <th></th>\n",
       "      <th>Unnamed: 0</th>\n",
       "      <th>Regions</th>\n",
       "      <th>Quarantine facilities (n)</th>\n",
       "      <th>No. of arrivals in last 24 hrs</th>\n",
       "      <th>Cumulative no of persons present</th>\n",
       "      <th>Date</th>\n",
       "    </tr>\n",
       "  </thead>\n",
       "  <tbody>\n",
       "    <tr>\n",
       "      <td>0</td>\n",
       "      <td>0</td>\n",
       "      <td>ICT</td>\n",
       "      <td>1</td>\n",
       "      <td>0</td>\n",
       "      <td>24</td>\n",
       "      <td>2020-04-01</td>\n",
       "    </tr>\n",
       "    <tr>\n",
       "      <td>1</td>\n",
       "      <td>1</td>\n",
       "      <td>Punjab</td>\n",
       "      <td>4</td>\n",
       "      <td>0</td>\n",
       "      <td>2956</td>\n",
       "      <td>2020-04-01</td>\n",
       "    </tr>\n",
       "    <tr>\n",
       "      <td>2</td>\n",
       "      <td>2</td>\n",
       "      <td>Sindh</td>\n",
       "      <td>5</td>\n",
       "      <td>0</td>\n",
       "      <td>1388</td>\n",
       "      <td>2020-04-01</td>\n",
       "    </tr>\n",
       "    <tr>\n",
       "      <td>3</td>\n",
       "      <td>3</td>\n",
       "      <td>KP</td>\n",
       "      <td>92</td>\n",
       "      <td>181</td>\n",
       "      <td>3260</td>\n",
       "      <td>2020-04-01</td>\n",
       "    </tr>\n",
       "    <tr>\n",
       "      <td>4</td>\n",
       "      <td>4</td>\n",
       "      <td>Balochistan</td>\n",
       "      <td>9</td>\n",
       "      <td>0</td>\n",
       "      <td>366</td>\n",
       "      <td>2020-04-01</td>\n",
       "    </tr>\n",
       "  </tbody>\n",
       "</table>\n",
       "</div>"
      ],
      "text/plain": [
       "   Unnamed: 0      Regions  Quarantine facilities (n)  \\\n",
       "0           0          ICT                          1   \n",
       "1           1       Punjab                          4   \n",
       "2           2        Sindh                          5   \n",
       "3           3           KP                         92   \n",
       "4           4  Balochistan                          9   \n",
       "\n",
       "   No. of arrivals in last 24 hrs  Cumulative no of persons present       Date  \n",
       "0                               0                                24 2020-04-01  \n",
       "1                               0                              2956 2020-04-01  \n",
       "2                               0                              1388 2020-04-01  \n",
       "3                             181                              3260 2020-04-01  \n",
       "4                               0                               366 2020-04-01  "
      ]
     },
     "execution_count": 268,
     "metadata": {},
     "output_type": "execute_result"
    }
   ],
   "source": [
    "sheet10=covid_data.parse('TimeSeries_Quarantine_Details')  #Opening  last sheet\n",
    "sheet10.head()"
   ]
  },
  {
   "cell_type": "code",
   "execution_count": 269,
   "metadata": {},
   "outputs": [
    {
     "data": {
      "text/plain": [
       "(21, 6)"
      ]
     },
     "execution_count": 269,
     "metadata": {},
     "output_type": "execute_result"
    }
   ],
   "source": [
    "sheet10.shape"
   ]
  },
  {
   "cell_type": "code",
   "execution_count": 270,
   "metadata": {},
   "outputs": [
    {
     "data": {
      "text/html": [
       "<div>\n",
       "<style scoped>\n",
       "    .dataframe tbody tr th:only-of-type {\n",
       "        vertical-align: middle;\n",
       "    }\n",
       "\n",
       "    .dataframe tbody tr th {\n",
       "        vertical-align: top;\n",
       "    }\n",
       "\n",
       "    .dataframe thead th {\n",
       "        text-align: right;\n",
       "    }\n",
       "</style>\n",
       "<table border=\"1\" class=\"dataframe\">\n",
       "  <thead>\n",
       "    <tr style=\"text-align: right;\">\n",
       "      <th></th>\n",
       "      <th>Regions</th>\n",
       "      <th>Quarantine facilities (n)</th>\n",
       "      <th>No. of arrivals in last 24 hrs</th>\n",
       "      <th>Cumulative no of persons present</th>\n",
       "      <th>Date</th>\n",
       "    </tr>\n",
       "  </thead>\n",
       "  <tbody>\n",
       "    <tr>\n",
       "      <td>0</td>\n",
       "      <td>ICT</td>\n",
       "      <td>1</td>\n",
       "      <td>0</td>\n",
       "      <td>24</td>\n",
       "      <td>2020-04-01</td>\n",
       "    </tr>\n",
       "    <tr>\n",
       "      <td>1</td>\n",
       "      <td>Punjab</td>\n",
       "      <td>4</td>\n",
       "      <td>0</td>\n",
       "      <td>2956</td>\n",
       "      <td>2020-04-01</td>\n",
       "    </tr>\n",
       "    <tr>\n",
       "      <td>2</td>\n",
       "      <td>Sindh</td>\n",
       "      <td>5</td>\n",
       "      <td>0</td>\n",
       "      <td>1388</td>\n",
       "      <td>2020-04-01</td>\n",
       "    </tr>\n",
       "    <tr>\n",
       "      <td>3</td>\n",
       "      <td>KP</td>\n",
       "      <td>92</td>\n",
       "      <td>181</td>\n",
       "      <td>3260</td>\n",
       "      <td>2020-04-01</td>\n",
       "    </tr>\n",
       "    <tr>\n",
       "      <td>4</td>\n",
       "      <td>Balochistan</td>\n",
       "      <td>9</td>\n",
       "      <td>0</td>\n",
       "      <td>366</td>\n",
       "      <td>2020-04-01</td>\n",
       "    </tr>\n",
       "  </tbody>\n",
       "</table>\n",
       "</div>"
      ],
      "text/plain": [
       "       Regions  Quarantine facilities (n)  No. of arrivals in last 24 hrs  \\\n",
       "0          ICT                          1                               0   \n",
       "1       Punjab                          4                               0   \n",
       "2        Sindh                          5                               0   \n",
       "3           KP                         92                             181   \n",
       "4  Balochistan                          9                               0   \n",
       "\n",
       "   Cumulative no of persons present       Date  \n",
       "0                                24 2020-04-01  \n",
       "1                              2956 2020-04-01  \n",
       "2                              1388 2020-04-01  \n",
       "3                              3260 2020-04-01  \n",
       "4                               366 2020-04-01  "
      ]
     },
     "execution_count": 270,
     "metadata": {},
     "output_type": "execute_result"
    }
   ],
   "source": [
    "sheet10.drop('Unnamed: 0',axis=1,inplace=True)               #droping unnamed column keeping default indexing\n",
    "sheet10.head()"
   ]
  },
  {
   "cell_type": "code",
   "execution_count": 271,
   "metadata": {},
   "outputs": [],
   "source": [
    "sheet10.columns=['Region','Quarantine_facilities','Arrivals (24h)','Total_persons','Date']"
   ]
  },
  {
   "cell_type": "code",
   "execution_count": 272,
   "metadata": {},
   "outputs": [
    {
     "name": "stdout",
     "output_type": "stream",
     "text": [
      "<class 'pandas.core.frame.DataFrame'>\n",
      "RangeIndex: 21 entries, 0 to 20\n",
      "Data columns (total 5 columns):\n",
      "Region                   21 non-null object\n",
      "Quarantine_facilities    21 non-null int64\n",
      "Arrivals (24h)           21 non-null int64\n",
      "Total_persons            21 non-null int64\n",
      "Date                     21 non-null datetime64[ns]\n",
      "dtypes: datetime64[ns](1), int64(3), object(1)\n",
      "memory usage: 968.0+ bytes\n"
     ]
    }
   ],
   "source": [
    "sheet10.info()"
   ]
  },
  {
   "cell_type": "code",
   "execution_count": 273,
   "metadata": {},
   "outputs": [
    {
     "data": {
      "text/html": [
       "<div>\n",
       "<style scoped>\n",
       "    .dataframe tbody tr th:only-of-type {\n",
       "        vertical-align: middle;\n",
       "    }\n",
       "\n",
       "    .dataframe tbody tr th {\n",
       "        vertical-align: top;\n",
       "    }\n",
       "\n",
       "    .dataframe thead th {\n",
       "        text-align: right;\n",
       "    }\n",
       "</style>\n",
       "<table border=\"1\" class=\"dataframe\">\n",
       "  <thead>\n",
       "    <tr style=\"text-align: right;\">\n",
       "      <th></th>\n",
       "      <th>Region</th>\n",
       "      <th>Quarantine_facilities</th>\n",
       "      <th>Arrivals (24h)</th>\n",
       "      <th>Total_persons</th>\n",
       "      <th>Date</th>\n",
       "    </tr>\n",
       "  </thead>\n",
       "  <tbody>\n",
       "    <tr>\n",
       "      <td>0</td>\n",
       "      <td>ICT</td>\n",
       "      <td>1</td>\n",
       "      <td>0</td>\n",
       "      <td>24</td>\n",
       "      <td>2020-04-01</td>\n",
       "    </tr>\n",
       "    <tr>\n",
       "      <td>1</td>\n",
       "      <td>Punjab</td>\n",
       "      <td>4</td>\n",
       "      <td>0</td>\n",
       "      <td>2956</td>\n",
       "      <td>2020-04-01</td>\n",
       "    </tr>\n",
       "    <tr>\n",
       "      <td>2</td>\n",
       "      <td>Sindh</td>\n",
       "      <td>5</td>\n",
       "      <td>0</td>\n",
       "      <td>1388</td>\n",
       "      <td>2020-04-01</td>\n",
       "    </tr>\n",
       "    <tr>\n",
       "      <td>3</td>\n",
       "      <td>KP</td>\n",
       "      <td>92</td>\n",
       "      <td>181</td>\n",
       "      <td>3260</td>\n",
       "      <td>2020-04-01</td>\n",
       "    </tr>\n",
       "    <tr>\n",
       "      <td>4</td>\n",
       "      <td>Balochistan</td>\n",
       "      <td>9</td>\n",
       "      <td>0</td>\n",
       "      <td>366</td>\n",
       "      <td>2020-04-01</td>\n",
       "    </tr>\n",
       "  </tbody>\n",
       "</table>\n",
       "</div>"
      ],
      "text/plain": [
       "        Region  Quarantine_facilities  Arrivals (24h)  Total_persons  \\\n",
       "0          ICT                      1               0             24   \n",
       "1       Punjab                      4               0           2956   \n",
       "2        Sindh                      5               0           1388   \n",
       "3           KP                     92             181           3260   \n",
       "4  Balochistan                      9               0            366   \n",
       "\n",
       "        Date  \n",
       "0 2020-04-01  \n",
       "1 2020-04-01  \n",
       "2 2020-04-01  \n",
       "3 2020-04-01  \n",
       "4 2020-04-01  "
      ]
     },
     "execution_count": 273,
     "metadata": {},
     "output_type": "execute_result"
    }
   ],
   "source": [
    "sheet10['Date']=pd.to_datetime(sheet10['Date']) \n",
    "sheet10.head()"
   ]
  },
  {
   "cell_type": "code",
   "execution_count": 274,
   "metadata": {},
   "outputs": [
    {
     "data": {
      "text/plain": [
       "Timestamp('2020-04-03 00:00:00')"
      ]
     },
     "execution_count": 274,
     "metadata": {},
     "output_type": "execute_result"
    }
   ],
   "source": [
    "max(sheet10['Date'])"
   ]
  },
  {
   "cell_type": "code",
   "execution_count": 275,
   "metadata": {},
   "outputs": [
    {
     "data": {
      "text/plain": [
       "Timestamp('2020-04-01 00:00:00')"
      ]
     },
     "execution_count": 275,
     "metadata": {},
     "output_type": "execute_result"
    }
   ],
   "source": [
    "min(sheet10['Date'])"
   ]
  },
  {
   "cell_type": "code",
   "execution_count": 276,
   "metadata": {},
   "outputs": [
    {
     "data": {
      "text/plain": [
       "Timedelta('2 days 00:00:00')"
      ]
     },
     "execution_count": 276,
     "metadata": {},
     "output_type": "execute_result"
    }
   ],
   "source": [
    "max(sheet10['Date'])-min(sheet10['Date'])"
   ]
  },
  {
   "cell_type": "code",
   "execution_count": 277,
   "metadata": {},
   "outputs": [
    {
     "name": "stdout",
     "output_type": "stream",
     "text": [
      "Region                   False\n",
      "Quarantine_facilities    False\n",
      "Arrivals (24h)           False\n",
      "Total_persons            False\n",
      "Date                     False\n",
      "dtype: bool\n"
     ]
    }
   ],
   "source": [
    "print(sheet10.isnull().any())"
   ]
  },
  {
   "cell_type": "code",
   "execution_count": 278,
   "metadata": {},
   "outputs": [
    {
     "data": {
      "text/plain": [
       "Region                   0\n",
       "Quarantine_facilities    0\n",
       "Arrivals (24h)           0\n",
       "Total_persons            0\n",
       "Date                     0\n",
       "dtype: int64"
      ]
     },
     "execution_count": 278,
     "metadata": {},
     "output_type": "execute_result"
    }
   ],
   "source": [
    "sheet10.isin(['.','?','na','NA','N/A',np.nan,'No 0']).sum()"
   ]
  },
  {
   "cell_type": "code",
   "execution_count": 279,
   "metadata": {},
   "outputs": [
    {
     "data": {
      "text/plain": [
       "0"
      ]
     },
     "execution_count": 279,
     "metadata": {},
     "output_type": "execute_result"
    }
   ],
   "source": [
    "sheet10.duplicated().sum()"
   ]
  },
  {
   "cell_type": "code",
   "execution_count": 280,
   "metadata": {},
   "outputs": [
    {
     "data": {
      "text/plain": [
       "array([ 0,  1,  2,  3,  4,  5,  6,  7,  8,  9, 10, 11, 12, 13, 14, 15, 16,\n",
       "       17, 18, 19, 20], dtype=int64)"
      ]
     },
     "execution_count": 280,
     "metadata": {},
     "output_type": "execute_result"
    }
   ],
   "source": [
    "sheet10.index.values"
   ]
  },
  {
   "cell_type": "code",
   "execution_count": 281,
   "metadata": {},
   "outputs": [
    {
     "data": {
      "text/plain": [
       "array(['ICT', 'Punjab', 'Sindh', 'KP', 'Balochistan', 'AJK', 'GB'],\n",
       "      dtype=object)"
      ]
     },
     "execution_count": 281,
     "metadata": {},
     "output_type": "execute_result"
    }
   ],
   "source": [
    "sheet10.Region.unique()"
   ]
  },
  {
   "cell_type": "code",
   "execution_count": 282,
   "metadata": {},
   "outputs": [
    {
     "data": {
      "text/html": [
       "<div>\n",
       "<style scoped>\n",
       "    .dataframe tbody tr th:only-of-type {\n",
       "        vertical-align: middle;\n",
       "    }\n",
       "\n",
       "    .dataframe tbody tr th {\n",
       "        vertical-align: top;\n",
       "    }\n",
       "\n",
       "    .dataframe thead th {\n",
       "        text-align: right;\n",
       "    }\n",
       "</style>\n",
       "<table border=\"1\" class=\"dataframe\">\n",
       "  <thead>\n",
       "    <tr style=\"text-align: right;\">\n",
       "      <th></th>\n",
       "      <th>Region</th>\n",
       "      <th>Quarantine_facilities</th>\n",
       "      <th>Arrivals (24h)</th>\n",
       "      <th>Total_persons</th>\n",
       "      <th>Date</th>\n",
       "    </tr>\n",
       "  </thead>\n",
       "  <tbody>\n",
       "    <tr>\n",
       "      <td>0</td>\n",
       "      <td>ICT</td>\n",
       "      <td>1</td>\n",
       "      <td>0</td>\n",
       "      <td>24</td>\n",
       "      <td>2020-04-01</td>\n",
       "    </tr>\n",
       "    <tr>\n",
       "      <td>7</td>\n",
       "      <td>ICT</td>\n",
       "      <td>1</td>\n",
       "      <td>7</td>\n",
       "      <td>31</td>\n",
       "      <td>2020-04-02</td>\n",
       "    </tr>\n",
       "    <tr>\n",
       "      <td>14</td>\n",
       "      <td>ICT</td>\n",
       "      <td>6</td>\n",
       "      <td>0</td>\n",
       "      <td>30</td>\n",
       "      <td>2020-04-03</td>\n",
       "    </tr>\n",
       "  </tbody>\n",
       "</table>\n",
       "</div>"
      ],
      "text/plain": [
       "   Region  Quarantine_facilities  Arrivals (24h)  Total_persons       Date\n",
       "0     ICT                      1               0             24 2020-04-01\n",
       "7     ICT                      1               7             31 2020-04-02\n",
       "14    ICT                      6               0             30 2020-04-03"
      ]
     },
     "execution_count": 282,
     "metadata": {},
     "output_type": "execute_result"
    }
   ],
   "source": [
    "sheet10[sheet10['Region']=='ICT']"
   ]
  },
  {
   "cell_type": "code",
   "execution_count": 283,
   "metadata": {},
   "outputs": [
    {
     "data": {
      "image/png": "[encoded data removed]",
      "text/plain": [
       "<Figure size 432x288 with 1 Axes>"
      ]
     },
     "metadata": {},
     "output_type": "display_data"
    }
   ],
   "source": [
    "sns.barplot(data=sheet10,y='Region',x='Quarantine_facilities',color='darkblue',ci=None);"
   ]
  },
  {
   "cell_type": "code",
   "execution_count": null,
   "metadata": {},
   "outputs": [],
   "source": []
  },
  {
   "cell_type": "code",
   "execution_count": 284,
   "metadata": {},
   "outputs": [],
   "source": [
    "#!pip install gspread oauth2client\n",
    "#!pip install gspread oauth2client df2gspread\n",
    "#!pip install df2gspread"
   ]
  },
  {
   "cell_type": "code",
   "execution_count": 285,
   "metadata": {},
   "outputs": [],
   "source": [
    "import gspread\n",
    "from oauth2client.service_account import ServiceAccountCredentials\n",
    "import df2gspread as d2g"
   ]
  },
  {
   "cell_type": "code",
   "execution_count": 40,
   "metadata": {},
   "outputs": [],
   "source": [
    "scope = ['https://spreadsheets.google.com/feeds','https://www.googleapis.com/auth/drive']\n",
    "credentials = ServiceAccountCredentials.from_json_keyfile_name('covid-19-277019-1de4020c825d.json', scopes=scope)\n",
    "gc = gspread.authorize(credentials)\n",
    "spreadsheet_key='1k3jTKzjpcdXgOZ4KIadPOMU6xhYSzoZNOE54lBAnc-g'"
   ]
  },
  {
   "cell_type": "code",
   "execution_count": 286,
   "metadata": {},
   "outputs": [],
   "source": [
    "#from df2gspread import df2gspread as d2g\n",
    "from df2gspread import df2gspread as d2g\n"
   ]
  },
  {
   "cell_type": "code",
   "execution_count": 37,
   "metadata": {},
   "outputs": [
    {
     "name": "stdout",
     "output_type": "stream",
     "text": [
      "Data upload success\n"
     ]
    }
   ],
   "source": [
    "wks_name='TimeSeries_KeyIndicators'\n",
    "w=d2g.upload(sheet1, spreadsheet_key, wks_name,credentials=credentials,row_names=True)\n",
    "print(\"Data upload success\")"
   ]
  },
  {
   "cell_type": "code",
   "execution_count": 71,
   "metadata": {},
   "outputs": [],
   "source": [
    "sheet1.to_clipboard()"
   ]
  },
  {
   "cell_type": "code",
   "execution_count": null,
   "metadata": {},
   "outputs": [],
   "source": []
  }
 ],
 "metadata": {
  "kernelspec": {
   "display_name": "Python 3",
   "language": "python",
   "name": "python3"
  },
  "language_info": {
   "codemirror_mode": {
    "name": "ipython",
    "version": 3
   },
   "file_extension": ".py",
   "mimetype": "text/x-python",
   "name": "python",
   "nbconvert_exporter": "python",
   "pygments_lexer": "ipython3",
   "version": "3.7.4"
  }
 },
 "nbformat": 4,
 "nbformat_minor": 2
}
